{
 "cells": [
  {
   "cell_type": "code",
   "execution_count": 1,
   "id": "0ac803ae-0460-4275-b255-0bf73c4a3617",
   "metadata": {},
   "outputs": [],
   "source": [
    "import pandas as pd\n",
    "from sklearn import model_selection\n",
    "from sklearn.linear_model import LogisticRegression\n",
    "from sklearn import metrics\n",
    "from sklearn.naive_bayes import GaussianNB\n"
   ]
  },
  {
   "cell_type": "code",
   "execution_count": 2,
   "id": "b2820ec7-248f-4631-bc65-a5854a02a236",
   "metadata": {},
   "outputs": [],
   "source": [
    "Diabetes=pd.read_excel('D:/Ment Class/Practise11/Excel Data/TSF/PowerBI/DWNLDS/CV/MRA Project/MRA Project/XLSX File for practice/Diabetes.xlsx')"
   ]
  },
  {
   "cell_type": "code",
   "execution_count": 3,
   "id": "07a97bf8-009d-469b-9e9a-7714df994c8a",
   "metadata": {},
   "outputs": [],
   "source": [
    "import pandas as pd\n",
    "from sklearn import model_selection\n",
    "\n",
    "# Load dataset from Excel file\n",
    "Diabetes = pd.read_excel('D:/Ment Class/Practise11/Excel Data/TSF/PowerBI/DWNLDS/CV/MRA Project/MRA Project/XLSX File for practice/Diabetes.xlsx')\n",
    "\n",
    "# Assuming 'class' column represents the target variable\n",
    "X = Diabetes.drop('class', axis=1)  # Predictor feature columns\n",
    "Y = Diabetes['class']  # Predicted class\n",
    "\n",
    "# Split data into training and testing sets\n",
    "test_size = 0.30  # 70:30 training and test set ratio\n",
    "seed = 7  # Random seed for reproducibility\n",
    "X_train, X_test, Y_train, Y_test = model_selection.train_test_split(X, Y, test_size=test_size, random_state=seed)"
   ]
  },
  {
   "cell_type": "code",
   "execution_count": null,
   "id": "6cefeea5-07f1-4400-8c0b-4edfb3709c9c",
   "metadata": {},
   "outputs": [],
   "source": []
  }
 ],
 "metadata": {
  "kernelspec": {
   "display_name": "Python 3 (ipykernel)",
   "language": "python",
   "name": "python3"
  },
  "language_info": {
   "codemirror_mode": {
    "name": "ipython",
    "version": 3
   },
   "file_extension": ".py",
   "mimetype": "text/x-python",
   "name": "python",
   "nbconvert_exporter": "python",
   "pygments_lexer": "ipython3",
   "version": "3.11.5"
  }
 },
 "nbformat": 4,
 "nbformat_minor": 5
}
