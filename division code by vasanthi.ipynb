{
 "cells": [
  {
   "cell_type": "code",
   "execution_count": 1,
   "id": "b12bcd0c-2841-4e12-8c24-6526f67e7279",
   "metadata": {},
   "outputs": [],
   "source": [
    "numerator=900"
   ]
  },
  {
   "cell_type": "code",
   "execution_count": 2,
   "id": "71c37157-a41d-4ddf-8f13-f7f90ed8ae8f",
   "metadata": {},
   "outputs": [],
   "source": [
    "denominator=100"
   ]
  },
  {
   "cell_type": "code",
   "execution_count": 3,
   "id": "13c215f0-6a46-44fa-82dd-28fdfcd6279a",
   "metadata": {},
   "outputs": [],
   "source": [
    "result=numerator/denominator"
   ]
  },
  {
   "cell_type": "code",
   "execution_count": 6,
   "id": "c3a4e109-e2db-48ec-bac9-b7efce77f65d",
   "metadata": {},
   "outputs": [],
   "source": [
    "result=900/100"
   ]
  },
  {
   "cell_type": "code",
   "execution_count": null,
   "id": "e3c56ca4-51d1-4f50-8157-f47e651c331c",
   "metadata": {},
   "outputs": [],
   "source": [
    "print(result)"
   ]
  },
  {
   "cell_type": "code",
   "execution_count": null,
   "id": "d31b71d3-4f2e-447c-9b96-82369a731f21",
   "metadata": {},
   "outputs": [],
   "source": []
  }
 ],
 "metadata": {
  "kernelspec": {
   "display_name": "Python 3 (ipykernel)",
   "language": "python",
   "name": "python3"
  },
  "language_info": {
   "codemirror_mode": {
    "name": "ipython",
    "version": 3
   },
   "file_extension": ".py",
   "mimetype": "text/x-python",
   "name": "python",
   "nbconvert_exporter": "python",
   "pygments_lexer": "ipython3",
   "version": "3.12.4"
  }
 },
 "nbformat": 4,
 "nbformat_minor": 5
}
