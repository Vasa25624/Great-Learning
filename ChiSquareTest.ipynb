{
 "cells": [
  {
   "cell_type": "code",
   "execution_count": 1,
   "id": "6c307851-8780-4c93-9656-194079bcd4c5",
   "metadata": {},
   "outputs": [],
   "source": [
    "import numpy              as        np\n",
    "import pandas             as        pd\n",
    "import matplotlib.pyplot  as        plt\n",
    "from   scipy.stats        import    chi2_contingency"
   ]
  },
  {
   "cell_type": "code",
   "execution_count": 2,
   "id": "4fcf4c57-4e91-463c-97de-8b50d8d3fe56",
   "metadata": {},
   "outputs": [],
   "source": [
    "df = pd.DataFrame({'Promoted': [15, 16], 'Not-promoted': [9, 15]}, index = ['Company A', 'Company B'])"
   ]
  },
  {
   "cell_type": "code",
   "execution_count": 3,
   "id": "944741e2-f818-43ac-ba60-a990e7b5d60e",
   "metadata": {},
   "outputs": [
    {
     "data": {
      "text/html": [
       "<div>\n",
       "<style scoped>\n",
       "    .dataframe tbody tr th:only-of-type {\n",
       "        vertical-align: middle;\n",
       "    }\n",
       "\n",
       "    .dataframe tbody tr th {\n",
       "        vertical-align: top;\n",
       "    }\n",
       "\n",
       "    .dataframe thead th {\n",
       "        text-align: right;\n",
       "    }\n",
       "</style>\n",
       "<table border=\"1\" class=\"dataframe\">\n",
       "  <thead>\n",
       "    <tr style=\"text-align: right;\">\n",
       "      <th></th>\n",
       "      <th>Promoted</th>\n",
       "      <th>Not-promoted</th>\n",
       "    </tr>\n",
       "  </thead>\n",
       "  <tbody>\n",
       "    <tr>\n",
       "      <th>Company A</th>\n",
       "      <td>15</td>\n",
       "      <td>9</td>\n",
       "    </tr>\n",
       "    <tr>\n",
       "      <th>Company B</th>\n",
       "      <td>16</td>\n",
       "      <td>15</td>\n",
       "    </tr>\n",
       "  </tbody>\n",
       "</table>\n",
       "</div>"
      ],
      "text/plain": [
       "           Promoted  Not-promoted\n",
       "Company A        15             9\n",
       "Company B        16            15"
      ]
     },
     "execution_count": 3,
     "metadata": {},
     "output_type": "execute_result"
    }
   ],
   "source": [
    "df"
   ]
  },
  {
   "cell_type": "markdown",
   "id": "4b22225b-e758-421c-a0c8-bfd4964d8742",
   "metadata": {},
   "source": [
    "H0: Promotions are dependent on Company type\n",
    "H1: Promotions are independent of Company type"
   ]
  },
  {
   "cell_type": "markdown",
   "id": "3c0fd317-8b96-451a-b769-bfd1a740bb62",
   "metadata": {},
   "source": [
    "Here we select α= 0.05 as per 95% Confidence Level requirement in the question."
   ]
  },
  {
   "cell_type": "markdown",
   "id": "0a1a7ea1-30f6-48b2-a65f-f2f8e8223a23",
   "metadata": {},
   "source": [
    "This is a Chi-sq Test where categorical data has been reported in raw frequencies"
   ]
  },
  {
   "cell_type": "markdown",
   "id": "3fffb362-8047-4afd-bc3d-2585f09c5ad0",
   "metadata": {},
   "source": [
    "## Step 4: Calculate the p - value and test statistic"
   ]
  },
  {
   "cell_type": "code",
   "execution_count": 4,
   "id": "d522f6d9-7839-4637-b01b-dbbce8f822c7",
   "metadata": {},
   "outputs": [],
   "source": [
    "chi2, pval, dof, exp_freq = chi2_contingency(df, correction = False)"
   ]
  },
  {
   "cell_type": "code",
   "execution_count": 5,
   "id": "dce7e97a-5f42-4a05-9839-80a0d294a319",
   "metadata": {},
   "outputs": [
    {
     "data": {
      "text/plain": [
       "0.41943105261448455"
      ]
     },
     "execution_count": 5,
     "metadata": {},
     "output_type": "execute_result"
    }
   ],
   "source": [
    "pval"
   ]
  },
  {
   "cell_type": "code",
   "execution_count": null,
   "id": "bc1782d2-6c9d-400c-a226-b9ede7afc006",
   "metadata": {},
   "outputs": [],
   "source": []
  }
 ],
 "metadata": {
  "kernelspec": {
   "display_name": "Python 3 (ipykernel)",
   "language": "python",
   "name": "python3"
  },
  "language_info": {
   "codemirror_mode": {
    "name": "ipython",
    "version": 3
   },
   "file_extension": ".py",
   "mimetype": "text/x-python",
   "name": "python",
   "nbconvert_exporter": "python",
   "pygments_lexer": "ipython3",
   "version": "3.11.5"
  }
 },
 "nbformat": 4,
 "nbformat_minor": 5
}
