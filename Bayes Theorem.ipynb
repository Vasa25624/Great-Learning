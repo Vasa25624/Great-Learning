{
 "cells": [
  {
   "cell_type": "markdown",
   "id": "41118515-d6b7-4038-ada8-e643587a1fea",
   "metadata": {},
   "source": [
    "Problems on Probability\n",
    "A multinational farm conducted a job satisfaction survey on a sample of its employees. The table below summarizes the result of the survey. Assuming that the sample drawn is a random sample from its entire employee population, the HR would like to know the probability of the following events."
   ]
  },
  {
   "cell_type": "code",
   "execution_count": 1,
   "id": "beba5a9f-4591-4b04-8d54-f7525910ec1c",
   "metadata": {},
   "outputs": [],
   "source": [
    "from IPython.display import Image\n"
   ]
  },
  {
   "cell_type": "code",
   "execution_count": 2,
   "id": "ae979604-144a-486a-8088-72cf76f636f1",
   "metadata": {},
   "outputs": [],
   "source": [
    "image_path = 'Problem 1 LVC.png'\n"
   ]
  },
  {
   "cell_type": "markdown",
   "id": "03c12a1c-4b86-437b-87f4-d57a6de5034c",
   "metadata": {},
   "source": [
    "HR wants to know the proportion of employees is satisfied. Calculate the proportion of employees is satisfied"
   ]
  },
  {
   "cell_type": "code",
   "execution_count": 3,
   "id": "619b7873-ae5f-4469-8f27-c81c95c730eb",
   "metadata": {},
   "outputs": [
    {
     "name": "stdout",
     "output_type": "stream",
     "text": [
      "Proportion of employees satisfied. is 36.9%\n"
     ]
    }
   ],
   "source": [
    "Total_Satisfied=240\n",
    "Total_Emp=650\n",
    "Prob_Satisfied = round(Total_Satisfied/Total_Emp,4)*100\n",
    "print('Proportion of employees satisfied. is %1.1f' % Prob_Satisfied +'%')"
   ]
  },
  {
   "cell_type": "markdown",
   "id": "4d15bd36-62dc-443e-9e92-06443a13b854",
   "metadata": {},
   "source": [
    "HR wants to know the proportion of employees is at a risk of attrition (Assume a dissatisfied employee will attrite eventually.)¶"
   ]
  },
  {
   "cell_type": "code",
   "execution_count": 4,
   "id": "e3d5b3e5-5d8e-423d-900a-e6ab9bf22599",
   "metadata": {},
   "outputs": [
    {
     "name": "stdout",
     "output_type": "stream",
     "text": [
      "0.185\n",
      "0.192\n",
      "Proportion of employees at risk. is 37.7%\n"
     ]
    }
   ],
   "source": [
    "Prob_dissatisfied=round(120/650,3)\n",
    "print(Prob_dissatisfied)\n",
    "prob_highly_dissatisfied=round(125/650,3)\n",
    "print(prob_highly_dissatisfied)\n",
    "Prob_atrisk=(Prob_dissatisfied+prob_highly_dissatisfied)*100\n",
    "print('Proportion of employees at risk. is %1.1f' % Prob_atrisk +'%')"
   ]
  },
  {
   "cell_type": "markdown",
   "id": "8086bebd-af95-4301-8e04-8fd96d5c5347",
   "metadata": {},
   "source": [
    "If a dissatisfied employee attrite with probability 0.4 within a year, what is the probability of an employee to attrite in a year?"
   ]
  },
  {
   "cell_type": "code",
   "execution_count": 5,
   "id": "ee6e361a-bf31-4488-9f2b-3acfd7076928",
   "metadata": {},
   "outputs": [
    {
     "name": "stdout",
     "output_type": "stream",
     "text": [
      "Probability of employees attrite. is 15.08%\n"
     ]
    }
   ],
   "source": [
    "Prob_of_attrite=0.4\n",
    "#we calculated the prob of disatisfied employee in last question\n",
    "Prob_atrisk=.377\n",
    "\n",
    "#c)\tPr(An employee will attrite) = Pr(Employee dissatisfied AND Employee attrite) = Pr(Employee dissatisfied) * Pr(Employee attrite|Dissatisfied)\n",
    "Prob_attrite = (Prob_of_attrite * Prob_atrisk)*100\n",
    "print('Probability of employees attrite. is %1.2f' % Prob_attrite +'%')"
   ]
  },
  {
   "cell_type": "markdown",
   "id": "db31eea7-2105-406c-bd69-6c6d94792494",
   "metadata": {},
   "source": [
    "If an employee is chosen randomly, HR wants to know the probability that he/she at least a high school graduate?"
   ]
  },
  {
   "cell_type": "code",
   "execution_count": 6,
   "id": "30c44797-7d6d-4e42-aeb1-a2876bb4b008",
   "metadata": {},
   "outputs": [
    {
     "name": "stdout",
     "output_type": "stream",
     "text": [
      "Probability of an employee being at least a high school graduate is 84.6%\n"
     ]
    }
   ],
   "source": [
    "#Pr(At least High School) = Pr(High school) + Pr(Some college) + Pr(College Grad) + Pr(Post-Grad) = 1 – Pr(Did not complete school)\n",
    "didnt_comp_high_school=100\n",
    "Total=650\n",
    "Prob_Atleast_high_school=(1-round(didnt_comp_high_school/Total,4))*100\n",
    "print('Probability of an employee being at least a high school graduate is %1.1f' % Prob_Atleast_high_school +'%')"
   ]
  },
  {
   "cell_type": "markdown",
   "id": "1c793800-c60e-43b9-8470-f44dd7320e6f",
   "metadata": {},
   "source": [
    "HR wants to know the satisfaction rate among employees who are college graduate or more?"
   ]
  },
  {
   "cell_type": "code",
   "execution_count": 7,
   "id": "0060a27c-4a6c-4954-ba2d-19d6fb55f36f",
   "metadata": {},
   "outputs": [
    {
     "name": "stdout",
     "output_type": "stream",
     "text": [
      "Probability of satisfaction rate among employees who are college graduate or more . is 65.5%\n"
     ]
    }
   ],
   "source": [
    "#will be denoted by Pr(Satisfied | College Grad or Post Grad)\n",
    "satisfied_college_grad=120\n",
    "satisfied_postgrad=60\n",
    "Total_college_grad=200\n",
    "Total_postgrad=75\n",
    "Prob_satisfied=round((satisfied_college_grad+satisfied_postgrad)/(Total_college_grad+Total_postgrad),3)*100\n",
    "print('Probability of satisfaction rate among employees who are college graduate or more . is %1.1f' % Prob_satisfied +'%')"
   ]
  },
  {
   "cell_type": "markdown",
   "id": "a718686f-2cad-4868-8de1-f4c0dd37d72d",
   "metadata": {},
   "source": [
    "Among the employees who have at least some college education, HR wants to know the proportion is not dissatisfied?¶"
   ]
  },
  {
   "cell_type": "code",
   "execution_count": 8,
   "id": "15486f1f-446f-47b9-bd9f-9ea1a3a6e306",
   "metadata": {},
   "outputs": [
    {
     "name": "stdout",
     "output_type": "stream",
     "text": [
      "Probability of not dissatisfied who have atleast some college education . is 76.5%\n"
     ]
    }
   ],
   "source": [
    "#Pr(Not dissatisfied | at least some college) \n",
    "emp_not_disatisfied_some_college= 30+60+120+40+60+15\n",
    "Total_college=150+200+75\n",
    "Prob_not_dissatisfied_some_college=round(emp_not_disatisfied_some_college/Total_college,3)*100\n",
    "print('Probability of not dissatisfied who have atleast some college education . is %1.1f' % Prob_not_dissatisfied_some_college +'%')"
   ]
  },
  {
   "cell_type": "markdown",
   "id": "3b6368aa-bc0a-4a4a-8a1d-626c5209ca3c",
   "metadata": {},
   "source": [
    "Among the employees who are not satisfied, HR wants to know the proportion are college graduate or more?"
   ]
  },
  {
   "cell_type": "code",
   "execution_count": 9,
   "id": "9c4fa5fd-2698-4d81-be5a-4a0b1a60ad95",
   "metadata": {},
   "outputs": [
    {
     "name": "stdout",
     "output_type": "stream",
     "text": [
      "Probability of college or more . is 23.2%\n"
     ]
    }
   ],
   "source": [
    "#Pr(College Grad or Post-grad | Not satisfied)\n",
    "emp_collegegrad_post_grad_not_satsified=40+30+10+15\n",
    "Total_not_satisfied=650-240\n",
    "Prob_Collge_ormore=round(emp_collegegrad_post_grad_not_satsified/Total_not_satisfied,3)*100\n",
    "print('Probability of college or more . is %1.1f' % Prob_Collge_ormore +'%')"
   ]
  },
  {
   "cell_type": "markdown",
   "id": "7d17061c-f365-4978-9513-339c86e12730",
   "metadata": {},
   "source": [
    "Among the employees who have not had any college education, HR wants to know the proportion are not highly dissatisfied?\n"
   ]
  },
  {
   "cell_type": "code",
   "execution_count": 10,
   "id": "bea15cc3-6d61-48f0-a049-1f3cbdc427f7",
   "metadata": {},
   "outputs": [
    {
     "name": "stdout",
     "output_type": "stream",
     "text": [
      "Probability of college or more . is 60.0%\n"
     ]
    }
   ],
   "source": [
    "#Pr(Not highly dissatisfied | No college education)\n",
    "emp_no_college=100+125\n",
    "emp_not_highly_dissatisfied_nocollege=225-90\n",
    "\n",
    "Prob_Not_higlydistasified=round(emp_not_highly_dissatisfied_nocollege/emp_no_college,3)*100\n",
    "print('Probability of college or more . is %1.1f' % Prob_Not_higlydistasified +'%')"
   ]
  },
  {
   "cell_type": "markdown",
   "id": "e55f115c-0f05-4e7a-b2a5-dae5e8e6ebac",
   "metadata": {},
   "source": [
    "Problem 2 on Probability\n",
    "A multinational bank is concerned about the waiting time of its customers before they use the ATM for their transactions. A study of a random sample of 500 customers reveals the following probability distribution. The below table shows the distribution."
   ]
  },
  {
   "cell_type": "code",
   "execution_count": 11,
   "id": "1ae3317c-112a-4d2e-bc38-affe5e521849",
   "metadata": {},
   "outputs": [],
   "source": [
    "from IPython.display import Image\n"
   ]
  },
  {
   "cell_type": "code",
   "execution_count": 12,
   "id": "35028fbb-29e1-4e91-8263-3ee6e6027f3f",
   "metadata": {},
   "outputs": [],
   "source": [
    "image_path = 'Problem 2 LVC.png'\n"
   ]
  },
  {
   "cell_type": "markdown",
   "id": "57276859-81c7-4aeb-8f4f-d46a41cf3ee4",
   "metadata": {},
   "source": [
    "What is the probability that a customer will wait for more than 5 minutes?\n"
   ]
  },
  {
   "cell_type": "code",
   "execution_count": 13,
   "id": "b5df5b13-1320-4ba0-91bf-1ecc97342b2e",
   "metadata": {},
   "outputs": [
    {
     "name": "stdout",
     "output_type": "stream",
     "text": [
      "Probability of waiting time graeter than 5 is 0.15\n"
     ]
    }
   ],
   "source": [
    "#P(x>5)= P(6)+P(7)+p(8)\n",
    "Prob_greater_than5=0.08 +0.04+0.03\n",
    "print('Probability of waiting time graeter than 5 is %1.2f' % Prob_greater_than5 )"
   ]
  },
  {
   "cell_type": "markdown",
   "id": "275e32e5-b62d-4f04-9b9a-bfe6f9aec36e",
   "metadata": {},
   "source": [
    "What proportion of the customers do not have to wait at all?\n"
   ]
  },
  {
   "cell_type": "code",
   "execution_count": 14,
   "id": "4e77400d-9896-4f79-b86f-f959671703ed",
   "metadata": {},
   "outputs": [
    {
     "name": "stdout",
     "output_type": "stream",
     "text": [
      "Probability of customers do not wait. is 0.20\n"
     ]
    }
   ],
   "source": [
    "#Pr(Customers do not wait) = Pr(X = 0) i.e. we will take the prob at 0 i.e. 0.2\n",
    "print('Probability of customers do not wait. is %1.2f' % 0.2 )"
   ]
  },
  {
   "cell_type": "markdown",
   "id": "09a3c169-9ac8-4b32-b924-2d5318c1fba0",
   "metadata": {},
   "source": [
    "What is the expected waiting time for a customer?"
   ]
  },
  {
   "cell_type": "code",
   "execution_count": 15,
   "id": "0fd81294-3f49-4a64-9f21-babca28b037b",
   "metadata": {},
   "outputs": [
    {
     "name": "stdout",
     "output_type": "stream",
     "text": [
      "Probability of expected waiting time for customers is 2.71\n"
     ]
    }
   ],
   "source": [
    "#Expected waiting time will be summation of product of waiting time and its respective probability\n",
    "\n",
    "Prob_expected_time=0* 0.2 + 1* 0.18 + 2*0.16 + 3* 0.12 +4 * 0.1 + 5 * 0.09 +6* 0.08 +7*0.04  +8* 0.03\n",
    "print('Probability of expected waiting time for customers is %1.2f' % Prob_expected_time )"
   ]
  },
  {
   "cell_type": "markdown",
   "id": "7c2e15f1-7dcc-4084-889b-717a2866de15",
   "metadata": {},
   "source": [
    "Problems Normal Distributions"
   ]
  },
  {
   "cell_type": "code",
   "execution_count": 16,
   "id": "fdb4bc69-fb33-4baa-9b2c-eb63e27cbeb1",
   "metadata": {},
   "outputs": [],
   "source": [
    "import numpy as np\n",
    "import scipy.stats as stats"
   ]
  },
  {
   "cell_type": "markdown",
   "id": "1f1e077a-d268-4bab-90e7-7856b84f3780",
   "metadata": {},
   "source": [
    "According to the Telecommunication Industry the average monthly cell phone bill is Rs. 850 with a standard deviation of Rs. 150.\n",
    "What is the probability that a randomly selected cell phone bill is more than Rs 1200?\n",
    "What is the probability that a randomly selected cell phone bill is between Rs 750 and Rs 1200?\n",
    "What is the probability that a randomly selected cell phone bill is no more than Rs 650?\n",
    "What is the amount above which lies top 15% of cell phone bills?\n",
    "What is the amount below which lies bottom 25% of cell phone bills?\n",
    "This is a problem of normal probability distribution. Though the distribution is not mentioned, in absence of any other information we assume normality in the population."
   ]
  },
  {
   "cell_type": "code",
   "execution_count": 17,
   "id": "498ffa05-18ad-4c6b-9e49-c245e2fa363c",
   "metadata": {},
   "outputs": [
    {
     "data": {
      "text/plain": [
       "0.009815328628645315"
      ]
     },
     "execution_count": 17,
     "metadata": {},
     "output_type": "execute_result"
    }
   ],
   "source": [
    "#What is the probability that a randomly selected cell phone bill is more than Rs 1200?\n",
    "\n",
    "#To calculate this, we will calculate the cumulative probability for less than 1200 and then will subtract from 1.\n",
    "\n",
    "1-stats.norm.cdf(1200,loc=850,scale=150)"
   ]
  },
  {
   "cell_type": "code",
   "execution_count": 18,
   "id": "d860d395-ce24-4dd9-95d9-9ddd3365e266",
   "metadata": {},
   "outputs": [
    {
     "data": {
      "text/plain": [
       "0.7376921338244318"
      ]
     },
     "execution_count": 18,
     "metadata": {},
     "output_type": "execute_result"
    }
   ],
   "source": [
    "#What is the probability that a randomly selected cell phone bill is between Rs 750 and Rs 1200?\n",
    "\n",
    "stats.norm.cdf(1200,loc=850,scale=150)-stats.norm.cdf(750,loc=850,scale=150)"
   ]
  },
  {
   "cell_type": "code",
   "execution_count": 19,
   "id": "c9f7610b-9ee3-4847-871b-20d63efc0ae0",
   "metadata": {},
   "outputs": [
    {
     "data": {
      "text/plain": [
       "0.09121121972586788"
      ]
     },
     "execution_count": 19,
     "metadata": {},
     "output_type": "execute_result"
    }
   ],
   "source": [
    "#What is the probability that a randomly selected cell phone bill is no more than Rs 650?\n",
    "\n",
    "stats.norm.cdf(650,loc=850,scale=150)"
   ]
  },
  {
   "cell_type": "code",
   "execution_count": 20,
   "id": "6e648521-a5ef-4c8f-9f57-babbd83c8233",
   "metadata": {},
   "outputs": [
    {
     "data": {
      "text/plain": [
       "1005.4650084240685"
      ]
     },
     "execution_count": 20,
     "metadata": {},
     "output_type": "execute_result"
    }
   ],
   "source": [
    "#What is the amount above which lies top 15% of cell phone bills?\n",
    "\n",
    "#Let the amount be M. Pr(X ≥ M) = 15% => 1 – Pr(X < M) = 0.85 . To calculate this we will use the percent point function i.e ppf.\n",
    "\n",
    "stats.norm.ppf(0.85,loc=850,scale=150)"
   ]
  },
  {
   "cell_type": "code",
   "execution_count": 21,
   "id": "0e9d4e79-e9ac-4915-ae54-fc6f2cff7773",
   "metadata": {},
   "outputs": [
    {
     "data": {
      "text/plain": [
       "748.8265374705877"
      ]
     },
     "execution_count": 21,
     "metadata": {},
     "output_type": "execute_result"
    }
   ],
   "source": [
    "#What is the amount below which lies bottom 25% of cell phone bills?\n",
    "\n",
    "stats.norm.ppf(0.25,loc=850,scale=150)"
   ]
  },
  {
   "cell_type": "markdown",
   "id": "5673bf6d-4af3-431e-b1c1-a1eb666d907f",
   "metadata": {},
   "source": [
    "During early 2012, economic hardship was stretching the limits of France welfare system. One indicator of the level of hardship was the increase in the number of people bringing items to the pawnbroker. Assume the number of people visiting the pawnshop is normally distributed with the mean of 658.\n",
    "\n",
    "a) Suppose you learn that on 3% of days, 610 or fewer people bought items to the pawnshop. What is the S.d. of the no. of people bringing items to the pawnshop.\n",
    "\n",
    "b) On any given day, what is the prob. That b/w 600 and 700 people bring items to the pawnshop\n",
    "\n",
    "c) How many people bring items to the pawnshop on the busiest 3% of days.\n",
    "\n",
    "a) Suppose you learn that on 3% of days, 610 or fewer people bought items to the pawnshop. What is the S.d. of the no. of people bringing items to the pawnshop.\n",
    "\n"
   ]
  },
  {
   "cell_type": "code",
   "execution_count": 22,
   "id": "89d2f6fe-2ba0-4233-9b4b-e929482a5a77",
   "metadata": {},
   "outputs": [],
   "source": [
    "mu=658\n",
    "x=610"
   ]
  },
  {
   "cell_type": "code",
   "execution_count": 23,
   "id": "5aee4d15-89a5-4411-b916-9e36f65fa4b1",
   "metadata": {},
   "outputs": [],
   "source": [
    "z=stats.norm.ppf(0.03) #finding the corresponding z value using ppf for 3%"
   ]
  },
  {
   "cell_type": "code",
   "execution_count": 24,
   "id": "24d21c92-dfe6-474d-87ac-b7a8cba46ad5",
   "metadata": {},
   "outputs": [
    {
     "data": {
      "text/plain": [
       "25.52"
      ]
     },
     "execution_count": 24,
     "metadata": {},
     "output_type": "execute_result"
    }
   ],
   "source": [
    "sigma= (x - mu)/z\n",
    "round(sigma,2)"
   ]
  },
  {
   "cell_type": "markdown",
   "id": "5c33838a-a61e-4c65-9b5a-75ee5d795437",
   "metadata": {},
   "source": [
    "**b) On any given day, what is the prob. That b/w 600 and 700 people bring items to the pawnshop**"
   ]
  },
  {
   "cell_type": "code",
   "execution_count": 25,
   "id": "a7c69ba2-ccdb-49a1-b1b8-7083a6eb0d96",
   "metadata": {},
   "outputs": [
    {
     "name": "stdout",
     "output_type": "stream",
     "text": [
      "On any given day, the prob % that b/w 600 and 700 people bring items to the pawnshop is 94.0 %\n"
     ]
    }
   ],
   "source": [
    "print('On any given day, the prob % that b/w 600 and 700 people bring items to the pawnshop is',round(stats.norm.cdf(700,mu,sigma)-stats.norm.cdf(600,mu,sigma),2)*100,'%')"
   ]
  },
  {
   "cell_type": "markdown",
   "id": "f105f3ea-fcbc-45f6-8341-6fb115882a8e",
   "metadata": {},
   "source": [
    "c) How many people bring items to the pawnshop on the busiest 3% of days.\n",
    "\n"
   ]
  },
  {
   "cell_type": "code",
   "execution_count": 26,
   "id": "56e2103e-6c0e-4d15-9cfe-032eb7741cd9",
   "metadata": {},
   "outputs": [],
   "source": [
    "p=1-0.03 # 97%  will be less than the top 3% busiest days' rush\n",
    "\n",
    "z=stats.norm.ppf(p)#getting z value for 97%"
   ]
  },
  {
   "cell_type": "code",
   "execution_count": 27,
   "id": "d3360d1a-a5d1-4226-b10c-b8c9ffd55af4",
   "metadata": {},
   "outputs": [
    {
     "name": "stdout",
     "output_type": "stream",
     "text": [
      "The number of people bringing items to the pawnshop on the busiest 3% of days are 706.0\n"
     ]
    }
   ],
   "source": [
    "print('The number of people bringing items to the pawnshop on the busiest 3% of days are',z*sigma+mu)"
   ]
  },
  {
   "cell_type": "markdown",
   "id": "7791ae51-367b-43da-b9ba-09978232970a",
   "metadata": {},
   "source": [
    "For on-campus recruitment Ms. Z has sat for tests by Company A and Company B. For both tests her score is 50. It is known that for Company A, scores have a normal distribution with mean 40 and standard deviation 15 whereas for Company B, scores have a normal distribution with mean 45 and standard deviation 10. Relatively speaking in which test has Ms. Z done better?\n"
   ]
  },
  {
   "cell_type": "code",
   "execution_count": 28,
   "id": "9f9ad54b-5906-4bda-ac9a-978d70a047ad",
   "metadata": {},
   "outputs": [
    {
     "name": "stdout",
     "output_type": "stream",
     "text": [
      "Z1: 0.6666666666666666\n",
      "Z2: 0.5\n"
     ]
    }
   ],
   "source": [
    "#Z-score from Company A: \n",
    "Z1 = (50-40)/15 \n",
    "\n",
    "#Z-score from Company B:\n",
    "Z2 = (50-45)/10 \n",
    "\n",
    "print(\"Z1:\",Z1)\n",
    "print(\"Z2:\",Z2)"
   ]
  },
  {
   "cell_type": "markdown",
   "id": "d53f58d6-60e5-4268-9234-9f193e5a1f50",
   "metadata": {},
   "source": [
    "Problem on Bayes Theorem\n",
    "A computer component is given scores (A, B, C) after production.\n",
    "\n",
    "On an average, 70% components were given a score of A, 18% were given a score of B and 12% a score of C.\n",
    "\n",
    "It was found that 2% of the components that were given a score of A, 10% that were given a score of B and 18% that were given a score of C, eventually failed.\n",
    "\n",
    "If you randomly pickup a failed component, what is the probability that it had received a score of B?\n",
    "\n",
    "Solution:\n",
    "The probablity will be given by the below formula:"
   ]
  },
  {
   "cell_type": "markdown",
   "id": "cc507495-d203-4162-8eda-4e27bbeccf38",
   "metadata": {},
   "source": [
    "The probablity will be given by the below formula:\n",
    "\n",
    "P(B | F) = Probability that quality score was B and the component failed/ Probability of any quality score and the component failed\n",
    "\n",
    "It can be written as:\n",
    "\n",
    "P(B | F) = P(B ∩ F)* P(B) / P(F)\n",
    "\n",
    "and the formula can be break down into:\n",
    "\n",
    "P(B | F) = P(B) * P(F | B) / (P(A) * P(F | A) + P(B) * P(F | B) + P(C) * P(F | C))"
   ]
  },
  {
   "cell_type": "code",
   "execution_count": 29,
   "id": "1a347e72-272d-48e8-8406-c25ad65ff7e4",
   "metadata": {},
   "outputs": [
    {
     "name": "stdout",
     "output_type": "stream",
     "text": [
      "Probability that a failed component will score B is 0.33582\n"
     ]
    }
   ],
   "source": [
    "Prob_of_B=0.18\n",
    "Prob_of_Fail_given_B=0.10\n",
    "Prob_of_A=0.70\n",
    "Prob_of_Fail_given_A=0.02\n",
    "Prob_of_C=0.12\n",
    "Prob_of_Fail_given_C=0.18\n",
    "\n",
    "Prob_of_Fail=(0.02*0.70 + 0.18*0.10 + 0.12 * 0.18)\n",
    "Prob_of_B_given_Fail= (Prob_of_B*Prob_of_Fail_given_B)/Prob_of_Fail\n",
    "\n",
    "print('Probability that a failed component will score B is %1.5f' % Prob_of_B_given_Fail)"
   ]
  },
  {
   "cell_type": "markdown",
   "id": "88e7c8ac-484b-4d47-be86-afb6c479f553",
   "metadata": {},
   "source": [
    "A local bank reviewed its credit card policy with the intention of recalling some of its credit cards. In the past approx. 5% of cardholders defaulted, leaving the bank unable to collect outstanding balance. Hence, management established a prior probability of 0.05 that any particular cardholder will default. The bank also found that the probability of missing a monthly payment is .20 for customers who do not default. Of course, the probability of missing a monthly payment for those who default is 0.5.\n",
    "\n",
    "Q: Given that a customer missed one or more monthly payments, compute the prob. That a customer will default\n",
    "\n"
   ]
  },
  {
   "cell_type": "code",
   "execution_count": 30,
   "id": "a49172cc-9b5b-4a3d-824b-8392c52a99cb",
   "metadata": {},
   "outputs": [],
   "source": [
    "probab_default= 0.05\n",
    "probab_missed_and_no_default=0.20\n",
    "probab_missed_given_default=0.50"
   ]
  },
  {
   "cell_type": "code",
   "execution_count": 31,
   "id": "9eb82686-c987-4aef-98cf-cafe2331dcd2",
   "metadata": {},
   "outputs": [],
   "source": [
    "probability_of_missed=(probab_missed_and_no_default*(1-probab_default)) + (probab_missed_given_default*probab_default)"
   ]
  },
  {
   "cell_type": "code",
   "execution_count": 32,
   "id": "413f5927-81e2-4be0-9118-28c2a1706457",
   "metadata": {},
   "outputs": [],
   "source": [
    "probab_default_given_missed= (probab_missed_given_default * probab_default )/ probability_of_missed"
   ]
  },
  {
   "cell_type": "code",
   "execution_count": 33,
   "id": "38abb416-08ff-4088-92e7-65c212e2fb76",
   "metadata": {},
   "outputs": [
    {
     "data": {
      "text/plain": [
       "11.63"
      ]
     },
     "execution_count": 33,
     "metadata": {},
     "output_type": "execute_result"
    }
   ],
   "source": [
    "round(probab_default_given_missed,4)*100 #probab percentage"
   ]
  },
  {
   "cell_type": "code",
   "execution_count": null,
   "id": "225b88b1-a3f5-40f8-8aea-909c925bb363",
   "metadata": {},
   "outputs": [],
   "source": []
  }
 ],
 "metadata": {
  "kernelspec": {
   "display_name": "Python 3 (ipykernel)",
   "language": "python",
   "name": "python3"
  },
  "language_info": {
   "codemirror_mode": {
    "name": "ipython",
    "version": 3
   },
   "file_extension": ".py",
   "mimetype": "text/x-python",
   "name": "python",
   "nbconvert_exporter": "python",
   "pygments_lexer": "ipython3",
   "version": "3.11.5"
  }
 },
 "nbformat": 4,
 "nbformat_minor": 5
}
