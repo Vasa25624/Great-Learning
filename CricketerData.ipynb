{
 "cells": [
  {
   "cell_type": "code",
   "execution_count": 1,
   "id": "644fa89c-aef2-4b6e-b3ae-35c988e3d849",
   "metadata": {},
   "outputs": [],
   "source": [
    "import numpy as np\n",
    "import pandas as pd\n",
    "import matplotlib.pyplot as plt\n",
    "%matplotlib inline\n",
    "import seaborn as sns \n",
    "from warnings import filterwarnings\n",
    "filterwarnings(\"ignore\")"
   ]
  },
  {
   "cell_type": "code",
   "execution_count": 2,
   "id": "8c48bc09-abd3-4414-a4d4-3dec8b47f411",
   "metadata": {},
   "outputs": [],
   "source": [
    "CricketerData=pd.read_excel('D:/Ment Class/Practise11/Excel Data/CricketerData.xlsx')"
   ]
  },
  {
   "cell_type": "code",
   "execution_count": 3,
   "id": "16093865-641e-4a34-a14e-8eef9b783ea1",
   "metadata": {},
   "outputs": [
    {
     "data": {
      "text/html": [
       "<div>\n",
       "<style scoped>\n",
       "    .dataframe tbody tr th:only-of-type {\n",
       "        vertical-align: middle;\n",
       "    }\n",
       "\n",
       "    .dataframe tbody tr th {\n",
       "        vertical-align: top;\n",
       "    }\n",
       "\n",
       "    .dataframe thead th {\n",
       "        text-align: right;\n",
       "    }\n",
       "</style>\n",
       "<table border=\"1\" class=\"dataframe\">\n",
       "  <thead>\n",
       "    <tr style=\"text-align: right;\">\n",
       "      <th></th>\n",
       "      <th>RunsScored</th>\n",
       "      <th>BallsFaced</th>\n",
       "      <th>BattingPosition</th>\n",
       "      <th>Dismissal</th>\n",
       "      <th>Inning</th>\n",
       "      <th>Opposition</th>\n",
       "      <th>Year</th>\n",
       "    </tr>\n",
       "  </thead>\n",
       "  <tbody>\n",
       "    <tr>\n",
       "      <th>0</th>\n",
       "      <td>12</td>\n",
       "      <td>22</td>\n",
       "      <td>2</td>\n",
       "      <td>LBW</td>\n",
       "      <td>1</td>\n",
       "      <td>Sri Lanka</td>\n",
       "      <td>2008</td>\n",
       "    </tr>\n",
       "    <tr>\n",
       "      <th>1</th>\n",
       "      <td>37</td>\n",
       "      <td>67</td>\n",
       "      <td>2</td>\n",
       "      <td>Caught</td>\n",
       "      <td>2</td>\n",
       "      <td>Sri Lanka</td>\n",
       "      <td>2008</td>\n",
       "    </tr>\n",
       "    <tr>\n",
       "      <th>2</th>\n",
       "      <td>25</td>\n",
       "      <td>38</td>\n",
       "      <td>1</td>\n",
       "      <td>Run out</td>\n",
       "      <td>1</td>\n",
       "      <td>Sri Lanka</td>\n",
       "      <td>2008</td>\n",
       "    </tr>\n",
       "    <tr>\n",
       "      <th>3</th>\n",
       "      <td>54</td>\n",
       "      <td>66</td>\n",
       "      <td>1</td>\n",
       "      <td>Bowled</td>\n",
       "      <td>1</td>\n",
       "      <td>Sri Lanka</td>\n",
       "      <td>2008</td>\n",
       "    </tr>\n",
       "    <tr>\n",
       "      <th>4</th>\n",
       "      <td>31</td>\n",
       "      <td>46</td>\n",
       "      <td>1</td>\n",
       "      <td>LBW</td>\n",
       "      <td>2</td>\n",
       "      <td>Sri Lanka</td>\n",
       "      <td>2008</td>\n",
       "    </tr>\n",
       "  </tbody>\n",
       "</table>\n",
       "</div>"
      ],
      "text/plain": [
       "   RunsScored  BallsFaced  BattingPosition Dismissal  Inning Opposition  Year\n",
       "0          12          22                2       LBW       1  Sri Lanka  2008\n",
       "1          37          67                2    Caught       2  Sri Lanka  2008\n",
       "2          25          38                1   Run out       1  Sri Lanka  2008\n",
       "3          54          66                1    Bowled       1  Sri Lanka  2008\n",
       "4          31          46                1       LBW       2  Sri Lanka  2008"
      ]
     },
     "execution_count": 3,
     "metadata": {},
     "output_type": "execute_result"
    }
   ],
   "source": [
    "CricketerData.head()"
   ]
  },
  {
   "cell_type": "code",
   "execution_count": 4,
   "id": "d37403d5-e33f-4e0f-8df1-8ec33255ab6d",
   "metadata": {},
   "outputs": [
    {
     "data": {
      "text/plain": [
       "(208, 7)"
      ]
     },
     "execution_count": 4,
     "metadata": {},
     "output_type": "execute_result"
    }
   ],
   "source": [
    "CricketerData.shape"
   ]
  },
  {
   "cell_type": "code",
   "execution_count": 5,
   "id": "28289844-0174-4ca7-9130-5ca3ce8aa533",
   "metadata": {},
   "outputs": [
    {
     "name": "stdout",
     "output_type": "stream",
     "text": [
      "<class 'pandas.core.frame.DataFrame'>\n",
      "RangeIndex: 208 entries, 0 to 207\n",
      "Data columns (total 7 columns):\n",
      " #   Column           Non-Null Count  Dtype \n",
      "---  ------           --------------  ----- \n",
      " 0   RunsScored       208 non-null    int64 \n",
      " 1   BallsFaced       208 non-null    int64 \n",
      " 2   BattingPosition  208 non-null    int64 \n",
      " 3   Dismissal        208 non-null    object\n",
      " 4   Inning           208 non-null    int64 \n",
      " 5   Opposition       208 non-null    object\n",
      " 6   Year             208 non-null    int64 \n",
      "dtypes: int64(5), object(2)\n",
      "memory usage: 11.5+ KB\n"
     ]
    }
   ],
   "source": [
    "CricketerData.info()"
   ]
  },
  {
   "cell_type": "code",
   "execution_count": 6,
   "id": "545f888f-39f0-43ac-83ea-f1a40e525e7b",
   "metadata": {},
   "outputs": [
    {
     "data": {
      "text/html": [
       "<div>\n",
       "<style scoped>\n",
       "    .dataframe tbody tr th:only-of-type {\n",
       "        vertical-align: middle;\n",
       "    }\n",
       "\n",
       "    .dataframe tbody tr th {\n",
       "        vertical-align: top;\n",
       "    }\n",
       "\n",
       "    .dataframe thead th {\n",
       "        text-align: right;\n",
       "    }\n",
       "</style>\n",
       "<table border=\"1\" class=\"dataframe\">\n",
       "  <thead>\n",
       "    <tr style=\"text-align: right;\">\n",
       "      <th></th>\n",
       "      <th>RunsScored</th>\n",
       "      <th>BallsFaced</th>\n",
       "      <th>BattingPosition</th>\n",
       "      <th>Dismissal</th>\n",
       "      <th>Inning</th>\n",
       "      <th>Opposition</th>\n",
       "      <th>Year</th>\n",
       "    </tr>\n",
       "  </thead>\n",
       "  <tbody>\n",
       "    <tr>\n",
       "      <th>0</th>\n",
       "      <td>12</td>\n",
       "      <td>22</td>\n",
       "      <td>2</td>\n",
       "      <td>LBW</td>\n",
       "      <td>1</td>\n",
       "      <td>Sri Lanka</td>\n",
       "      <td>2008</td>\n",
       "    </tr>\n",
       "    <tr>\n",
       "      <th>1</th>\n",
       "      <td>37</td>\n",
       "      <td>67</td>\n",
       "      <td>2</td>\n",
       "      <td>Caught</td>\n",
       "      <td>2</td>\n",
       "      <td>Sri Lanka</td>\n",
       "      <td>2008</td>\n",
       "    </tr>\n",
       "    <tr>\n",
       "      <th>2</th>\n",
       "      <td>25</td>\n",
       "      <td>38</td>\n",
       "      <td>1</td>\n",
       "      <td>Run out</td>\n",
       "      <td>1</td>\n",
       "      <td>Sri Lanka</td>\n",
       "      <td>2008</td>\n",
       "    </tr>\n",
       "    <tr>\n",
       "      <th>3</th>\n",
       "      <td>54</td>\n",
       "      <td>66</td>\n",
       "      <td>1</td>\n",
       "      <td>Bowled</td>\n",
       "      <td>1</td>\n",
       "      <td>Sri Lanka</td>\n",
       "      <td>2008</td>\n",
       "    </tr>\n",
       "    <tr>\n",
       "      <th>4</th>\n",
       "      <td>31</td>\n",
       "      <td>46</td>\n",
       "      <td>1</td>\n",
       "      <td>LBW</td>\n",
       "      <td>2</td>\n",
       "      <td>Sri Lanka</td>\n",
       "      <td>2008</td>\n",
       "    </tr>\n",
       "    <tr>\n",
       "      <th>...</th>\n",
       "      <td>...</td>\n",
       "      <td>...</td>\n",
       "      <td>...</td>\n",
       "      <td>...</td>\n",
       "      <td>...</td>\n",
       "      <td>...</td>\n",
       "      <td>...</td>\n",
       "    </tr>\n",
       "    <tr>\n",
       "      <th>203</th>\n",
       "      <td>140</td>\n",
       "      <td>107</td>\n",
       "      <td>3</td>\n",
       "      <td>Stumped</td>\n",
       "      <td>2</td>\n",
       "      <td>West Indies</td>\n",
       "      <td>2018</td>\n",
       "    </tr>\n",
       "    <tr>\n",
       "      <th>204</th>\n",
       "      <td>157</td>\n",
       "      <td>129</td>\n",
       "      <td>3</td>\n",
       "      <td>NO</td>\n",
       "      <td>1</td>\n",
       "      <td>West Indies</td>\n",
       "      <td>2018</td>\n",
       "    </tr>\n",
       "    <tr>\n",
       "      <th>205</th>\n",
       "      <td>107</td>\n",
       "      <td>119</td>\n",
       "      <td>3</td>\n",
       "      <td>Bowled</td>\n",
       "      <td>2</td>\n",
       "      <td>West Indies</td>\n",
       "      <td>2018</td>\n",
       "    </tr>\n",
       "    <tr>\n",
       "      <th>206</th>\n",
       "      <td>16</td>\n",
       "      <td>17</td>\n",
       "      <td>3</td>\n",
       "      <td>Caught</td>\n",
       "      <td>1</td>\n",
       "      <td>West Indies</td>\n",
       "      <td>2018</td>\n",
       "    </tr>\n",
       "    <tr>\n",
       "      <th>207</th>\n",
       "      <td>33</td>\n",
       "      <td>29</td>\n",
       "      <td>3</td>\n",
       "      <td>NO</td>\n",
       "      <td>2</td>\n",
       "      <td>West Indies</td>\n",
       "      <td>2018</td>\n",
       "    </tr>\n",
       "  </tbody>\n",
       "</table>\n",
       "<p>208 rows × 7 columns</p>\n",
       "</div>"
      ],
      "text/plain": [
       "     RunsScored  BallsFaced  BattingPosition Dismissal  Inning   Opposition  \\\n",
       "0            12          22                2       LBW       1    Sri Lanka   \n",
       "1            37          67                2    Caught       2    Sri Lanka   \n",
       "2            25          38                1   Run out       1    Sri Lanka   \n",
       "3            54          66                1    Bowled       1    Sri Lanka   \n",
       "4            31          46                1       LBW       2    Sri Lanka   \n",
       "..          ...         ...              ...       ...     ...          ...   \n",
       "203         140         107                3   Stumped       2  West Indies   \n",
       "204         157         129                3        NO       1  West Indies   \n",
       "205         107         119                3    Bowled       2  West Indies   \n",
       "206          16          17                3    Caught       1  West Indies   \n",
       "207          33          29                3        NO       2  West Indies   \n",
       "\n",
       "     Year  \n",
       "0    2008  \n",
       "1    2008  \n",
       "2    2008  \n",
       "3    2008  \n",
       "4    2008  \n",
       "..    ...  \n",
       "203  2018  \n",
       "204  2018  \n",
       "205  2018  \n",
       "206  2018  \n",
       "207  2018  \n",
       "\n",
       "[208 rows x 7 columns]"
      ]
     },
     "execution_count": 6,
     "metadata": {},
     "output_type": "execute_result"
    }
   ],
   "source": [
    "CricketerData"
   ]
  },
  {
   "cell_type": "code",
   "execution_count": 7,
   "id": "ba58018a-8f9b-4b71-843d-79c3337aaf23",
   "metadata": {},
   "outputs": [
    {
     "data": {
      "text/html": [
       "<div>\n",
       "<style scoped>\n",
       "    .dataframe tbody tr th:only-of-type {\n",
       "        vertical-align: middle;\n",
       "    }\n",
       "\n",
       "    .dataframe tbody tr th {\n",
       "        vertical-align: top;\n",
       "    }\n",
       "\n",
       "    .dataframe thead th {\n",
       "        text-align: right;\n",
       "    }\n",
       "</style>\n",
       "<table border=\"1\" class=\"dataframe\">\n",
       "  <thead>\n",
       "    <tr style=\"text-align: right;\">\n",
       "      <th></th>\n",
       "      <th>RunsScored</th>\n",
       "      <th>BallsFaced</th>\n",
       "      <th>BattingPosition</th>\n",
       "      <th>Inning</th>\n",
       "      <th>Year</th>\n",
       "    </tr>\n",
       "  </thead>\n",
       "  <tbody>\n",
       "    <tr>\n",
       "      <th>count</th>\n",
       "      <td>208.000000</td>\n",
       "      <td>208.000000</td>\n",
       "      <td>208.000000</td>\n",
       "      <td>208.000000</td>\n",
       "      <td>208.000000</td>\n",
       "    </tr>\n",
       "    <tr>\n",
       "      <th>mean</th>\n",
       "      <td>49.192308</td>\n",
       "      <td>52.961538</td>\n",
       "      <td>3.264423</td>\n",
       "      <td>1.567308</td>\n",
       "      <td>2013.240385</td>\n",
       "    </tr>\n",
       "    <tr>\n",
       "      <th>std</th>\n",
       "      <td>43.797641</td>\n",
       "      <td>39.850548</td>\n",
       "      <td>0.781602</td>\n",
       "      <td>0.496644</td>\n",
       "      <td>2.750477</td>\n",
       "    </tr>\n",
       "    <tr>\n",
       "      <th>min</th>\n",
       "      <td>0.000000</td>\n",
       "      <td>0.000000</td>\n",
       "      <td>1.000000</td>\n",
       "      <td>1.000000</td>\n",
       "      <td>2008.000000</td>\n",
       "    </tr>\n",
       "    <tr>\n",
       "      <th>25%</th>\n",
       "      <td>10.750000</td>\n",
       "      <td>18.000000</td>\n",
       "      <td>3.000000</td>\n",
       "      <td>1.000000</td>\n",
       "      <td>2011.000000</td>\n",
       "    </tr>\n",
       "    <tr>\n",
       "      <th>50%</th>\n",
       "      <td>35.000000</td>\n",
       "      <td>46.500000</td>\n",
       "      <td>3.000000</td>\n",
       "      <td>2.000000</td>\n",
       "      <td>2013.000000</td>\n",
       "    </tr>\n",
       "    <tr>\n",
       "      <th>75%</th>\n",
       "      <td>81.250000</td>\n",
       "      <td>83.250000</td>\n",
       "      <td>3.000000</td>\n",
       "      <td>2.000000</td>\n",
       "      <td>2015.000000</td>\n",
       "    </tr>\n",
       "    <tr>\n",
       "      <th>max</th>\n",
       "      <td>183.000000</td>\n",
       "      <td>159.000000</td>\n",
       "      <td>7.000000</td>\n",
       "      <td>2.000000</td>\n",
       "      <td>2018.000000</td>\n",
       "    </tr>\n",
       "  </tbody>\n",
       "</table>\n",
       "</div>"
      ],
      "text/plain": [
       "       RunsScored  BallsFaced  BattingPosition      Inning         Year\n",
       "count  208.000000  208.000000       208.000000  208.000000   208.000000\n",
       "mean    49.192308   52.961538         3.264423    1.567308  2013.240385\n",
       "std     43.797641   39.850548         0.781602    0.496644     2.750477\n",
       "min      0.000000    0.000000         1.000000    1.000000  2008.000000\n",
       "25%     10.750000   18.000000         3.000000    1.000000  2011.000000\n",
       "50%     35.000000   46.500000         3.000000    2.000000  2013.000000\n",
       "75%     81.250000   83.250000         3.000000    2.000000  2015.000000\n",
       "max    183.000000  159.000000         7.000000    2.000000  2018.000000"
      ]
     },
     "execution_count": 7,
     "metadata": {},
     "output_type": "execute_result"
    }
   ],
   "source": [
    "CricketerData.describe()"
   ]
  },
  {
   "cell_type": "code",
   "execution_count": 8,
   "id": "2d267776-0a45-4c51-9a6f-9858ac972986",
   "metadata": {},
   "outputs": [
    {
     "data": {
      "text/plain": [
       "Opposition\n",
       "Sri Lanka       2186\n",
       "West Indies     1840\n",
       "South Africa    1269\n",
       "Australia       1182\n",
       "New Zealand     1154\n",
       "England         1112\n",
       "Bangladesh       654\n",
       "Pakistan         459\n",
       "Zimbabwe         253\n",
       "Ireland           78\n",
       "U.A.E.            33\n",
       "Netherlands       12\n",
       "Name: RunsScored, dtype: int64"
      ]
     },
     "execution_count": 8,
     "metadata": {},
     "output_type": "execute_result"
    }
   ],
   "source": [
    "CricketerData.groupby(['Opposition'])['RunsScored'].sum().sort_values(ascending= False)"
   ]
  },
  {
   "cell_type": "code",
   "execution_count": 9,
   "id": "f315cc46-fdaa-446e-8900-1430a51de760",
   "metadata": {},
   "outputs": [
    {
     "data": {
      "text/plain": [
       "Opposition\n",
       "New Zealand     60.736842\n",
       "Bangladesh      59.454545\n",
       "West Indies     57.500000\n",
       "South Africa    52.875000\n",
       "Sri Lanka       48.577778\n",
       "Australia       45.461538\n",
       "Zimbabwe        42.166667\n",
       "Ireland         39.000000\n",
       "England         38.344828\n",
       "Pakistan        38.250000\n",
       "U.A.E.          33.000000\n",
       "Netherlands     12.000000\n",
       "Name: RunsScored, dtype: float64"
      ]
     },
     "execution_count": 9,
     "metadata": {},
     "output_type": "execute_result"
    }
   ],
   "source": [
    "#Average\n",
    "CricketerData.groupby(['Opposition'])['RunsScored'].mean().sort_values(ascending= False)"
   ]
  },
  {
   "cell_type": "code",
   "execution_count": 10,
   "id": "17969146-8235-472e-9db5-0b76fd57e060",
   "metadata": {},
   "outputs": [
    {
     "data": {
      "text/plain": [
       "Opposition\n",
       "Bangladesh      66.0\n",
       "New Zealand     64.0\n",
       "West Indies     46.0\n",
       "South Africa    41.0\n",
       "Ireland         39.0\n",
       "Sri Lanka       37.0\n",
       "England         35.0\n",
       "U.A.E.          33.0\n",
       "Australia       29.0\n",
       "Zimbabwe        28.0\n",
       "Pakistan        12.5\n",
       "Netherlands     12.0\n",
       "Name: RunsScored, dtype: float64"
      ]
     },
     "execution_count": 10,
     "metadata": {},
     "output_type": "execute_result"
    }
   ],
   "source": [
    "# median\n",
    "CricketerData.groupby(['Opposition'])['RunsScored'].median().sort_values(ascending= False)"
   ]
  },
  {
   "cell_type": "code",
   "execution_count": 11,
   "id": "812eb0db-8a30-4c9e-9a6c-7a6689b6a26d",
   "metadata": {},
   "outputs": [
    {
     "data": {
      "text/plain": [
       "Year\n",
       "2017    1460\n",
       "2011    1381\n",
       "2013    1268\n",
       "2018    1202\n",
       "2014    1054\n",
       "2012    1026\n",
       "2010     995\n",
       "2016     739\n",
       "2015     623\n",
       "2009     325\n",
       "2008     159\n",
       "Name: RunsScored, dtype: int64"
      ]
     },
     "execution_count": 11,
     "metadata": {},
     "output_type": "execute_result"
    }
   ],
   "source": [
    "CricketerData.groupby(['Year'])['RunsScored'].sum().sort_values(ascending= False)"
   ]
  },
  {
   "cell_type": "code",
   "execution_count": 12,
   "id": "632a7455-f5a5-4985-82d4-42558fb9b7d9",
   "metadata": {},
   "outputs": [
    {
     "data": {
      "text/plain": [
       "Year  Opposition\n",
       "2012  Sri Lanka     695\n",
       "Name: RunsScored, dtype: int64"
      ]
     },
     "execution_count": 12,
     "metadata": {},
     "output_type": "execute_result"
    }
   ],
   "source": [
    "CricketerData.groupby(['Year','Opposition']).RunsScored.sum().sort_values(ascending= False).head(1)"
   ]
  },
  {
   "cell_type": "code",
   "execution_count": 13,
   "id": "39699760-db89-403f-addd-b150bff33229",
   "metadata": {},
   "outputs": [
    {
     "data": {
      "text/plain": [
       "Year  Opposition\n",
       "2012  Sri Lanka     695\n",
       "Name: RunsScored, dtype: int64"
      ]
     },
     "execution_count": 13,
     "metadata": {},
     "output_type": "execute_result"
    }
   ],
   "source": [
    "CricketerData.groupby(['Year','Opposition'])['RunsScored'].sum().sort_values(ascending= False).head(1)"
   ]
  },
  {
   "cell_type": "code",
   "execution_count": 14,
   "id": "4b62f2ba-fb7d-4bc4-85c3-02f4b2c34a88",
   "metadata": {},
   "outputs": [
    {
     "data": {
      "text/plain": [
       "Dismissal\n",
       "Caught        121\n",
       "NO             37\n",
       "Bowled         21\n",
       "LBW            12\n",
       "Run out        12\n",
       "Stumped         4\n",
       "Hit wicket      1\n",
       "Name: count, dtype: int64"
      ]
     },
     "execution_count": 14,
     "metadata": {},
     "output_type": "execute_result"
    }
   ],
   "source": [
    "CricketerData[\"Dismissal\"].value_counts()"
   ]
  },
  {
   "cell_type": "code",
   "execution_count": 15,
   "id": "0f69721b-894a-4d5a-abc7-2c77afe6a2ef",
   "metadata": {},
   "outputs": [
    {
     "data": {
      "text/plain": [
       "0.1778846153846154"
      ]
     },
     "execution_count": 15,
     "metadata": {},
     "output_type": "execute_result"
    }
   ],
   "source": [
    "37/208"
   ]
  },
  {
   "cell_type": "code",
   "execution_count": 16,
   "id": "1f3365c8-dacf-49e4-8ec0-ebd32cdbe317",
   "metadata": {},
   "outputs": [
    {
     "name": "stdout",
     "output_type": "stream",
     "text": [
      "<class 'pandas.core.frame.DataFrame'>\n",
      "Index: 40 entries, 5 to 186\n",
      "Data columns (total 7 columns):\n",
      " #   Column           Non-Null Count  Dtype \n",
      "---  ------           --------------  ----- \n",
      " 0   RunsScored       40 non-null     int64 \n",
      " 1   BallsFaced       40 non-null     int64 \n",
      " 2   BattingPosition  40 non-null     int64 \n",
      " 3   Dismissal        40 non-null     object\n",
      " 4   Inning           40 non-null     int64 \n",
      " 5   Opposition       40 non-null     object\n",
      " 6   Year             40 non-null     int64 \n",
      "dtypes: int64(5), object(2)\n",
      "memory usage: 2.5+ KB\n"
     ]
    }
   ],
   "source": [
    "mydata_runs=CricketerData[CricketerData['RunsScored']<=7]\n",
    "mydata_runs.info()"
   ]
  },
  {
   "cell_type": "code",
   "execution_count": 17,
   "id": "c8c20ed4-fab2-464e-97e8-24685c63611a",
   "metadata": {},
   "outputs": [
    {
     "data": {
      "text/plain": [
       "12"
      ]
     },
     "execution_count": 17,
     "metadata": {},
     "output_type": "execute_result"
    }
   ],
   "source": [
    "CricketerData.Opposition.nunique()"
   ]
  },
  {
   "cell_type": "code",
   "execution_count": 18,
   "id": "b21f2983-854e-47d4-a63f-96e26061d4b0",
   "metadata": {},
   "outputs": [
    {
     "data": {
      "text/plain": [
       "Opposition\n",
       "Netherlands     12\n",
       "U.A.E.          33\n",
       "Ireland         78\n",
       "Zimbabwe       253\n",
       "Pakistan       459\n",
       "Name: RunsScored, dtype: int64"
      ]
     },
     "execution_count": 18,
     "metadata": {},
     "output_type": "execute_result"
    }
   ],
   "source": [
    "CricketerData.groupby(['Opposition'])['RunsScored'].sum().sort_values(ascending= True).head(5)"
   ]
  },
  {
   "cell_type": "code",
   "execution_count": 19,
   "id": "5b9b4158-4fd6-4558-996b-5c0520c51d9e",
   "metadata": {},
   "outputs": [
    {
     "data": {
      "text/plain": [
       "Inning\n",
       "1    45.111111\n",
       "2    52.305085\n",
       "Name: RunsScored, dtype: float64"
      ]
     },
     "execution_count": 19,
     "metadata": {},
     "output_type": "execute_result"
    }
   ],
   "source": [
    " CricketerData.groupby('Inning')['RunsScored'].mean()"
   ]
  },
  {
   "cell_type": "code",
   "execution_count": 20,
   "id": "7bf642a5-610d-45bb-a018-73b89701f21e",
   "metadata": {},
   "outputs": [
    {
     "data": {
      "text/html": [
       "<div>\n",
       "<style scoped>\n",
       "    .dataframe tbody tr th:only-of-type {\n",
       "        vertical-align: middle;\n",
       "    }\n",
       "\n",
       "    .dataframe tbody tr th {\n",
       "        vertical-align: top;\n",
       "    }\n",
       "\n",
       "    .dataframe thead th {\n",
       "        text-align: right;\n",
       "    }\n",
       "</style>\n",
       "<table border=\"1\" class=\"dataframe\">\n",
       "  <thead>\n",
       "    <tr style=\"text-align: right;\">\n",
       "      <th></th>\n",
       "      <th>median</th>\n",
       "      <th>sum</th>\n",
       "    </tr>\n",
       "    <tr>\n",
       "      <th>Opposition</th>\n",
       "      <th></th>\n",
       "      <th></th>\n",
       "    </tr>\n",
       "  </thead>\n",
       "  <tbody>\n",
       "    <tr>\n",
       "      <th>Australia</th>\n",
       "      <td>29.0</td>\n",
       "      <td>1182</td>\n",
       "    </tr>\n",
       "    <tr>\n",
       "      <th>Bangladesh</th>\n",
       "      <td>66.0</td>\n",
       "      <td>654</td>\n",
       "    </tr>\n",
       "    <tr>\n",
       "      <th>England</th>\n",
       "      <td>35.0</td>\n",
       "      <td>1112</td>\n",
       "    </tr>\n",
       "    <tr>\n",
       "      <th>Ireland</th>\n",
       "      <td>39.0</td>\n",
       "      <td>78</td>\n",
       "    </tr>\n",
       "    <tr>\n",
       "      <th>Netherlands</th>\n",
       "      <td>12.0</td>\n",
       "      <td>12</td>\n",
       "    </tr>\n",
       "    <tr>\n",
       "      <th>New Zealand</th>\n",
       "      <td>64.0</td>\n",
       "      <td>1154</td>\n",
       "    </tr>\n",
       "    <tr>\n",
       "      <th>Pakistan</th>\n",
       "      <td>12.5</td>\n",
       "      <td>459</td>\n",
       "    </tr>\n",
       "    <tr>\n",
       "      <th>South Africa</th>\n",
       "      <td>41.0</td>\n",
       "      <td>1269</td>\n",
       "    </tr>\n",
       "    <tr>\n",
       "      <th>Sri Lanka</th>\n",
       "      <td>37.0</td>\n",
       "      <td>2186</td>\n",
       "    </tr>\n",
       "    <tr>\n",
       "      <th>U.A.E.</th>\n",
       "      <td>33.0</td>\n",
       "      <td>33</td>\n",
       "    </tr>\n",
       "    <tr>\n",
       "      <th>West Indies</th>\n",
       "      <td>46.0</td>\n",
       "      <td>1840</td>\n",
       "    </tr>\n",
       "    <tr>\n",
       "      <th>Zimbabwe</th>\n",
       "      <td>28.0</td>\n",
       "      <td>253</td>\n",
       "    </tr>\n",
       "  </tbody>\n",
       "</table>\n",
       "</div>"
      ],
      "text/plain": [
       "              median   sum\n",
       "Opposition                \n",
       "Australia       29.0  1182\n",
       "Bangladesh      66.0   654\n",
       "England         35.0  1112\n",
       "Ireland         39.0    78\n",
       "Netherlands     12.0    12\n",
       "New Zealand     64.0  1154\n",
       "Pakistan        12.5   459\n",
       "South Africa    41.0  1269\n",
       "Sri Lanka       37.0  2186\n",
       "U.A.E.          33.0    33\n",
       "West Indies     46.0  1840\n",
       "Zimbabwe        28.0   253"
      ]
     },
     "execution_count": 20,
     "metadata": {},
     "output_type": "execute_result"
    }
   ],
   "source": [
    "CricketerData.groupby('Opposition')['RunsScored'].agg(['median', 'sum'])"
   ]
  },
  {
   "cell_type": "code",
   "execution_count": 21,
   "id": "6fdbc14f-e91b-470d-b439-cfc55add9d8a",
   "metadata": {},
   "outputs": [
    {
     "data": {
      "text/plain": [
       "66.0"
      ]
     },
     "execution_count": 21,
     "metadata": {},
     "output_type": "execute_result"
    }
   ],
   "source": [
    "CricketerData[CricketerData[\"Opposition\"]==\"Bangladesh\"][\"RunsScored\"].median() "
   ]
  },
  {
   "cell_type": "code",
   "execution_count": 22,
   "id": "415df073-9d78-42f5-9187-244161668cd7",
   "metadata": {},
   "outputs": [
    {
     "data": {
      "text/plain": [
       "64.0"
      ]
     },
     "execution_count": 22,
     "metadata": {},
     "output_type": "execute_result"
    }
   ],
   "source": [
    "CricketerData[CricketerData[\"Opposition\"]==\"New Zealand\"][\"RunsScored\"].median() "
   ]
  },
  {
   "cell_type": "code",
   "execution_count": 23,
   "id": "6438aa95-4ea2-4f1a-b093-8a38e7635eae",
   "metadata": {},
   "outputs": [
    {
     "data": {
      "text/plain": [
       "37.0"
      ]
     },
     "execution_count": 23,
     "metadata": {},
     "output_type": "execute_result"
    }
   ],
   "source": [
    "CricketerData[CricketerData[\"Opposition\"]==\"Sri Lanka\"][\"RunsScored\"].median() "
   ]
  },
  {
   "cell_type": "code",
   "execution_count": 24,
   "id": "0d184c50-4d76-4590-85d3-ada862cc0fb3",
   "metadata": {},
   "outputs": [
    {
     "data": {
      "text/html": [
       "<div>\n",
       "<style scoped>\n",
       "    .dataframe tbody tr th:only-of-type {\n",
       "        vertical-align: middle;\n",
       "    }\n",
       "\n",
       "    .dataframe tbody tr th {\n",
       "        vertical-align: top;\n",
       "    }\n",
       "\n",
       "    .dataframe thead th {\n",
       "        text-align: right;\n",
       "    }\n",
       "</style>\n",
       "<table border=\"1\" class=\"dataframe\">\n",
       "  <thead>\n",
       "    <tr style=\"text-align: right;\">\n",
       "      <th>Dismissal</th>\n",
       "      <th>Bowled</th>\n",
       "      <th>Caught</th>\n",
       "      <th>Hit wicket</th>\n",
       "      <th>LBW</th>\n",
       "      <th>NO</th>\n",
       "      <th>Run out</th>\n",
       "      <th>Stumped</th>\n",
       "      <th>All</th>\n",
       "    </tr>\n",
       "    <tr>\n",
       "      <th>Inning</th>\n",
       "      <th></th>\n",
       "      <th></th>\n",
       "      <th></th>\n",
       "      <th></th>\n",
       "      <th></th>\n",
       "      <th></th>\n",
       "      <th></th>\n",
       "      <th></th>\n",
       "    </tr>\n",
       "  </thead>\n",
       "  <tbody>\n",
       "    <tr>\n",
       "      <th>1</th>\n",
       "      <td>12.0</td>\n",
       "      <td>54.0</td>\n",
       "      <td>1.0</td>\n",
       "      <td>5.0</td>\n",
       "      <td>8.0</td>\n",
       "      <td>10.0</td>\n",
       "      <td>NaN</td>\n",
       "      <td>90</td>\n",
       "    </tr>\n",
       "    <tr>\n",
       "      <th>2</th>\n",
       "      <td>9.0</td>\n",
       "      <td>67.0</td>\n",
       "      <td>NaN</td>\n",
       "      <td>7.0</td>\n",
       "      <td>29.0</td>\n",
       "      <td>2.0</td>\n",
       "      <td>4.0</td>\n",
       "      <td>118</td>\n",
       "    </tr>\n",
       "    <tr>\n",
       "      <th>All</th>\n",
       "      <td>21.0</td>\n",
       "      <td>121.0</td>\n",
       "      <td>1.0</td>\n",
       "      <td>12.0</td>\n",
       "      <td>37.0</td>\n",
       "      <td>12.0</td>\n",
       "      <td>4.0</td>\n",
       "      <td>208</td>\n",
       "    </tr>\n",
       "  </tbody>\n",
       "</table>\n",
       "</div>"
      ],
      "text/plain": [
       "Dismissal  Bowled  Caught  Hit wicket   LBW    NO  Run out  Stumped  All\n",
       "Inning                                                                  \n",
       "1            12.0    54.0         1.0   5.0   8.0     10.0      NaN   90\n",
       "2             9.0    67.0         NaN   7.0  29.0      2.0      4.0  118\n",
       "All          21.0   121.0         1.0  12.0  37.0     12.0      4.0  208"
      ]
     },
     "execution_count": 24,
     "metadata": {},
     "output_type": "execute_result"
    }
   ],
   "source": [
    "pd.crosstab(index = CricketerData['Inning'],columns=CricketerData['Dismissal'], values=CricketerData['RunsScored'],margins=True,aggfunc='count')"
   ]
  },
  {
   "cell_type": "code",
   "execution_count": 25,
   "id": "a1e8dfdb-e5c0-4b8a-80a0-99b93d4468b7",
   "metadata": {},
   "outputs": [
    {
     "data": {
      "text/html": [
       "<div>\n",
       "<style scoped>\n",
       "    .dataframe tbody tr th:only-of-type {\n",
       "        vertical-align: middle;\n",
       "    }\n",
       "\n",
       "    .dataframe tbody tr th {\n",
       "        vertical-align: top;\n",
       "    }\n",
       "\n",
       "    .dataframe thead th {\n",
       "        text-align: right;\n",
       "    }\n",
       "</style>\n",
       "<table border=\"1\" class=\"dataframe\">\n",
       "  <thead>\n",
       "    <tr style=\"text-align: right;\">\n",
       "      <th></th>\n",
       "      <th>RunsScored</th>\n",
       "      <th>BallsFaced</th>\n",
       "      <th>BattingPosition</th>\n",
       "      <th>Dismissal</th>\n",
       "      <th>Inning</th>\n",
       "      <th>Opposition</th>\n",
       "      <th>Year</th>\n",
       "      <th>post_transform</th>\n",
       "    </tr>\n",
       "  </thead>\n",
       "  <tbody>\n",
       "    <tr>\n",
       "      <th>0</th>\n",
       "      <td>12</td>\n",
       "      <td>22</td>\n",
       "      <td>2</td>\n",
       "      <td>LBW</td>\n",
       "      <td>1</td>\n",
       "      <td>Sri Lanka</td>\n",
       "      <td>2008</td>\n",
       "      <td>False</td>\n",
       "    </tr>\n",
       "    <tr>\n",
       "      <th>1</th>\n",
       "      <td>37</td>\n",
       "      <td>67</td>\n",
       "      <td>2</td>\n",
       "      <td>Caught</td>\n",
       "      <td>2</td>\n",
       "      <td>Sri Lanka</td>\n",
       "      <td>2008</td>\n",
       "      <td>False</td>\n",
       "    </tr>\n",
       "    <tr>\n",
       "      <th>2</th>\n",
       "      <td>25</td>\n",
       "      <td>38</td>\n",
       "      <td>1</td>\n",
       "      <td>Run out</td>\n",
       "      <td>1</td>\n",
       "      <td>Sri Lanka</td>\n",
       "      <td>2008</td>\n",
       "      <td>False</td>\n",
       "    </tr>\n",
       "    <tr>\n",
       "      <th>3</th>\n",
       "      <td>54</td>\n",
       "      <td>66</td>\n",
       "      <td>1</td>\n",
       "      <td>Bowled</td>\n",
       "      <td>1</td>\n",
       "      <td>Sri Lanka</td>\n",
       "      <td>2008</td>\n",
       "      <td>False</td>\n",
       "    </tr>\n",
       "    <tr>\n",
       "      <th>4</th>\n",
       "      <td>31</td>\n",
       "      <td>46</td>\n",
       "      <td>1</td>\n",
       "      <td>LBW</td>\n",
       "      <td>2</td>\n",
       "      <td>Sri Lanka</td>\n",
       "      <td>2008</td>\n",
       "      <td>False</td>\n",
       "    </tr>\n",
       "    <tr>\n",
       "      <th>...</th>\n",
       "      <td>...</td>\n",
       "      <td>...</td>\n",
       "      <td>...</td>\n",
       "      <td>...</td>\n",
       "      <td>...</td>\n",
       "      <td>...</td>\n",
       "      <td>...</td>\n",
       "      <td>...</td>\n",
       "    </tr>\n",
       "    <tr>\n",
       "      <th>203</th>\n",
       "      <td>140</td>\n",
       "      <td>107</td>\n",
       "      <td>3</td>\n",
       "      <td>Stumped</td>\n",
       "      <td>2</td>\n",
       "      <td>West Indies</td>\n",
       "      <td>2018</td>\n",
       "      <td>True</td>\n",
       "    </tr>\n",
       "    <tr>\n",
       "      <th>204</th>\n",
       "      <td>157</td>\n",
       "      <td>129</td>\n",
       "      <td>3</td>\n",
       "      <td>NO</td>\n",
       "      <td>1</td>\n",
       "      <td>West Indies</td>\n",
       "      <td>2018</td>\n",
       "      <td>True</td>\n",
       "    </tr>\n",
       "    <tr>\n",
       "      <th>205</th>\n",
       "      <td>107</td>\n",
       "      <td>119</td>\n",
       "      <td>3</td>\n",
       "      <td>Bowled</td>\n",
       "      <td>2</td>\n",
       "      <td>West Indies</td>\n",
       "      <td>2018</td>\n",
       "      <td>True</td>\n",
       "    </tr>\n",
       "    <tr>\n",
       "      <th>206</th>\n",
       "      <td>16</td>\n",
       "      <td>17</td>\n",
       "      <td>3</td>\n",
       "      <td>Caught</td>\n",
       "      <td>1</td>\n",
       "      <td>West Indies</td>\n",
       "      <td>2018</td>\n",
       "      <td>True</td>\n",
       "    </tr>\n",
       "    <tr>\n",
       "      <th>207</th>\n",
       "      <td>33</td>\n",
       "      <td>29</td>\n",
       "      <td>3</td>\n",
       "      <td>NO</td>\n",
       "      <td>2</td>\n",
       "      <td>West Indies</td>\n",
       "      <td>2018</td>\n",
       "      <td>True</td>\n",
       "    </tr>\n",
       "  </tbody>\n",
       "</table>\n",
       "<p>208 rows × 8 columns</p>\n",
       "</div>"
      ],
      "text/plain": [
       "     RunsScored  BallsFaced  BattingPosition Dismissal  Inning   Opposition  \\\n",
       "0            12          22                2       LBW       1    Sri Lanka   \n",
       "1            37          67                2    Caught       2    Sri Lanka   \n",
       "2            25          38                1   Run out       1    Sri Lanka   \n",
       "3            54          66                1    Bowled       1    Sri Lanka   \n",
       "4            31          46                1       LBW       2    Sri Lanka   \n",
       "..          ...         ...              ...       ...     ...          ...   \n",
       "203         140         107                3   Stumped       2  West Indies   \n",
       "204         157         129                3        NO       1  West Indies   \n",
       "205         107         119                3    Bowled       2  West Indies   \n",
       "206          16          17                3    Caught       1  West Indies   \n",
       "207          33          29                3        NO       2  West Indies   \n",
       "\n",
       "     Year  post_transform  \n",
       "0    2008           False  \n",
       "1    2008           False  \n",
       "2    2008           False  \n",
       "3    2008           False  \n",
       "4    2008           False  \n",
       "..    ...             ...  \n",
       "203  2018            True  \n",
       "204  2018            True  \n",
       "205  2018            True  \n",
       "206  2018            True  \n",
       "207  2018            True  \n",
       "\n",
       "[208 rows x 8 columns]"
      ]
     },
     "execution_count": 25,
     "metadata": {},
     "output_type": "execute_result"
    }
   ],
   "source": [
    "# let's fetch the data post transform \n",
    "CricketerData['post_transform'] = CricketerData[\"Year\"]>2012\n",
    "CricketerData"
   ]
  },
  {
   "cell_type": "code",
   "execution_count": 26,
   "id": "d0d5f590-88ce-4513-bddb-322843f8251b",
   "metadata": {},
   "outputs": [
    {
     "data": {
      "text/plain": [
       "post_transform\n",
       "False    3886\n",
       "True     6346\n",
       "Name: RunsScored, dtype: int64"
      ]
     },
     "execution_count": 26,
     "metadata": {},
     "output_type": "execute_result"
    }
   ],
   "source": [
    "CricketerData.groupby(by=\"post_transform\")[\"RunsScored\"].sum()"
   ]
  },
  {
   "cell_type": "code",
   "execution_count": 27,
   "id": "98749ddc-f194-406a-b9e9-c7b35ebdbc3a",
   "metadata": {},
   "outputs": [
    {
     "data": {
      "text/plain": [
       "post_transform\n",
       "False    51.147727\n",
       "True     54.291667\n",
       "Name: BallsFaced, dtype: float64"
      ]
     },
     "execution_count": 27,
     "metadata": {},
     "output_type": "execute_result"
    }
   ],
   "source": [
    "CricketerData.groupby(by=\"post_transform\")[\"BallsFaced\"].mean()"
   ]
  },
  {
   "cell_type": "code",
   "execution_count": 28,
   "id": "b4c4f8df-32ae-4ba1-b2a3-070829e1876c",
   "metadata": {},
   "outputs": [
    {
     "data": {
      "text/plain": [
       "post_transform  Inning\n",
       "False           1         36.421053\n",
       "                2         50.040000\n",
       "True            1         51.461538\n",
       "                2         53.970588\n",
       "Name: RunsScored, dtype: float64"
      ]
     },
     "execution_count": 28,
     "metadata": {},
     "output_type": "execute_result"
    }
   ],
   "source": [
    "CricketerData.groupby([\"post_transform\",'Inning'])[\"RunsScored\"].mean()"
   ]
  },
  {
   "cell_type": "code",
   "execution_count": 29,
   "id": "90d7c0c5-7cdb-4e69-9c14-b2b2ebbcb5e3",
   "metadata": {},
   "outputs": [
    {
     "data": {
      "text/html": [
       "<div>\n",
       "<style scoped>\n",
       "    .dataframe tbody tr th:only-of-type {\n",
       "        vertical-align: middle;\n",
       "    }\n",
       "\n",
       "    .dataframe tbody tr th {\n",
       "        vertical-align: top;\n",
       "    }\n",
       "\n",
       "    .dataframe thead th {\n",
       "        text-align: right;\n",
       "    }\n",
       "</style>\n",
       "<table border=\"1\" class=\"dataframe\">\n",
       "  <thead>\n",
       "    <tr style=\"text-align: right;\">\n",
       "      <th>Dismissal</th>\n",
       "      <th>Bowled</th>\n",
       "      <th>Caught</th>\n",
       "      <th>Hit wicket</th>\n",
       "      <th>LBW</th>\n",
       "      <th>NO</th>\n",
       "      <th>Run out</th>\n",
       "      <th>Stumped</th>\n",
       "      <th>All</th>\n",
       "    </tr>\n",
       "    <tr>\n",
       "      <th>post_transform</th>\n",
       "      <th></th>\n",
       "      <th></th>\n",
       "      <th></th>\n",
       "      <th></th>\n",
       "      <th></th>\n",
       "      <th></th>\n",
       "      <th></th>\n",
       "      <th></th>\n",
       "    </tr>\n",
       "  </thead>\n",
       "  <tbody>\n",
       "    <tr>\n",
       "      <th>False</th>\n",
       "      <td>302.0</td>\n",
       "      <td>2016.0</td>\n",
       "      <td>107.0</td>\n",
       "      <td>190.0</td>\n",
       "      <td>986.0</td>\n",
       "      <td>252.0</td>\n",
       "      <td>33.0</td>\n",
       "      <td>3886</td>\n",
       "    </tr>\n",
       "    <tr>\n",
       "      <th>True</th>\n",
       "      <td>564.0</td>\n",
       "      <td>3095.0</td>\n",
       "      <td>NaN</td>\n",
       "      <td>160.0</td>\n",
       "      <td>2012.0</td>\n",
       "      <td>300.0</td>\n",
       "      <td>215.0</td>\n",
       "      <td>6346</td>\n",
       "    </tr>\n",
       "    <tr>\n",
       "      <th>All</th>\n",
       "      <td>866.0</td>\n",
       "      <td>5111.0</td>\n",
       "      <td>107.0</td>\n",
       "      <td>350.0</td>\n",
       "      <td>2998.0</td>\n",
       "      <td>552.0</td>\n",
       "      <td>248.0</td>\n",
       "      <td>10232</td>\n",
       "    </tr>\n",
       "  </tbody>\n",
       "</table>\n",
       "</div>"
      ],
      "text/plain": [
       "Dismissal       Bowled  Caught  Hit wicket    LBW      NO  Run out  Stumped  \\\n",
       "post_transform                                                                \n",
       "False            302.0  2016.0       107.0  190.0   986.0    252.0     33.0   \n",
       "True             564.0  3095.0         NaN  160.0  2012.0    300.0    215.0   \n",
       "All              866.0  5111.0       107.0  350.0  2998.0    552.0    248.0   \n",
       "\n",
       "Dismissal         All  \n",
       "post_transform         \n",
       "False            3886  \n",
       "True             6346  \n",
       "All             10232  "
      ]
     },
     "execution_count": 29,
     "metadata": {},
     "output_type": "execute_result"
    }
   ],
   "source": [
    "pd.crosstab(index = CricketerData['post_transform'],columns=CricketerData['Dismissal'], values=CricketerData['RunsScored'],margins=True,aggfunc='sum')"
   ]
  },
  {
   "cell_type": "code",
   "execution_count": null,
   "id": "3bcbf770-7d4d-4629-b801-710e9ea1ee07",
   "metadata": {},
   "outputs": [],
   "source": []
  }
 ],
 "metadata": {
  "kernelspec": {
   "display_name": "Python 3 (ipykernel)",
   "language": "python",
   "name": "python3"
  },
  "language_info": {
   "codemirror_mode": {
    "name": "ipython",
    "version": 3
   },
   "file_extension": ".py",
   "mimetype": "text/x-python",
   "name": "python",
   "nbconvert_exporter": "python",
   "pygments_lexer": "ipython3",
   "version": "3.12.4"
  }
 },
 "nbformat": 4,
 "nbformat_minor": 5
}
