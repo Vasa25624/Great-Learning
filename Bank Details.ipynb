{
 "cells": [
  {
   "cell_type": "markdown",
   "id": "4f403987-64ca-407f-8ab8-2204bc11c3c1",
   "metadata": {},
   "source": [
    "Bank dataset\n",
    "We have a transaction details of 515 banks which include number of DD taken, Withdrawals, Deposits, Area of the branch and Average Walk-Ins. Profile the banks into segments and come up with recommendations for each segment."
   ]
  },
  {
   "cell_type": "code",
   "execution_count": 1,
   "id": "366a0a01-f131-4c60-af40-36ad455d1814",
   "metadata": {},
   "outputs": [],
   "source": [
    "import pandas as pd\n",
    "from sklearn.cluster import KMeans \n",
    "import matplotlib.pyplot as plt\n",
    "import seaborn as sns\n",
    "import warnings\n",
    "warnings.filterwarnings('ignore')"
   ]
  },
  {
   "cell_type": "code",
   "execution_count": 2,
   "id": "92ad157a-a281-467e-8501-ed8e0f0220dd",
   "metadata": {},
   "outputs": [],
   "source": [
    "BankDetails=pd.read_excel('D:/Ment Class/Practise11/Excel Data/BankDetails.xlsx')"
   ]
  },
  {
   "cell_type": "code",
   "execution_count": 3,
   "id": "bdcd80ce-3bf5-48f3-9517-cd3ff88631db",
   "metadata": {},
   "outputs": [
    {
     "data": {
      "text/html": [
       "<div>\n",
       "<style scoped>\n",
       "    .dataframe tbody tr th:only-of-type {\n",
       "        vertical-align: middle;\n",
       "    }\n",
       "\n",
       "    .dataframe tbody tr th {\n",
       "        vertical-align: top;\n",
       "    }\n",
       "\n",
       "    .dataframe thead th {\n",
       "        text-align: right;\n",
       "    }\n",
       "</style>\n",
       "<table border=\"1\" class=\"dataframe\">\n",
       "  <thead>\n",
       "    <tr style=\"text-align: right;\">\n",
       "      <th></th>\n",
       "      <th>Bank</th>\n",
       "      <th>DD</th>\n",
       "      <th>Withdrawals</th>\n",
       "      <th>Deposits</th>\n",
       "      <th>Branch Area in sqft</th>\n",
       "      <th>avg daily walkins</th>\n",
       "    </tr>\n",
       "  </thead>\n",
       "  <tbody>\n",
       "    <tr>\n",
       "      <th>0</th>\n",
       "      <td>1</td>\n",
       "      <td>227</td>\n",
       "      <td>147</td>\n",
       "      <td>111</td>\n",
       "      <td>2460</td>\n",
       "      <td>639</td>\n",
       "    </tr>\n",
       "    <tr>\n",
       "      <th>1</th>\n",
       "      <td>2</td>\n",
       "      <td>123</td>\n",
       "      <td>86</td>\n",
       "      <td>65</td>\n",
       "      <td>3510</td>\n",
       "      <td>436</td>\n",
       "    </tr>\n",
       "    <tr>\n",
       "      <th>2</th>\n",
       "      <td>3</td>\n",
       "      <td>306</td>\n",
       "      <td>149</td>\n",
       "      <td>76</td>\n",
       "      <td>2570</td>\n",
       "      <td>669</td>\n",
       "    </tr>\n",
       "    <tr>\n",
       "      <th>3</th>\n",
       "      <td>4</td>\n",
       "      <td>251</td>\n",
       "      <td>112</td>\n",
       "      <td>129</td>\n",
       "      <td>3650</td>\n",
       "      <td>623</td>\n",
       "    </tr>\n",
       "    <tr>\n",
       "      <th>4</th>\n",
       "      <td>5</td>\n",
       "      <td>174</td>\n",
       "      <td>135</td>\n",
       "      <td>128</td>\n",
       "      <td>3400</td>\n",
       "      <td>579</td>\n",
       "    </tr>\n",
       "  </tbody>\n",
       "</table>\n",
       "</div>"
      ],
      "text/plain": [
       "   Bank   DD  Withdrawals  Deposits  Branch Area in sqft  avg daily walkins\n",
       "0     1  227          147       111                 2460                639\n",
       "1     2  123           86        65                 3510                436\n",
       "2     3  306          149        76                 2570                669\n",
       "3     4  251          112       129                 3650                623\n",
       "4     5  174          135       128                 3400                579"
      ]
     },
     "execution_count": 3,
     "metadata": {},
     "output_type": "execute_result"
    }
   ],
   "source": [
    "BankDetails.head()"
   ]
  },
  {
   "cell_type": "code",
   "execution_count": 4,
   "id": "afd8b4e5-056c-4ac5-b189-2868d9488f22",
   "metadata": {},
   "outputs": [
    {
     "data": {
      "text/plain": [
       "(515, 6)"
      ]
     },
     "execution_count": 4,
     "metadata": {},
     "output_type": "execute_result"
    }
   ],
   "source": [
    "BankDetails.shape"
   ]
  },
  {
   "cell_type": "code",
   "execution_count": 5,
   "id": "6bdcbe7b-9b42-4b82-a610-06eec8f903c7",
   "metadata": {},
   "outputs": [
    {
     "name": "stdout",
     "output_type": "stream",
     "text": [
      "<class 'pandas.core.frame.DataFrame'>\n",
      "RangeIndex: 515 entries, 0 to 514\n",
      "Data columns (total 6 columns):\n",
      " #   Column               Non-Null Count  Dtype\n",
      "---  ------               --------------  -----\n",
      " 0   Bank                 515 non-null    int64\n",
      " 1   DD                   515 non-null    int64\n",
      " 2   Withdrawals          515 non-null    int64\n",
      " 3   Deposits             515 non-null    int64\n",
      " 4   Branch Area in sqft  515 non-null    int64\n",
      " 5   avg daily walkins    515 non-null    int64\n",
      "dtypes: int64(6)\n",
      "memory usage: 24.3 KB\n"
     ]
    }
   ],
   "source": [
    "BankDetails.info()"
   ]
  },
  {
   "cell_type": "code",
   "execution_count": 6,
   "id": "804fd5be-8608-4ebe-bc54-84655bc79005",
   "metadata": {},
   "outputs": [
    {
     "data": {
      "text/html": [
       "<div>\n",
       "<style scoped>\n",
       "    .dataframe tbody tr th:only-of-type {\n",
       "        vertical-align: middle;\n",
       "    }\n",
       "\n",
       "    .dataframe tbody tr th {\n",
       "        vertical-align: top;\n",
       "    }\n",
       "\n",
       "    .dataframe thead th {\n",
       "        text-align: right;\n",
       "    }\n",
       "</style>\n",
       "<table border=\"1\" class=\"dataframe\">\n",
       "  <thead>\n",
       "    <tr style=\"text-align: right;\">\n",
       "      <th></th>\n",
       "      <th>Bank</th>\n",
       "      <th>DD</th>\n",
       "      <th>Withdrawals</th>\n",
       "      <th>Deposits</th>\n",
       "      <th>Branch Area in sqft</th>\n",
       "      <th>avg daily walkins</th>\n",
       "    </tr>\n",
       "  </thead>\n",
       "  <tbody>\n",
       "    <tr>\n",
       "      <th>count</th>\n",
       "      <td>515.00</td>\n",
       "      <td>515.00</td>\n",
       "      <td>515.00</td>\n",
       "      <td>515.00</td>\n",
       "      <td>515.00</td>\n",
       "      <td>515.00</td>\n",
       "    </tr>\n",
       "    <tr>\n",
       "      <th>mean</th>\n",
       "      <td>258.00</td>\n",
       "      <td>232.25</td>\n",
       "      <td>150.69</td>\n",
       "      <td>81.69</td>\n",
       "      <td>2934.67</td>\n",
       "      <td>598.60</td>\n",
       "    </tr>\n",
       "    <tr>\n",
       "      <th>std</th>\n",
       "      <td>148.81</td>\n",
       "      <td>66.65</td>\n",
       "      <td>56.90</td>\n",
       "      <td>28.60</td>\n",
       "      <td>437.06</td>\n",
       "      <td>83.49</td>\n",
       "    </tr>\n",
       "    <tr>\n",
       "      <th>min</th>\n",
       "      <td>1.00</td>\n",
       "      <td>120.00</td>\n",
       "      <td>10.00</td>\n",
       "      <td>33.00</td>\n",
       "      <td>1200.00</td>\n",
       "      <td>380.00</td>\n",
       "    </tr>\n",
       "    <tr>\n",
       "      <th>25%</th>\n",
       "      <td>129.50</td>\n",
       "      <td>169.50</td>\n",
       "      <td>103.00</td>\n",
       "      <td>58.00</td>\n",
       "      <td>2675.00</td>\n",
       "      <td>537.50</td>\n",
       "    </tr>\n",
       "    <tr>\n",
       "      <th>50%</th>\n",
       "      <td>258.00</td>\n",
       "      <td>237.00</td>\n",
       "      <td>152.00</td>\n",
       "      <td>80.00</td>\n",
       "      <td>2960.00</td>\n",
       "      <td>601.00</td>\n",
       "    </tr>\n",
       "    <tr>\n",
       "      <th>75%</th>\n",
       "      <td>386.50</td>\n",
       "      <td>291.00</td>\n",
       "      <td>200.00</td>\n",
       "      <td>105.00</td>\n",
       "      <td>3300.00</td>\n",
       "      <td>657.50</td>\n",
       "    </tr>\n",
       "    <tr>\n",
       "      <th>max</th>\n",
       "      <td>515.00</td>\n",
       "      <td>350.00</td>\n",
       "      <td>247.00</td>\n",
       "      <td>212.00</td>\n",
       "      <td>3650.00</td>\n",
       "      <td>838.00</td>\n",
       "    </tr>\n",
       "  </tbody>\n",
       "</table>\n",
       "</div>"
      ],
      "text/plain": [
       "         Bank      DD  Withdrawals  Deposits  Branch Area in sqft  \\\n",
       "count  515.00  515.00       515.00    515.00               515.00   \n",
       "mean   258.00  232.25       150.69     81.69              2934.67   \n",
       "std    148.81   66.65        56.90     28.60               437.06   \n",
       "min      1.00  120.00        10.00     33.00              1200.00   \n",
       "25%    129.50  169.50       103.00     58.00              2675.00   \n",
       "50%    258.00  237.00       152.00     80.00              2960.00   \n",
       "75%    386.50  291.00       200.00    105.00              3300.00   \n",
       "max    515.00  350.00       247.00    212.00              3650.00   \n",
       "\n",
       "       avg daily walkins  \n",
       "count             515.00  \n",
       "mean              598.60  \n",
       "std                83.49  \n",
       "min               380.00  \n",
       "25%               537.50  \n",
       "50%               601.00  \n",
       "75%               657.50  \n",
       "max               838.00  "
      ]
     },
     "execution_count": 6,
     "metadata": {},
     "output_type": "execute_result"
    }
   ],
   "source": [
    "BankDetails.describe().round(2)"
   ]
  },
  {
   "cell_type": "code",
   "execution_count": 7,
   "id": "11d48871-af5c-4744-b2c4-132a5de2ecf1",
   "metadata": {},
   "outputs": [
    {
     "data": {
      "text/plain": [
       "0"
      ]
     },
     "execution_count": 7,
     "metadata": {},
     "output_type": "execute_result"
    }
   ],
   "source": [
    "BankDetails.duplicated().sum()"
   ]
  },
  {
   "cell_type": "code",
   "execution_count": 8,
   "id": "7746aba1-b7de-4718-a673-3d05a1873782",
   "metadata": {},
   "outputs": [],
   "source": [
    "# importing the StandardScaler Module\n",
    "from sklearn.preprocessing import StandardScaler"
   ]
  },
  {
   "cell_type": "code",
   "execution_count": 9,
   "id": "62254c03-c0ec-4d64-a1f8-58ec805f50d9",
   "metadata": {},
   "outputs": [],
   "source": [
    "# Creating an object for the StandardScaler function\n",
    "X = StandardScaler()"
   ]
  },
  {
   "cell_type": "code",
   "execution_count": 10,
   "id": "3307937c-3924-4cc2-9136-77707fe8da1c",
   "metadata": {},
   "outputs": [],
   "source": [
    "scaled_df = pd.DataFrame(X.fit_transform(BankDetails.iloc[:,1:6]),columns=BankDetails.columns[1:]).round(2)"
   ]
  },
  {
   "cell_type": "code",
   "execution_count": 11,
   "id": "788544d3-8a48-454f-aafa-38fc003868df",
   "metadata": {},
   "outputs": [
    {
     "data": {
      "text/html": [
       "<div>\n",
       "<style scoped>\n",
       "    .dataframe tbody tr th:only-of-type {\n",
       "        vertical-align: middle;\n",
       "    }\n",
       "\n",
       "    .dataframe tbody tr th {\n",
       "        vertical-align: top;\n",
       "    }\n",
       "\n",
       "    .dataframe thead th {\n",
       "        text-align: right;\n",
       "    }\n",
       "</style>\n",
       "<table border=\"1\" class=\"dataframe\">\n",
       "  <thead>\n",
       "    <tr style=\"text-align: right;\">\n",
       "      <th></th>\n",
       "      <th>DD</th>\n",
       "      <th>Withdrawals</th>\n",
       "      <th>Deposits</th>\n",
       "      <th>Branch Area in sqft</th>\n",
       "      <th>avg daily walkins</th>\n",
       "    </tr>\n",
       "  </thead>\n",
       "  <tbody>\n",
       "    <tr>\n",
       "      <th>0</th>\n",
       "      <td>-0.08</td>\n",
       "      <td>-0.06</td>\n",
       "      <td>1.03</td>\n",
       "      <td>-1.09</td>\n",
       "      <td>0.48</td>\n",
       "    </tr>\n",
       "    <tr>\n",
       "      <th>1</th>\n",
       "      <td>-1.64</td>\n",
       "      <td>-1.14</td>\n",
       "      <td>-0.58</td>\n",
       "      <td>1.32</td>\n",
       "      <td>-1.95</td>\n",
       "    </tr>\n",
       "    <tr>\n",
       "      <th>2</th>\n",
       "      <td>1.11</td>\n",
       "      <td>-0.03</td>\n",
       "      <td>-0.20</td>\n",
       "      <td>-0.84</td>\n",
       "      <td>0.84</td>\n",
       "    </tr>\n",
       "    <tr>\n",
       "      <th>3</th>\n",
       "      <td>0.28</td>\n",
       "      <td>-0.68</td>\n",
       "      <td>1.66</td>\n",
       "      <td>1.64</td>\n",
       "      <td>0.29</td>\n",
       "    </tr>\n",
       "    <tr>\n",
       "      <th>4</th>\n",
       "      <td>-0.87</td>\n",
       "      <td>-0.28</td>\n",
       "      <td>1.62</td>\n",
       "      <td>1.07</td>\n",
       "      <td>-0.24</td>\n",
       "    </tr>\n",
       "    <tr>\n",
       "      <th>...</th>\n",
       "      <td>...</td>\n",
       "      <td>...</td>\n",
       "      <td>...</td>\n",
       "      <td>...</td>\n",
       "      <td>...</td>\n",
       "    </tr>\n",
       "    <tr>\n",
       "      <th>510</th>\n",
       "      <td>1.57</td>\n",
       "      <td>-0.19</td>\n",
       "      <td>1.03</td>\n",
       "      <td>-0.67</td>\n",
       "      <td>1.14</td>\n",
       "    </tr>\n",
       "    <tr>\n",
       "      <th>511</th>\n",
       "      <td>-0.96</td>\n",
       "      <td>-0.35</td>\n",
       "      <td>-0.76</td>\n",
       "      <td>-0.67</td>\n",
       "      <td>-0.89</td>\n",
       "    </tr>\n",
       "    <tr>\n",
       "      <th>512</th>\n",
       "      <td>1.51</td>\n",
       "      <td>-1.14</td>\n",
       "      <td>0.92</td>\n",
       "      <td>-0.19</td>\n",
       "      <td>0.93</td>\n",
       "    </tr>\n",
       "    <tr>\n",
       "      <th>513</th>\n",
       "      <td>-0.60</td>\n",
       "      <td>0.45</td>\n",
       "      <td>-1.67</td>\n",
       "      <td>-0.40</td>\n",
       "      <td>-1.12</td>\n",
       "    </tr>\n",
       "    <tr>\n",
       "      <th>514</th>\n",
       "      <td>1.48</td>\n",
       "      <td>0.62</td>\n",
       "      <td>0.54</td>\n",
       "      <td>-0.54</td>\n",
       "      <td>2.02</td>\n",
       "    </tr>\n",
       "  </tbody>\n",
       "</table>\n",
       "<p>515 rows × 5 columns</p>\n",
       "</div>"
      ],
      "text/plain": [
       "       DD  Withdrawals  Deposits  Branch Area in sqft  avg daily walkins\n",
       "0   -0.08        -0.06      1.03                -1.09               0.48\n",
       "1   -1.64        -1.14     -0.58                 1.32              -1.95\n",
       "2    1.11        -0.03     -0.20                -0.84               0.84\n",
       "3    0.28        -0.68      1.66                 1.64               0.29\n",
       "4   -0.87        -0.28      1.62                 1.07              -0.24\n",
       "..    ...          ...       ...                  ...                ...\n",
       "510  1.57        -0.19      1.03                -0.67               1.14\n",
       "511 -0.96        -0.35     -0.76                -0.67              -0.89\n",
       "512  1.51        -1.14      0.92                -0.19               0.93\n",
       "513 -0.60         0.45     -1.67                -0.40              -1.12\n",
       "514  1.48         0.62      0.54                -0.54               2.02\n",
       "\n",
       "[515 rows x 5 columns]"
      ]
     },
     "execution_count": 11,
     "metadata": {},
     "output_type": "execute_result"
    }
   ],
   "source": [
    "scaled_df"
   ]
  },
  {
   "cell_type": "code",
   "execution_count": 12,
   "id": "b909e2d8-15f3-48ed-ab4f-a9e50739537c",
   "metadata": {},
   "outputs": [],
   "source": [
    "# Create K Means cluster and store the result in the object k_means\n",
    "k_means = KMeans(n_clusters = 2,random_state=1)"
   ]
  },
  {
   "cell_type": "code",
   "execution_count": 13,
   "id": "7f9e781e-bd9b-44ba-b3e6-57d853734d34",
   "metadata": {},
   "outputs": [
    {
     "data": {
      "text/html": [
       "<style>#sk-container-id-1 {\n",
       "  /* Definition of color scheme common for light and dark mode */\n",
       "  --sklearn-color-text: black;\n",
       "  --sklearn-color-line: gray;\n",
       "  /* Definition of color scheme for unfitted estimators */\n",
       "  --sklearn-color-unfitted-level-0: #fff5e6;\n",
       "  --sklearn-color-unfitted-level-1: #f6e4d2;\n",
       "  --sklearn-color-unfitted-level-2: #ffe0b3;\n",
       "  --sklearn-color-unfitted-level-3: chocolate;\n",
       "  /* Definition of color scheme for fitted estimators */\n",
       "  --sklearn-color-fitted-level-0: #f0f8ff;\n",
       "  --sklearn-color-fitted-level-1: #d4ebff;\n",
       "  --sklearn-color-fitted-level-2: #b3dbfd;\n",
       "  --sklearn-color-fitted-level-3: cornflowerblue;\n",
       "\n",
       "  /* Specific color for light theme */\n",
       "  --sklearn-color-text-on-default-background: var(--sg-text-color, var(--theme-code-foreground, var(--jp-content-font-color1, black)));\n",
       "  --sklearn-color-background: var(--sg-background-color, var(--theme-background, var(--jp-layout-color0, white)));\n",
       "  --sklearn-color-border-box: var(--sg-text-color, var(--theme-code-foreground, var(--jp-content-font-color1, black)));\n",
       "  --sklearn-color-icon: #696969;\n",
       "\n",
       "  @media (prefers-color-scheme: dark) {\n",
       "    /* Redefinition of color scheme for dark theme */\n",
       "    --sklearn-color-text-on-default-background: var(--sg-text-color, var(--theme-code-foreground, var(--jp-content-font-color1, white)));\n",
       "    --sklearn-color-background: var(--sg-background-color, var(--theme-background, var(--jp-layout-color0, #111)));\n",
       "    --sklearn-color-border-box: var(--sg-text-color, var(--theme-code-foreground, var(--jp-content-font-color1, white)));\n",
       "    --sklearn-color-icon: #878787;\n",
       "  }\n",
       "}\n",
       "\n",
       "#sk-container-id-1 {\n",
       "  color: var(--sklearn-color-text);\n",
       "}\n",
       "\n",
       "#sk-container-id-1 pre {\n",
       "  padding: 0;\n",
       "}\n",
       "\n",
       "#sk-container-id-1 input.sk-hidden--visually {\n",
       "  border: 0;\n",
       "  clip: rect(1px 1px 1px 1px);\n",
       "  clip: rect(1px, 1px, 1px, 1px);\n",
       "  height: 1px;\n",
       "  margin: -1px;\n",
       "  overflow: hidden;\n",
       "  padding: 0;\n",
       "  position: absolute;\n",
       "  width: 1px;\n",
       "}\n",
       "\n",
       "#sk-container-id-1 div.sk-dashed-wrapped {\n",
       "  border: 1px dashed var(--sklearn-color-line);\n",
       "  margin: 0 0.4em 0.5em 0.4em;\n",
       "  box-sizing: border-box;\n",
       "  padding-bottom: 0.4em;\n",
       "  background-color: var(--sklearn-color-background);\n",
       "}\n",
       "\n",
       "#sk-container-id-1 div.sk-container {\n",
       "  /* jupyter's `normalize.less` sets `[hidden] { display: none; }`\n",
       "     but bootstrap.min.css set `[hidden] { display: none !important; }`\n",
       "     so we also need the `!important` here to be able to override the\n",
       "     default hidden behavior on the sphinx rendered scikit-learn.org.\n",
       "     See: https://github.com/scikit-learn/scikit-learn/issues/21755 */\n",
       "  display: inline-block !important;\n",
       "  position: relative;\n",
       "}\n",
       "\n",
       "#sk-container-id-1 div.sk-text-repr-fallback {\n",
       "  display: none;\n",
       "}\n",
       "\n",
       "div.sk-parallel-item,\n",
       "div.sk-serial,\n",
       "div.sk-item {\n",
       "  /* draw centered vertical line to link estimators */\n",
       "  background-image: linear-gradient(var(--sklearn-color-text-on-default-background), var(--sklearn-color-text-on-default-background));\n",
       "  background-size: 2px 100%;\n",
       "  background-repeat: no-repeat;\n",
       "  background-position: center center;\n",
       "}\n",
       "\n",
       "/* Parallel-specific style estimator block */\n",
       "\n",
       "#sk-container-id-1 div.sk-parallel-item::after {\n",
       "  content: \"\";\n",
       "  width: 100%;\n",
       "  border-bottom: 2px solid var(--sklearn-color-text-on-default-background);\n",
       "  flex-grow: 1;\n",
       "}\n",
       "\n",
       "#sk-container-id-1 div.sk-parallel {\n",
       "  display: flex;\n",
       "  align-items: stretch;\n",
       "  justify-content: center;\n",
       "  background-color: var(--sklearn-color-background);\n",
       "  position: relative;\n",
       "}\n",
       "\n",
       "#sk-container-id-1 div.sk-parallel-item {\n",
       "  display: flex;\n",
       "  flex-direction: column;\n",
       "}\n",
       "\n",
       "#sk-container-id-1 div.sk-parallel-item:first-child::after {\n",
       "  align-self: flex-end;\n",
       "  width: 50%;\n",
       "}\n",
       "\n",
       "#sk-container-id-1 div.sk-parallel-item:last-child::after {\n",
       "  align-self: flex-start;\n",
       "  width: 50%;\n",
       "}\n",
       "\n",
       "#sk-container-id-1 div.sk-parallel-item:only-child::after {\n",
       "  width: 0;\n",
       "}\n",
       "\n",
       "/* Serial-specific style estimator block */\n",
       "\n",
       "#sk-container-id-1 div.sk-serial {\n",
       "  display: flex;\n",
       "  flex-direction: column;\n",
       "  align-items: center;\n",
       "  background-color: var(--sklearn-color-background);\n",
       "  padding-right: 1em;\n",
       "  padding-left: 1em;\n",
       "}\n",
       "\n",
       "\n",
       "/* Toggleable style: style used for estimator/Pipeline/ColumnTransformer box that is\n",
       "clickable and can be expanded/collapsed.\n",
       "- Pipeline and ColumnTransformer use this feature and define the default style\n",
       "- Estimators will overwrite some part of the style using the `sk-estimator` class\n",
       "*/\n",
       "\n",
       "/* Pipeline and ColumnTransformer style (default) */\n",
       "\n",
       "#sk-container-id-1 div.sk-toggleable {\n",
       "  /* Default theme specific background. It is overwritten whether we have a\n",
       "  specific estimator or a Pipeline/ColumnTransformer */\n",
       "  background-color: var(--sklearn-color-background);\n",
       "}\n",
       "\n",
       "/* Toggleable label */\n",
       "#sk-container-id-1 label.sk-toggleable__label {\n",
       "  cursor: pointer;\n",
       "  display: block;\n",
       "  width: 100%;\n",
       "  margin-bottom: 0;\n",
       "  padding: 0.5em;\n",
       "  box-sizing: border-box;\n",
       "  text-align: center;\n",
       "}\n",
       "\n",
       "#sk-container-id-1 label.sk-toggleable__label-arrow:before {\n",
       "  /* Arrow on the left of the label */\n",
       "  content: \"▸\";\n",
       "  float: left;\n",
       "  margin-right: 0.25em;\n",
       "  color: var(--sklearn-color-icon);\n",
       "}\n",
       "\n",
       "#sk-container-id-1 label.sk-toggleable__label-arrow:hover:before {\n",
       "  color: var(--sklearn-color-text);\n",
       "}\n",
       "\n",
       "/* Toggleable content - dropdown */\n",
       "\n",
       "#sk-container-id-1 div.sk-toggleable__content {\n",
       "  max-height: 0;\n",
       "  max-width: 0;\n",
       "  overflow: hidden;\n",
       "  text-align: left;\n",
       "  /* unfitted */\n",
       "  background-color: var(--sklearn-color-unfitted-level-0);\n",
       "}\n",
       "\n",
       "#sk-container-id-1 div.sk-toggleable__content.fitted {\n",
       "  /* fitted */\n",
       "  background-color: var(--sklearn-color-fitted-level-0);\n",
       "}\n",
       "\n",
       "#sk-container-id-1 div.sk-toggleable__content pre {\n",
       "  margin: 0.2em;\n",
       "  border-radius: 0.25em;\n",
       "  color: var(--sklearn-color-text);\n",
       "  /* unfitted */\n",
       "  background-color: var(--sklearn-color-unfitted-level-0);\n",
       "}\n",
       "\n",
       "#sk-container-id-1 div.sk-toggleable__content.fitted pre {\n",
       "  /* unfitted */\n",
       "  background-color: var(--sklearn-color-fitted-level-0);\n",
       "}\n",
       "\n",
       "#sk-container-id-1 input.sk-toggleable__control:checked~div.sk-toggleable__content {\n",
       "  /* Expand drop-down */\n",
       "  max-height: 200px;\n",
       "  max-width: 100%;\n",
       "  overflow: auto;\n",
       "}\n",
       "\n",
       "#sk-container-id-1 input.sk-toggleable__control:checked~label.sk-toggleable__label-arrow:before {\n",
       "  content: \"▾\";\n",
       "}\n",
       "\n",
       "/* Pipeline/ColumnTransformer-specific style */\n",
       "\n",
       "#sk-container-id-1 div.sk-label input.sk-toggleable__control:checked~label.sk-toggleable__label {\n",
       "  color: var(--sklearn-color-text);\n",
       "  background-color: var(--sklearn-color-unfitted-level-2);\n",
       "}\n",
       "\n",
       "#sk-container-id-1 div.sk-label.fitted input.sk-toggleable__control:checked~label.sk-toggleable__label {\n",
       "  background-color: var(--sklearn-color-fitted-level-2);\n",
       "}\n",
       "\n",
       "/* Estimator-specific style */\n",
       "\n",
       "/* Colorize estimator box */\n",
       "#sk-container-id-1 div.sk-estimator input.sk-toggleable__control:checked~label.sk-toggleable__label {\n",
       "  /* unfitted */\n",
       "  background-color: var(--sklearn-color-unfitted-level-2);\n",
       "}\n",
       "\n",
       "#sk-container-id-1 div.sk-estimator.fitted input.sk-toggleable__control:checked~label.sk-toggleable__label {\n",
       "  /* fitted */\n",
       "  background-color: var(--sklearn-color-fitted-level-2);\n",
       "}\n",
       "\n",
       "#sk-container-id-1 div.sk-label label.sk-toggleable__label,\n",
       "#sk-container-id-1 div.sk-label label {\n",
       "  /* The background is the default theme color */\n",
       "  color: var(--sklearn-color-text-on-default-background);\n",
       "}\n",
       "\n",
       "/* On hover, darken the color of the background */\n",
       "#sk-container-id-1 div.sk-label:hover label.sk-toggleable__label {\n",
       "  color: var(--sklearn-color-text);\n",
       "  background-color: var(--sklearn-color-unfitted-level-2);\n",
       "}\n",
       "\n",
       "/* Label box, darken color on hover, fitted */\n",
       "#sk-container-id-1 div.sk-label.fitted:hover label.sk-toggleable__label.fitted {\n",
       "  color: var(--sklearn-color-text);\n",
       "  background-color: var(--sklearn-color-fitted-level-2);\n",
       "}\n",
       "\n",
       "/* Estimator label */\n",
       "\n",
       "#sk-container-id-1 div.sk-label label {\n",
       "  font-family: monospace;\n",
       "  font-weight: bold;\n",
       "  display: inline-block;\n",
       "  line-height: 1.2em;\n",
       "}\n",
       "\n",
       "#sk-container-id-1 div.sk-label-container {\n",
       "  text-align: center;\n",
       "}\n",
       "\n",
       "/* Estimator-specific */\n",
       "#sk-container-id-1 div.sk-estimator {\n",
       "  font-family: monospace;\n",
       "  border: 1px dotted var(--sklearn-color-border-box);\n",
       "  border-radius: 0.25em;\n",
       "  box-sizing: border-box;\n",
       "  margin-bottom: 0.5em;\n",
       "  /* unfitted */\n",
       "  background-color: var(--sklearn-color-unfitted-level-0);\n",
       "}\n",
       "\n",
       "#sk-container-id-1 div.sk-estimator.fitted {\n",
       "  /* fitted */\n",
       "  background-color: var(--sklearn-color-fitted-level-0);\n",
       "}\n",
       "\n",
       "/* on hover */\n",
       "#sk-container-id-1 div.sk-estimator:hover {\n",
       "  /* unfitted */\n",
       "  background-color: var(--sklearn-color-unfitted-level-2);\n",
       "}\n",
       "\n",
       "#sk-container-id-1 div.sk-estimator.fitted:hover {\n",
       "  /* fitted */\n",
       "  background-color: var(--sklearn-color-fitted-level-2);\n",
       "}\n",
       "\n",
       "/* Specification for estimator info (e.g. \"i\" and \"?\") */\n",
       "\n",
       "/* Common style for \"i\" and \"?\" */\n",
       "\n",
       ".sk-estimator-doc-link,\n",
       "a:link.sk-estimator-doc-link,\n",
       "a:visited.sk-estimator-doc-link {\n",
       "  float: right;\n",
       "  font-size: smaller;\n",
       "  line-height: 1em;\n",
       "  font-family: monospace;\n",
       "  background-color: var(--sklearn-color-background);\n",
       "  border-radius: 1em;\n",
       "  height: 1em;\n",
       "  width: 1em;\n",
       "  text-decoration: none !important;\n",
       "  margin-left: 1ex;\n",
       "  /* unfitted */\n",
       "  border: var(--sklearn-color-unfitted-level-1) 1pt solid;\n",
       "  color: var(--sklearn-color-unfitted-level-1);\n",
       "}\n",
       "\n",
       ".sk-estimator-doc-link.fitted,\n",
       "a:link.sk-estimator-doc-link.fitted,\n",
       "a:visited.sk-estimator-doc-link.fitted {\n",
       "  /* fitted */\n",
       "  border: var(--sklearn-color-fitted-level-1) 1pt solid;\n",
       "  color: var(--sklearn-color-fitted-level-1);\n",
       "}\n",
       "\n",
       "/* On hover */\n",
       "div.sk-estimator:hover .sk-estimator-doc-link:hover,\n",
       ".sk-estimator-doc-link:hover,\n",
       "div.sk-label-container:hover .sk-estimator-doc-link:hover,\n",
       ".sk-estimator-doc-link:hover {\n",
       "  /* unfitted */\n",
       "  background-color: var(--sklearn-color-unfitted-level-3);\n",
       "  color: var(--sklearn-color-background);\n",
       "  text-decoration: none;\n",
       "}\n",
       "\n",
       "div.sk-estimator.fitted:hover .sk-estimator-doc-link.fitted:hover,\n",
       ".sk-estimator-doc-link.fitted:hover,\n",
       "div.sk-label-container:hover .sk-estimator-doc-link.fitted:hover,\n",
       ".sk-estimator-doc-link.fitted:hover {\n",
       "  /* fitted */\n",
       "  background-color: var(--sklearn-color-fitted-level-3);\n",
       "  color: var(--sklearn-color-background);\n",
       "  text-decoration: none;\n",
       "}\n",
       "\n",
       "/* Span, style for the box shown on hovering the info icon */\n",
       ".sk-estimator-doc-link span {\n",
       "  display: none;\n",
       "  z-index: 9999;\n",
       "  position: relative;\n",
       "  font-weight: normal;\n",
       "  right: .2ex;\n",
       "  padding: .5ex;\n",
       "  margin: .5ex;\n",
       "  width: min-content;\n",
       "  min-width: 20ex;\n",
       "  max-width: 50ex;\n",
       "  color: var(--sklearn-color-text);\n",
       "  box-shadow: 2pt 2pt 4pt #999;\n",
       "  /* unfitted */\n",
       "  background: var(--sklearn-color-unfitted-level-0);\n",
       "  border: .5pt solid var(--sklearn-color-unfitted-level-3);\n",
       "}\n",
       "\n",
       ".sk-estimator-doc-link.fitted span {\n",
       "  /* fitted */\n",
       "  background: var(--sklearn-color-fitted-level-0);\n",
       "  border: var(--sklearn-color-fitted-level-3);\n",
       "}\n",
       "\n",
       ".sk-estimator-doc-link:hover span {\n",
       "  display: block;\n",
       "}\n",
       "\n",
       "/* \"?\"-specific style due to the `<a>` HTML tag */\n",
       "\n",
       "#sk-container-id-1 a.estimator_doc_link {\n",
       "  float: right;\n",
       "  font-size: 1rem;\n",
       "  line-height: 1em;\n",
       "  font-family: monospace;\n",
       "  background-color: var(--sklearn-color-background);\n",
       "  border-radius: 1rem;\n",
       "  height: 1rem;\n",
       "  width: 1rem;\n",
       "  text-decoration: none;\n",
       "  /* unfitted */\n",
       "  color: var(--sklearn-color-unfitted-level-1);\n",
       "  border: var(--sklearn-color-unfitted-level-1) 1pt solid;\n",
       "}\n",
       "\n",
       "#sk-container-id-1 a.estimator_doc_link.fitted {\n",
       "  /* fitted */\n",
       "  border: var(--sklearn-color-fitted-level-1) 1pt solid;\n",
       "  color: var(--sklearn-color-fitted-level-1);\n",
       "}\n",
       "\n",
       "/* On hover */\n",
       "#sk-container-id-1 a.estimator_doc_link:hover {\n",
       "  /* unfitted */\n",
       "  background-color: var(--sklearn-color-unfitted-level-3);\n",
       "  color: var(--sklearn-color-background);\n",
       "  text-decoration: none;\n",
       "}\n",
       "\n",
       "#sk-container-id-1 a.estimator_doc_link.fitted:hover {\n",
       "  /* fitted */\n",
       "  background-color: var(--sklearn-color-fitted-level-3);\n",
       "}\n",
       "</style><div id=\"sk-container-id-1\" class=\"sk-top-container\"><div class=\"sk-text-repr-fallback\"><pre>KMeans(n_clusters=2, random_state=1)</pre><b>In a Jupyter environment, please rerun this cell to show the HTML representation or trust the notebook. <br />On GitHub, the HTML representation is unable to render, please try loading this page with nbviewer.org.</b></div><div class=\"sk-container\" hidden><div class=\"sk-item\"><div class=\"sk-estimator fitted sk-toggleable\"><input class=\"sk-toggleable__control sk-hidden--visually\" id=\"sk-estimator-id-1\" type=\"checkbox\" checked><label for=\"sk-estimator-id-1\" class=\"sk-toggleable__label fitted sk-toggleable__label-arrow fitted\">&nbsp;&nbsp;KMeans<a class=\"sk-estimator-doc-link fitted\" rel=\"noreferrer\" target=\"_blank\" href=\"https://scikit-learn.org/1.5/modules/generated/sklearn.cluster.KMeans.html\">?<span>Documentation for KMeans</span></a><span class=\"sk-estimator-doc-link fitted\">i<span>Fitted</span></span></label><div class=\"sk-toggleable__content fitted\"><pre>KMeans(n_clusters=2, random_state=1)</pre></div> </div></div></div></div>"
      ],
      "text/plain": [
       "KMeans(n_clusters=2, random_state=1)"
      ]
     },
     "execution_count": 13,
     "metadata": {},
     "output_type": "execute_result"
    }
   ],
   "source": [
    "# Fit K means on the scaled_df\n",
    "k_means.fit(scaled_df)"
   ]
  },
  {
   "cell_type": "code",
   "execution_count": 14,
   "id": "86c05747-8138-4853-9368-28f994776245",
   "metadata": {},
   "outputs": [
    {
     "data": {
      "text/plain": [
       "array([1, 0, 1, 0, 0, 1, 0, 1, 1, 1, 1, 1, 1, 0, 1, 1, 0, 0, 0, 0, 0, 0,\n",
       "       1, 1, 0, 0, 0, 0, 0, 1, 1, 1, 0, 0, 0, 1, 0, 1, 1, 0, 0, 1, 1, 1,\n",
       "       1, 1, 1, 1, 1, 1, 0, 1, 1, 1, 0, 1, 0, 1, 1, 0, 0, 1, 1, 1, 0, 0,\n",
       "       0, 0, 0, 1, 0, 1, 0, 0, 1, 0, 1, 0, 0, 1, 1, 0, 0, 0, 1, 1, 1, 0,\n",
       "       0, 1, 1, 1, 1, 0, 1, 0, 0, 1, 0, 1, 1, 0, 1, 1, 1, 1, 1, 1, 1, 1,\n",
       "       1, 0, 1, 0, 0, 0, 0, 1, 1, 1, 1, 0, 1, 1, 0, 0, 1, 0, 0, 1, 0, 1,\n",
       "       0, 1, 1, 0, 0, 0, 1, 1, 1, 1, 0, 1, 1, 0, 1, 0, 1, 1, 0, 1, 1, 1,\n",
       "       1, 0, 1, 0, 1, 0, 1, 1, 1, 1, 1, 0, 0, 0, 1, 0, 0, 0, 1, 1, 0, 1,\n",
       "       0, 1, 1, 0, 0, 0, 0, 0, 1, 0, 1, 0, 0, 0, 0, 0, 0, 0, 1, 0, 0, 0,\n",
       "       1, 1, 0, 1, 0, 0, 1, 0, 0, 1, 1, 1, 0, 0, 0, 0, 0, 1, 1, 0, 0, 1,\n",
       "       1, 0, 0, 1, 1, 0, 1, 1, 1, 1, 1, 1, 1, 1, 0, 1, 0, 0, 1, 1, 1, 1,\n",
       "       1, 1, 1, 1, 1, 0, 1, 0, 0, 1, 0, 1, 0, 0, 0, 0, 1, 1, 1, 0, 0, 0,\n",
       "       1, 1, 0, 0, 1, 1, 1, 0, 1, 1, 1, 1, 0, 1, 1, 1, 1, 1, 1, 1, 1, 1,\n",
       "       1, 1, 1, 0, 1, 1, 0, 0, 0, 0, 1, 0, 1, 1, 1, 0, 1, 0, 1, 1, 1, 0,\n",
       "       0, 0, 1, 1, 0, 0, 1, 0, 0, 1, 1, 1, 1, 0, 0, 1, 1, 1, 1, 0, 0, 0,\n",
       "       1, 1, 1, 1, 1, 1, 1, 1, 0, 0, 0, 0, 1, 0, 0, 1, 0, 1, 0, 0, 0, 0,\n",
       "       0, 1, 0, 0, 0, 1, 0, 1, 1, 0, 1, 0, 1, 1, 1, 1, 0, 0, 0, 1, 0, 0,\n",
       "       0, 1, 0, 1, 1, 1, 0, 1, 1, 0, 1, 0, 0, 0, 1, 1, 0, 0, 0, 0, 1, 0,\n",
       "       0, 1, 1, 0, 0, 0, 1, 0, 0, 1, 0, 0, 0, 0, 1, 1, 1, 0, 0, 0, 1, 0,\n",
       "       1, 0, 1, 1, 1, 1, 0, 1, 1, 1, 0, 1, 0, 0, 1, 0, 0, 1, 0, 0, 0, 1,\n",
       "       0, 0, 0, 0, 1, 0, 1, 0, 0, 0, 1, 0, 0, 0, 0, 1, 0, 1, 1, 1, 0, 0,\n",
       "       1, 1, 1, 0, 1, 1, 0, 0, 1, 0, 1, 0, 0, 0, 0, 0, 0, 0, 0, 1, 1, 1,\n",
       "       1, 1, 0, 1, 0, 1, 0, 1, 0, 0, 0, 0, 1, 1, 0, 0, 0, 1, 0, 1, 1, 0,\n",
       "       0, 1, 1, 0, 1, 0, 1, 0, 1])"
      ]
     },
     "execution_count": 14,
     "metadata": {},
     "output_type": "execute_result"
    }
   ],
   "source": [
    "# Get the labels\n",
    "k_means.labels_"
   ]
  },
  {
   "cell_type": "code",
   "execution_count": 15,
   "id": "1da3fb63-cf7f-4af7-9e0c-77a4ab2710df",
   "metadata": {},
   "outputs": [
    {
     "data": {
      "text/plain": [
       "1944.34"
      ]
     },
     "execution_count": 15,
     "metadata": {},
     "output_type": "execute_result"
    }
   ],
   "source": [
    "round(k_means.inertia_,2)"
   ]
  },
  {
   "cell_type": "code",
   "execution_count": 16,
   "id": "0ce26504-bccd-4242-810f-9a4d8d696df7",
   "metadata": {},
   "outputs": [
    {
     "data": {
      "text/plain": [
       "2575.15"
      ]
     },
     "execution_count": 16,
     "metadata": {},
     "output_type": "execute_result"
    }
   ],
   "source": [
    "k_means = KMeans(n_clusters = 1,random_state=1)\n",
    "k_means.fit(scaled_df)\n",
    "round(k_means.inertia_,2)"
   ]
  },
  {
   "cell_type": "code",
   "execution_count": 17,
   "id": "f40214a4-cfd3-4001-951f-b7046ad02db8",
   "metadata": {},
   "outputs": [
    {
     "data": {
      "text/plain": [
       "1643.66"
      ]
     },
     "execution_count": 17,
     "metadata": {},
     "output_type": "execute_result"
    }
   ],
   "source": [
    "k_means = KMeans(n_clusters = 3,random_state=1)\n",
    "k_means.fit(scaled_df)\n",
    "round(k_means.inertia_,2)"
   ]
  },
  {
   "cell_type": "code",
   "execution_count": 18,
   "id": "ada25081-7295-41d8-93f1-8ce15430440a",
   "metadata": {},
   "outputs": [
    {
     "data": {
      "text/plain": [
       "1380.5"
      ]
     },
     "execution_count": 18,
     "metadata": {},
     "output_type": "execute_result"
    }
   ],
   "source": [
    "k_means = KMeans(n_clusters = 4,random_state=1)\n",
    "k_means.fit(scaled_df)\n",
    "round(k_means.inertia_,2)"
   ]
  },
  {
   "cell_type": "code",
   "execution_count": 19,
   "id": "93f6e46d-1e51-4f30-8df5-57601266cfba",
   "metadata": {},
   "outputs": [
    {
     "data": {
      "text/plain": [
       "1235.52"
      ]
     },
     "execution_count": 19,
     "metadata": {},
     "output_type": "execute_result"
    }
   ],
   "source": [
    "k_means = KMeans(n_clusters = 5,random_state=1)\n",
    "k_means.fit(scaled_df)\n",
    "round(k_means.inertia_,2)"
   ]
  },
  {
   "cell_type": "code",
   "execution_count": 20,
   "id": "44e41245-b437-4450-af76-2af2b350a6e5",
   "metadata": {},
   "outputs": [
    {
     "data": {
      "text/plain": [
       "1144.74"
      ]
     },
     "execution_count": 20,
     "metadata": {},
     "output_type": "execute_result"
    }
   ],
   "source": [
    "k_means = KMeans(n_clusters = 6,random_state=1)\n",
    "k_means.fit(scaled_df)\n",
    "round(k_means.inertia_,2)"
   ]
  },
  {
   "cell_type": "code",
   "execution_count": 21,
   "id": "3bc38756-a555-47f4-b3b0-d61ff1062285",
   "metadata": {},
   "outputs": [],
   "source": [
    "wss =[] "
   ]
  },
  {
   "cell_type": "code",
   "execution_count": 22,
   "id": "e36348e4-1464-427b-acc8-a1446969f204",
   "metadata": {},
   "outputs": [],
   "source": [
    "for i in range(1,11):\n",
    "    KM = KMeans(n_clusters=i,random_state=1)\n",
    "    KM.fit(scaled_df)\n",
    "    wss.append(round(KM.inertia_,2))"
   ]
  },
  {
   "cell_type": "code",
   "execution_count": 23,
   "id": "e0901b11-4f32-4bde-ad8f-6a7e1e1cdc07",
   "metadata": {},
   "outputs": [
    {
     "data": {
      "text/plain": [
       "[2575.15,\n",
       " 1944.34,\n",
       " 1643.66,\n",
       " 1380.5,\n",
       " 1235.52,\n",
       " 1144.74,\n",
       " 1049.7,\n",
       " 955.82,\n",
       " 893.73,\n",
       " 849.47]"
      ]
     },
     "execution_count": 23,
     "metadata": {},
     "output_type": "execute_result"
    }
   ],
   "source": [
    "wss"
   ]
  },
  {
   "cell_type": "code",
   "execution_count": 24,
   "id": "a85bcc7b-dfd6-4d02-ab21-e6fecde541da",
   "metadata": {},
   "outputs": [],
   "source": [
    "a=[1,2,3,4,5,6,7,8,9,10]"
   ]
  },
  {
   "cell_type": "code",
   "execution_count": 26,
   "id": "bdd19bf8-b028-44b4-8c45-f3420a00c3a4",
   "metadata": {},
   "outputs": [
    {
     "data": {
      "image/png": "[encoded data removed]",
      "text/plain": [
       "<Figure size 800x600 with 1 Axes>"
      ]
     },
     "metadata": {},
     "output_type": "display_data"
    }
   ],
   "source": [
    "import seaborn as sns\n",
    "import matplotlib.pyplot as plt\n",
    "import pandas as pd\n",
    "\n",
    "# Prepare the data\n",
    "a = list(range(1, 11))  # Number of clusters\n",
    "wss = [4000, 3500, 3000, 2700, 2400, 2200, 2000, 1800, 1700, 1600]  # WCSS values\n",
    "\n",
    "# Create a DataFrame\n",
    "df = pd.DataFrame({'Number of Clusters': a, 'WCSS': wss})\n",
    "\n",
    "# Plot the data\n",
    "plt.figure(figsize=(8, 6))\n",
    "sns.pointplot(x='Number of Clusters', y='WCSS', data=df, markers='o', linestyles='-')\n",
    "plt.title('Elbow Method for Optimal Number of Clusters')\n",
    "plt.xlabel('Number of Clusters')\n",
    "plt.ylabel('WCSS')\n",
    "plt.grid(True)\n",
    "plt.show()"
   ]
  },
  {
   "cell_type": "code",
   "execution_count": 27,
   "id": "df14d20e-6dde-4433-ba44-5334e7389c32",
   "metadata": {},
   "outputs": [
    {
     "data": {
      "text/plain": [
       "[<matplotlib.lines.Line2D at 0x1ed5e4b3140>]"
      ]
     },
     "execution_count": 27,
     "metadata": {},
     "output_type": "execute_result"
    },
    {
     "data": {
      "image/png": "[encoded data removed]",
      "text/plain": [
       "<Figure size 640x480 with 1 Axes>"
      ]
     },
     "metadata": {},
     "output_type": "display_data"
    }
   ],
   "source": [
    "plt.plot(range(1,11), wss)"
   ]
  },
  {
   "cell_type": "code",
   "execution_count": 28,
   "id": "3ee24a51-41c6-4a19-a12d-b9a017bd41a5",
   "metadata": {},
   "outputs": [],
   "source": [
    "k_means = KMeans(n_clusters = 3,random_state=1)\n",
    "k_means.fit(scaled_df)\n",
    "labels = k_means.labels_"
   ]
  },
  {
   "cell_type": "code",
   "execution_count": 29,
   "id": "7c84d20e-55fc-4d04-937c-0191c0edad72",
   "metadata": {},
   "outputs": [],
   "source": [
    "from sklearn.metrics import silhouette_samples, silhouette_score"
   ]
  },
  {
   "cell_type": "code",
   "execution_count": 30,
   "id": "ae36529e-f3c9-4707-bab0-e109d44d269c",
   "metadata": {},
   "outputs": [
    {
     "data": {
      "text/plain": [
       "0.20502996945673266"
      ]
     },
     "execution_count": 30,
     "metadata": {},
     "output_type": "execute_result"
    }
   ],
   "source": [
    "# Calculating silhouette_score\n",
    "silhouette_score(scaled_df,labels,random_state=1)"
   ]
  },
  {
   "cell_type": "code",
   "execution_count": 31,
   "id": "19558a0b-3b5b-49ee-9acf-5b5e1eed1931",
   "metadata": {},
   "outputs": [],
   "source": [
    "k_means = KMeans(n_clusters = 4,random_state=1)\n",
    "k_means.fit(scaled_df)\n",
    "labels = k_means.labels_"
   ]
  },
  {
   "cell_type": "code",
   "execution_count": 32,
   "id": "eb9ad46a-ecef-400d-8ca8-23c550eacfbf",
   "metadata": {},
   "outputs": [],
   "source": [
    "#from sklearn.metrics import silhouette_samples, silhouette_score"
   ]
  },
  {
   "cell_type": "code",
   "execution_count": 33,
   "id": "ec2aab12-f820-4d85-a671-323c7b793120",
   "metadata": {},
   "outputs": [
    {
     "data": {
      "text/plain": [
       "0.2225976544595981"
      ]
     },
     "execution_count": 33,
     "metadata": {},
     "output_type": "execute_result"
    }
   ],
   "source": [
    "silhouette_score(scaled_df,labels,random_state=1)"
   ]
  },
  {
   "cell_type": "code",
   "execution_count": 34,
   "id": "35642fa0-9766-4e45-ae00-c9bdd0a74dbf",
   "metadata": {},
   "outputs": [],
   "source": [
    "k_means = KMeans(n_clusters = 5,random_state=1)\n",
    "k_means.fit(scaled_df)\n",
    "labels = k_means.labels_"
   ]
  },
  {
   "cell_type": "code",
   "execution_count": 35,
   "id": "1ed28d22-e443-4f02-89d6-4c33d3c21ffa",
   "metadata": {},
   "outputs": [],
   "source": [
    "#from sklearn.metrics import silhouette_samples, silhouette_score"
   ]
  },
  {
   "cell_type": "code",
   "execution_count": 36,
   "id": "ad538fb8-fc0e-483e-89bd-96fdf2437c97",
   "metadata": {},
   "outputs": [
    {
     "data": {
      "text/plain": [
       "0.21923089994716974"
      ]
     },
     "execution_count": 36,
     "metadata": {},
     "output_type": "execute_result"
    }
   ],
   "source": [
    "silhouette_score(scaled_df,labels,random_state=1)"
   ]
  },
  {
   "cell_type": "code",
   "execution_count": 37,
   "id": "e6f91f06-95f7-41f8-82c5-a6cb73ae256a",
   "metadata": {},
   "outputs": [],
   "source": [
    "k_means = KMeans(n_clusters = 5,random_state=1)\n",
    "k_means.fit(scaled_df)\n",
    "labels = k_means.labels_"
   ]
  },
  {
   "cell_type": "code",
   "execution_count": 38,
   "id": "47baa14c-4c82-4928-b038-58995b73913d",
   "metadata": {},
   "outputs": [],
   "source": [
    "#from sklearn.metrics import silhouette_samples, silhouette_score"
   ]
  },
  {
   "cell_type": "code",
   "execution_count": 39,
   "id": "5e8f1f42-175e-403a-8a2d-51814d1fae60",
   "metadata": {},
   "outputs": [
    {
     "data": {
      "text/plain": [
       "0.21923089994716974"
      ]
     },
     "execution_count": 39,
     "metadata": {},
     "output_type": "execute_result"
    }
   ],
   "source": [
    "silhouette_score(scaled_df,labels,random_state=1)"
   ]
  },
  {
   "cell_type": "code",
   "execution_count": 41,
   "id": "729340ac-0ea2-47e3-b60c-8fa8cde5d123",
   "metadata": {},
   "outputs": [
    {
     "data": {
      "text/html": [
       "<div>\n",
       "<style scoped>\n",
       "    .dataframe tbody tr th:only-of-type {\n",
       "        vertical-align: middle;\n",
       "    }\n",
       "\n",
       "    .dataframe tbody tr th {\n",
       "        vertical-align: top;\n",
       "    }\n",
       "\n",
       "    .dataframe thead th {\n",
       "        text-align: right;\n",
       "    }\n",
       "</style>\n",
       "<table border=\"1\" class=\"dataframe\">\n",
       "  <thead>\n",
       "    <tr style=\"text-align: right;\">\n",
       "      <th></th>\n",
       "      <th>Bank</th>\n",
       "      <th>DD</th>\n",
       "      <th>Withdrawals</th>\n",
       "      <th>Deposits</th>\n",
       "      <th>Branch Area in sqft</th>\n",
       "      <th>avg daily walkins</th>\n",
       "      <th>Clus_kmeans5</th>\n",
       "    </tr>\n",
       "  </thead>\n",
       "  <tbody>\n",
       "    <tr>\n",
       "      <th>0</th>\n",
       "      <td>1</td>\n",
       "      <td>227</td>\n",
       "      <td>147</td>\n",
       "      <td>111</td>\n",
       "      <td>2460</td>\n",
       "      <td>639</td>\n",
       "      <td>1</td>\n",
       "    </tr>\n",
       "    <tr>\n",
       "      <th>1</th>\n",
       "      <td>2</td>\n",
       "      <td>123</td>\n",
       "      <td>86</td>\n",
       "      <td>65</td>\n",
       "      <td>3510</td>\n",
       "      <td>436</td>\n",
       "      <td>0</td>\n",
       "    </tr>\n",
       "    <tr>\n",
       "      <th>2</th>\n",
       "      <td>3</td>\n",
       "      <td>306</td>\n",
       "      <td>149</td>\n",
       "      <td>76</td>\n",
       "      <td>2570</td>\n",
       "      <td>669</td>\n",
       "      <td>1</td>\n",
       "    </tr>\n",
       "    <tr>\n",
       "      <th>3</th>\n",
       "      <td>4</td>\n",
       "      <td>251</td>\n",
       "      <td>112</td>\n",
       "      <td>129</td>\n",
       "      <td>3650</td>\n",
       "      <td>623</td>\n",
       "      <td>0</td>\n",
       "    </tr>\n",
       "    <tr>\n",
       "      <th>4</th>\n",
       "      <td>5</td>\n",
       "      <td>174</td>\n",
       "      <td>135</td>\n",
       "      <td>128</td>\n",
       "      <td>3400</td>\n",
       "      <td>579</td>\n",
       "      <td>0</td>\n",
       "    </tr>\n",
       "  </tbody>\n",
       "</table>\n",
       "</div>"
      ],
      "text/plain": [
       "   Bank   DD  Withdrawals  Deposits  Branch Area in sqft  avg daily walkins  \\\n",
       "0     1  227          147       111                 2460                639   \n",
       "1     2  123           86        65                 3510                436   \n",
       "2     3  306          149        76                 2570                669   \n",
       "3     4  251          112       129                 3650                623   \n",
       "4     5  174          135       128                 3400                579   \n",
       "\n",
       "   Clus_kmeans5  \n",
       "0             1  \n",
       "1             0  \n",
       "2             1  \n",
       "3             0  \n",
       "4             0  "
      ]
     },
     "execution_count": 41,
     "metadata": {},
     "output_type": "execute_result"
    }
   ],
   "source": [
    "BankDetails[\"Clus_kmeans5\"] = labels\n",
    "BankDetails.head()"
   ]
  },
  {
   "cell_type": "code",
   "execution_count": 42,
   "id": "c0d9dc0a-9da5-4642-98cd-c5edd70c3642",
   "metadata": {},
   "outputs": [
    {
     "name": "stdout",
     "output_type": "stream",
     "text": [
      "For n_clusters=2, the silhouette score is 0.21930128029106596\n",
      "For n_clusters=3, the silhouette score is 0.20414461554929833\n",
      "For n_clusters=4, the silhouette score is 0.22721004589141555\n",
      "For n_clusters=5, the silhouette score is 0.21121656067931116\n",
      "For n_clusters=6, the silhouette score is 0.20582275513526652\n",
      "For n_clusters=7, the silhouette score is 0.1850923794477244\n",
      "For n_clusters=8, the silhouette score is 0.20416015934387413\n",
      "For n_clusters=9, the silhouette score is 0.21607358530621823\n",
      "For n_clusters=10, the silhouette score is 0.2022954973480096\n"
     ]
    }
   ],
   "source": [
    "# Silhouette Analysis\n",
    "from sklearn.metrics import silhouette_score\n",
    "range_n_clusters=[2,3,4,5,6,7,8,9,10]\n",
    "for num_clusters in range_n_clusters:\n",
    "    \n",
    "    # initialize K means\n",
    "    kmeans=KMeans(n_clusters=num_clusters, max_iter=50)\n",
    "    kmeans.fit(scaled_df)\n",
    "    cluster_labels=kmeans.labels_\n",
    "    #Silhouette Score\n",
    "    silhouette_avg = silhouette_score(scaled_df,cluster_labels)\n",
    "    print(\"For n_clusters={0}, the silhouette score is {1}\".format(num_clusters, silhouette_avg))"
   ]
  },
  {
   "cell_type": "code",
   "execution_count": 43,
   "id": "44b62ae3-2541-4a70-bed6-0eaa396ab44c",
   "metadata": {},
   "outputs": [
    {
     "data": {
      "text/plain": [
       "Clus_kmeans5\n",
       "0     90\n",
       "1    113\n",
       "2     91\n",
       "3     92\n",
       "4    129\n",
       "Name: count, dtype: int64"
      ]
     },
     "execution_count": 43,
     "metadata": {},
     "output_type": "execute_result"
    }
   ],
   "source": [
    "BankDetails.Clus_kmeans5.value_counts().sort_index()"
   ]
  },
  {
   "cell_type": "code",
   "execution_count": 46,
   "id": "b1fcd936-041e-42ce-8701-67185f52e2fe",
   "metadata": {},
   "outputs": [
    {
     "data": {
      "text/html": [
       "<div>\n",
       "<style scoped>\n",
       "    .dataframe tbody tr th:only-of-type {\n",
       "        vertical-align: middle;\n",
       "    }\n",
       "\n",
       "    .dataframe tbody tr th {\n",
       "        vertical-align: top;\n",
       "    }\n",
       "\n",
       "    .dataframe thead th {\n",
       "        text-align: right;\n",
       "    }\n",
       "</style>\n",
       "<table border=\"1\" class=\"dataframe\">\n",
       "  <thead>\n",
       "    <tr style=\"text-align: right;\">\n",
       "      <th></th>\n",
       "      <th>Bank</th>\n",
       "      <th>DD</th>\n",
       "      <th>Withdrawals</th>\n",
       "      <th>Deposits</th>\n",
       "      <th>Branch Area in sqft</th>\n",
       "      <th>avg daily walkins</th>\n",
       "      <th>freq</th>\n",
       "    </tr>\n",
       "    <tr>\n",
       "      <th>Clus_kmeans5</th>\n",
       "      <th></th>\n",
       "      <th></th>\n",
       "      <th></th>\n",
       "      <th></th>\n",
       "      <th></th>\n",
       "      <th></th>\n",
       "      <th></th>\n",
       "    </tr>\n",
       "  </thead>\n",
       "  <tbody>\n",
       "    <tr>\n",
       "      <th>0</th>\n",
       "      <td>254.833333</td>\n",
       "      <td>183.633333</td>\n",
       "      <td>86.744444</td>\n",
       "      <td>102.711111</td>\n",
       "      <td>3073.388889</td>\n",
       "      <td>509.211111</td>\n",
       "      <td>90</td>\n",
       "    </tr>\n",
       "    <tr>\n",
       "      <th>1</th>\n",
       "      <td>267.929204</td>\n",
       "      <td>285.194690</td>\n",
       "      <td>194.734513</td>\n",
       "      <td>86.389381</td>\n",
       "      <td>2548.761062</td>\n",
       "      <td>699.283186</td>\n",
       "      <td>113</td>\n",
       "    </tr>\n",
       "    <tr>\n",
       "      <th>2</th>\n",
       "      <td>278.516484</td>\n",
       "      <td>170.505495</td>\n",
       "      <td>168.879121</td>\n",
       "      <td>53.098901</td>\n",
       "      <td>2970.659341</td>\n",
       "      <td>525.527473</td>\n",
       "      <td>91</td>\n",
       "    </tr>\n",
       "    <tr>\n",
       "      <th>3</th>\n",
       "      <td>209.576087</td>\n",
       "      <td>187.336957</td>\n",
       "      <td>197.608696</td>\n",
       "      <td>99.521739</td>\n",
       "      <td>2993.043478</td>\n",
       "      <td>621.076087</td>\n",
       "      <td>92</td>\n",
       "    </tr>\n",
       "    <tr>\n",
       "      <th>4</th>\n",
       "      <td>271.573643</td>\n",
       "      <td>295.387597</td>\n",
       "      <td>110.441860</td>\n",
       "      <td>70.348837</td>\n",
       "      <td>3108.914729</td>\n",
       "      <td>608.302326</td>\n",
       "      <td>129</td>\n",
       "    </tr>\n",
       "  </tbody>\n",
       "</table>\n",
       "</div>"
      ],
      "text/plain": [
       "                    Bank          DD  Withdrawals    Deposits  \\\n",
       "Clus_kmeans5                                                    \n",
       "0             254.833333  183.633333    86.744444  102.711111   \n",
       "1             267.929204  285.194690   194.734513   86.389381   \n",
       "2             278.516484  170.505495   168.879121   53.098901   \n",
       "3             209.576087  187.336957   197.608696   99.521739   \n",
       "4             271.573643  295.387597   110.441860   70.348837   \n",
       "\n",
       "              Branch Area in sqft  avg daily walkins  freq  \n",
       "Clus_kmeans5                                                \n",
       "0                     3073.388889         509.211111    90  \n",
       "1                     2548.761062         699.283186   113  \n",
       "2                     2970.659341         525.527473    91  \n",
       "3                     2993.043478         621.076087    92  \n",
       "4                     3108.914729         608.302326   129  "
      ]
     },
     "execution_count": 46,
     "metadata": {},
     "output_type": "execute_result"
    }
   ],
   "source": [
    "clust_profile=BankDetails.drop(['Bank'],axis=1)\n",
    "clust_profile=BankDetails.groupby('Clus_kmeans5').mean()\n",
    "clust_profile['freq']=BankDetails.Clus_kmeans5.value_counts().sort_index()\n",
    "clust_profile"
   ]
  },
  {
   "cell_type": "markdown",
   "id": "89488e35-23a1-4697-b34e-fe8e01172f05",
   "metadata": {},
   "source": [
    "Cluster 0: Large size bank with average withdrawal and deposit but highest DD\n",
    "Cluster 1: Small size bank with highest walkins and withdrawals, average deposits and DD\n",
    "Cluster 2: Medium size bank with less deposit, average DD and walkins, high Withdrawals\n",
    "Cluster 3: Medium size bank with less number of walkins and withdrawals, average deposits and DD\n",
    "Cluster 4: Medium size bank with highest walkins and deposits, average DD and withdrawals\n",
    "13. Some Recommendations\n",
    "The banks in Cluster 0 has high DD , but average Deposit. So it needs to improve in making the customers Deposit more. Relatively large number of customers are visiting these banks. So, can promote various deposit schemes to these customers.\n",
    "\n",
    "Customers in Cluster 0 seems to prefer payment through DD as these banks record the highest DD rate. Banks can check if DD is being made to other banks or to the same bank, and can look to create DD schemes for their own bank, so that customers will open their account with these banks and use the DD payment scheme.\n",
    "\n",
    "Customers preferring DD payment can go to banks either in Cluster 0 (if they need large space which can manage large crowd probably with more infrastructure facilities), or Cluster 1 (if they want small space where probably quick transaction can happen due to less crowd holding capacity)\n",
    "\n",
    "Size of the bank doesn't matter in accomodating large group of customers inside the bank, as Cluster 1 though having the least Branch Area, has the highest daily walk ins. So, banks don't need to invest more in occupying large land space. This could mean Customers are visiting throughout the day rather than a large group of customers visiting during a period.\n",
    "\n",
    "Cluster 0 has large area and the proportion of withdrawals and deposits is almost equal. Most of these customers could be having a savings account since the withdrawals as well as DD are less when compared to other clusters. Customers visiting these banks are also lesser than other clusters. These banks can look bringing in more customers and increase the bank deposit by introducing various deposit schemes.\n",
    "\n",
    "Deposit is again less, while the withdrawals are much higher for Cluster 1. These banks can also look to introducing new deposit schemes.\n",
    "\n",
    "Banks in cluster 1, 2 and 3, needs to focus on their infrastructure and banking facilities, since the area is lesser than cluster 0 and 4 , whereas daily walkins is the highest. These banks can also look for opportunities to cross-sell products to the customers."
   ]
  },
  {
   "cell_type": "code",
   "execution_count": 47,
   "id": "2967c674-ee6e-42b0-aecc-b662b7dc6c9d",
   "metadata": {},
   "outputs": [
    {
     "name": "stdout",
     "output_type": "stream",
     "text": [
      "   Bank   DD  Withdrawals  Deposits  Branch Area in sqft  avg daily walkins\n",
      "0     1  227          147       111                 2460                639\n",
      "1     2  123           86        65                 3510                436\n",
      "2     3  306          149        76                 2570                669\n",
      "3     4  251          112       129                 3650                623\n",
      "4     5  174          135       128                 3400                579\n"
     ]
    }
   ],
   "source": [
    "import pandas as pd\n",
    "\n",
    "# Load the data from an Excel file\n",
    "BankDetails = pd.read_excel('D:/Ment Class/Practise11/Excel Data/BankDetails.xlsx')\n",
    "\n",
    "# Save the DataFrame to a CSV file\n",
    "BankDetails.to_csv('BankDetails.csv', index=False)\n",
    "\n",
    "# Optionally, print the first few rows to verify\n",
    "print(BankDetails.head())"
   ]
  },
  {
   "cell_type": "code",
   "execution_count": 48,
   "id": "856fbe6b-c25d-445d-bff1-292e9538f521",
   "metadata": {},
   "outputs": [],
   "source": [
    "#BankDetails.to_csv('BankDetails.csv', index=False)\n"
   ]
  },
  {
   "cell_type": "code",
   "execution_count": null,
   "id": "423fdb37-d3e6-439c-a4c0-4a235708764d",
   "metadata": {},
   "outputs": [],
   "source": []
  }
 ],
 "metadata": {
  "kernelspec": {
   "display_name": "Python 3 (ipykernel)",
   "language": "python",
   "name": "python3"
  },
  "language_info": {
   "codemirror_mode": {
    "name": "ipython",
    "version": 3
   },
   "file_extension": ".py",
   "mimetype": "text/x-python",
   "name": "python",
   "nbconvert_exporter": "python",
   "pygments_lexer": "ipython3",
   "version": "3.12.4"
  }
 },
 "nbformat": 4,
 "nbformat_minor": 5
}
