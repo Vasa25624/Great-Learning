{
 "cells": [
  {
   "cell_type": "markdown",
   "id": "23dade88-4ded-4fff-8861-380e5178e9d2",
   "metadata": {},
   "source": [
    "Credit Card Default Data\n",
    "Description:\n",
    "The dataset contains information on default payments, demographics, credit data, history of payment, and bill statements of credit card clients in India from October 2018 to March 2019.\n",
    "\n",
    "Usage\n",
    "Default\n",
    "\n",
    "Format\n",
    "A data frame with 10000 observations on the following 25 variables\n",
    "\n",
    "ID: ID of each client\n",
    "\n",
    "LIMIT_BAL: Amount of given credit in INR (includes individual and family/supplementary credit\n",
    "\n",
    "FICO: Bureau Scor/Credit Score (Ranges from 300 to 900)\n",
    "\n",
    "EDUCATION: (1=graduate school, 2=university, 3=high school, 4=others, 5=unknown, 6=unknown)\n",
    "\n",
    "MARRIAGE: Marital status (1=married, 2=single, 3=others)\n",
    "\n",
    "AGE: Age in years\n",
    "\n",
    "SEX: Male/Female\n",
    "\n",
    "PAY_1: Repayment status in March, 2019 (-1=pay duly, 1=payment delay for one month, 2=payment delay for two months, … 8=payment delay for eight months, 9=payment delay for nine months and above)\n",
    "\n",
    "PAY_2: Repayment status in February, 2019 (scale same as above)\n",
    "\n",
    "PAY_3: Repayment status in January, 2019 (scale same as above)\n",
    "\n",
    "BILL_AMT4: Amount of bill statement in December, 2018 (INR)\n",
    "\n",
    "BILL_AMT5: Amount of bill statement in November, 2018 (INR)\n",
    "\n",
    "BILL_AMT6: Amount of bill statement in October, 2018 (INR)\n",
    "\n",
    "PAY_AMT4: Amount of previous payment in December, 2018 (INR)\n",
    "\n",
    "PAY_AMT5: Amount of previous payment in November, 2018 (INR)\n",
    "\n",
    "PAY_AMT6: Amount of previous payment in October, 2018 (INR)\n",
    "\n",
    "default: Default payment in next month (1=yes, 0=no)\n",
    "\n",
    "Importing the libraries"
   ]
  },
  {
   "cell_type": "code",
   "execution_count": 1,
   "id": "763549b5-3b9a-4f0d-a007-e624f3de2a20",
   "metadata": {},
   "outputs": [],
   "source": [
    "import numpy as np\n",
    "import matplotlib.pyplot as plt\n",
    "import pandas as pd\n",
    "import seaborn as sns # for making plots with seaborn\n",
    "color = sns.color_palette()\n",
    "import sklearn.metrics as metrics\n",
    "\n",
    "import warnings\n",
    "warnings.filterwarnings(\"ignore\")"
   ]
  },
  {
   "cell_type": "code",
   "execution_count": 2,
   "id": "c6777319-7fcb-4756-bf1c-0d23b918b8da",
   "metadata": {},
   "outputs": [],
   "source": [
    "CreditCardDefault=pd.read_excel('D:/Ment Class/Practise11/Excel Data/CreditCardDefault.xlsx')"
   ]
  },
  {
   "cell_type": "code",
   "execution_count": 4,
   "id": "2f800eaf-d927-4908-af63-97bf2684f6b5",
   "metadata": {},
   "outputs": [],
   "source": [
    "CreditCardDefault.columns = CreditCardDefault.columns.str.replace('%', '_')"
   ]
  },
  {
   "cell_type": "code",
   "execution_count": 5,
   "id": "57441402-1c57-44f2-8c39-004d36359bd0",
   "metadata": {},
   "outputs": [
    {
     "data": {
      "text/html": [
       "<div>\n",
       "<style scoped>\n",
       "    .dataframe tbody tr th:only-of-type {\n",
       "        vertical-align: middle;\n",
       "    }\n",
       "\n",
       "    .dataframe tbody tr th {\n",
       "        vertical-align: top;\n",
       "    }\n",
       "\n",
       "    .dataframe thead th {\n",
       "        text-align: right;\n",
       "    }\n",
       "</style>\n",
       "<table border=\"1\" class=\"dataframe\">\n",
       "  <thead>\n",
       "    <tr style=\"text-align: right;\">\n",
       "      <th></th>\n",
       "      <th>ID</th>\n",
       "      <th>LIMIT_BAL</th>\n",
       "      <th>SEX</th>\n",
       "      <th>EDUCATION</th>\n",
       "      <th>MARRIAGE</th>\n",
       "      <th>AGE</th>\n",
       "      <th>BILL_AMT4</th>\n",
       "      <th>BILL_AMT5</th>\n",
       "      <th>BILL_AMT6</th>\n",
       "      <th>PAY_AMT4</th>\n",
       "      <th>PAY_AMT5</th>\n",
       "      <th>PAY_AMT6</th>\n",
       "      <th>Pay_1</th>\n",
       "      <th>Pay_2</th>\n",
       "      <th>Pay_3</th>\n",
       "      <th>default</th>\n",
       "      <th>FICO</th>\n",
       "    </tr>\n",
       "  </thead>\n",
       "  <tbody>\n",
       "    <tr>\n",
       "      <th>0</th>\n",
       "      <td>4</td>\n",
       "      <td>50000</td>\n",
       "      <td>2</td>\n",
       "      <td>2</td>\n",
       "      <td>1</td>\n",
       "      <td>37</td>\n",
       "      <td>28314</td>\n",
       "      <td>28959</td>\n",
       "      <td>29547</td>\n",
       "      <td>1111</td>\n",
       "      <td>1169</td>\n",
       "      <td>1111</td>\n",
       "      <td>0.04</td>\n",
       "      <td>0.04</td>\n",
       "      <td>0.04</td>\n",
       "      <td>0</td>\n",
       "      <td>MT700</td>\n",
       "    </tr>\n",
       "    <tr>\n",
       "      <th>1</th>\n",
       "      <td>15</td>\n",
       "      <td>250000</td>\n",
       "      <td>1</td>\n",
       "      <td>1</td>\n",
       "      <td>2</td>\n",
       "      <td>29</td>\n",
       "      <td>59696</td>\n",
       "      <td>56875</td>\n",
       "      <td>55512</td>\n",
       "      <td>3111</td>\n",
       "      <td>3111</td>\n",
       "      <td>3111</td>\n",
       "      <td>0.05</td>\n",
       "      <td>0.05</td>\n",
       "      <td>0.06</td>\n",
       "      <td>0</td>\n",
       "      <td>MT700</td>\n",
       "    </tr>\n",
       "    <tr>\n",
       "      <th>2</th>\n",
       "      <td>17</td>\n",
       "      <td>20000</td>\n",
       "      <td>1</td>\n",
       "      <td>1</td>\n",
       "      <td>2</td>\n",
       "      <td>24</td>\n",
       "      <td>18338</td>\n",
       "      <td>17915</td>\n",
       "      <td>19114</td>\n",
       "      <td>1</td>\n",
       "      <td>1651</td>\n",
       "      <td>1</td>\n",
       "      <td>0.00</td>\n",
       "      <td>0.09</td>\n",
       "      <td>0.00</td>\n",
       "      <td>1</td>\n",
       "      <td>LT500</td>\n",
       "    </tr>\n",
       "    <tr>\n",
       "      <th>3</th>\n",
       "      <td>18</td>\n",
       "      <td>320000</td>\n",
       "      <td>1</td>\n",
       "      <td>1</td>\n",
       "      <td>1</td>\n",
       "      <td>49</td>\n",
       "      <td>71174</td>\n",
       "      <td>5856</td>\n",
       "      <td>195599</td>\n",
       "      <td>21111</td>\n",
       "      <td>195599</td>\n",
       "      <td>51111</td>\n",
       "      <td>0.30</td>\n",
       "      <td>33.40</td>\n",
       "      <td>0.26</td>\n",
       "      <td>0</td>\n",
       "      <td>MT700</td>\n",
       "    </tr>\n",
       "    <tr>\n",
       "      <th>4</th>\n",
       "      <td>21</td>\n",
       "      <td>130000</td>\n",
       "      <td>2</td>\n",
       "      <td>3</td>\n",
       "      <td>2</td>\n",
       "      <td>39</td>\n",
       "      <td>21616</td>\n",
       "      <td>11812</td>\n",
       "      <td>931</td>\n",
       "      <td>2111</td>\n",
       "      <td>931</td>\n",
       "      <td>33764</td>\n",
       "      <td>0.10</td>\n",
       "      <td>0.08</td>\n",
       "      <td>36.27</td>\n",
       "      <td>0</td>\n",
       "      <td>MT700</td>\n",
       "    </tr>\n",
       "  </tbody>\n",
       "</table>\n",
       "</div>"
      ],
      "text/plain": [
       "   ID  LIMIT_BAL  SEX  EDUCATION  MARRIAGE  AGE  BILL_AMT4  BILL_AMT5  \\\n",
       "0   4      50000    2          2         1   37      28314      28959   \n",
       "1  15     250000    1          1         2   29      59696      56875   \n",
       "2  17      20000    1          1         2   24      18338      17915   \n",
       "3  18     320000    1          1         1   49      71174       5856   \n",
       "4  21     130000    2          3         2   39      21616      11812   \n",
       "\n",
       "   BILL_AMT6  PAY_AMT4  PAY_AMT5  PAY_AMT6  Pay_1  Pay_2  Pay_3  default  \\\n",
       "0      29547      1111      1169      1111   0.04   0.04   0.04        0   \n",
       "1      55512      3111      3111      3111   0.05   0.05   0.06        0   \n",
       "2      19114         1      1651         1   0.00   0.09   0.00        1   \n",
       "3     195599     21111    195599     51111   0.30  33.40   0.26        0   \n",
       "4        931      2111       931     33764   0.10   0.08  36.27        0   \n",
       "\n",
       "    FICO  \n",
       "0  MT700  \n",
       "1  MT700  \n",
       "2  LT500  \n",
       "3  MT700  \n",
       "4  MT700  "
      ]
     },
     "execution_count": 5,
     "metadata": {},
     "output_type": "execute_result"
    }
   ],
   "source": [
    "CreditCardDefault.head()"
   ]
  },
  {
   "cell_type": "code",
   "execution_count": 7,
   "id": "8d5fab82-4117-4237-9b40-4698fd4815f7",
   "metadata": {},
   "outputs": [
    {
     "name": "stdout",
     "output_type": "stream",
     "text": [
      "The number of rows (observations) is 4246 \n",
      "The number of columns (variables) is 17\n"
     ]
    }
   ],
   "source": [
    "print('The number of rows (observations) is',CreditCardDefault.shape[0],'\\n''The number of columns (variables) is',CreditCardDefault.shape[1])"
   ]
  },
  {
   "cell_type": "code",
   "execution_count": 8,
   "id": "1323f604-05a8-41c6-bece-f83bcfff314d",
   "metadata": {},
   "outputs": [
    {
     "name": "stdout",
     "output_type": "stream",
     "text": [
      "<class 'pandas.core.frame.DataFrame'>\n",
      "RangeIndex: 4246 entries, 0 to 4245\n",
      "Data columns (total 17 columns):\n",
      " #   Column     Non-Null Count  Dtype  \n",
      "---  ------     --------------  -----  \n",
      " 0   ID         4246 non-null   int64  \n",
      " 1   LIMIT_BAL  4246 non-null   int64  \n",
      " 2   SEX        4246 non-null   int64  \n",
      " 3   EDUCATION  4246 non-null   int64  \n",
      " 4   MARRIAGE   4246 non-null   int64  \n",
      " 5   AGE        4246 non-null   int64  \n",
      " 6   BILL_AMT4  4246 non-null   int64  \n",
      " 7   BILL_AMT5  4246 non-null   int64  \n",
      " 8   BILL_AMT6  4246 non-null   int64  \n",
      " 9   PAY_AMT4   4246 non-null   int64  \n",
      " 10  PAY_AMT5   4246 non-null   int64  \n",
      " 11  PAY_AMT6   4246 non-null   int64  \n",
      " 12  Pay_1      4246 non-null   float64\n",
      " 13  Pay_2      4246 non-null   float64\n",
      " 14  Pay_3      4246 non-null   float64\n",
      " 15  default    4246 non-null   int64  \n",
      " 16  FICO       4246 non-null   object \n",
      "dtypes: float64(3), int64(13), object(1)\n",
      "memory usage: 564.1+ KB\n"
     ]
    }
   ],
   "source": [
    "CreditCardDefault.info()"
   ]
  },
  {
   "cell_type": "code",
   "execution_count": 9,
   "id": "bd7724e7-90a2-4da6-8b7c-0d2367f515c4",
   "metadata": {},
   "outputs": [
    {
     "data": {
      "text/plain": [
       "0"
      ]
     },
     "execution_count": 9,
     "metadata": {},
     "output_type": "execute_result"
    }
   ],
   "source": [
    "CreditCardDefault.duplicated().sum()"
   ]
  },
  {
   "cell_type": "code",
   "execution_count": 10,
   "id": "ea7d0448-68ff-4ae2-aa47-f98dc5508633",
   "metadata": {},
   "outputs": [],
   "source": [
    "CreditCardDefault.drop('ID', axis = 1, inplace = True)"
   ]
  },
  {
   "cell_type": "markdown",
   "id": "ce25e368-99bc-41cd-b885-edefbd215693",
   "metadata": {},
   "source": [
    "Converting data type of Gender, Education & Marriage to Object as they are character variables\n"
   ]
  },
  {
   "cell_type": "code",
   "execution_count": 11,
   "id": "9d30a70f-b912-4efd-bf72-e1598c5b7361",
   "metadata": {},
   "outputs": [],
   "source": [
    "CreditCardDefault[\"SEX\"] = CreditCardDefault[\"SEX\"].astype('object')\n",
    "CreditCardDefault[\"EDUCATION\"] = CreditCardDefault[\"EDUCATION\"].astype('object')\n",
    "CreditCardDefault[\"MARRIAGE\"] = CreditCardDefault[\"MARRIAGE\"].astype('object')"
   ]
  },
  {
   "cell_type": "markdown",
   "id": "e82d4909-acc2-4d7e-a1cf-baacecdfeb73",
   "metadata": {},
   "source": [
    "Rechecking Data types of all variables"
   ]
  },
  {
   "cell_type": "code",
   "execution_count": 14,
   "id": "2e1a5921-2a50-474a-9e57-cae0deaec16c",
   "metadata": {},
   "outputs": [
    {
     "name": "stdout",
     "output_type": "stream",
     "text": [
      "<class 'pandas.core.frame.DataFrame'>\n",
      "RangeIndex: 4246 entries, 0 to 4245\n",
      "Data columns (total 16 columns):\n",
      " #   Column     Non-Null Count  Dtype  \n",
      "---  ------     --------------  -----  \n",
      " 0   LIMIT_BAL  4246 non-null   int64  \n",
      " 1   SEX        4246 non-null   object \n",
      " 2   EDUCATION  4246 non-null   object \n",
      " 3   MARRIAGE   4246 non-null   object \n",
      " 4   AGE        4246 non-null   int64  \n",
      " 5   BILL_AMT4  4246 non-null   int64  \n",
      " 6   BILL_AMT5  4246 non-null   int64  \n",
      " 7   BILL_AMT6  4246 non-null   int64  \n",
      " 8   PAY_AMT4   4246 non-null   int64  \n",
      " 9   PAY_AMT5   4246 non-null   int64  \n",
      " 10  PAY_AMT6   4246 non-null   int64  \n",
      " 11  Pay_1      4246 non-null   float64\n",
      " 12  Pay_2      4246 non-null   float64\n",
      " 13  Pay_3      4246 non-null   float64\n",
      " 14  default    4246 non-null   int64  \n",
      " 15  FICO       4246 non-null   object \n",
      "dtypes: float64(3), int64(9), object(4)\n",
      "memory usage: 530.9+ KB\n"
     ]
    }
   ],
   "source": [
    "CreditCardDefault.info()"
   ]
  },
  {
   "cell_type": "markdown",
   "id": "848ab507-35a5-4aff-8854-40bf7d8a1b2f",
   "metadata": {},
   "source": [
    "Now, let us check the basic measures of descriptive statistics for the continuous variables.\n"
   ]
  },
  {
   "cell_type": "code",
   "execution_count": 15,
   "id": "2264d14f-31b3-4109-9d8a-226af5b45ebc",
   "metadata": {},
   "outputs": [
    {
     "data": {
      "text/html": [
       "<div>\n",
       "<style scoped>\n",
       "    .dataframe tbody tr th:only-of-type {\n",
       "        vertical-align: middle;\n",
       "    }\n",
       "\n",
       "    .dataframe tbody tr th {\n",
       "        vertical-align: top;\n",
       "    }\n",
       "\n",
       "    .dataframe thead th {\n",
       "        text-align: right;\n",
       "    }\n",
       "</style>\n",
       "<table border=\"1\" class=\"dataframe\">\n",
       "  <thead>\n",
       "    <tr style=\"text-align: right;\">\n",
       "      <th></th>\n",
       "      <th>LIMIT_BAL</th>\n",
       "      <th>AGE</th>\n",
       "      <th>BILL_AMT4</th>\n",
       "      <th>BILL_AMT5</th>\n",
       "      <th>BILL_AMT6</th>\n",
       "      <th>PAY_AMT4</th>\n",
       "      <th>PAY_AMT5</th>\n",
       "      <th>PAY_AMT6</th>\n",
       "      <th>Pay_1</th>\n",
       "      <th>Pay_2</th>\n",
       "      <th>Pay_3</th>\n",
       "      <th>default</th>\n",
       "    </tr>\n",
       "  </thead>\n",
       "  <tbody>\n",
       "    <tr>\n",
       "      <th>count</th>\n",
       "      <td>4246.000000</td>\n",
       "      <td>4246.000000</td>\n",
       "      <td>4246.000000</td>\n",
       "      <td>4246.000000</td>\n",
       "      <td>4246.000000</td>\n",
       "      <td>4246.000000</td>\n",
       "      <td>4246.000000</td>\n",
       "      <td>4246.000000</td>\n",
       "      <td>4246.000000</td>\n",
       "      <td>4246.000000</td>\n",
       "      <td>4246.000000</td>\n",
       "      <td>4246.000000</td>\n",
       "    </tr>\n",
       "    <tr>\n",
       "      <th>mean</th>\n",
       "      <td>157117.286858</td>\n",
       "      <td>35.047574</td>\n",
       "      <td>57061.098917</td>\n",
       "      <td>53771.845973</td>\n",
       "      <td>51647.689590</td>\n",
       "      <td>5616.298398</td>\n",
       "      <td>5193.867640</td>\n",
       "      <td>5717.024494</td>\n",
       "      <td>0.566373</td>\n",
       "      <td>0.549659</td>\n",
       "      <td>0.681941</td>\n",
       "      <td>0.227037</td>\n",
       "    </tr>\n",
       "    <tr>\n",
       "      <th>std</th>\n",
       "      <td>130528.792785</td>\n",
       "      <td>9.110943</td>\n",
       "      <td>68727.390542</td>\n",
       "      <td>64368.227196</td>\n",
       "      <td>62985.909815</td>\n",
       "      <td>14647.382789</td>\n",
       "      <td>14114.021638</td>\n",
       "      <td>16549.440680</td>\n",
       "      <td>3.454705</td>\n",
       "      <td>3.953106</td>\n",
       "      <td>4.462142</td>\n",
       "      <td>0.418966</td>\n",
       "    </tr>\n",
       "    <tr>\n",
       "      <th>min</th>\n",
       "      <td>10000.000000</td>\n",
       "      <td>21.000000</td>\n",
       "      <td>511.000000</td>\n",
       "      <td>511.000000</td>\n",
       "      <td>511.000000</td>\n",
       "      <td>1.000000</td>\n",
       "      <td>1.000000</td>\n",
       "      <td>1.000000</td>\n",
       "      <td>0.000000</td>\n",
       "      <td>0.000000</td>\n",
       "      <td>0.000000</td>\n",
       "      <td>0.000000</td>\n",
       "    </tr>\n",
       "    <tr>\n",
       "      <th>25%</th>\n",
       "      <td>50000.000000</td>\n",
       "      <td>28.000000</td>\n",
       "      <td>13726.500000</td>\n",
       "      <td>12985.000000</td>\n",
       "      <td>11514.750000</td>\n",
       "      <td>1111.000000</td>\n",
       "      <td>1111.000000</td>\n",
       "      <td>911.000000</td>\n",
       "      <td>0.030000</td>\n",
       "      <td>0.040000</td>\n",
       "      <td>0.030000</td>\n",
       "      <td>0.000000</td>\n",
       "    </tr>\n",
       "    <tr>\n",
       "      <th>50%</th>\n",
       "      <td>120000.000000</td>\n",
       "      <td>33.000000</td>\n",
       "      <td>31130.500000</td>\n",
       "      <td>28922.500000</td>\n",
       "      <td>28138.000000</td>\n",
       "      <td>2136.000000</td>\n",
       "      <td>2111.000000</td>\n",
       "      <td>2111.000000</td>\n",
       "      <td>0.040000</td>\n",
       "      <td>0.050000</td>\n",
       "      <td>0.040000</td>\n",
       "      <td>0.000000</td>\n",
       "    </tr>\n",
       "    <tr>\n",
       "      <th>75%</th>\n",
       "      <td>230000.000000</td>\n",
       "      <td>41.000000</td>\n",
       "      <td>74406.750000</td>\n",
       "      <td>71826.500000</td>\n",
       "      <td>68806.500000</td>\n",
       "      <td>5111.000000</td>\n",
       "      <td>5111.000000</td>\n",
       "      <td>5111.000000</td>\n",
       "      <td>0.120000</td>\n",
       "      <td>0.140000</td>\n",
       "      <td>0.140000</td>\n",
       "      <td>0.000000</td>\n",
       "    </tr>\n",
       "    <tr>\n",
       "      <th>max</th>\n",
       "      <td>1000000.000000</td>\n",
       "      <td>73.000000</td>\n",
       "      <td>891586.000000</td>\n",
       "      <td>927171.000000</td>\n",
       "      <td>961664.000000</td>\n",
       "      <td>321118.000000</td>\n",
       "      <td>417991.000000</td>\n",
       "      <td>261111.000000</td>\n",
       "      <td>106.560000</td>\n",
       "      <td>129.650000</td>\n",
       "      <td>153.330000</td>\n",
       "      <td>1.000000</td>\n",
       "    </tr>\n",
       "  </tbody>\n",
       "</table>\n",
       "</div>"
      ],
      "text/plain": [
       "            LIMIT_BAL          AGE      BILL_AMT4      BILL_AMT5  \\\n",
       "count     4246.000000  4246.000000    4246.000000    4246.000000   \n",
       "mean    157117.286858    35.047574   57061.098917   53771.845973   \n",
       "std     130528.792785     9.110943   68727.390542   64368.227196   \n",
       "min      10000.000000    21.000000     511.000000     511.000000   \n",
       "25%      50000.000000    28.000000   13726.500000   12985.000000   \n",
       "50%     120000.000000    33.000000   31130.500000   28922.500000   \n",
       "75%     230000.000000    41.000000   74406.750000   71826.500000   \n",
       "max    1000000.000000    73.000000  891586.000000  927171.000000   \n",
       "\n",
       "           BILL_AMT6       PAY_AMT4       PAY_AMT5       PAY_AMT6  \\\n",
       "count    4246.000000    4246.000000    4246.000000    4246.000000   \n",
       "mean    51647.689590    5616.298398    5193.867640    5717.024494   \n",
       "std     62985.909815   14647.382789   14114.021638   16549.440680   \n",
       "min       511.000000       1.000000       1.000000       1.000000   \n",
       "25%     11514.750000    1111.000000    1111.000000     911.000000   \n",
       "50%     28138.000000    2136.000000    2111.000000    2111.000000   \n",
       "75%     68806.500000    5111.000000    5111.000000    5111.000000   \n",
       "max    961664.000000  321118.000000  417991.000000  261111.000000   \n",
       "\n",
       "             Pay_1        Pay_2        Pay_3      default  \n",
       "count  4246.000000  4246.000000  4246.000000  4246.000000  \n",
       "mean      0.566373     0.549659     0.681941     0.227037  \n",
       "std       3.454705     3.953106     4.462142     0.418966  \n",
       "min       0.000000     0.000000     0.000000     0.000000  \n",
       "25%       0.030000     0.040000     0.030000     0.000000  \n",
       "50%       0.040000     0.050000     0.040000     0.000000  \n",
       "75%       0.120000     0.140000     0.140000     0.000000  \n",
       "max     106.560000   129.650000   153.330000     1.000000  "
      ]
     },
     "execution_count": 15,
     "metadata": {},
     "output_type": "execute_result"
    }
   ],
   "source": [
    "CreditCardDefault.describe()"
   ]
  },
  {
   "cell_type": "markdown",
   "id": "fe6d098a-0c99-4da3-9d51-2ae34e68b6e0",
   "metadata": {},
   "source": [
    "Now, let us check the basic measures of descriptive statistics for the categorical variables\n"
   ]
  },
  {
   "cell_type": "code",
   "execution_count": 16,
   "id": "abeb1112-e6fc-4531-8914-c261c6da0f27",
   "metadata": {},
   "outputs": [
    {
     "data": {
      "text/plain": [
       "SEX\n",
       "2    2530\n",
       "1    1716\n",
       "Name: count, dtype: int64"
      ]
     },
     "execution_count": 16,
     "metadata": {},
     "output_type": "execute_result"
    }
   ],
   "source": [
    "CreditCardDefault[\"SEX\"].value_counts()"
   ]
  },
  {
   "cell_type": "code",
   "execution_count": 17,
   "id": "f3309781-5151-4382-969a-9183526b4e4e",
   "metadata": {},
   "outputs": [
    {
     "data": {
      "text/plain": [
       "EDUCATION\n",
       "2    2109\n",
       "1    1416\n",
       "3     721\n",
       "Name: count, dtype: int64"
      ]
     },
     "execution_count": 17,
     "metadata": {},
     "output_type": "execute_result"
    }
   ],
   "source": [
    "CreditCardDefault[\"EDUCATION\"].value_counts()"
   ]
  },
  {
   "cell_type": "code",
   "execution_count": 18,
   "id": "ea5d62fa-e76d-480b-b190-d81d7d3c9d77",
   "metadata": {},
   "outputs": [
    {
     "data": {
      "text/plain": [
       "MARRIAGE\n",
       "2    2324\n",
       "1    1861\n",
       "3      58\n",
       "0       3\n",
       "Name: count, dtype: int64"
      ]
     },
     "execution_count": 18,
     "metadata": {},
     "output_type": "execute_result"
    }
   ],
   "source": [
    "CreditCardDefault[\"MARRIAGE\"].value_counts()"
   ]
  },
  {
   "cell_type": "code",
   "execution_count": 19,
   "id": "d3ed435c-66fd-4319-a902-4fa9cd5f948e",
   "metadata": {},
   "outputs": [],
   "source": [
    "#Clubbing the levels of Marital Status into Married vs. Single\n",
    "CreditCardDefault[\"MARRIAGE\"] = np.where(CreditCardDefault[\"MARRIAGE\"] == 1, 1, 0)"
   ]
  },
  {
   "cell_type": "code",
   "execution_count": 20,
   "id": "5a2d61d2-a776-4636-877a-22a421929c47",
   "metadata": {},
   "outputs": [
    {
     "data": {
      "text/plain": [
       "MARRIAGE\n",
       "0    2385\n",
       "1    1861\n",
       "Name: count, dtype: int64"
      ]
     },
     "execution_count": 20,
     "metadata": {},
     "output_type": "execute_result"
    }
   ],
   "source": [
    "CreditCardDefault[\"MARRIAGE\"].value_counts()"
   ]
  },
  {
   "cell_type": "code",
   "execution_count": 21,
   "id": "c2846a15-ed6c-409d-9f11-bca7ac455bf7",
   "metadata": {},
   "outputs": [
    {
     "data": {
      "text/plain": [
       "default\n",
       "0    3282\n",
       "1     964\n",
       "Name: count, dtype: int64"
      ]
     },
     "execution_count": 21,
     "metadata": {},
     "output_type": "execute_result"
    }
   ],
   "source": [
    "CreditCardDefault[\"default\"].value_counts()"
   ]
  },
  {
   "cell_type": "markdown",
   "id": "d6ff5562-2c27-4454-a87e-34ffa5f81e56",
   "metadata": {},
   "source": [
    "Checking proportion of default"
   ]
  },
  {
   "cell_type": "code",
   "execution_count": 22,
   "id": "99ad1e67-4498-400c-a48e-670db7e3b67c",
   "metadata": {},
   "outputs": [
    {
     "data": {
      "text/plain": [
       "0.22703721149317005"
      ]
     },
     "execution_count": 22,
     "metadata": {},
     "output_type": "execute_result"
    }
   ],
   "source": [
    "CreditCardDefault.default.sum() / len(CreditCardDefault.default)"
   ]
  },
  {
   "cell_type": "markdown",
   "id": "59b2f751-f1bc-4e80-ad0a-43bd4ab21b06",
   "metadata": {},
   "source": [
    "Check for missing values"
   ]
  },
  {
   "cell_type": "code",
   "execution_count": 23,
   "id": "e48eeb82-19a2-489f-b3bb-699d87230789",
   "metadata": {},
   "outputs": [
    {
     "data": {
      "text/plain": [
       "LIMIT_BAL    0\n",
       "SEX          0\n",
       "EDUCATION    0\n",
       "MARRIAGE     0\n",
       "AGE          0\n",
       "BILL_AMT4    0\n",
       "BILL_AMT5    0\n",
       "BILL_AMT6    0\n",
       "PAY_AMT4     0\n",
       "PAY_AMT5     0\n",
       "PAY_AMT6     0\n",
       "Pay_1        0\n",
       "Pay_2        0\n",
       "Pay_3        0\n",
       "default      0\n",
       "FICO         0\n",
       "dtype: int64"
      ]
     },
     "execution_count": 23,
     "metadata": {},
     "output_type": "execute_result"
    }
   ],
   "source": [
    "CreditCardDefault.isnull().sum()"
   ]
  },
  {
   "cell_type": "markdown",
   "id": "ae4508ae-3c95-48ea-99d3-7441deaf5393",
   "metadata": {},
   "source": [
    "Getting Top 5 rows"
   ]
  },
  {
   "cell_type": "code",
   "execution_count": 27,
   "id": "ab7861c7-038c-45d2-bb89-dd35a1755808",
   "metadata": {},
   "outputs": [
    {
     "data": {
      "text/html": [
       "<div>\n",
       "<style scoped>\n",
       "    .dataframe tbody tr th:only-of-type {\n",
       "        vertical-align: middle;\n",
       "    }\n",
       "\n",
       "    .dataframe tbody tr th {\n",
       "        vertical-align: top;\n",
       "    }\n",
       "\n",
       "    .dataframe thead th {\n",
       "        text-align: right;\n",
       "    }\n",
       "</style>\n",
       "<table border=\"1\" class=\"dataframe\">\n",
       "  <thead>\n",
       "    <tr style=\"text-align: right;\">\n",
       "      <th></th>\n",
       "      <th>LIMIT_BAL</th>\n",
       "      <th>SEX</th>\n",
       "      <th>EDUCATION</th>\n",
       "      <th>MARRIAGE</th>\n",
       "      <th>AGE</th>\n",
       "      <th>Pay_1</th>\n",
       "      <th>Pay_2</th>\n",
       "      <th>Pay_3</th>\n",
       "      <th>default</th>\n",
       "      <th>FICO</th>\n",
       "    </tr>\n",
       "  </thead>\n",
       "  <tbody>\n",
       "    <tr>\n",
       "      <th>0</th>\n",
       "      <td>50000</td>\n",
       "      <td>2</td>\n",
       "      <td>2</td>\n",
       "      <td>1</td>\n",
       "      <td>37</td>\n",
       "      <td>0.04</td>\n",
       "      <td>0.04</td>\n",
       "      <td>0.04</td>\n",
       "      <td>0</td>\n",
       "      <td>MT700</td>\n",
       "    </tr>\n",
       "    <tr>\n",
       "      <th>1</th>\n",
       "      <td>250000</td>\n",
       "      <td>1</td>\n",
       "      <td>1</td>\n",
       "      <td>0</td>\n",
       "      <td>29</td>\n",
       "      <td>0.05</td>\n",
       "      <td>0.05</td>\n",
       "      <td>0.06</td>\n",
       "      <td>0</td>\n",
       "      <td>MT700</td>\n",
       "    </tr>\n",
       "    <tr>\n",
       "      <th>2</th>\n",
       "      <td>20000</td>\n",
       "      <td>1</td>\n",
       "      <td>1</td>\n",
       "      <td>0</td>\n",
       "      <td>24</td>\n",
       "      <td>0.00</td>\n",
       "      <td>0.09</td>\n",
       "      <td>0.00</td>\n",
       "      <td>1</td>\n",
       "      <td>LT500</td>\n",
       "    </tr>\n",
       "    <tr>\n",
       "      <th>3</th>\n",
       "      <td>320000</td>\n",
       "      <td>1</td>\n",
       "      <td>1</td>\n",
       "      <td>1</td>\n",
       "      <td>49</td>\n",
       "      <td>0.30</td>\n",
       "      <td>33.40</td>\n",
       "      <td>0.26</td>\n",
       "      <td>0</td>\n",
       "      <td>MT700</td>\n",
       "    </tr>\n",
       "    <tr>\n",
       "      <th>4</th>\n",
       "      <td>130000</td>\n",
       "      <td>2</td>\n",
       "      <td>3</td>\n",
       "      <td>0</td>\n",
       "      <td>39</td>\n",
       "      <td>0.10</td>\n",
       "      <td>0.08</td>\n",
       "      <td>36.27</td>\n",
       "      <td>0</td>\n",
       "      <td>MT700</td>\n",
       "    </tr>\n",
       "  </tbody>\n",
       "</table>\n",
       "</div>"
      ],
      "text/plain": [
       "   LIMIT_BAL SEX EDUCATION  MARRIAGE  AGE  Pay_1  Pay_2  Pay_3  default   FICO\n",
       "0      50000   2         2         1   37   0.04   0.04   0.04        0  MT700\n",
       "1     250000   1         1         0   29   0.05   0.05   0.06        0  MT700\n",
       "2      20000   1         1         0   24   0.00   0.09   0.00        1  LT500\n",
       "3     320000   1         1         1   49   0.30  33.40   0.26        0  MT700\n",
       "4     130000   2         3         0   39   0.10   0.08  36.27        0  MT700"
      ]
     },
     "execution_count": 27,
     "metadata": {},
     "output_type": "execute_result"
    }
   ],
   "source": [
    "CreditCardDefault.head()"
   ]
  },
  {
   "cell_type": "markdown",
   "id": "53bb6b83-798d-4caa-bf30-64214cc56521",
   "metadata": {},
   "source": [
    "Eliminating redundant variables"
   ]
  },
  {
   "cell_type": "code",
   "execution_count": 25,
   "id": "e80f1927-88d2-4acb-a6b3-14f4ad932f00",
   "metadata": {},
   "outputs": [],
   "source": [
    "#Since we already have Payment to Bill ratio variables, we can eliminate the Payment and Bill Amounts\n",
    "CreditCardDefault = CreditCardDefault.drop(['BILL_AMT4', 'BILL_AMT5', 'BILL_AMT6', 'PAY_AMT4', 'PAY_AMT5', 'PAY_AMT6'], axis = 1)"
   ]
  },
  {
   "cell_type": "code",
   "execution_count": 26,
   "id": "074a319a-0549-47c7-a37f-e1d88f139f52",
   "metadata": {},
   "outputs": [
    {
     "data": {
      "text/html": [
       "<div>\n",
       "<style scoped>\n",
       "    .dataframe tbody tr th:only-of-type {\n",
       "        vertical-align: middle;\n",
       "    }\n",
       "\n",
       "    .dataframe tbody tr th {\n",
       "        vertical-align: top;\n",
       "    }\n",
       "\n",
       "    .dataframe thead th {\n",
       "        text-align: right;\n",
       "    }\n",
       "</style>\n",
       "<table border=\"1\" class=\"dataframe\">\n",
       "  <thead>\n",
       "    <tr style=\"text-align: right;\">\n",
       "      <th></th>\n",
       "      <th>LIMIT_BAL</th>\n",
       "      <th>SEX</th>\n",
       "      <th>EDUCATION</th>\n",
       "      <th>MARRIAGE</th>\n",
       "      <th>AGE</th>\n",
       "      <th>Pay_1</th>\n",
       "      <th>Pay_2</th>\n",
       "      <th>Pay_3</th>\n",
       "      <th>default</th>\n",
       "      <th>FICO</th>\n",
       "    </tr>\n",
       "  </thead>\n",
       "  <tbody>\n",
       "    <tr>\n",
       "      <th>0</th>\n",
       "      <td>50000</td>\n",
       "      <td>2</td>\n",
       "      <td>2</td>\n",
       "      <td>1</td>\n",
       "      <td>37</td>\n",
       "      <td>0.04</td>\n",
       "      <td>0.04</td>\n",
       "      <td>0.04</td>\n",
       "      <td>0</td>\n",
       "      <td>MT700</td>\n",
       "    </tr>\n",
       "    <tr>\n",
       "      <th>1</th>\n",
       "      <td>250000</td>\n",
       "      <td>1</td>\n",
       "      <td>1</td>\n",
       "      <td>0</td>\n",
       "      <td>29</td>\n",
       "      <td>0.05</td>\n",
       "      <td>0.05</td>\n",
       "      <td>0.06</td>\n",
       "      <td>0</td>\n",
       "      <td>MT700</td>\n",
       "    </tr>\n",
       "    <tr>\n",
       "      <th>2</th>\n",
       "      <td>20000</td>\n",
       "      <td>1</td>\n",
       "      <td>1</td>\n",
       "      <td>0</td>\n",
       "      <td>24</td>\n",
       "      <td>0.00</td>\n",
       "      <td>0.09</td>\n",
       "      <td>0.00</td>\n",
       "      <td>1</td>\n",
       "      <td>LT500</td>\n",
       "    </tr>\n",
       "    <tr>\n",
       "      <th>3</th>\n",
       "      <td>320000</td>\n",
       "      <td>1</td>\n",
       "      <td>1</td>\n",
       "      <td>1</td>\n",
       "      <td>49</td>\n",
       "      <td>0.30</td>\n",
       "      <td>33.40</td>\n",
       "      <td>0.26</td>\n",
       "      <td>0</td>\n",
       "      <td>MT700</td>\n",
       "    </tr>\n",
       "    <tr>\n",
       "      <th>4</th>\n",
       "      <td>130000</td>\n",
       "      <td>2</td>\n",
       "      <td>3</td>\n",
       "      <td>0</td>\n",
       "      <td>39</td>\n",
       "      <td>0.10</td>\n",
       "      <td>0.08</td>\n",
       "      <td>36.27</td>\n",
       "      <td>0</td>\n",
       "      <td>MT700</td>\n",
       "    </tr>\n",
       "  </tbody>\n",
       "</table>\n",
       "</div>"
      ],
      "text/plain": [
       "   LIMIT_BAL SEX EDUCATION  MARRIAGE  AGE  Pay_1  Pay_2  Pay_3  default   FICO\n",
       "0      50000   2         2         1   37   0.04   0.04   0.04        0  MT700\n",
       "1     250000   1         1         0   29   0.05   0.05   0.06        0  MT700\n",
       "2      20000   1         1         0   24   0.00   0.09   0.00        1  LT500\n",
       "3     320000   1         1         1   49   0.30  33.40   0.26        0  MT700\n",
       "4     130000   2         3         0   39   0.10   0.08  36.27        0  MT700"
      ]
     },
     "execution_count": 26,
     "metadata": {},
     "output_type": "execute_result"
    }
   ],
   "source": [
    "CreditCardDefault.head()"
   ]
  },
  {
   "cell_type": "markdown",
   "id": "55299a38-fbbe-452f-9b20-4cadd10f948b",
   "metadata": {},
   "source": [
    "Creating dummy variables"
   ]
  },
  {
   "cell_type": "code",
   "execution_count": 29,
   "id": "de100743-aac2-4440-bd37-02f36c2c4eac",
   "metadata": {},
   "outputs": [
    {
     "data": {
      "text/html": [
       "<div>\n",
       "<style scoped>\n",
       "    .dataframe tbody tr th:only-of-type {\n",
       "        vertical-align: middle;\n",
       "    }\n",
       "\n",
       "    .dataframe tbody tr th {\n",
       "        vertical-align: top;\n",
       "    }\n",
       "\n",
       "    .dataframe thead th {\n",
       "        text-align: right;\n",
       "    }\n",
       "</style>\n",
       "<table border=\"1\" class=\"dataframe\">\n",
       "  <thead>\n",
       "    <tr style=\"text-align: right;\">\n",
       "      <th></th>\n",
       "      <th>LIMIT_BAL</th>\n",
       "      <th>MARRIAGE</th>\n",
       "      <th>AGE</th>\n",
       "      <th>Pay_1</th>\n",
       "      <th>Pay_2</th>\n",
       "      <th>Pay_3</th>\n",
       "      <th>default</th>\n",
       "      <th>SEX_2</th>\n",
       "      <th>EDUCATION_2</th>\n",
       "      <th>EDUCATION_3</th>\n",
       "      <th>FICO_MT700</th>\n",
       "    </tr>\n",
       "  </thead>\n",
       "  <tbody>\n",
       "    <tr>\n",
       "      <th>0</th>\n",
       "      <td>50000</td>\n",
       "      <td>1</td>\n",
       "      <td>37</td>\n",
       "      <td>0.04</td>\n",
       "      <td>0.04</td>\n",
       "      <td>0.04</td>\n",
       "      <td>0</td>\n",
       "      <td>True</td>\n",
       "      <td>True</td>\n",
       "      <td>False</td>\n",
       "      <td>True</td>\n",
       "    </tr>\n",
       "    <tr>\n",
       "      <th>1</th>\n",
       "      <td>250000</td>\n",
       "      <td>0</td>\n",
       "      <td>29</td>\n",
       "      <td>0.05</td>\n",
       "      <td>0.05</td>\n",
       "      <td>0.06</td>\n",
       "      <td>0</td>\n",
       "      <td>False</td>\n",
       "      <td>False</td>\n",
       "      <td>False</td>\n",
       "      <td>True</td>\n",
       "    </tr>\n",
       "    <tr>\n",
       "      <th>2</th>\n",
       "      <td>20000</td>\n",
       "      <td>0</td>\n",
       "      <td>24</td>\n",
       "      <td>0.00</td>\n",
       "      <td>0.09</td>\n",
       "      <td>0.00</td>\n",
       "      <td>1</td>\n",
       "      <td>False</td>\n",
       "      <td>False</td>\n",
       "      <td>False</td>\n",
       "      <td>False</td>\n",
       "    </tr>\n",
       "    <tr>\n",
       "      <th>3</th>\n",
       "      <td>320000</td>\n",
       "      <td>1</td>\n",
       "      <td>49</td>\n",
       "      <td>0.30</td>\n",
       "      <td>33.40</td>\n",
       "      <td>0.26</td>\n",
       "      <td>0</td>\n",
       "      <td>False</td>\n",
       "      <td>False</td>\n",
       "      <td>False</td>\n",
       "      <td>True</td>\n",
       "    </tr>\n",
       "    <tr>\n",
       "      <th>4</th>\n",
       "      <td>130000</td>\n",
       "      <td>0</td>\n",
       "      <td>39</td>\n",
       "      <td>0.10</td>\n",
       "      <td>0.08</td>\n",
       "      <td>36.27</td>\n",
       "      <td>0</td>\n",
       "      <td>True</td>\n",
       "      <td>False</td>\n",
       "      <td>True</td>\n",
       "      <td>True</td>\n",
       "    </tr>\n",
       "  </tbody>\n",
       "</table>\n",
       "</div>"
      ],
      "text/plain": [
       "   LIMIT_BAL  MARRIAGE  AGE  Pay_1  Pay_2  Pay_3  default  SEX_2  EDUCATION_2  \\\n",
       "0      50000         1   37   0.04   0.04   0.04        0   True         True   \n",
       "1     250000         0   29   0.05   0.05   0.06        0  False        False   \n",
       "2      20000         0   24   0.00   0.09   0.00        1  False        False   \n",
       "3     320000         1   49   0.30  33.40   0.26        0  False        False   \n",
       "4     130000         0   39   0.10   0.08  36.27        0   True        False   \n",
       "\n",
       "   EDUCATION_3  FICO_MT700  \n",
       "0        False        True  \n",
       "1        False        True  \n",
       "2        False       False  \n",
       "3        False        True  \n",
       "4         True        True  "
      ]
     },
     "execution_count": 29,
     "metadata": {},
     "output_type": "execute_result"
    }
   ],
   "source": [
    "default_dummy = pd.get_dummies(CreditCardDefault,drop_first=True)\n",
    "default_dummy.head()"
   ]
  },
  {
   "cell_type": "code",
   "execution_count": 30,
   "id": "ff602ca1-7c93-4eb7-87f8-33c4264683be",
   "metadata": {},
   "outputs": [
    {
     "data": {
      "image/png": "[encoded data removed]",
      "text/plain": [
       "<Figure size 800x600 with 2 Axes>"
      ]
     },
     "metadata": {},
     "output_type": "display_data"
    }
   ],
   "source": [
    "plt.subplots(figsize = (8,6))\n",
    "sns.heatmap(default_dummy[['LIMIT_BAL', 'AGE', 'Pay_1','Pay_2', 'Pay_3']] .corr(), annot = True, cmap = 'plasma', fmt = '.2f');"
   ]
  },
  {
   "cell_type": "markdown",
   "id": "64f2878b-1058-4571-a0dc-2595978dc63c",
   "metadata": {},
   "source": [
    "Model Building using Logistic Regression for 'Probability at default'\n",
    "The equation of the Logistic Regression by which we predict the corresponding probabilities and then go on predict a discrete target variable is\n",
    "y = \n",
    " \n",
    "Note: z = \n",
    " +\n",
    "Now, Importing statsmodels modules"
   ]
  },
  {
   "cell_type": "code",
   "execution_count": 31,
   "id": "5099fd0d-a020-4fdd-bd73-fc36f83cfa08",
   "metadata": {},
   "outputs": [],
   "source": [
    "import statsmodels.formula.api as SM"
   ]
  },
  {
   "cell_type": "markdown",
   "id": "26ccbfd8-2783-498f-9e5c-47523be47928",
   "metadata": {},
   "source": [
    "Creating train & test datasets"
   ]
  },
  {
   "cell_type": "code",
   "execution_count": 32,
   "id": "5ac4a039-3ebc-459b-9a26-34081c16634b",
   "metadata": {},
   "outputs": [],
   "source": [
    "X = default_dummy.drop(['default'], axis=1)\n",
    "y = default_dummy['default']\n",
    "\n",
    "from sklearn.model_selection import train_test_split\n",
    "X_train, X_test, y_train, y_test = train_test_split(X,y,test_size=0.2,random_state=142,stratify=default_dummy['default'])\n",
    "\n",
    "#Statsmodel requires the labelled data, therefore, concatinating the y label to the train set.\n",
    "Default_train = pd.concat([X_train,y_train], axis=1)\n",
    "Default_test = pd.concat([X_test,y_test], axis=1)"
   ]
  },
  {
   "cell_type": "markdown",
   "id": "def1634a-1207-45e6-a842-019c0086d527",
   "metadata": {},
   "source": [
    "Creating logistic regression equation & storing it in f_1\n",
    "Lets check signifiance of variable 'Score' in a logistic regression model\n",
    "\n",
    "Descriptive statistics of Target variable"
   ]
  },
  {
   "cell_type": "code",
   "execution_count": 33,
   "id": "762362ce-ecf8-48c3-8a00-1d2a76499423",
   "metadata": {},
   "outputs": [
    {
     "data": {
      "text/plain": [
       "default\n",
       "0    2625\n",
       "1     771\n",
       "Name: count, dtype: int64"
      ]
     },
     "execution_count": 33,
     "metadata": {},
     "output_type": "execute_result"
    }
   ],
   "source": [
    "Default_train[\"default\"].value_counts()"
   ]
  },
  {
   "cell_type": "markdown",
   "id": "baa54a4e-9d77-4a05-9c80-085a4220632e",
   "metadata": {},
   "source": [
    "Checking if dataset is balanced"
   ]
  },
  {
   "cell_type": "code",
   "execution_count": 34,
   "id": "5fc7bdde-83a4-406f-92c9-ab0ea7b44a6d",
   "metadata": {},
   "outputs": [
    {
     "data": {
      "text/plain": [
       "0.22703180212014135"
      ]
     },
     "execution_count": 34,
     "metadata": {},
     "output_type": "execute_result"
    }
   ],
   "source": [
    "Default_train.default.sum() / len(Default_train.default)"
   ]
  },
  {
   "cell_type": "markdown",
   "id": "12298706-dab1-482c-a902-1d22c3f874e6",
   "metadata": {},
   "source": [
    "Feature Selection\n",
    "The optimal machine learning problem approach is to perform extensive EDA on dataset and understand properties of the predictors before even getting into training models on these variables. However, this is not always possible. Sometimes the dataset has lot many variables; sometimes even hundreds or even thousands of variables, which can quickly outrun human comprehension.\n",
    "\n",
    "Feature selection is the process of tuning down the number of predictor variables used by the models you build.\n",
    "\n",
    "For example, when faced with two models with the same or nearly the same score, but with the latter model using more variables, your immediate instinct should be to choose the one with fewer variables. That model is simpler to train, simpler to understand, easier to run, and less time consuming.\n",
    "\n",
    "Lets start with feature selection methods & validate them back using manual feature selection using backward elimination approach:\n",
    "\n",
    "Lets try & test features manually using backward elimination approach:\n",
    "Model 1\n",
    "Logistic regression on 'default_smote' dataset"
   ]
  },
  {
   "cell_type": "code",
   "execution_count": 35,
   "id": "68e40aef-7739-4544-ab37-d1919a15ac02",
   "metadata": {},
   "outputs": [
    {
     "name": "stdout",
     "output_type": "stream",
     "text": [
      "Optimization terminated successfully.\n",
      "         Current function value: 0.156125\n",
      "         Iterations 10\n"
     ]
    }
   ],
   "source": [
    "#Creating our first model using all variables\n",
    "model_1 = SM.logit(formula = 'default ~ LIMIT_BAL + AGE + Pay_1 + Pay_2 + Pay_3 + SEX_2 + EDUCATION_2 + EDUCATION_3 + MARRIAGE + FICO_MT700', data=Default_train).fit()"
   ]
  },
  {
   "cell_type": "markdown",
   "id": "30c1362b-9207-4b53-b48e-1900a02d35f4",
   "metadata": {},
   "source": [
    "Checking the coefficients"
   ]
  },
  {
   "cell_type": "code",
   "execution_count": 36,
   "id": "8ae88283-9a14-4340-ba95-ebd9cf5ef26f",
   "metadata": {},
   "outputs": [
    {
     "data": {
      "text/html": [
       "<table class=\"simpletable\">\n",
       "<caption>Logit Regression Results</caption>\n",
       "<tr>\n",
       "  <th>Dep. Variable:</th>        <td>default</td>     <th>  No. Observations:  </th>  <td>  3396</td> \n",
       "</tr>\n",
       "<tr>\n",
       "  <th>Model:</th>                 <td>Logit</td>      <th>  Df Residuals:      </th>  <td>  3385</td> \n",
       "</tr>\n",
       "<tr>\n",
       "  <th>Method:</th>                 <td>MLE</td>       <th>  Df Model:          </th>  <td>    10</td> \n",
       "</tr>\n",
       "<tr>\n",
       "  <th>Date:</th>            <td>Tue, 06 Aug 2024</td> <th>  Pseudo R-squ.:     </th>  <td>0.7085</td> \n",
       "</tr>\n",
       "<tr>\n",
       "  <th>Time:</th>                <td>20:50:13</td>     <th>  Log-Likelihood:    </th> <td> -530.20</td>\n",
       "</tr>\n",
       "<tr>\n",
       "  <th>converged:</th>             <td>True</td>       <th>  LL-Null:           </th> <td> -1819.1</td>\n",
       "</tr>\n",
       "<tr>\n",
       "  <th>Covariance Type:</th>     <td>nonrobust</td>    <th>  LLR p-value:       </th>  <td> 0.000</td> \n",
       "</tr>\n",
       "</table>\n",
       "<table class=\"simpletable\">\n",
       "<tr>\n",
       "           <td></td>              <th>coef</th>     <th>std err</th>      <th>z</th>      <th>P>|z|</th>  <th>[0.025</th>    <th>0.975]</th>  \n",
       "</tr>\n",
       "<tr>\n",
       "  <th>Intercept</th>           <td>    1.2665</td> <td>    0.355</td> <td>    3.572</td> <td> 0.000</td> <td>    0.572</td> <td>    1.961</td>\n",
       "</tr>\n",
       "<tr>\n",
       "  <th>SEX_2[T.True]</th>       <td>   -0.2775</td> <td>    0.160</td> <td>   -1.736</td> <td> 0.083</td> <td>   -0.591</td> <td>    0.036</td>\n",
       "</tr>\n",
       "<tr>\n",
       "  <th>EDUCATION_2[T.True]</th> <td>    0.2892</td> <td>    0.184</td> <td>    1.571</td> <td> 0.116</td> <td>   -0.072</td> <td>    0.650</td>\n",
       "</tr>\n",
       "<tr>\n",
       "  <th>EDUCATION_3[T.True]</th> <td>    0.1400</td> <td>    0.245</td> <td>    0.571</td> <td> 0.568</td> <td>   -0.341</td> <td>    0.621</td>\n",
       "</tr>\n",
       "<tr>\n",
       "  <th>FICO_MT700[T.True]</th>  <td>   -7.7487</td> <td>    0.529</td> <td>  -14.641</td> <td> 0.000</td> <td>   -8.786</td> <td>   -6.711</td>\n",
       "</tr>\n",
       "<tr>\n",
       "  <th>LIMIT_BAL</th>           <td>-1.801e-06</td> <td> 7.13e-07</td> <td>   -2.526</td> <td> 0.012</td> <td> -3.2e-06</td> <td>-4.03e-07</td>\n",
       "</tr>\n",
       "<tr>\n",
       "  <th>AGE</th>                 <td>    0.0039</td> <td>    0.009</td> <td>    0.411</td> <td> 0.681</td> <td>   -0.015</td> <td>    0.022</td>\n",
       "</tr>\n",
       "<tr>\n",
       "  <th>Pay_1</th>               <td>    0.0009</td> <td>    0.020</td> <td>    0.045</td> <td> 0.964</td> <td>   -0.038</td> <td>    0.039</td>\n",
       "</tr>\n",
       "<tr>\n",
       "  <th>Pay_2</th>               <td>    0.0380</td> <td>    0.017</td> <td>    2.254</td> <td> 0.024</td> <td>    0.005</td> <td>    0.071</td>\n",
       "</tr>\n",
       "<tr>\n",
       "  <th>Pay_3</th>               <td>   -0.0743</td> <td>    0.025</td> <td>   -2.964</td> <td> 0.003</td> <td>   -0.123</td> <td>   -0.025</td>\n",
       "</tr>\n",
       "<tr>\n",
       "  <th>MARRIAGE</th>            <td>    0.2802</td> <td>    0.180</td> <td>    1.557</td> <td> 0.120</td> <td>   -0.073</td> <td>    0.633</td>\n",
       "</tr>\n",
       "</table>"
      ],
      "text/latex": [
       "\\begin{center}\n",
       "\\begin{tabular}{lclc}\n",
       "\\toprule\n",
       "\\textbf{Dep. Variable:}       &     default      & \\textbf{  No. Observations:  } &     3396    \\\\\n",
       "\\textbf{Model:}               &      Logit       & \\textbf{  Df Residuals:      } &     3385    \\\\\n",
       "\\textbf{Method:}              &       MLE        & \\textbf{  Df Model:          } &       10    \\\\\n",
       "\\textbf{Date:}                & Tue, 06 Aug 2024 & \\textbf{  Pseudo R-squ.:     } &   0.7085    \\\\\n",
       "\\textbf{Time:}                &     20:50:13     & \\textbf{  Log-Likelihood:    } &   -530.20   \\\\\n",
       "\\textbf{converged:}           &       True       & \\textbf{  LL-Null:           } &   -1819.1   \\\\\n",
       "\\textbf{Covariance Type:}     &    nonrobust     & \\textbf{  LLR p-value:       } &    0.000    \\\\\n",
       "\\bottomrule\n",
       "\\end{tabular}\n",
       "\\begin{tabular}{lcccccc}\n",
       "                              & \\textbf{coef} & \\textbf{std err} & \\textbf{z} & \\textbf{P$> |$z$|$} & \\textbf{[0.025} & \\textbf{0.975]}  \\\\\n",
       "\\midrule\n",
       "\\textbf{Intercept}            &       1.2665  &        0.355     &     3.572  &         0.000        &        0.572    &        1.961     \\\\\n",
       "\\textbf{SEX\\_2[T.True]}       &      -0.2775  &        0.160     &    -1.736  &         0.083        &       -0.591    &        0.036     \\\\\n",
       "\\textbf{EDUCATION\\_2[T.True]} &       0.2892  &        0.184     &     1.571  &         0.116        &       -0.072    &        0.650     \\\\\n",
       "\\textbf{EDUCATION\\_3[T.True]} &       0.1400  &        0.245     &     0.571  &         0.568        &       -0.341    &        0.621     \\\\\n",
       "\\textbf{FICO\\_MT700[T.True]}  &      -7.7487  &        0.529     &   -14.641  &         0.000        &       -8.786    &       -6.711     \\\\\n",
       "\\textbf{LIMIT\\_BAL}           &   -1.801e-06  &     7.13e-07     &    -2.526  &         0.012        &     -3.2e-06    &    -4.03e-07     \\\\\n",
       "\\textbf{AGE}                  &       0.0039  &        0.009     &     0.411  &         0.681        &       -0.015    &        0.022     \\\\\n",
       "\\textbf{Pay\\_1}               &       0.0009  &        0.020     &     0.045  &         0.964        &       -0.038    &        0.039     \\\\\n",
       "\\textbf{Pay\\_2}               &       0.0380  &        0.017     &     2.254  &         0.024        &        0.005    &        0.071     \\\\\n",
       "\\textbf{Pay\\_3}               &      -0.0743  &        0.025     &    -2.964  &         0.003        &       -0.123    &       -0.025     \\\\\n",
       "\\textbf{MARRIAGE}             &       0.2802  &        0.180     &     1.557  &         0.120        &       -0.073    &        0.633     \\\\\n",
       "\\bottomrule\n",
       "\\end{tabular}\n",
       "%\\caption{Logit Regression Results}\n",
       "\\end{center}"
      ],
      "text/plain": [
       "<class 'statsmodels.iolib.summary.Summary'>\n",
       "\"\"\"\n",
       "                           Logit Regression Results                           \n",
       "==============================================================================\n",
       "Dep. Variable:                default   No. Observations:                 3396\n",
       "Model:                          Logit   Df Residuals:                     3385\n",
       "Method:                           MLE   Df Model:                           10\n",
       "Date:                Tue, 06 Aug 2024   Pseudo R-squ.:                  0.7085\n",
       "Time:                        20:50:13   Log-Likelihood:                -530.20\n",
       "converged:                       True   LL-Null:                       -1819.1\n",
       "Covariance Type:            nonrobust   LLR p-value:                     0.000\n",
       "=======================================================================================\n",
       "                          coef    std err          z      P>|z|      [0.025      0.975]\n",
       "---------------------------------------------------------------------------------------\n",
       "Intercept               1.2665      0.355      3.572      0.000       0.572       1.961\n",
       "SEX_2[T.True]          -0.2775      0.160     -1.736      0.083      -0.591       0.036\n",
       "EDUCATION_2[T.True]     0.2892      0.184      1.571      0.116      -0.072       0.650\n",
       "EDUCATION_3[T.True]     0.1400      0.245      0.571      0.568      -0.341       0.621\n",
       "FICO_MT700[T.True]     -7.7487      0.529    -14.641      0.000      -8.786      -6.711\n",
       "LIMIT_BAL           -1.801e-06   7.13e-07     -2.526      0.012    -3.2e-06   -4.03e-07\n",
       "AGE                     0.0039      0.009      0.411      0.681      -0.015       0.022\n",
       "Pay_1                   0.0009      0.020      0.045      0.964      -0.038       0.039\n",
       "Pay_2                   0.0380      0.017      2.254      0.024       0.005       0.071\n",
       "Pay_3                  -0.0743      0.025     -2.964      0.003      -0.123      -0.025\n",
       "MARRIAGE                0.2802      0.180      1.557      0.120      -0.073       0.633\n",
       "=======================================================================================\n",
       "\"\"\""
      ]
     },
     "execution_count": 36,
     "metadata": {},
     "output_type": "execute_result"
    }
   ],
   "source": [
    "model_1.summary()"
   ]
  },
  {
   "cell_type": "markdown",
   "id": "b49c280e-4f44-4d9e-a3a0-c3cc62ac70a7",
   "metadata": {},
   "source": [
    "Model 2"
   ]
  },
  {
   "cell_type": "code",
   "execution_count": 37,
   "id": "8457a8f8-2c89-4c7e-9718-cf3db4137e8b",
   "metadata": {},
   "outputs": [
    {
     "name": "stdout",
     "output_type": "stream",
     "text": [
      "Optimization terminated successfully.\n",
      "         Current function value: 0.156125\n",
      "         Iterations 10\n"
     ]
    }
   ],
   "source": [
    "model_2 = SM.logit(formula = 'default ~ LIMIT_BAL + AGE + Pay_2 + Pay_3 + SEX_2 + EDUCATION_2 + EDUCATION_3 + MARRIAGE + FICO_MT700', data=Default_train).fit()"
   ]
  },
  {
   "cell_type": "code",
   "execution_count": 38,
   "id": "da4a2195-96e9-49e1-8af5-ab31f2da8c9e",
   "metadata": {},
   "outputs": [
    {
     "data": {
      "text/html": [
       "<table class=\"simpletable\">\n",
       "<caption>Logit Regression Results</caption>\n",
       "<tr>\n",
       "  <th>Dep. Variable:</th>        <td>default</td>     <th>  No. Observations:  </th>  <td>  3396</td> \n",
       "</tr>\n",
       "<tr>\n",
       "  <th>Model:</th>                 <td>Logit</td>      <th>  Df Residuals:      </th>  <td>  3386</td> \n",
       "</tr>\n",
       "<tr>\n",
       "  <th>Method:</th>                 <td>MLE</td>       <th>  Df Model:          </th>  <td>     9</td> \n",
       "</tr>\n",
       "<tr>\n",
       "  <th>Date:</th>            <td>Tue, 06 Aug 2024</td> <th>  Pseudo R-squ.:     </th>  <td>0.7085</td> \n",
       "</tr>\n",
       "<tr>\n",
       "  <th>Time:</th>                <td>20:51:07</td>     <th>  Log-Likelihood:    </th> <td> -530.20</td>\n",
       "</tr>\n",
       "<tr>\n",
       "  <th>converged:</th>             <td>True</td>       <th>  LL-Null:           </th> <td> -1819.1</td>\n",
       "</tr>\n",
       "<tr>\n",
       "  <th>Covariance Type:</th>     <td>nonrobust</td>    <th>  LLR p-value:       </th>  <td> 0.000</td> \n",
       "</tr>\n",
       "</table>\n",
       "<table class=\"simpletable\">\n",
       "<tr>\n",
       "           <td></td>              <th>coef</th>     <th>std err</th>      <th>z</th>      <th>P>|z|</th>  <th>[0.025</th>    <th>0.975]</th>  \n",
       "</tr>\n",
       "<tr>\n",
       "  <th>Intercept</th>           <td>    1.2669</td> <td>    0.354</td> <td>    3.575</td> <td> 0.000</td> <td>    0.572</td> <td>    1.962</td>\n",
       "</tr>\n",
       "<tr>\n",
       "  <th>SEX_2[T.True]</th>       <td>   -0.2771</td> <td>    0.160</td> <td>   -1.736</td> <td> 0.083</td> <td>   -0.590</td> <td>    0.036</td>\n",
       "</tr>\n",
       "<tr>\n",
       "  <th>EDUCATION_2[T.True]</th> <td>    0.2886</td> <td>    0.184</td> <td>    1.572</td> <td> 0.116</td> <td>   -0.071</td> <td>    0.649</td>\n",
       "</tr>\n",
       "<tr>\n",
       "  <th>EDUCATION_3[T.True]</th> <td>    0.1394</td> <td>    0.245</td> <td>    0.569</td> <td> 0.569</td> <td>   -0.341</td> <td>    0.619</td>\n",
       "</tr>\n",
       "<tr>\n",
       "  <th>FICO_MT700[T.True]</th>  <td>   -7.7487</td> <td>    0.529</td> <td>  -14.641</td> <td> 0.000</td> <td>   -8.786</td> <td>   -6.711</td>\n",
       "</tr>\n",
       "<tr>\n",
       "  <th>LIMIT_BAL</th>           <td>-1.799e-06</td> <td> 7.12e-07</td> <td>   -2.527</td> <td> 0.011</td> <td>-3.19e-06</td> <td>-4.04e-07</td>\n",
       "</tr>\n",
       "<tr>\n",
       "  <th>AGE</th>                 <td>    0.0038</td> <td>    0.009</td> <td>    0.410</td> <td> 0.682</td> <td>   -0.015</td> <td>    0.022</td>\n",
       "</tr>\n",
       "<tr>\n",
       "  <th>Pay_2</th>               <td>    0.0380</td> <td>    0.017</td> <td>    2.253</td> <td> 0.024</td> <td>    0.005</td> <td>    0.071</td>\n",
       "</tr>\n",
       "<tr>\n",
       "  <th>Pay_3</th>               <td>   -0.0743</td> <td>    0.025</td> <td>   -2.964</td> <td> 0.003</td> <td>   -0.123</td> <td>   -0.025</td>\n",
       "</tr>\n",
       "<tr>\n",
       "  <th>MARRIAGE</th>            <td>    0.2806</td> <td>    0.180</td> <td>    1.560</td> <td> 0.119</td> <td>   -0.072</td> <td>    0.633</td>\n",
       "</tr>\n",
       "</table>"
      ],
      "text/latex": [
       "\\begin{center}\n",
       "\\begin{tabular}{lclc}\n",
       "\\toprule\n",
       "\\textbf{Dep. Variable:}       &     default      & \\textbf{  No. Observations:  } &     3396    \\\\\n",
       "\\textbf{Model:}               &      Logit       & \\textbf{  Df Residuals:      } &     3386    \\\\\n",
       "\\textbf{Method:}              &       MLE        & \\textbf{  Df Model:          } &        9    \\\\\n",
       "\\textbf{Date:}                & Tue, 06 Aug 2024 & \\textbf{  Pseudo R-squ.:     } &   0.7085    \\\\\n",
       "\\textbf{Time:}                &     20:51:07     & \\textbf{  Log-Likelihood:    } &   -530.20   \\\\\n",
       "\\textbf{converged:}           &       True       & \\textbf{  LL-Null:           } &   -1819.1   \\\\\n",
       "\\textbf{Covariance Type:}     &    nonrobust     & \\textbf{  LLR p-value:       } &    0.000    \\\\\n",
       "\\bottomrule\n",
       "\\end{tabular}\n",
       "\\begin{tabular}{lcccccc}\n",
       "                              & \\textbf{coef} & \\textbf{std err} & \\textbf{z} & \\textbf{P$> |$z$|$} & \\textbf{[0.025} & \\textbf{0.975]}  \\\\\n",
       "\\midrule\n",
       "\\textbf{Intercept}            &       1.2669  &        0.354     &     3.575  &         0.000        &        0.572    &        1.962     \\\\\n",
       "\\textbf{SEX\\_2[T.True]}       &      -0.2771  &        0.160     &    -1.736  &         0.083        &       -0.590    &        0.036     \\\\\n",
       "\\textbf{EDUCATION\\_2[T.True]} &       0.2886  &        0.184     &     1.572  &         0.116        &       -0.071    &        0.649     \\\\\n",
       "\\textbf{EDUCATION\\_3[T.True]} &       0.1394  &        0.245     &     0.569  &         0.569        &       -0.341    &        0.619     \\\\\n",
       "\\textbf{FICO\\_MT700[T.True]}  &      -7.7487  &        0.529     &   -14.641  &         0.000        &       -8.786    &       -6.711     \\\\\n",
       "\\textbf{LIMIT\\_BAL}           &   -1.799e-06  &     7.12e-07     &    -2.527  &         0.011        &    -3.19e-06    &    -4.04e-07     \\\\\n",
       "\\textbf{AGE}                  &       0.0038  &        0.009     &     0.410  &         0.682        &       -0.015    &        0.022     \\\\\n",
       "\\textbf{Pay\\_2}               &       0.0380  &        0.017     &     2.253  &         0.024        &        0.005    &        0.071     \\\\\n",
       "\\textbf{Pay\\_3}               &      -0.0743  &        0.025     &    -2.964  &         0.003        &       -0.123    &       -0.025     \\\\\n",
       "\\textbf{MARRIAGE}             &       0.2806  &        0.180     &     1.560  &         0.119        &       -0.072    &        0.633     \\\\\n",
       "\\bottomrule\n",
       "\\end{tabular}\n",
       "%\\caption{Logit Regression Results}\n",
       "\\end{center}"
      ],
      "text/plain": [
       "<class 'statsmodels.iolib.summary.Summary'>\n",
       "\"\"\"\n",
       "                           Logit Regression Results                           \n",
       "==============================================================================\n",
       "Dep. Variable:                default   No. Observations:                 3396\n",
       "Model:                          Logit   Df Residuals:                     3386\n",
       "Method:                           MLE   Df Model:                            9\n",
       "Date:                Tue, 06 Aug 2024   Pseudo R-squ.:                  0.7085\n",
       "Time:                        20:51:07   Log-Likelihood:                -530.20\n",
       "converged:                       True   LL-Null:                       -1819.1\n",
       "Covariance Type:            nonrobust   LLR p-value:                     0.000\n",
       "=======================================================================================\n",
       "                          coef    std err          z      P>|z|      [0.025      0.975]\n",
       "---------------------------------------------------------------------------------------\n",
       "Intercept               1.2669      0.354      3.575      0.000       0.572       1.962\n",
       "SEX_2[T.True]          -0.2771      0.160     -1.736      0.083      -0.590       0.036\n",
       "EDUCATION_2[T.True]     0.2886      0.184      1.572      0.116      -0.071       0.649\n",
       "EDUCATION_3[T.True]     0.1394      0.245      0.569      0.569      -0.341       0.619\n",
       "FICO_MT700[T.True]     -7.7487      0.529    -14.641      0.000      -8.786      -6.711\n",
       "LIMIT_BAL           -1.799e-06   7.12e-07     -2.527      0.011   -3.19e-06   -4.04e-07\n",
       "AGE                     0.0038      0.009      0.410      0.682      -0.015       0.022\n",
       "Pay_2                   0.0380      0.017      2.253      0.024       0.005       0.071\n",
       "Pay_3                  -0.0743      0.025     -2.964      0.003      -0.123      -0.025\n",
       "MARRIAGE                0.2806      0.180      1.560      0.119      -0.072       0.633\n",
       "=======================================================================================\n",
       "\"\"\""
      ]
     },
     "execution_count": 38,
     "metadata": {},
     "output_type": "execute_result"
    }
   ],
   "source": [
    "model_2.summary()"
   ]
  },
  {
   "cell_type": "markdown",
   "id": "ac40ed2e-5bff-470c-a72d-bf024e332ec3",
   "metadata": {},
   "source": [
    "Now, AGE has the highest p-value and is insignificant, therefore, we need to eliminate it."
   ]
  },
  {
   "cell_type": "code",
   "execution_count": 39,
   "id": "e985468f-1fc8-484f-aef7-6c7f406c1e2c",
   "metadata": {},
   "outputs": [
    {
     "name": "stdout",
     "output_type": "stream",
     "text": [
      "Optimization terminated successfully.\n",
      "         Current function value: 0.156150\n",
      "         Iterations 10\n"
     ]
    }
   ],
   "source": [
    "model_3 = SM.logit(formula = 'default ~ LIMIT_BAL + Pay_2 + Pay_3 + SEX_2 + EDUCATION_2 + EDUCATION_3 + MARRIAGE + FICO_MT700', data=Default_train).fit()"
   ]
  },
  {
   "cell_type": "code",
   "execution_count": 40,
   "id": "94dee985-da36-42dc-b267-04d1c01a7613",
   "metadata": {},
   "outputs": [
    {
     "data": {
      "text/html": [
       "<table class=\"simpletable\">\n",
       "<caption>Logit Regression Results</caption>\n",
       "<tr>\n",
       "  <th>Dep. Variable:</th>        <td>default</td>     <th>  No. Observations:  </th>  <td>  3396</td> \n",
       "</tr>\n",
       "<tr>\n",
       "  <th>Model:</th>                 <td>Logit</td>      <th>  Df Residuals:      </th>  <td>  3387</td> \n",
       "</tr>\n",
       "<tr>\n",
       "  <th>Method:</th>                 <td>MLE</td>       <th>  Df Model:          </th>  <td>     8</td> \n",
       "</tr>\n",
       "<tr>\n",
       "  <th>Date:</th>            <td>Tue, 06 Aug 2024</td> <th>  Pseudo R-squ.:     </th>  <td>0.7085</td> \n",
       "</tr>\n",
       "<tr>\n",
       "  <th>Time:</th>                <td>20:51:53</td>     <th>  Log-Likelihood:    </th> <td> -530.29</td>\n",
       "</tr>\n",
       "<tr>\n",
       "  <th>converged:</th>             <td>True</td>       <th>  LL-Null:           </th> <td> -1819.1</td>\n",
       "</tr>\n",
       "<tr>\n",
       "  <th>Covariance Type:</th>     <td>nonrobust</td>    <th>  LLR p-value:       </th>  <td> 0.000</td> \n",
       "</tr>\n",
       "</table>\n",
       "<table class=\"simpletable\">\n",
       "<tr>\n",
       "           <td></td>              <th>coef</th>     <th>std err</th>      <th>z</th>      <th>P>|z|</th>  <th>[0.025</th>    <th>0.975]</th>  \n",
       "</tr>\n",
       "<tr>\n",
       "  <th>Intercept</th>           <td>    1.3842</td> <td>    0.210</td> <td>    6.587</td> <td> 0.000</td> <td>    0.972</td> <td>    1.796</td>\n",
       "</tr>\n",
       "<tr>\n",
       "  <th>SEX_2[T.True]</th>       <td>   -0.2833</td> <td>    0.159</td> <td>   -1.783</td> <td> 0.075</td> <td>   -0.595</td> <td>    0.028</td>\n",
       "</tr>\n",
       "<tr>\n",
       "  <th>EDUCATION_2[T.True]</th> <td>    0.2849</td> <td>    0.183</td> <td>    1.554</td> <td> 0.120</td> <td>   -0.074</td> <td>    0.644</td>\n",
       "</tr>\n",
       "<tr>\n",
       "  <th>EDUCATION_3[T.True]</th> <td>    0.1537</td> <td>    0.242</td> <td>    0.634</td> <td> 0.526</td> <td>   -0.322</td> <td>    0.629</td>\n",
       "</tr>\n",
       "<tr>\n",
       "  <th>FICO_MT700[T.True]</th>  <td>   -7.7484</td> <td>    0.529</td> <td>  -14.636</td> <td> 0.000</td> <td>   -8.786</td> <td>   -6.711</td>\n",
       "</tr>\n",
       "<tr>\n",
       "  <th>LIMIT_BAL</th>           <td>-1.753e-06</td> <td> 7.02e-07</td> <td>   -2.495</td> <td> 0.013</td> <td>-3.13e-06</td> <td>-3.76e-07</td>\n",
       "</tr>\n",
       "<tr>\n",
       "  <th>Pay_2</th>               <td>    0.0384</td> <td>    0.017</td> <td>    2.281</td> <td> 0.023</td> <td>    0.005</td> <td>    0.071</td>\n",
       "</tr>\n",
       "<tr>\n",
       "  <th>Pay_3</th>               <td>   -0.0744</td> <td>    0.025</td> <td>   -2.972</td> <td> 0.003</td> <td>   -0.123</td> <td>   -0.025</td>\n",
       "</tr>\n",
       "<tr>\n",
       "  <th>MARRIAGE</th>            <td>    0.3124</td> <td>    0.162</td> <td>    1.924</td> <td> 0.054</td> <td>   -0.006</td> <td>    0.631</td>\n",
       "</tr>\n",
       "</table>"
      ],
      "text/latex": [
       "\\begin{center}\n",
       "\\begin{tabular}{lclc}\n",
       "\\toprule\n",
       "\\textbf{Dep. Variable:}       &     default      & \\textbf{  No. Observations:  } &     3396    \\\\\n",
       "\\textbf{Model:}               &      Logit       & \\textbf{  Df Residuals:      } &     3387    \\\\\n",
       "\\textbf{Method:}              &       MLE        & \\textbf{  Df Model:          } &        8    \\\\\n",
       "\\textbf{Date:}                & Tue, 06 Aug 2024 & \\textbf{  Pseudo R-squ.:     } &   0.7085    \\\\\n",
       "\\textbf{Time:}                &     20:51:53     & \\textbf{  Log-Likelihood:    } &   -530.29   \\\\\n",
       "\\textbf{converged:}           &       True       & \\textbf{  LL-Null:           } &   -1819.1   \\\\\n",
       "\\textbf{Covariance Type:}     &    nonrobust     & \\textbf{  LLR p-value:       } &    0.000    \\\\\n",
       "\\bottomrule\n",
       "\\end{tabular}\n",
       "\\begin{tabular}{lcccccc}\n",
       "                              & \\textbf{coef} & \\textbf{std err} & \\textbf{z} & \\textbf{P$> |$z$|$} & \\textbf{[0.025} & \\textbf{0.975]}  \\\\\n",
       "\\midrule\n",
       "\\textbf{Intercept}            &       1.3842  &        0.210     &     6.587  &         0.000        &        0.972    &        1.796     \\\\\n",
       "\\textbf{SEX\\_2[T.True]}       &      -0.2833  &        0.159     &    -1.783  &         0.075        &       -0.595    &        0.028     \\\\\n",
       "\\textbf{EDUCATION\\_2[T.True]} &       0.2849  &        0.183     &     1.554  &         0.120        &       -0.074    &        0.644     \\\\\n",
       "\\textbf{EDUCATION\\_3[T.True]} &       0.1537  &        0.242     &     0.634  &         0.526        &       -0.322    &        0.629     \\\\\n",
       "\\textbf{FICO\\_MT700[T.True]}  &      -7.7484  &        0.529     &   -14.636  &         0.000        &       -8.786    &       -6.711     \\\\\n",
       "\\textbf{LIMIT\\_BAL}           &   -1.753e-06  &     7.02e-07     &    -2.495  &         0.013        &    -3.13e-06    &    -3.76e-07     \\\\\n",
       "\\textbf{Pay\\_2}               &       0.0384  &        0.017     &     2.281  &         0.023        &        0.005    &        0.071     \\\\\n",
       "\\textbf{Pay\\_3}               &      -0.0744  &        0.025     &    -2.972  &         0.003        &       -0.123    &       -0.025     \\\\\n",
       "\\textbf{MARRIAGE}             &       0.3124  &        0.162     &     1.924  &         0.054        &       -0.006    &        0.631     \\\\\n",
       "\\bottomrule\n",
       "\\end{tabular}\n",
       "%\\caption{Logit Regression Results}\n",
       "\\end{center}"
      ],
      "text/plain": [
       "<class 'statsmodels.iolib.summary.Summary'>\n",
       "\"\"\"\n",
       "                           Logit Regression Results                           \n",
       "==============================================================================\n",
       "Dep. Variable:                default   No. Observations:                 3396\n",
       "Model:                          Logit   Df Residuals:                     3387\n",
       "Method:                           MLE   Df Model:                            8\n",
       "Date:                Tue, 06 Aug 2024   Pseudo R-squ.:                  0.7085\n",
       "Time:                        20:51:53   Log-Likelihood:                -530.29\n",
       "converged:                       True   LL-Null:                       -1819.1\n",
       "Covariance Type:            nonrobust   LLR p-value:                     0.000\n",
       "=======================================================================================\n",
       "                          coef    std err          z      P>|z|      [0.025      0.975]\n",
       "---------------------------------------------------------------------------------------\n",
       "Intercept               1.3842      0.210      6.587      0.000       0.972       1.796\n",
       "SEX_2[T.True]          -0.2833      0.159     -1.783      0.075      -0.595       0.028\n",
       "EDUCATION_2[T.True]     0.2849      0.183      1.554      0.120      -0.074       0.644\n",
       "EDUCATION_3[T.True]     0.1537      0.242      0.634      0.526      -0.322       0.629\n",
       "FICO_MT700[T.True]     -7.7484      0.529    -14.636      0.000      -8.786      -6.711\n",
       "LIMIT_BAL           -1.753e-06   7.02e-07     -2.495      0.013   -3.13e-06   -3.76e-07\n",
       "Pay_2                   0.0384      0.017      2.281      0.023       0.005       0.071\n",
       "Pay_3                  -0.0744      0.025     -2.972      0.003      -0.123      -0.025\n",
       "MARRIAGE                0.3124      0.162      1.924      0.054      -0.006       0.631\n",
       "=======================================================================================\n",
       "\"\"\""
      ]
     },
     "execution_count": 40,
     "metadata": {},
     "output_type": "execute_result"
    }
   ],
   "source": [
    "model_3.summary()"
   ]
  },
  {
   "cell_type": "markdown",
   "id": "849b6b79-f59d-4713-8bb8-cf714faf78dc",
   "metadata": {},
   "source": [
    "Eliminating Education_3"
   ]
  },
  {
   "cell_type": "code",
   "execution_count": 41,
   "id": "0984e985-a8ae-42da-a604-33ba71e112c0",
   "metadata": {},
   "outputs": [
    {
     "name": "stdout",
     "output_type": "stream",
     "text": [
      "Optimization terminated successfully.\n",
      "         Current function value: 0.156210\n",
      "         Iterations 10\n"
     ]
    }
   ],
   "source": [
    "model_4 = SM.logit(formula = 'default ~ LIMIT_BAL + Pay_2 + Pay_3 + SEX_2 + EDUCATION_2 + MARRIAGE + FICO_MT700', data=Default_train).fit()"
   ]
  },
  {
   "cell_type": "code",
   "execution_count": 42,
   "id": "ea8a175c-c7ad-427d-bf13-b7b591f395e4",
   "metadata": {},
   "outputs": [
    {
     "data": {
      "text/html": [
       "<table class=\"simpletable\">\n",
       "<caption>Logit Regression Results</caption>\n",
       "<tr>\n",
       "  <th>Dep. Variable:</th>        <td>default</td>     <th>  No. Observations:  </th>  <td>  3396</td> \n",
       "</tr>\n",
       "<tr>\n",
       "  <th>Model:</th>                 <td>Logit</td>      <th>  Df Residuals:      </th>  <td>  3388</td> \n",
       "</tr>\n",
       "<tr>\n",
       "  <th>Method:</th>                 <td>MLE</td>       <th>  Df Model:          </th>  <td>     7</td> \n",
       "</tr>\n",
       "<tr>\n",
       "  <th>Date:</th>            <td>Tue, 06 Aug 2024</td> <th>  Pseudo R-squ.:     </th>  <td>0.7084</td> \n",
       "</tr>\n",
       "<tr>\n",
       "  <th>Time:</th>                <td>20:52:25</td>     <th>  Log-Likelihood:    </th> <td> -530.49</td>\n",
       "</tr>\n",
       "<tr>\n",
       "  <th>converged:</th>             <td>True</td>       <th>  LL-Null:           </th> <td> -1819.1</td>\n",
       "</tr>\n",
       "<tr>\n",
       "  <th>Covariance Type:</th>     <td>nonrobust</td>    <th>  LLR p-value:       </th>  <td> 0.000</td> \n",
       "</tr>\n",
       "</table>\n",
       "<table class=\"simpletable\">\n",
       "<tr>\n",
       "           <td></td>              <th>coef</th>     <th>std err</th>      <th>z</th>      <th>P>|z|</th>  <th>[0.025</th>    <th>0.975]</th>  \n",
       "</tr>\n",
       "<tr>\n",
       "  <th>Intercept</th>           <td>    1.4486</td> <td>    0.185</td> <td>    7.835</td> <td> 0.000</td> <td>    1.086</td> <td>    1.811</td>\n",
       "</tr>\n",
       "<tr>\n",
       "  <th>SEX_2[T.True]</th>       <td>   -0.2835</td> <td>    0.159</td> <td>   -1.785</td> <td> 0.074</td> <td>   -0.595</td> <td>    0.028</td>\n",
       "</tr>\n",
       "<tr>\n",
       "  <th>EDUCATION_2[T.True]</th> <td>    0.2244</td> <td>    0.157</td> <td>    1.426</td> <td> 0.154</td> <td>   -0.084</td> <td>    0.533</td>\n",
       "</tr>\n",
       "<tr>\n",
       "  <th>FICO_MT700[T.True]</th>  <td>   -7.7439</td> <td>    0.529</td> <td>  -14.636</td> <td> 0.000</td> <td>   -8.781</td> <td>   -6.707</td>\n",
       "</tr>\n",
       "<tr>\n",
       "  <th>LIMIT_BAL</th>           <td>-1.871e-06</td> <td> 6.76e-07</td> <td>   -2.767</td> <td> 0.006</td> <td> -3.2e-06</td> <td>-5.46e-07</td>\n",
       "</tr>\n",
       "<tr>\n",
       "  <th>Pay_2</th>               <td>    0.0383</td> <td>    0.017</td> <td>    2.264</td> <td> 0.024</td> <td>    0.005</td> <td>    0.071</td>\n",
       "</tr>\n",
       "<tr>\n",
       "  <th>Pay_3</th>               <td>   -0.0744</td> <td>    0.025</td> <td>   -2.967</td> <td> 0.003</td> <td>   -0.124</td> <td>   -0.025</td>\n",
       "</tr>\n",
       "<tr>\n",
       "  <th>MARRIAGE</th>            <td>    0.3343</td> <td>    0.159</td> <td>    2.107</td> <td> 0.035</td> <td>    0.023</td> <td>    0.645</td>\n",
       "</tr>\n",
       "</table>"
      ],
      "text/latex": [
       "\\begin{center}\n",
       "\\begin{tabular}{lclc}\n",
       "\\toprule\n",
       "\\textbf{Dep. Variable:}       &     default      & \\textbf{  No. Observations:  } &     3396    \\\\\n",
       "\\textbf{Model:}               &      Logit       & \\textbf{  Df Residuals:      } &     3388    \\\\\n",
       "\\textbf{Method:}              &       MLE        & \\textbf{  Df Model:          } &        7    \\\\\n",
       "\\textbf{Date:}                & Tue, 06 Aug 2024 & \\textbf{  Pseudo R-squ.:     } &   0.7084    \\\\\n",
       "\\textbf{Time:}                &     20:52:25     & \\textbf{  Log-Likelihood:    } &   -530.49   \\\\\n",
       "\\textbf{converged:}           &       True       & \\textbf{  LL-Null:           } &   -1819.1   \\\\\n",
       "\\textbf{Covariance Type:}     &    nonrobust     & \\textbf{  LLR p-value:       } &    0.000    \\\\\n",
       "\\bottomrule\n",
       "\\end{tabular}\n",
       "\\begin{tabular}{lcccccc}\n",
       "                              & \\textbf{coef} & \\textbf{std err} & \\textbf{z} & \\textbf{P$> |$z$|$} & \\textbf{[0.025} & \\textbf{0.975]}  \\\\\n",
       "\\midrule\n",
       "\\textbf{Intercept}            &       1.4486  &        0.185     &     7.835  &         0.000        &        1.086    &        1.811     \\\\\n",
       "\\textbf{SEX\\_2[T.True]}       &      -0.2835  &        0.159     &    -1.785  &         0.074        &       -0.595    &        0.028     \\\\\n",
       "\\textbf{EDUCATION\\_2[T.True]} &       0.2244  &        0.157     &     1.426  &         0.154        &       -0.084    &        0.533     \\\\\n",
       "\\textbf{FICO\\_MT700[T.True]}  &      -7.7439  &        0.529     &   -14.636  &         0.000        &       -8.781    &       -6.707     \\\\\n",
       "\\textbf{LIMIT\\_BAL}           &   -1.871e-06  &     6.76e-07     &    -2.767  &         0.006        &     -3.2e-06    &    -5.46e-07     \\\\\n",
       "\\textbf{Pay\\_2}               &       0.0383  &        0.017     &     2.264  &         0.024        &        0.005    &        0.071     \\\\\n",
       "\\textbf{Pay\\_3}               &      -0.0744  &        0.025     &    -2.967  &         0.003        &       -0.124    &       -0.025     \\\\\n",
       "\\textbf{MARRIAGE}             &       0.3343  &        0.159     &     2.107  &         0.035        &        0.023    &        0.645     \\\\\n",
       "\\bottomrule\n",
       "\\end{tabular}\n",
       "%\\caption{Logit Regression Results}\n",
       "\\end{center}"
      ],
      "text/plain": [
       "<class 'statsmodels.iolib.summary.Summary'>\n",
       "\"\"\"\n",
       "                           Logit Regression Results                           \n",
       "==============================================================================\n",
       "Dep. Variable:                default   No. Observations:                 3396\n",
       "Model:                          Logit   Df Residuals:                     3388\n",
       "Method:                           MLE   Df Model:                            7\n",
       "Date:                Tue, 06 Aug 2024   Pseudo R-squ.:                  0.7084\n",
       "Time:                        20:52:25   Log-Likelihood:                -530.49\n",
       "converged:                       True   LL-Null:                       -1819.1\n",
       "Covariance Type:            nonrobust   LLR p-value:                     0.000\n",
       "=======================================================================================\n",
       "                          coef    std err          z      P>|z|      [0.025      0.975]\n",
       "---------------------------------------------------------------------------------------\n",
       "Intercept               1.4486      0.185      7.835      0.000       1.086       1.811\n",
       "SEX_2[T.True]          -0.2835      0.159     -1.785      0.074      -0.595       0.028\n",
       "EDUCATION_2[T.True]     0.2244      0.157      1.426      0.154      -0.084       0.533\n",
       "FICO_MT700[T.True]     -7.7439      0.529    -14.636      0.000      -8.781      -6.707\n",
       "LIMIT_BAL           -1.871e-06   6.76e-07     -2.767      0.006    -3.2e-06   -5.46e-07\n",
       "Pay_2                   0.0383      0.017      2.264      0.024       0.005       0.071\n",
       "Pay_3                  -0.0744      0.025     -2.967      0.003      -0.124      -0.025\n",
       "MARRIAGE                0.3343      0.159      2.107      0.035       0.023       0.645\n",
       "=======================================================================================\n",
       "\"\"\""
      ]
     },
     "execution_count": 42,
     "metadata": {},
     "output_type": "execute_result"
    }
   ],
   "source": [
    "model_4.summary()"
   ]
  },
  {
   "cell_type": "markdown",
   "id": "3dff1a6f-52ed-4fe9-ab2c-265d56308d14",
   "metadata": {},
   "source": [
    "Eliminating Education_2"
   ]
  },
  {
   "cell_type": "code",
   "execution_count": 43,
   "id": "e56925ab-1d37-4519-95d3-fd5d8d427f3f",
   "metadata": {},
   "outputs": [
    {
     "name": "stdout",
     "output_type": "stream",
     "text": [
      "Optimization terminated successfully.\n",
      "         Current function value: 0.156509\n",
      "         Iterations 10\n"
     ]
    }
   ],
   "source": [
    "model_5 = SM.logit(formula = 'default ~ LIMIT_BAL + Pay_2 + Pay_3 + SEX_2 + MARRIAGE + FICO_MT700', data=Default_train).fit()"
   ]
  },
  {
   "cell_type": "code",
   "execution_count": 44,
   "id": "b0aae565-316e-46d1-94e1-8a8d76d2e812",
   "metadata": {},
   "outputs": [
    {
     "data": {
      "text/html": [
       "<table class=\"simpletable\">\n",
       "<caption>Logit Regression Results</caption>\n",
       "<tr>\n",
       "  <th>Dep. Variable:</th>        <td>default</td>     <th>  No. Observations:  </th>  <td>  3396</td> \n",
       "</tr>\n",
       "<tr>\n",
       "  <th>Model:</th>                 <td>Logit</td>      <th>  Df Residuals:      </th>  <td>  3389</td> \n",
       "</tr>\n",
       "<tr>\n",
       "  <th>Method:</th>                 <td>MLE</td>       <th>  Df Model:          </th>  <td>     6</td> \n",
       "</tr>\n",
       "<tr>\n",
       "  <th>Date:</th>            <td>Tue, 06 Aug 2024</td> <th>  Pseudo R-squ.:     </th>  <td>0.7078</td> \n",
       "</tr>\n",
       "<tr>\n",
       "  <th>Time:</th>                <td>20:52:57</td>     <th>  Log-Likelihood:    </th> <td> -531.50</td>\n",
       "</tr>\n",
       "<tr>\n",
       "  <th>converged:</th>             <td>True</td>       <th>  LL-Null:           </th> <td> -1819.1</td>\n",
       "</tr>\n",
       "<tr>\n",
       "  <th>Covariance Type:</th>     <td>nonrobust</td>    <th>  LLR p-value:       </th>  <td> 0.000</td> \n",
       "</tr>\n",
       "</table>\n",
       "<table class=\"simpletable\">\n",
       "<tr>\n",
       "           <td></td>             <th>coef</th>     <th>std err</th>      <th>z</th>      <th>P>|z|</th>  <th>[0.025</th>    <th>0.975]</th>  \n",
       "</tr>\n",
       "<tr>\n",
       "  <th>Intercept</th>          <td>    1.5765</td> <td>    0.163</td> <td>    9.672</td> <td> 0.000</td> <td>    1.257</td> <td>    1.896</td>\n",
       "</tr>\n",
       "<tr>\n",
       "  <th>SEX_2[T.True]</th>      <td>   -0.2801</td> <td>    0.159</td> <td>   -1.765</td> <td> 0.077</td> <td>   -0.591</td> <td>    0.031</td>\n",
       "</tr>\n",
       "<tr>\n",
       "  <th>FICO_MT700[T.True]</th> <td>   -7.7406</td> <td>    0.529</td> <td>  -14.637</td> <td> 0.000</td> <td>   -8.777</td> <td>   -6.704</td>\n",
       "</tr>\n",
       "<tr>\n",
       "  <th>LIMIT_BAL</th>          <td>-2.033e-06</td> <td> 6.66e-07</td> <td>   -3.051</td> <td> 0.002</td> <td>-3.34e-06</td> <td>-7.27e-07</td>\n",
       "</tr>\n",
       "<tr>\n",
       "  <th>Pay_2</th>              <td>    0.0388</td> <td>    0.017</td> <td>    2.277</td> <td> 0.023</td> <td>    0.005</td> <td>    0.072</td>\n",
       "</tr>\n",
       "<tr>\n",
       "  <th>Pay_3</th>              <td>   -0.0727</td> <td>    0.025</td> <td>   -2.923</td> <td> 0.003</td> <td>   -0.121</td> <td>   -0.024</td>\n",
       "</tr>\n",
       "<tr>\n",
       "  <th>MARRIAGE</th>           <td>    0.3478</td> <td>    0.158</td> <td>    2.198</td> <td> 0.028</td> <td>    0.038</td> <td>    0.658</td>\n",
       "</tr>\n",
       "</table>"
      ],
      "text/latex": [
       "\\begin{center}\n",
       "\\begin{tabular}{lclc}\n",
       "\\toprule\n",
       "\\textbf{Dep. Variable:}      &     default      & \\textbf{  No. Observations:  } &     3396    \\\\\n",
       "\\textbf{Model:}              &      Logit       & \\textbf{  Df Residuals:      } &     3389    \\\\\n",
       "\\textbf{Method:}             &       MLE        & \\textbf{  Df Model:          } &        6    \\\\\n",
       "\\textbf{Date:}               & Tue, 06 Aug 2024 & \\textbf{  Pseudo R-squ.:     } &   0.7078    \\\\\n",
       "\\textbf{Time:}               &     20:52:57     & \\textbf{  Log-Likelihood:    } &   -531.50   \\\\\n",
       "\\textbf{converged:}          &       True       & \\textbf{  LL-Null:           } &   -1819.1   \\\\\n",
       "\\textbf{Covariance Type:}    &    nonrobust     & \\textbf{  LLR p-value:       } &    0.000    \\\\\n",
       "\\bottomrule\n",
       "\\end{tabular}\n",
       "\\begin{tabular}{lcccccc}\n",
       "                             & \\textbf{coef} & \\textbf{std err} & \\textbf{z} & \\textbf{P$> |$z$|$} & \\textbf{[0.025} & \\textbf{0.975]}  \\\\\n",
       "\\midrule\n",
       "\\textbf{Intercept}           &       1.5765  &        0.163     &     9.672  &         0.000        &        1.257    &        1.896     \\\\\n",
       "\\textbf{SEX\\_2[T.True]}      &      -0.2801  &        0.159     &    -1.765  &         0.077        &       -0.591    &        0.031     \\\\\n",
       "\\textbf{FICO\\_MT700[T.True]} &      -7.7406  &        0.529     &   -14.637  &         0.000        &       -8.777    &       -6.704     \\\\\n",
       "\\textbf{LIMIT\\_BAL}          &   -2.033e-06  &     6.66e-07     &    -3.051  &         0.002        &    -3.34e-06    &    -7.27e-07     \\\\\n",
       "\\textbf{Pay\\_2}              &       0.0388  &        0.017     &     2.277  &         0.023        &        0.005    &        0.072     \\\\\n",
       "\\textbf{Pay\\_3}              &      -0.0727  &        0.025     &    -2.923  &         0.003        &       -0.121    &       -0.024     \\\\\n",
       "\\textbf{MARRIAGE}            &       0.3478  &        0.158     &     2.198  &         0.028        &        0.038    &        0.658     \\\\\n",
       "\\bottomrule\n",
       "\\end{tabular}\n",
       "%\\caption{Logit Regression Results}\n",
       "\\end{center}"
      ],
      "text/plain": [
       "<class 'statsmodels.iolib.summary.Summary'>\n",
       "\"\"\"\n",
       "                           Logit Regression Results                           \n",
       "==============================================================================\n",
       "Dep. Variable:                default   No. Observations:                 3396\n",
       "Model:                          Logit   Df Residuals:                     3389\n",
       "Method:                           MLE   Df Model:                            6\n",
       "Date:                Tue, 06 Aug 2024   Pseudo R-squ.:                  0.7078\n",
       "Time:                        20:52:57   Log-Likelihood:                -531.50\n",
       "converged:                       True   LL-Null:                       -1819.1\n",
       "Covariance Type:            nonrobust   LLR p-value:                     0.000\n",
       "======================================================================================\n",
       "                         coef    std err          z      P>|z|      [0.025      0.975]\n",
       "--------------------------------------------------------------------------------------\n",
       "Intercept              1.5765      0.163      9.672      0.000       1.257       1.896\n",
       "SEX_2[T.True]         -0.2801      0.159     -1.765      0.077      -0.591       0.031\n",
       "FICO_MT700[T.True]    -7.7406      0.529    -14.637      0.000      -8.777      -6.704\n",
       "LIMIT_BAL          -2.033e-06   6.66e-07     -3.051      0.002   -3.34e-06   -7.27e-07\n",
       "Pay_2                  0.0388      0.017      2.277      0.023       0.005       0.072\n",
       "Pay_3                 -0.0727      0.025     -2.923      0.003      -0.121      -0.024\n",
       "MARRIAGE               0.3478      0.158      2.198      0.028       0.038       0.658\n",
       "======================================================================================\n",
       "\"\"\""
      ]
     },
     "execution_count": 44,
     "metadata": {},
     "output_type": "execute_result"
    }
   ],
   "source": [
    "model_5.summary()"
   ]
  },
  {
   "cell_type": "markdown",
   "id": "9f5b5ec8-4142-4c7b-8408-4464014ad550",
   "metadata": {},
   "source": [
    "Eliminating Gender varaible"
   ]
  },
  {
   "cell_type": "code",
   "execution_count": 45,
   "id": "9ea7fd08-c507-4795-b72b-a965e3aeba5f",
   "metadata": {},
   "outputs": [
    {
     "name": "stdout",
     "output_type": "stream",
     "text": [
      "Optimization terminated successfully.\n",
      "         Current function value: 0.156973\n",
      "         Iterations 10\n"
     ]
    }
   ],
   "source": [
    "model_6 = SM.logit(formula = 'default ~ LIMIT_BAL + Pay_2 + Pay_3 + MARRIAGE + FICO_MT700', data=Default_train).fit()"
   ]
  },
  {
   "cell_type": "code",
   "execution_count": 46,
   "id": "5d4991d4-917e-4c5d-88d4-edbaa000a377",
   "metadata": {},
   "outputs": [
    {
     "data": {
      "text/html": [
       "<table class=\"simpletable\">\n",
       "<caption>Logit Regression Results</caption>\n",
       "<tr>\n",
       "  <th>Dep. Variable:</th>        <td>default</td>     <th>  No. Observations:  </th>  <td>  3396</td> \n",
       "</tr>\n",
       "<tr>\n",
       "  <th>Model:</th>                 <td>Logit</td>      <th>  Df Residuals:      </th>  <td>  3390</td> \n",
       "</tr>\n",
       "<tr>\n",
       "  <th>Method:</th>                 <td>MLE</td>       <th>  Df Model:          </th>  <td>     5</td> \n",
       "</tr>\n",
       "<tr>\n",
       "  <th>Date:</th>            <td>Tue, 06 Aug 2024</td> <th>  Pseudo R-squ.:     </th>  <td>0.7070</td> \n",
       "</tr>\n",
       "<tr>\n",
       "  <th>Time:</th>                <td>20:53:30</td>     <th>  Log-Likelihood:    </th> <td> -533.08</td>\n",
       "</tr>\n",
       "<tr>\n",
       "  <th>converged:</th>             <td>True</td>       <th>  LL-Null:           </th> <td> -1819.1</td>\n",
       "</tr>\n",
       "<tr>\n",
       "  <th>Covariance Type:</th>     <td>nonrobust</td>    <th>  LLR p-value:       </th>  <td> 0.000</td> \n",
       "</tr>\n",
       "</table>\n",
       "<table class=\"simpletable\">\n",
       "<tr>\n",
       "           <td></td>             <th>coef</th>     <th>std err</th>      <th>z</th>      <th>P>|z|</th>  <th>[0.025</th>    <th>0.975]</th>  \n",
       "</tr>\n",
       "<tr>\n",
       "  <th>Intercept</th>          <td>    1.4068</td> <td>    0.129</td> <td>   10.939</td> <td> 0.000</td> <td>    1.155</td> <td>    1.659</td>\n",
       "</tr>\n",
       "<tr>\n",
       "  <th>FICO_MT700[T.True]</th> <td>   -7.7367</td> <td>    0.529</td> <td>  -14.628</td> <td> 0.000</td> <td>   -8.773</td> <td>   -6.700</td>\n",
       "</tr>\n",
       "<tr>\n",
       "  <th>LIMIT_BAL</th>          <td>-2.017e-06</td> <td> 6.64e-07</td> <td>   -3.038</td> <td> 0.002</td> <td>-3.32e-06</td> <td>-7.15e-07</td>\n",
       "</tr>\n",
       "<tr>\n",
       "  <th>Pay_2</th>              <td>    0.0378</td> <td>    0.017</td> <td>    2.228</td> <td> 0.026</td> <td>    0.005</td> <td>    0.071</td>\n",
       "</tr>\n",
       "<tr>\n",
       "  <th>Pay_3</th>              <td>   -0.0731</td> <td>    0.025</td> <td>   -2.938</td> <td> 0.003</td> <td>   -0.122</td> <td>   -0.024</td>\n",
       "</tr>\n",
       "<tr>\n",
       "  <th>MARRIAGE</th>           <td>    0.3546</td> <td>    0.158</td> <td>    2.243</td> <td> 0.025</td> <td>    0.045</td> <td>    0.664</td>\n",
       "</tr>\n",
       "</table>"
      ],
      "text/latex": [
       "\\begin{center}\n",
       "\\begin{tabular}{lclc}\n",
       "\\toprule\n",
       "\\textbf{Dep. Variable:}      &     default      & \\textbf{  No. Observations:  } &     3396    \\\\\n",
       "\\textbf{Model:}              &      Logit       & \\textbf{  Df Residuals:      } &     3390    \\\\\n",
       "\\textbf{Method:}             &       MLE        & \\textbf{  Df Model:          } &        5    \\\\\n",
       "\\textbf{Date:}               & Tue, 06 Aug 2024 & \\textbf{  Pseudo R-squ.:     } &   0.7070    \\\\\n",
       "\\textbf{Time:}               &     20:53:30     & \\textbf{  Log-Likelihood:    } &   -533.08   \\\\\n",
       "\\textbf{converged:}          &       True       & \\textbf{  LL-Null:           } &   -1819.1   \\\\\n",
       "\\textbf{Covariance Type:}    &    nonrobust     & \\textbf{  LLR p-value:       } &    0.000    \\\\\n",
       "\\bottomrule\n",
       "\\end{tabular}\n",
       "\\begin{tabular}{lcccccc}\n",
       "                             & \\textbf{coef} & \\textbf{std err} & \\textbf{z} & \\textbf{P$> |$z$|$} & \\textbf{[0.025} & \\textbf{0.975]}  \\\\\n",
       "\\midrule\n",
       "\\textbf{Intercept}           &       1.4068  &        0.129     &    10.939  &         0.000        &        1.155    &        1.659     \\\\\n",
       "\\textbf{FICO\\_MT700[T.True]} &      -7.7367  &        0.529     &   -14.628  &         0.000        &       -8.773    &       -6.700     \\\\\n",
       "\\textbf{LIMIT\\_BAL}          &   -2.017e-06  &     6.64e-07     &    -3.038  &         0.002        &    -3.32e-06    &    -7.15e-07     \\\\\n",
       "\\textbf{Pay\\_2}              &       0.0378  &        0.017     &     2.228  &         0.026        &        0.005    &        0.071     \\\\\n",
       "\\textbf{Pay\\_3}              &      -0.0731  &        0.025     &    -2.938  &         0.003        &       -0.122    &       -0.024     \\\\\n",
       "\\textbf{MARRIAGE}            &       0.3546  &        0.158     &     2.243  &         0.025        &        0.045    &        0.664     \\\\\n",
       "\\bottomrule\n",
       "\\end{tabular}\n",
       "%\\caption{Logit Regression Results}\n",
       "\\end{center}"
      ],
      "text/plain": [
       "<class 'statsmodels.iolib.summary.Summary'>\n",
       "\"\"\"\n",
       "                           Logit Regression Results                           \n",
       "==============================================================================\n",
       "Dep. Variable:                default   No. Observations:                 3396\n",
       "Model:                          Logit   Df Residuals:                     3390\n",
       "Method:                           MLE   Df Model:                            5\n",
       "Date:                Tue, 06 Aug 2024   Pseudo R-squ.:                  0.7070\n",
       "Time:                        20:53:30   Log-Likelihood:                -533.08\n",
       "converged:                       True   LL-Null:                       -1819.1\n",
       "Covariance Type:            nonrobust   LLR p-value:                     0.000\n",
       "======================================================================================\n",
       "                         coef    std err          z      P>|z|      [0.025      0.975]\n",
       "--------------------------------------------------------------------------------------\n",
       "Intercept              1.4068      0.129     10.939      0.000       1.155       1.659\n",
       "FICO_MT700[T.True]    -7.7367      0.529    -14.628      0.000      -8.773      -6.700\n",
       "LIMIT_BAL          -2.017e-06   6.64e-07     -3.038      0.002   -3.32e-06   -7.15e-07\n",
       "Pay_2                  0.0378      0.017      2.228      0.026       0.005       0.071\n",
       "Pay_3                 -0.0731      0.025     -2.938      0.003      -0.122      -0.024\n",
       "MARRIAGE               0.3546      0.158      2.243      0.025       0.045       0.664\n",
       "======================================================================================\n",
       "\"\"\""
      ]
     },
     "execution_count": 46,
     "metadata": {},
     "output_type": "execute_result"
    }
   ],
   "source": [
    "model_6.summary()"
   ]
  },
  {
   "cell_type": "markdown",
   "id": "317f1b38-888d-4dcf-aabc-20428e61aa01",
   "metadata": {},
   "source": [
    "Prediction on the Data\n",
    "Now, let us see the predicted probability values."
   ]
  },
  {
   "cell_type": "code",
   "execution_count": 47,
   "id": "8a53778a-261e-4f90-a9f0-683645d0640d",
   "metadata": {},
   "outputs": [
    {
     "data": {
      "text/plain": [
       "275     0.002151\n",
       "294     0.787433\n",
       "1226    0.001330\n",
       "1656    0.002289\n",
       "1051    0.737637\n",
       "          ...   \n",
       "2579    0.792891\n",
       "459     0.002216\n",
       "1001    0.002070\n",
       "3240    0.723205\n",
       "850     0.768926\n",
       "Length: 3396, dtype: float64"
      ]
     },
     "execution_count": 47,
     "metadata": {},
     "output_type": "execute_result"
    }
   ],
   "source": [
    "y_prob_pred_train = model_6.predict(Default_train)\n",
    "y_prob_pred_train"
   ]
  },
  {
   "cell_type": "code",
   "execution_count": 48,
   "id": "93156d61-a98a-4a5f-90b1-2af4a8a8375c",
   "metadata": {},
   "outputs": [],
   "source": [
    "y_class_pred=[]\n",
    "for i in range(0,len(y_prob_pred_train)):\n",
    "    if np.array(y_prob_pred_train)[i]>0.5:\n",
    "        a=1\n",
    "    else:\n",
    "        a=0\n",
    "    y_class_pred.append(a)"
   ]
  },
  {
   "cell_type": "markdown",
   "id": "3a10269f-e9fd-4dc0-ab25-d15b6eb61196",
   "metadata": {},
   "source": [
    "Model Evaluation on the Training Data\n",
    "Let us now check the confusion matrix and the classification report followed by the AUC and the AUC-ROC curve."
   ]
  },
  {
   "cell_type": "code",
   "execution_count": 49,
   "id": "af111e63-ff80-4300-88b7-74640a60d8df",
   "metadata": {},
   "outputs": [],
   "source": [
    "from sklearn import metrics"
   ]
  },
  {
   "cell_type": "code",
   "execution_count": 50,
   "id": "d6bc0888-5f91-4386-8182-be830067358a",
   "metadata": {},
   "outputs": [
    {
     "data": {
      "image/png": "[encoded data removed]",
      "text/plain": [
       "<Figure size 640x480 with 2 Axes>"
      ]
     },
     "metadata": {},
     "output_type": "display_data"
    }
   ],
   "source": [
    "sns.heatmap((metrics.confusion_matrix(Default_train['default'],y_class_pred)),annot=True,fmt='.5g'\n",
    "            ,cmap='Blues');\n",
    "plt.xlabel('Predicted');\n",
    "plt.ylabel('Actuals',rotation=0);"
   ]
  },
  {
   "cell_type": "markdown",
   "id": "78723799-2efa-48cd-bb25-fcbbe1f8495d",
   "metadata": {},
   "source": [
    "Let us now go ahead and print the classification report to check the various other parameters."
   ]
  },
  {
   "cell_type": "code",
   "execution_count": 51,
   "id": "db8bcc0c-5881-43d5-87da-b89413e967d3",
   "metadata": {},
   "outputs": [
    {
     "name": "stdout",
     "output_type": "stream",
     "text": [
      "              precision    recall  f1-score   support\n",
      "\n",
      "           0      0.997     0.920     0.957      2625\n",
      "           1      0.784     0.991     0.875       771\n",
      "\n",
      "    accuracy                          0.936      3396\n",
      "   macro avg      0.890     0.955     0.916      3396\n",
      "weighted avg      0.949     0.936     0.938      3396\n",
      "\n"
     ]
    }
   ],
   "source": [
    "print(metrics.classification_report(Default_train['default'],y_class_pred,digits=3))"
   ]
  },
  {
   "cell_type": "markdown",
   "id": "f780ac50-4f46-416a-9231-23268bdfce81",
   "metadata": {},
   "source": [
    "Overall 94% of correct predictions to total predictions were made by the model\n",
    "\n",
    "99% of those defaulted were correctly identified as defaulters by the model\n",
    "\n",
    "Now, let us see the predicted probability values on test dataset\n"
   ]
  },
  {
   "cell_type": "code",
   "execution_count": 52,
   "id": "8dd83688-8121-4049-bd6d-ca697023c97e",
   "metadata": {},
   "outputs": [
    {
     "data": {
      "text/plain": [
       "381     0.002443\n",
       "9       0.787098\n",
       "3819    0.826387\n",
       "661     0.001166\n",
       "1205    0.001511\n",
       "          ...   \n",
       "3543    0.727354\n",
       "3980    0.001542\n",
       "1782    0.002155\n",
       "2042    0.784404\n",
       "3597    0.001029\n",
       "Length: 850, dtype: float64"
      ]
     },
     "execution_count": 52,
     "metadata": {},
     "output_type": "execute_result"
    }
   ],
   "source": [
    "y_prob_pred_test = model_6.predict(Default_test)\n",
    "y_prob_pred_test"
   ]
  },
  {
   "cell_type": "code",
   "execution_count": 53,
   "id": "c2c1d9c5-75ff-4638-a374-e95f95c7b4de",
   "metadata": {},
   "outputs": [],
   "source": [
    "y_class_pred=[]\n",
    "for i in range(0,len(y_prob_pred_test)):\n",
    "    if np.array(y_prob_pred_test)[i]>0.5:\n",
    "        a=1\n",
    "    else:\n",
    "        a=0\n",
    "    y_class_pred.append(a)"
   ]
  },
  {
   "cell_type": "markdown",
   "id": "1f41ebf2-4086-491c-b929-b8cc917cc5b5",
   "metadata": {},
   "source": [
    "Model Evaluation on the Test Data"
   ]
  },
  {
   "cell_type": "code",
   "execution_count": 54,
   "id": "2086ace3-94f3-4267-a88a-fe35167dee5d",
   "metadata": {},
   "outputs": [
    {
     "data": {
      "image/png": "[encoded data removed]",
      "text/plain": [
       "<Figure size 640x480 with 2 Axes>"
      ]
     },
     "metadata": {},
     "output_type": "display_data"
    }
   ],
   "source": [
    "sns.heatmap((metrics.confusion_matrix(Default_test['default'],y_class_pred)),annot=True,fmt='.5g'\n",
    "            ,cmap='Blues');\n",
    "plt.xlabel('Predicted');\n",
    "plt.ylabel('Actuals',rotation=0);"
   ]
  },
  {
   "cell_type": "code",
   "execution_count": 55,
   "id": "c6e821f4-b804-4932-a895-a296ec7e61d4",
   "metadata": {},
   "outputs": [
    {
     "name": "stdout",
     "output_type": "stream",
     "text": [
      "              precision    recall  f1-score   support\n",
      "\n",
      "           0      1.000     0.951     0.975       657\n",
      "           1      0.858     1.000     0.923       193\n",
      "\n",
      "    accuracy                          0.962       850\n",
      "   macro avg      0.929     0.976     0.949       850\n",
      "weighted avg      0.968     0.962     0.963       850\n",
      "\n"
     ]
    }
   ],
   "source": [
    "print(metrics.classification_report(Default_test['default'],y_class_pred,digits=3))"
   ]
  },
  {
   "cell_type": "markdown",
   "id": "c938edb8-5ec9-4895-ba38-d3c8cf70b901",
   "metadata": {},
   "source": [
    "Overall 96% of correct predictions to total predictions were made by the model\n",
    "\n",
    "100% of those defaulted were correctly identified as defaulters by the model\n",
    "\n",
    "END"
   ]
  },
  {
   "cell_type": "code",
   "execution_count": null,
   "id": "c6f74e23-9472-4617-9c93-270ed185e5ed",
   "metadata": {},
   "outputs": [],
   "source": []
  }
 ],
 "metadata": {
  "kernelspec": {
   "display_name": "Python 3 (ipykernel)",
   "language": "python",
   "name": "python3"
  },
  "language_info": {
   "codemirror_mode": {
    "name": "ipython",
    "version": 3
   },
   "file_extension": ".py",
   "mimetype": "text/x-python",
   "name": "python",
   "nbconvert_exporter": "python",
   "pygments_lexer": "ipython3",
   "version": "3.12.4"
  }
 },
 "nbformat": 4,
 "nbformat_minor": 5
}
