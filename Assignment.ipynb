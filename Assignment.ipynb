{
 "cells": [
  {
   "cell_type": "markdown",
   "id": "e3be0ee1-202f-4f01-bd04-10d92c7add57",
   "metadata": {},
   "source": [
    "Importing necessary libraries"
   ]
  },
  {
   "cell_type": "code",
   "execution_count": 1,
   "id": "d7322ec6-b63c-4fff-8b7f-57105be8b7c1",
   "metadata": {},
   "outputs": [],
   "source": [
    "# import the important packages\n",
    "import pandas as pd  # library used for data manipulation and analysis\n",
    "\n",
    "import numpy as np  # library used for working with arrays\n",
    "\n",
    "import matplotlib.pyplot as plt  # library for visualization\n",
    "\n",
    "import seaborn as sns  # library for visualization\n",
    "\n",
    "%matplotlib inline\n",
    "\n",
    "import scipy.stats as stats  # this library contains a large number of probability distributions as well as a growing library of statistical functions"
   ]
  },
  {
   "cell_type": "markdown",
   "id": "3a662bca-9de9-47cb-b4fd-096616513016",
   "metadata": {},
   "source": [
    "Binomial Distribution\n",
    "Q1. A LED bulb manufacturing company regularly conducts quality checks at specified periods on the products it manufactures. Historically, the failure rate for LED light bulbs that the company manufactures is 5%. Suppose a random sample of 10 LED light bulbs is selected. Find the probability distribution for the defective bulbs and answer the following questions"
   ]
  },
  {
   "cell_type": "code",
   "execution_count": 2,
   "id": "4f6049a8-337e-4aee-aa2a-ea5828cd994d",
   "metadata": {},
   "outputs": [],
   "source": [
    "p   =  0.05 # failure rate for LED light bulbs that the company manufactures is 5%\n",
    "n   =  10 # sample size\n",
    "k   =  np.arange(0,11) # an array of different possible number of defective bulbs"
   ]
  },
  {
   "cell_type": "code",
   "execution_count": 3,
   "id": "f4905ecc-9f5e-4195-896b-14342795693f",
   "metadata": {},
   "outputs": [],
   "source": [
    "binomial = stats.binom.pmf(k,n,p)"
   ]
  },
  {
   "cell_type": "code",
   "execution_count": 4,
   "id": "9ee11f9a-955d-4eff-8bda-ecb0a125def1",
   "metadata": {},
   "outputs": [
    {
     "name": "stdout",
     "output_type": "stream",
     "text": [
      "[5.98736939e-01 3.15124705e-01 7.46347985e-02 1.04750594e-02\n",
      " 9.64808106e-04 6.09352488e-05 2.67259863e-06 8.03789062e-08\n",
      " 1.58642578e-09 1.85546875e-11 9.76562500e-14]\n"
     ]
    }
   ],
   "source": [
    "print(binomial)"
   ]
  },
  {
   "cell_type": "markdown",
   "id": "0d6fc66b-018d-4aa3-87db-5730de0292f0",
   "metadata": {},
   "source": [
    "Plot the binomial distribution"
   ]
  },
  {
   "cell_type": "code",
   "execution_count": 5,
   "id": "f615dc1c-19e1-484d-a47c-a6bf0716b929",
   "metadata": {},
   "outputs": [
    {
     "data": {
      "image/png": "[encoded data removed]",
      "text/plain": [
       "<Figure size 640x480 with 1 Axes>"
      ]
     },
     "metadata": {},
     "output_type": "display_data"
    }
   ],
   "source": [
    "# plot the distribution\n",
    "plt.bar(k,binomial)\n",
    "plt.title('Binomial: n=%i , p=%.2f' % (n,p), fontsize=15)\n",
    "plt.xlabel('Number of Successes')\n",
    "plt.ylabel('Probability of Successes')\n",
    "plt.show()"
   ]
  },
  {
   "cell_type": "markdown",
   "id": "c8ad2789-fc83-493c-ba20-ec75fcf0c7d1",
   "metadata": {},
   "source": [
    " What is the probability that none of the LED bulbs are defective?"
   ]
  },
  {
   "cell_type": "code",
   "execution_count": 6,
   "id": "4e98eded-f22b-4ab7-a935-6c58ac00947e",
   "metadata": {},
   "outputs": [
    {
     "name": "stdout",
     "output_type": "stream",
     "text": [
      "The probability that none of the LED bulbs are defective is 0.5987\n"
     ]
    }
   ],
   "source": [
    "print('The probability that none of the LED bulbs are defective is %1.4f' %binomial[0])"
   ]
  },
  {
   "cell_type": "markdown",
   "id": "5472f250-a5c7-4b6e-8edb-ffa23cedc33c",
   "metadata": {},
   "source": [
    "b) What is the probability that exactly one of the LED bulbs is defective?"
   ]
  },
  {
   "cell_type": "code",
   "execution_count": 7,
   "id": "f74aacea-6577-46b1-a072-ab90f4b0a33c",
   "metadata": {},
   "outputs": [
    {
     "name": "stdout",
     "output_type": "stream",
     "text": [
      "The probability that exactly one of the LED bulbs is defective is 0.3151\n"
     ]
    }
   ],
   "source": [
    "print('The probability that exactly one of the LED bulbs is defective is %1.4f' %binomial[1])"
   ]
  },
  {
   "cell_type": "markdown",
   "id": "3f5d8988-970d-4b9a-9605-00a52957f000",
   "metadata": {},
   "source": [
    "c) What is the probability that two or fewer of the LED bulbs are defective?"
   ]
  },
  {
   "cell_type": "markdown",
   "id": "84c12da1-3b50-473f-954a-a1f0c7646457",
   "metadata": {},
   "source": [
    "Hint: We need to calculate cumulative probability of two or fewer LED bulbs being defective."
   ]
  },
  {
   "cell_type": "code",
   "execution_count": 8,
   "id": "a8e98b92-5936-4194-819c-e14bfae05ac6",
   "metadata": {},
   "outputs": [],
   "source": [
    "cumulative_binomial = stats.binom.cdf(k,n,p)"
   ]
  },
  {
   "cell_type": "code",
   "execution_count": 9,
   "id": "d32242e3-5301-4378-8f60-a6302b8f96f5",
   "metadata": {},
   "outputs": [
    {
     "name": "stdout",
     "output_type": "stream",
     "text": [
      "The probability that two or fewer of the LED bulbs are defective is 0.9885\n"
     ]
    }
   ],
   "source": [
    "print('The probability that two or fewer of the LED bulbs are defective is %1.4f' %cumulative_binomial[2])"
   ]
  },
  {
   "cell_type": "markdown",
   "id": "662ac604-f533-4bce-9618-573a345d02fb",
   "metadata": {},
   "source": [
    "d) What is the probability that three or more of the LED bulbs are defective?"
   ]
  },
  {
   "cell_type": "markdown",
   "id": "236e1e8a-ee82-4d95-8e97-903b87d4200c",
   "metadata": {},
   "source": [
    "Hint: We need to subtract the cumulative probability of up to 2 defective LED bulbs from 1."
   ]
  },
  {
   "cell_type": "code",
   "execution_count": 10,
   "id": "ee383309-a04f-4da5-9b5e-0bbf58bb77fa",
   "metadata": {},
   "outputs": [
    {
     "name": "stdout",
     "output_type": "stream",
     "text": [
      "The probability that three or more of the LED bulbs are defective is 0.0115\n"
     ]
    }
   ],
   "source": [
    "P = 1- cumulative_binomial[2]\n",
    "print('The probability that three or more of the LED bulbs are defective is %1.4f' % P)"
   ]
  },
  {
   "cell_type": "markdown",
   "id": "37b719e6-9c90-492b-ab2e-001579ec63d6",
   "metadata": {},
   "source": [
    "Q2. During an NBA game, a basketball player has two foul shots (free throw) and the conversion rate of free-throw shots is 93%. Find the following probabilities.¶"
   ]
  },
  {
   "cell_type": "code",
   "execution_count": 11,
   "id": "31100232-e222-4653-9b18-549e77c04193",
   "metadata": {},
   "outputs": [],
   "source": [
    "success=0.93"
   ]
  },
  {
   "cell_type": "markdown",
   "id": "de94765d-133d-4c27-b40d-172372af4a1c",
   "metadata": {},
   "source": [
    "a) What is the probability that the player will convert both the shots?"
   ]
  },
  {
   "cell_type": "code",
   "execution_count": 12,
   "id": "2d90e311-d3fd-4ec2-972c-5142e83b503e",
   "metadata": {},
   "outputs": [
    {
     "name": "stdout",
     "output_type": "stream",
     "text": [
      "The probability that the player will convert both the shots is 0.8649\n"
     ]
    }
   ],
   "source": [
    "print('The probability that the player will convert both the shots is',round(stats.binom.pmf(2,2,0.93),4))"
   ]
  },
  {
   "cell_type": "markdown",
   "id": "ce647047-1ff5-48c0-ad71-ce8ef6cf0a39",
   "metadata": {},
   "source": [
    "b) What is the probability that the player will convert at least one shot?"
   ]
  },
  {
   "cell_type": "code",
   "execution_count": 13,
   "id": "ddcb2b33-934a-40f8-886f-f47a706edcb0",
   "metadata": {},
   "outputs": [
    {
     "name": "stdout",
     "output_type": "stream",
     "text": [
      "The probability that the player will convert at least one shot is 0.9951\n"
     ]
    }
   ],
   "source": [
    "print('The probability that the player will convert at least one shot is',round((1 - stats.binom.cdf(0,2,0.93)),4))"
   ]
  },
  {
   "cell_type": "markdown",
   "id": "7d73ec8c-2977-47db-aadd-1f744e0f0707",
   "metadata": {},
   "source": [
    "Q3. Over a long period in a large multinomial corporation, 10% of all sales trainees are rated as outstanding, 75% are rated as excellent, 10% are rated as satisfactory and 5% are considered unsatisfactory. Find the following probabilities for a sample of 10 trainees selected at random.¶"
   ]
  },
  {
   "cell_type": "markdown",
   "id": "43850361-ba97-4c61-9a28-c4a2a065b1f7",
   "metadata": {},
   "source": [
    "a) Two are rated as outstanding"
   ]
  },
  {
   "cell_type": "code",
   "execution_count": 14,
   "id": "fd269cef-0d33-4f81-b606-4dc855d90e2f",
   "metadata": {},
   "outputs": [
    {
     "name": "stdout",
     "output_type": "stream",
     "text": [
      "Probability that two trainees are rated as outstanding is 0.19371\n"
     ]
    }
   ],
   "source": [
    "p=0.1\n",
    "n=10\n",
    "k=2\n",
    "binomial = stats.binom.pmf(k,n,p)\n",
    "print('Probability that two trainees are rated as outstanding is %1.5f' % binomial )"
   ]
  },
  {
   "cell_type": "markdown",
   "id": "827a925e-f75c-497b-a4ca-334c948c4010",
   "metadata": {},
   "source": [
    "b) Two or more are rated as outstanding"
   ]
  },
  {
   "cell_type": "code",
   "execution_count": 15,
   "id": "9e22e9c8-5057-4bab-92c6-a0cab138e026",
   "metadata": {},
   "outputs": [
    {
     "name": "stdout",
     "output_type": "stream",
     "text": [
      "Probability that two or more trainees are rated as outstanding is 0.26390\n"
     ]
    }
   ],
   "source": [
    "p=0.1\n",
    "n=10\n",
    "k=1\n",
    "\n",
    "##To  answer this we need to calculate the cumulative probability \n",
    "binomial = stats.binom.cdf(k,n,p)\n",
    "\n",
    "#since we have calculated for 1 or less, for two or more we will subtract this prob from 1\n",
    "print('Probability that two or more trainees are rated as outstanding is %1.5f' % (1-binomial))"
   ]
  },
  {
   "cell_type": "markdown",
   "id": "03aa640d-c2ff-4b41-9af3-889964e9263d",
   "metadata": {},
   "source": [
    "c) Eight of the ten are rated either outstanding or excellent"
   ]
  },
  {
   "cell_type": "code",
   "execution_count": 16,
   "id": "43023a15-d9b4-4818-81da-c8d7e7b554f9",
   "metadata": {},
   "outputs": [
    {
     "name": "stdout",
     "output_type": "stream",
     "text": [
      "Probability that eight out of ten trainees are rated either excellent or outstanding is 0.27590\n"
     ]
    }
   ],
   "source": [
    "#Probability of excellent or outstanding is 0.75 + 0.10\n",
    "\n",
    "p=0.85\n",
    "n=10\n",
    "k=8\n",
    "binomial = stats.binom.pmf(k,n,p)\n",
    "print('Probability that eight out of ten trainees are rated either excellent or outstanding is %1.5f' % binomial)"
   ]
  },
  {
   "cell_type": "markdown",
   "id": "f94d0d39-3b00-4457-b6b8-c05fc4880e35",
   "metadata": {},
   "source": [
    "d) None of the trainees are rated as unsatisfactory"
   ]
  },
  {
   "cell_type": "code",
   "execution_count": 17,
   "id": "31465ce2-e03c-4480-aa02-166180da02f4",
   "metadata": {},
   "outputs": [
    {
     "name": "stdout",
     "output_type": "stream",
     "text": [
      "Probability of no trainees are unsatisfactory is 0.59874\n"
     ]
    }
   ],
   "source": [
    "p=0.05\n",
    "n=10\n",
    "k=0\n",
    "binomial = stats.binom.pmf(k,n,p)\n",
    "print('Probability of no trainees are unsatisfactory is %1.5f' % binomial )"
   ]
  },
  {
   "cell_type": "markdown",
   "id": "5bd0256b-95d3-4dba-876f-b052a0c51e34",
   "metadata": {},
   "source": [
    "Uniform Distribution\n",
    "Q4. A University records the time taken by students to solve the statistics assignment in 'assignment.csv’. Plot the probability distribution this data follows and answer the following questions.\n",
    "Importing the Data"
   ]
  },
  {
   "cell_type": "code",
   "execution_count": 18,
   "id": "8145fca0-7112-41b2-a0b2-10db8c0f10ad",
   "metadata": {},
   "outputs": [],
   "source": [
    "import pandas as pd"
   ]
  },
  {
   "cell_type": "code",
   "execution_count": 22,
   "id": "b8a824c1-bfac-404f-8d32-0f4271aa0084",
   "metadata": {},
   "outputs": [],
   "source": [
    "Assignment=pd.read_excel('D:/Ment Class/Practise11/Excel Data/TSF/PowerBI/DWNLDS/CV/MRA Project/MRA Project/XLSX File for practice/Assignment.xlsx')"
   ]
  },
  {
   "cell_type": "code",
   "execution_count": 23,
   "id": "70766d8c-72aa-4b5d-a722-f00146580af0",
   "metadata": {},
   "outputs": [
    {
     "data": {
      "text/html": [
       "<div>\n",
       "<style scoped>\n",
       "    .dataframe tbody tr th:only-of-type {\n",
       "        vertical-align: middle;\n",
       "    }\n",
       "\n",
       "    .dataframe tbody tr th {\n",
       "        vertical-align: top;\n",
       "    }\n",
       "\n",
       "    .dataframe thead th {\n",
       "        text-align: right;\n",
       "    }\n",
       "</style>\n",
       "<table border=\"1\" class=\"dataframe\">\n",
       "  <thead>\n",
       "    <tr style=\"text-align: right;\">\n",
       "      <th></th>\n",
       "      <th>Student_ID</th>\n",
       "      <th>Time_taken</th>\n",
       "    </tr>\n",
       "  </thead>\n",
       "  <tbody>\n",
       "    <tr>\n",
       "      <th>0</th>\n",
       "      <td>955</td>\n",
       "      <td>2.79</td>\n",
       "    </tr>\n",
       "    <tr>\n",
       "      <th>1</th>\n",
       "      <td>379</td>\n",
       "      <td>3.32</td>\n",
       "    </tr>\n",
       "    <tr>\n",
       "      <th>2</th>\n",
       "      <td>922</td>\n",
       "      <td>1.35</td>\n",
       "    </tr>\n",
       "    <tr>\n",
       "      <th>3</th>\n",
       "      <td>312</td>\n",
       "      <td>2.35</td>\n",
       "    </tr>\n",
       "    <tr>\n",
       "      <th>4</th>\n",
       "      <td>670</td>\n",
       "      <td>1.98</td>\n",
       "    </tr>\n",
       "  </tbody>\n",
       "</table>\n",
       "</div>"
      ],
      "text/plain": [
       "   Student_ID  Time_taken\n",
       "0         955        2.79\n",
       "1         379        3.32\n",
       "2         922        1.35\n",
       "3         312        2.35\n",
       "4         670        1.98"
      ]
     },
     "execution_count": 23,
     "metadata": {},
     "output_type": "execute_result"
    }
   ],
   "source": [
    "Assignment.head()"
   ]
  },
  {
   "cell_type": "markdown",
   "id": "e7815899-bf7e-43a7-b12b-138f38d61666",
   "metadata": {},
   "source": [
    "Let's plot the histogram of data along with the PDF of uniform distribution using the parameters - minimum time required and maximum time required for completing the assignment."
   ]
  },
  {
   "cell_type": "code",
   "execution_count": 25,
   "id": "72d91376-d201-455e-9079-6eeceb897bb7",
   "metadata": {},
   "outputs": [
    {
     "data": {
      "image/png": "[encoded data removed]",
      "text/plain": [
       "<Figure size 640x480 with 1 Axes>"
      ]
     },
     "metadata": {},
     "output_type": "display_data"
    }
   ],
   "source": [
    "# visualize the distribution of the time needed for completing the assignment\n",
    "plt.hist(Assignment['Time_taken'],  density=True)\n",
    "plt.axhline(1/3, color = 'red')\n",
    "plt.xlabel('Time required for completing the assignment')\n",
    "plt.ylabel('Probability')\n",
    "plt.title('Data Distribution')\n",
    "plt.show()"
   ]
  },
  {
   "cell_type": "markdown",
   "id": "7e831483-6ee0-4c9e-aeaa-fd6da2d24510",
   "metadata": {},
   "source": [
    "Insight: As you can see from the above plot that all the values between 1 and 4 are having almost equal probability, we are going to use continuous uniform distribution. We need to decide the endpoints. Here, endpoints are 1 and 4.\n",
    "\n",
    "X ~ U(1, 4)"
   ]
  },
  {
   "cell_type": "code",
   "execution_count": 26,
   "id": "c0910b65-1bf2-4665-abaa-49ca0565fefb",
   "metadata": {},
   "outputs": [],
   "source": [
    "# import the required function\n",
    "from scipy.stats import uniform\n",
    "\n",
    "# use the uniform.pdf() function to generate the probability distribution\n",
    "x = np.linspace(1, 4, 50)\n",
    "probs = uniform.pdf(x, loc = 1, scale = 3)"
   ]
  },
  {
   "cell_type": "markdown",
   "id": "ad1e4d9b-02ed-49cb-91ab-5f7fe0aa2309",
   "metadata": {},
   "source": [
    "CDF: of a random variable (X) is the probability that X will take the value less than or equal to x. It can be represented mathematically as below:\n",
    "\n",
    "\n",
    "In our case, random variable ("
   ]
  },
  {
   "cell_type": "code",
   "execution_count": 27,
   "id": "5d5531ff-dd05-4ab3-b29c-4201bb0ec8f0",
   "metadata": {},
   "outputs": [
    {
     "data": {
      "text/plain": [
       "0.5"
      ]
     },
     "execution_count": 27,
     "metadata": {},
     "output_type": "execute_result"
    }
   ],
   "source": [
    "uniform.cdf(x = 2.5, loc = 1, scale = 3)"
   ]
  },
  {
   "cell_type": "markdown",
   "id": "3c19f168-9b95-4eeb-957c-27644c48c5e2",
   "metadata": {},
   "source": [
    "b) Find the probability that a randomly selected student requires at least 3 hours to complete the quiz.\n",
    "\n"
   ]
  },
  {
   "cell_type": "code",
   "execution_count": 28,
   "id": "4bc6184a-d883-4201-b0c3-12333242f5d0",
   "metadata": {},
   "outputs": [
    {
     "data": {
      "text/plain": [
       "0.3333"
      ]
     },
     "execution_count": 28,
     "metadata": {},
     "output_type": "execute_result"
    }
   ],
   "source": [
    "round(1 - uniform.cdf(x = 3, loc = 1, scale = 3), 4)"
   ]
  },
  {
   "cell_type": "markdown",
   "id": "53a32d80-d85b-4d1e-91d7-0c10f9ba19ad",
   "metadata": {},
   "source": [
    "c) Find the probability that a randomly selected student requires 1.5 to 3.5 hours to complete the quiz.\n",
    "\n"
   ]
  },
  {
   "cell_type": "code",
   "execution_count": 29,
   "id": "7ded137e-f3a5-4947-b8d1-d0b06af58be9",
   "metadata": {},
   "outputs": [
    {
     "data": {
      "text/plain": [
       "0.6667"
      ]
     },
     "execution_count": 29,
     "metadata": {},
     "output_type": "execute_result"
    }
   ],
   "source": [
    "round(uniform.cdf(x = 3.5, loc = 1, scale = 3) - uniform.cdf(x = 1.5, loc = 1, scale = 3), 4) "
   ]
  },
  {
   "cell_type": "markdown",
   "id": "4950267d-6203-469b-bc82-a7bc9a4fcc65",
   "metadata": {},
   "source": [
    "Normal Distribution\n",
    "Q5. According to the Telecommunication Industry, the average monthly cell phone bill is Rs. 850 with a standard deviation of Rs. 150. Assuming that the monthly bill follows a normal distribution, answer the following questions.\n",
    "a) What is the probability that a randomly selected cell phone bill is more than Rs 1200?"
   ]
  },
  {
   "cell_type": "code",
   "execution_count": 30,
   "id": "3fa663ff-59fa-416b-a04b-809c0106737a",
   "metadata": {},
   "outputs": [
    {
     "data": {
      "text/plain": [
       "0.0098"
      ]
     },
     "execution_count": 30,
     "metadata": {},
     "output_type": "execute_result"
    }
   ],
   "source": [
    "round(1-stats.norm.cdf(1200,loc=850,scale=150), 4)"
   ]
  },
  {
   "cell_type": "markdown",
   "id": "93056a49-2f56-4485-93e1-0874a06fba8b",
   "metadata": {},
   "source": [
    "What is the probability that a randomly selected cell phone bill is between Rs 750 and Rs 1200?"
   ]
  },
  {
   "cell_type": "code",
   "execution_count": 31,
   "id": "e3f968ea-0fc5-4e1d-95ac-35d05fce5861",
   "metadata": {},
   "outputs": [
    {
     "data": {
      "text/plain": [
       "0.7377"
      ]
     },
     "execution_count": 31,
     "metadata": {},
     "output_type": "execute_result"
    }
   ],
   "source": [
    "round(stats.norm.cdf(1200,loc=850,scale=150) - stats.norm.cdf(750,loc=850,scale=150), 4)"
   ]
  },
  {
   "cell_type": "markdown",
   "id": "6bd75f3a-8992-4a0d-b326-c2fb0b623f0d",
   "metadata": {},
   "source": [
    "What is the probability that a randomly selected cell phone bill is no more than Rs 650?"
   ]
  },
  {
   "cell_type": "code",
   "execution_count": 32,
   "id": "c71fb288-f776-4faf-854b-1c9c7315e019",
   "metadata": {},
   "outputs": [
    {
     "data": {
      "text/plain": [
       "0.0912"
      ]
     },
     "execution_count": 32,
     "metadata": {},
     "output_type": "execute_result"
    }
   ],
   "source": [
    "round(stats.norm.cdf(650,loc=850,scale=150), 4)"
   ]
  },
  {
   "cell_type": "markdown",
   "id": "57adfc13-a405-4c5d-9314-4cfef83306db",
   "metadata": {},
   "source": [
    "d) What is the amount above which lies top 15% of cell phone bills?"
   ]
  },
  {
   "cell_type": "code",
   "execution_count": 33,
   "id": "4c46d768-d990-4412-b861-ab85a0d797e2",
   "metadata": {},
   "outputs": [
    {
     "data": {
      "text/plain": [
       "1005.4650084240685"
      ]
     },
     "execution_count": 33,
     "metadata": {},
     "output_type": "execute_result"
    }
   ],
   "source": [
    "#Let the amount be M. P(X ≥ M) = 15% => 1 – P(X < M) = 0.15 => P(X < M) = 0.85 \n",
    "#To calculate this we will use the percent point function i.e ppf.\n",
    "\n",
    "stats.norm.ppf(0.85,loc=850,scale=150)"
   ]
  },
  {
   "cell_type": "markdown",
   "id": "36e3dd05-7a79-463a-b231-53c8970f39eb",
   "metadata": {},
   "source": [
    "e) What is the amount below which lies bottom 25% of cell phone bills?"
   ]
  },
  {
   "cell_type": "code",
   "execution_count": 34,
   "id": "4731cdbf-bc06-411b-94e7-054691cb45d9",
   "metadata": {},
   "outputs": [
    {
     "data": {
      "text/plain": [
       "748.8265"
      ]
     },
     "execution_count": 34,
     "metadata": {},
     "output_type": "execute_result"
    }
   ],
   "source": [
    "round(stats.norm.ppf(0.25,loc=850,scale=150), 4)"
   ]
  },
  {
   "cell_type": "markdown",
   "id": "c0d92a3b-c738-4742-98da-8d7904dfaae3",
   "metadata": {},
   "source": [
    "Q6. The mean filling capacity for a coke bottle is 500 ml with a standard deviation of 20 ml. Assume that it follows a normal distribution and answer the following questions.\n"
   ]
  },
  {
   "cell_type": "code",
   "execution_count": 35,
   "id": "e656fe7d-0e0f-4dc5-aa35-ce712d02ac2c",
   "metadata": {},
   "outputs": [],
   "source": [
    "mu = 500\n",
    "sigma = 20"
   ]
  },
  {
   "cell_type": "markdown",
   "id": "64481f58-83a6-489f-8673-322ae1723c08",
   "metadata": {},
   "source": [
    "a) What is the probability that the bottle filled less than 480 ml?"
   ]
  },
  {
   "cell_type": "code",
   "execution_count": 36,
   "id": "6df5536f-5ff1-4d1c-ad4f-7fba51a9ced0",
   "metadata": {},
   "outputs": [
    {
     "name": "stdout",
     "output_type": "stream",
     "text": [
      "Probability of bottle filled less than 480 ml is 0.1587\n"
     ]
    }
   ],
   "source": [
    "x1=480\n",
    "z1=(x1-mu)/sigma\n",
    "p=stats.norm.cdf(z1)\n",
    "print ('Probability of bottle filled less than 480 ml is %1.4f' %p)"
   ]
  },
  {
   "cell_type": "markdown",
   "id": "fe8307a1-01b2-4224-aa61-e8ec73e30408",
   "metadata": {},
   "source": [
    "b) What is the probability that the bottle filled more than 520 ml?"
   ]
  },
  {
   "cell_type": "code",
   "execution_count": 37,
   "id": "3f108541-8a1f-45db-b60e-ba9a7d95b3f5",
   "metadata": {},
   "outputs": [
    {
     "name": "stdout",
     "output_type": "stream",
     "text": [
      "probability of bottle filled more than 520 ml is 0.1587\n"
     ]
    }
   ],
   "source": [
    "x2=520\n",
    "z2=(x2-mu)/sigma\n",
    "p1= 1 - stats.norm.cdf(z2)\n",
    "print ('probability of bottle filled more than 520 ml is %1.4f' %p1)"
   ]
  },
  {
   "cell_type": "markdown",
   "id": "cd024842-17ab-40a2-b867-f545a8d81d43",
   "metadata": {},
   "source": [
    "c) What is the probability that the bottle filled between 470 ml to 525 ml?"
   ]
  },
  {
   "cell_type": "code",
   "execution_count": 38,
   "id": "1e5f6fbb-90f4-4dbc-9e43-664bdc6c587f",
   "metadata": {},
   "outputs": [
    {
     "name": "stdout",
     "output_type": "stream",
     "text": [
      "probability that the bottle filled between 470 ml to 525 ml is 0.8275\n"
     ]
    }
   ],
   "source": [
    "x3=470\n",
    "z3=(x3-mu)/sigma\n",
    "x4=525\n",
    "z4=(x4-mu)/sigma\n",
    "p2=stats.norm.cdf(z3)\n",
    "p3=stats.norm.cdf(z4)\n",
    "p4=p3-p2\n",
    "\n",
    "print ('probability that the bottle filled between 470 ml to 525 ml is %1.4f' %p4)"
   ]
  },
  {
   "cell_type": "markdown",
   "id": "480845a6-a0e9-4e0a-b222-408fd4d63d55",
   "metadata": {},
   "source": [
    "Q7. In 2 Liter soft drink bottles, the drink filled is normally distributed, with a mean of 2.0 liters and a standard deviation of 0.05 liter. If bottles contain less than 95% of the listed net content (1.90 liters), the manufacturer may be subject to penalty by the state office of consumer affairs. Bottles that have a net quantity above 2.1 liters may cause excess spillage upon opening. Answer the following questions.¶"
   ]
  },
  {
   "cell_type": "code",
   "execution_count": 39,
   "id": "6a4df3ab-1db6-4349-8c0c-13803864110a",
   "metadata": {},
   "outputs": [],
   "source": [
    "mu     = 2\n",
    "sigma  = 0.05"
   ]
  },
  {
   "cell_type": "markdown",
   "id": "7dd9c250-55ec-428f-b326-2c236698b047",
   "metadata": {},
   "source": [
    "a) What is the probability that the bottle content is between 1.9 and 2.0 liters?"
   ]
  },
  {
   "cell_type": "code",
   "execution_count": 40,
   "id": "5b7b46b5-89ac-4ce7-9d58-f4ce4b779b68",
   "metadata": {},
   "outputs": [
    {
     "name": "stdout",
     "output_type": "stream",
     "text": [
      "Probability that the bottle content is between 1.9 and 2 liters is 0.4772\n"
     ]
    }
   ],
   "source": [
    "Prob = stats.norm.cdf(2,loc=mu,scale=sigma) - stats.norm.cdf(1.90,loc=mu,scale=sigma)\n",
    "print(\"Probability that the bottle content is between 1.9 and 2 liters is %3.4f\" % Prob)"
   ]
  },
  {
   "cell_type": "markdown",
   "id": "53b6888e-2132-4016-ab85-b8b89371e08f",
   "metadata": {},
   "source": [
    "**b) What is the probability that the bottle content is between 1.9 and 2.1 liters?**"
   ]
  },
  {
   "cell_type": "code",
   "execution_count": 41,
   "id": "f9ca1905-2da8-459b-be2d-e037aef048dd",
   "metadata": {},
   "outputs": [
    {
     "name": "stdout",
     "output_type": "stream",
     "text": [
      "Probability that the bottle content is between 1.9 and 2.1 liters is 0.9545\n"
     ]
    }
   ],
   "source": [
    "Prob = stats.norm.cdf(2.1,loc=mu,scale=sigma) - stats.norm.cdf(1.9,loc=mu,scale=sigma)\n",
    "print(\"Probability that the bottle content is between 1.9 and 2.1 liters is %3.4f\" % Prob)"
   ]
  },
  {
   "cell_type": "markdown",
   "id": "790a8ab3-3691-4f0d-a0a6-374171bf343e",
   "metadata": {},
   "source": [
    "c) What is the probability that the bottle content is below 1.9 liters or above 2.1 liters?"
   ]
  },
  {
   "cell_type": "code",
   "execution_count": 42,
   "id": "98e7ea88-76a7-4a34-abad-9c6bc00c1a77",
   "metadata": {},
   "outputs": [
    {
     "name": "stdout",
     "output_type": "stream",
     "text": [
      "Probability that the bottle content is below 1.9 liters or above 2.1 liters is 0.0455\n"
     ]
    }
   ],
   "source": [
    "Prob1  =  stats.norm.cdf(1.9,loc=mu,scale=sigma)\n",
    "Prob2  =  1 - stats.norm.cdf(2.1,loc=mu,scale=sigma)\n",
    "print(\"Probability that the bottle content is below 1.9 liters or above 2.1 liters is %3.4f\" % (Prob1 + Prob2))"
   ]
  },
  {
   "cell_type": "markdown",
   "id": "8b7387a6-7468-43d7-a88e-89fc09c60f92",
   "metadata": {},
   "source": [
    "d) 99% of the bottles contains at least what amount of soft drink in them?"
   ]
  },
  {
   "cell_type": "code",
   "execution_count": 43,
   "id": "47523b51-f2bb-4390-b53e-d15277fcce0a",
   "metadata": {},
   "outputs": [
    {
     "name": "stdout",
     "output_type": "stream",
     "text": [
      "99% of the bottles have at least 1.88 Liters\n"
     ]
    }
   ],
   "source": [
    "Prob = stats.norm.ppf(0.01, loc = mu, scale = sigma)\n",
    "print(\"99% of the bottles have at least\",round(Prob,2),\"Liters\")"
   ]
  },
  {
   "cell_type": "code",
   "execution_count": null,
   "id": "dae86f9a-6633-48e0-967a-4228c3512305",
   "metadata": {},
   "outputs": [],
   "source": []
  }
 ],
 "metadata": {
  "kernelspec": {
   "display_name": "Python 3 (ipykernel)",
   "language": "python",
   "name": "python3"
  },
  "language_info": {
   "codemirror_mode": {
    "name": "ipython",
    "version": 3
   },
   "file_extension": ".py",
   "mimetype": "text/x-python",
   "name": "python",
   "nbconvert_exporter": "python",
   "pygments_lexer": "ipython3",
   "version": "3.11.5"
  }
 },
 "nbformat": 4,
 "nbformat_minor": 5
}
