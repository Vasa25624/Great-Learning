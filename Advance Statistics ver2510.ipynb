{
 "cells": [
  {
   "cell_type": "markdown",
   "id": "321abe42-ed8f-4939-b26e-9b836a08cdc6",
   "metadata": {},
   "source": [
    "A physiotherapist with a male football team is interested in studying the relationship between foot injuries and the positions at which the players play from the data collected."
   ]
  },
  {
   "cell_type": "code",
   "execution_count": 1,
   "id": "9aad10eb-46c2-478b-b837-30d2dc079dc0",
   "metadata": {},
   "outputs": [],
   "source": [
    "import pandas as pd\n",
    "import numpy as np  \n",
    "import matplotlib.pyplot as plt \n",
    "import seaborn as sns  \n",
    "%matplotlib inline\n",
    "import scipy.stats as stats  "
   ]
  },
  {
   "cell_type": "code",
   "execution_count": 2,
   "id": "0cb64d60-8b95-49f2-a0ac-70754d7c551a",
   "metadata": {},
   "outputs": [],
   "source": [
    "Problems=pd.read_excel('D:/Ment Class/Practise11/Excel Data/TSF/PowerBI/DWNLDS/CV/MRA Project/MRA Project/XLSX File for practice/Problems.xlsx')"
   ]
  },
  {
   "cell_type": "code",
   "execution_count": 3,
   "id": "fb027bbc-fd23-4f97-996e-015769b22b80",
   "metadata": {},
   "outputs": [
    {
     "name": "stdout",
     "output_type": "stream",
     "text": [
      "<class 'pandas.core.frame.DataFrame'>\n",
      "RangeIndex: 13 entries, 0 to 12\n",
      "Data columns (total 11 columns):\n",
      " #   Column       Non-Null Count  Dtype  \n",
      "---  ------       --------------  -----  \n",
      " 0   Unnamed: 0   0 non-null      float64\n",
      " 1   Unnamed: 1   0 non-null      float64\n",
      " 2   Unnamed: 2   0 non-null      float64\n",
      " 3   Unnamed: 3   0 non-null      float64\n",
      " 4   Unnamed: 4   0 non-null      float64\n",
      " 5   Unnamed: 5   2 non-null      object \n",
      " 6   Unnamed: 6   3 non-null      object \n",
      " 7   Unnamed: 7   3 non-null      object \n",
      " 8   Unnamed: 8   3 non-null      object \n",
      " 9   Unnamed: 9   3 non-null      object \n",
      " 10  Unnamed: 10  3 non-null      object \n",
      "dtypes: float64(5), object(6)\n",
      "memory usage: 1.2+ KB\n"
     ]
    }
   ],
   "source": [
    "Problems.info()"
   ]
  },
  {
   "cell_type": "markdown",
   "id": "d3af6283-ebc8-43d6-bee4-09b7ac645ab7",
   "metadata": {},
   "source": [
    "Based on the above data, answer the following questions.\n",
    "\n",
    "1.1 What is the probability that a randomly chosen player would suffer an injury?"
   ]
  },
  {
   "cell_type": "code",
   "execution_count": 5,
   "id": "c65b9bf8-f688-4e88-aa4f-248bcea8d1e2",
   "metadata": {},
   "outputs": [
    {
     "data": {
      "text/plain": [
       "0.006896551724137931"
      ]
     },
     "execution_count": 5,
     "metadata": {},
     "output_type": "execute_result"
    }
   ],
   "source": [
    "#randomly chosen player\n",
    "a = 1\n",
    "#total players injured \n",
    "b = 145\n",
    "#probability that a randomly chosen player would suffer an injury.\n",
    "c = a/b\n",
    "c"
   ]
  },
  {
   "cell_type": "markdown",
   "id": "9a359974-af12-442c-bca4-949e794ee512",
   "metadata": {},
   "source": [
    "1.2 What is the probability that a player is a forward or a winger?"
   ]
  },
  {
   "cell_type": "code",
   "execution_count": 6,
   "id": "746351c5-4ac1-41c2-a768-179ee7b87b17",
   "metadata": {},
   "outputs": [
    {
     "data": {
      "text/plain": [
       "0.5234042553191489"
      ]
     },
     "execution_count": 6,
     "metadata": {},
     "output_type": "execute_result"
    }
   ],
   "source": [
    "a = 235 #total male football players\n",
    "b = 94 #total forward players\n",
    "c = 29 #total winger players\n",
    "d = b/a+c/a #Probability of forward or winger\n",
    "d"
   ]
  },
  {
   "cell_type": "markdown",
   "id": "edaa5258-9d7c-466a-8014-353523e996f6",
   "metadata": {},
   "source": [
    "The probability that a player is a forward or a winger is 0.5234042553191489.\n",
    "\n",
    "1.3 What is the probability that a randomly chosen player plays in a striker position and has a foot injury?"
   ]
  },
  {
   "cell_type": "code",
   "execution_count": 7,
   "id": "0ad228e4-e9bf-4d3a-9c3c-5f7fdfd45b54",
   "metadata": {},
   "outputs": [
    {
     "data": {
      "text/plain": [
       "0.19148936170212766"
      ]
     },
     "execution_count": 7,
     "metadata": {},
     "output_type": "execute_result"
    }
   ],
   "source": [
    "a = 45 #number of players who are injured in a striker position.\n",
    "b = 235 #total male football players\n",
    "c = a/b #probability of randomly chosen player plays in a striker position and has a foot injury\n",
    "c"
   ]
  },
  {
   "cell_type": "markdown",
   "id": "99bd1aab-f16b-4acd-b2fe-bb964cf24852",
   "metadata": {},
   "source": [
    "The probability that a randomly chosen player plays in a striker position and has a foot injury is 0.19148936170212766."
   ]
  },
  {
   "cell_type": "markdown",
   "id": "db5f3c5c-9d34-4960-8df0-bdba9ba000d8",
   "metadata": {},
   "source": [
    " What is the probability that a randomly chosen injured player is a striker?"
   ]
  },
  {
   "cell_type": "code",
   "execution_count": 8,
   "id": "2c663fd1-dad6-4705-a239-7c8aee9b05cd",
   "metadata": {},
   "outputs": [
    {
     "data": {
      "text/plain": [
       "0.3103448275862069"
      ]
     },
     "execution_count": 8,
     "metadata": {},
     "output_type": "execute_result"
    }
   ],
   "source": [
    "a = 235 #total male football players.\n",
    "b = 45 #number of players who are injured in a striker position.\n",
    "c = 145 #total players injured.\n",
    "d = b/a #probability of randomly chosen player plays in a striker position and has a foot injury.\n",
    "e = c/a #probability that a randomly chosen player would suffer an injury.\n",
    "f = d/e #probability that a randomly chosen injured player is a striker.\n",
    "f"
   ]
  },
  {
   "cell_type": "markdown",
   "id": "1b8d28fe-d923-49b0-9042-2b822873250e",
   "metadata": {},
   "source": [
    "The probability that a randomly chosen injured player is a striker is 0.3103448275862069.\n",
    "\n",
    "What is the probability that a randomly chosen injured player is either a forward or an attacking midfielder?"
   ]
  },
  {
   "cell_type": "code",
   "execution_count": 9,
   "id": "ac34ebbf-0553-45f9-9c70-ac36ea0d79e1",
   "metadata": {},
   "outputs": [
    {
     "data": {
      "text/plain": [
       "0.5517241379310345"
      ]
     },
     "execution_count": 9,
     "metadata": {},
     "output_type": "execute_result"
    }
   ],
   "source": [
    "a = 145 #total injured players.\n",
    "b = 56 #total forward injured players.\n",
    "c = 24 #total midfielder injured players.\n",
    "d = (b+c)/a # probability that a randomly chosen injured player is either a forward or an attacking midfielder\n",
    "d"
   ]
  },
  {
   "cell_type": "markdown",
   "id": "b44b3d8f-6fe6-4a1a-a41f-ed9d92b143fb",
   "metadata": {},
   "source": [
    "The probability that a randomly chosen injured player is either a forward or an attacking midfielder is 0.5517241379310345.\n",
    "\n",
    "The breaking strength of gunny bags used for packaging cement is normally distributed with a mean of 5 kg per sq. centimeter and a standard deviation of 1.5 kg per sq. centimeter. The quality team of the cement company wants to know the following about the packaging material to better understand wastage or pilferage within the supply chain; Answer the questions below based on the given information; (Provide an appropriate visual representation of your answers, without which marks will be deducted)"
   ]
  },
  {
   "cell_type": "code",
   "execution_count": 10,
   "id": "13d3395e-0b47-4d2e-b05a-18239a93bea9",
   "metadata": {},
   "outputs": [],
   "source": [
    "import scipy.stats as stats\n",
    "import matplotlib.pyplot as plt\n",
    "import numpy as np"
   ]
  },
  {
   "cell_type": "code",
   "execution_count": 11,
   "id": "d7d6cf8c-5144-4961-8184-e8bfc664d7e9",
   "metadata": {},
   "outputs": [],
   "source": [
    "mean = 5  \n",
    "std_dev = 1.5 "
   ]
  },
  {
   "cell_type": "markdown",
   "id": "2f3fcae4-0e37-4c70-a88c-0e63019732bd",
   "metadata": {},
   "source": [
    "What proportion of the gunny bags have a breaking strength of less than 3.17 kg per sq cm?"
   ]
  },
  {
   "cell_type": "code",
   "execution_count": 12,
   "id": "5b5187f9-53d2-4f00-b70f-40909fa5d6fd",
   "metadata": {},
   "outputs": [],
   "source": [
    "import scipy.stats \n",
    "prob = stats.norm.cdf(x= 3.17,  \n",
    "                     loc = 5,               \n",
    "                     scale= 1.5) "
   ]
  },
  {
   "cell_type": "code",
   "execution_count": 13,
   "id": "8f582483-7187-4270-a5ba-b47d28c73354",
   "metadata": {},
   "outputs": [
    {
     "data": {
      "text/plain": [
       "0.11123243744783456"
      ]
     },
     "execution_count": 13,
     "metadata": {},
     "output_type": "execute_result"
    }
   ],
   "source": [
    "prob"
   ]
  },
  {
   "cell_type": "code",
   "execution_count": 14,
   "id": "8c5d05df-b99a-4a16-8701-54f4a2d4a0ca",
   "metadata": {},
   "outputs": [],
   "source": [
    "def calculate_z_score(x):\n",
    "    return (x - mean) / std_dev\n"
   ]
  },
  {
   "cell_type": "code",
   "execution_count": 15,
   "id": "629f656c-e8d9-4591-afac-05eeb2ddaaf9",
   "metadata": {},
   "outputs": [],
   "source": [
    "x = np.linspace(0, 10, 1000)"
   ]
  },
  {
   "cell_type": "code",
   "execution_count": 16,
   "id": "d52412e1-c69d-4a33-8cf9-69490dc373a4",
   "metadata": {},
   "outputs": [],
   "source": [
    "z1 = calculate_z_score(3.17)\n",
    "prob_2_1 = stats.norm.cdf(z1)"
   ]
  },
  {
   "cell_type": "code",
   "execution_count": 17,
   "id": "d3a792c6-83a4-48c8-b80e-bb10ed0c012e",
   "metadata": {},
   "outputs": [
    {
     "data": {
      "image/png": "[encoded data removed]",
      "text/plain": [
       "<Figure size 640x480 with 1 Axes>"
      ]
     },
     "metadata": {},
     "output_type": "display_data"
    }
   ],
   "source": [
    "plt.subplot(221)\n",
    "plt.title(\" P(Z < -1.22)\")\n",
    "plt.plot(x, stats.norm.pdf(x, mean, std_dev))\n",
    "plt.fill_between(x, stats.norm.pdf(x, mean, std_dev), where=(x < z1), color='red', alpha=0.5)\n",
    "plt.axvline(x=3.17, color='purple', linestyle='--', label='3.17 kg/sq cm')\n",
    "plt.legend()\n",
    "plt.show()"
   ]
  },
  {
   "cell_type": "markdown",
   "id": "7a5bf66a-ee1c-4ba9-af68-e7e6d3bd2825",
   "metadata": {},
   "source": [
    "Therefore,0.11120000000000002 proportion of the gunny bags have a breaking strength less than 3.17 kg per sq cm.\n",
    "\n",
    "What proportion of the gunny bags have a breaking strength of at least 3.6 kg per sq cm.?"
   ]
  },
  {
   "cell_type": "code",
   "execution_count": 18,
   "id": "8467e893-bf5f-4515-9a56-050e7092f243",
   "metadata": {},
   "outputs": [
    {
     "data": {
      "text/plain": [
       "-0.9333333333333332"
      ]
     },
     "execution_count": 18,
     "metadata": {},
     "output_type": "execute_result"
    }
   ],
   "source": [
    "z_score=(3.6-5)/1.5\n",
    "z_score"
   ]
  },
  {
   "cell_type": "code",
   "execution_count": 19,
   "id": "5b25a099-e21f-48f2-a75b-03a8f32497ed",
   "metadata": {},
   "outputs": [],
   "source": [
    "from scipy.stats import norm"
   ]
  },
  {
   "cell_type": "code",
   "execution_count": 20,
   "id": "01969e45-bb22-4ed0-a648-a2325e98c380",
   "metadata": {},
   "outputs": [],
   "source": [
    "z_score = -0.93 "
   ]
  },
  {
   "cell_type": "code",
   "execution_count": 21,
   "id": "3d5322c7-9c70-4fa1-bcc5-c8ccec1499de",
   "metadata": {},
   "outputs": [],
   "source": [
    "z_score_lower = -0.93  # The lower bound of the interval\n",
    "z_score_upper = 0.0    # The upper bound of the interval\n"
   ]
  },
  {
   "cell_type": "code",
   "execution_count": 22,
   "id": "fba1a384-306e-4c10-ba67-15e9a2c981c0",
   "metadata": {},
   "outputs": [],
   "source": [
    "cumulative_probability = norm.cdf(z_score_upper) - norm.cdf(z_score_lower)\n"
   ]
  },
  {
   "cell_type": "code",
   "execution_count": 23,
   "id": "464f00d2-110b-4247-a1c4-7265c1a50486",
   "metadata": {},
   "outputs": [
    {
     "name": "stdout",
     "output_type": "stream",
     "text": [
      "Cumulative Probability: 0.3238144577547421\n"
     ]
    }
   ],
   "source": [
    "print(\"Cumulative Probability:\", cumulative_probability)"
   ]
  },
  {
   "cell_type": "code",
   "execution_count": 24,
   "id": "69536954-fcc4-4b23-98b0-ebb8b8ffeec2",
   "metadata": {},
   "outputs": [
    {
     "data": {
      "text/plain": [
       "0.8238"
      ]
     },
     "execution_count": 24,
     "metadata": {},
     "output_type": "execute_result"
    }
   ],
   "source": [
    "p1 = 0.5+0.3238 #obtained from the normal distribution table of p(-0.93<= z<0)\n",
    "p1"
   ]
  },
  {
   "cell_type": "markdown",
   "id": "413cff3a-9cd9-4910-9e37-978e0dc1c122",
   "metadata": {},
   "source": [
    "Hence,0.8238 proportion of the gunny bags have a breaking strength at least 3.6 kg per sq cm.\n",
    "\n"
   ]
  },
  {
   "cell_type": "code",
   "execution_count": 26,
   "id": "ca1ef81f-3e56-4014-be35-227bb22a0a0b",
   "metadata": {},
   "outputs": [],
   "source": [
    "import matplotlib.pyplot as plt\n",
    "import numpy as np\n",
    "from scipy import stats\n"
   ]
  },
  {
   "cell_type": "code",
   "execution_count": 27,
   "id": "b48ffd65-12ca-44d1-81bb-7f88476acdd1",
   "metadata": {},
   "outputs": [],
   "source": [
    "mean = 3.5  # Mean breaking strength (assumed)\n",
    "std_dev = 0.2  # Standard deviation of breaking strength (assumed)\n"
   ]
  },
  {
   "cell_type": "code",
   "execution_count": 28,
   "id": "1bede9ee-ba6c-4ccb-9bab-03d0dc244af5",
   "metadata": {},
   "outputs": [],
   "source": [
    "threshold = 3.6"
   ]
  },
  {
   "cell_type": "code",
   "execution_count": 29,
   "id": "5d1fb29a-298a-4406-a777-aaf2b40d2f05",
   "metadata": {},
   "outputs": [],
   "source": [
    "x = np.linspace(2.0, 5.0, 1000)"
   ]
  },
  {
   "cell_type": "code",
   "execution_count": 30,
   "id": "6164cf4f-97b6-4cbc-a47f-e1d1e34f71af",
   "metadata": {},
   "outputs": [],
   "source": [
    "proportion = 1 - stats.norm.cdf(threshold, loc=mean, scale=std_dev)"
   ]
  },
  {
   "cell_type": "code",
   "execution_count": 31,
   "id": "fee3967d-bb68-4930-b943-8ef299f4ee63",
   "metadata": {},
   "outputs": [
    {
     "data": {
      "image/png": "[encoded data removed]",
      "text/plain": [
       "<Figure size 640x480 with 1 Axes>"
      ]
     },
     "metadata": {},
     "output_type": "display_data"
    }
   ],
   "source": [
    "plt.subplot(222)\n",
    "plt.title(\"1 - P(Z < Z2)\")\n",
    "plt.plot(x, stats.norm.pdf(x, mean, std_dev))\n",
    "plt.fill_between(x, stats.norm.pdf(x, mean, std_dev), where=(x >= threshold), color='blue', alpha=0.5)\n",
    "plt.axvline(x=threshold, color='black', linestyle='--', label='3.6 kg/sq cm')\n",
    "plt.legend()\n",
    "plt.show()"
   ]
  },
  {
   "cell_type": "markdown",
   "id": "f3724fba-78ca-4f56-8b3f-8c56661372cc",
   "metadata": {},
   "source": [
    "What proportion of the gunny bags have a breaking strength between 5 and 5.5 kg per sq cm?"
   ]
  },
  {
   "cell_type": "code",
   "execution_count": 32,
   "id": "1e6ff3e5-6b00-42c3-9dd6-c1171d34a51d",
   "metadata": {},
   "outputs": [],
   "source": [
    "mean = 5 # Insert the mean value here\n",
    "std_dev =1.5  # Insert the standard deviation value here"
   ]
  },
  {
   "cell_type": "code",
   "execution_count": 33,
   "id": "19db3a25-beed-48a4-b4ba-8facb4b12847",
   "metadata": {},
   "outputs": [],
   "source": [
    "lower_bound = 5  # Lower bound of the range\n",
    "upper_bound = 5.5  # Upper bound of the range\n"
   ]
  },
  {
   "cell_type": "code",
   "execution_count": 34,
   "id": "2adc4e99-0db4-445c-a070-e3b9008e60c9",
   "metadata": {},
   "outputs": [],
   "source": [
    "z_lower = (lower_bound - mean) / std_dev\n",
    "z_upper = (upper_bound - mean) / std_dev"
   ]
  },
  {
   "cell_type": "code",
   "execution_count": 35,
   "id": "32023e25-f930-4f34-90d3-95938abced4e",
   "metadata": {},
   "outputs": [],
   "source": [
    "proportion = stats.norm.cdf(z_upper) - stats.norm.cdf(z_lower)"
   ]
  },
  {
   "cell_type": "code",
   "execution_count": 36,
   "id": "cc2c99ae-1099-46f5-9558-5fe0d093e7d7",
   "metadata": {},
   "outputs": [
    {
     "name": "stdout",
     "output_type": "stream",
     "text": [
      "Proportion of bags with breaking strength between 5 and 5.5 kg per sq cm: 0.13055865981823633\n"
     ]
    }
   ],
   "source": [
    "print(\"Proportion of bags with breaking strength between 5 and 5.5 kg per sq cm:\", proportion)"
   ]
  },
  {
   "cell_type": "markdown",
   "id": "154a49bf-8de3-4b50-b64b-becb76093602",
   "metadata": {},
   "source": [
    "Proportion of bags with breaking strength between 5 and 5.5 kg per sq cm: 0.13055865981823633\n",
    "0.13055865 is the proportion of the gunny bags have a breaking strength between 5 and 5.5 kg per sq cm."
   ]
  },
  {
   "cell_type": "code",
   "execution_count": 37,
   "id": "b0437fd6-abc3-4585-a42c-84fbc8fe9189",
   "metadata": {},
   "outputs": [
    {
     "data": {
      "text/plain": [
       "0.0"
      ]
     },
     "execution_count": 37,
     "metadata": {},
     "output_type": "execute_result"
    }
   ],
   "source": [
    "z1 = (5-mean)/std_dev\n",
    "z1"
   ]
  },
  {
   "cell_type": "code",
   "execution_count": 38,
   "id": "6529219b-e922-4a3b-b535-852bcaecd296",
   "metadata": {},
   "outputs": [],
   "source": [
    "z_values = np.linspace(-3, 3, 100)\n",
    "pdf_values = stats.norm.pdf(z_values)"
   ]
  },
  {
   "cell_type": "code",
   "execution_count": 39,
   "id": "691cfd4d-f9bd-4b66-b2c7-708d462637ac",
   "metadata": {},
   "outputs": [
    {
     "data": {
      "image/png": "[encoded data removed]",
      "text/plain": [
       "<Figure size 640x480 with 1 Axes>"
      ]
     },
     "metadata": {},
     "output_type": "display_data"
    }
   ],
   "source": [
    "plt.plot(z_values, pdf_values)\n",
    "plt.fill_between(z_values, 0, pdf_values, where=(z_values >= z1), color='green', alpha=0.5)\n",
    "plt.title(f\"Z-score for Mean (5) = {z1:.2f}\")\n",
    "plt.xlabel('Z-score')\n",
    "plt.ylabel('Probability Density')\n",
    "plt.show()"
   ]
  },
  {
   "cell_type": "markdown",
   "id": "3ee95ade-8317-48a8-bb83-8b3adb936530",
   "metadata": {},
   "source": [
    "What proportion of the gunny bags have a breaking strength NOT between 3 and 7.5 kg per sq cm?"
   ]
  },
  {
   "cell_type": "code",
   "execution_count": 40,
   "id": "9ea28db2-eaa7-4278-806d-6a4b0910ccb2",
   "metadata": {},
   "outputs": [
    {
     "data": {
      "text/plain": [
       "-1.3333333333333333"
      ]
     },
     "execution_count": 40,
     "metadata": {},
     "output_type": "execute_result"
    }
   ],
   "source": [
    "#z score for 3 kg\n",
    "z1 = (3-5)/1.5\n",
    "z1"
   ]
  },
  {
   "cell_type": "code",
   "execution_count": 41,
   "id": "2b057272-8d7e-4b55-9c17-c144c8d7ed17",
   "metadata": {},
   "outputs": [
    {
     "data": {
      "text/plain": [
       "1.6666666666666667"
      ]
     },
     "execution_count": 41,
     "metadata": {},
     "output_type": "execute_result"
    }
   ],
   "source": [
    "#z score for 7.5kg\n",
    "z2 = (7.5-5)/1.5\n",
    "z2"
   ]
  },
  {
   "cell_type": "code",
   "execution_count": 42,
   "id": "3c8b470f-8b04-4715-9726-b8cfea9276f3",
   "metadata": {},
   "outputs": [
    {
     "data": {
      "text/plain": [
       "0.8607"
      ]
     },
     "execution_count": 42,
     "metadata": {},
     "output_type": "execute_result"
    }
   ],
   "source": [
    "p1 = 0.4082 #obtained from the normal distribution table of p(-1.33<z<0)\n",
    "p2 = 0.4525 #Obtained from the normal distribution table of p(0<z<1.67)\n",
    "p = p1+p2\n",
    "p"
   ]
  },
  {
   "cell_type": "code",
   "execution_count": 43,
   "id": "6e2f82c8-c6df-4b3c-9008-d491f9e79f71",
   "metadata": {},
   "outputs": [
    {
     "data": {
      "text/plain": [
       "0.13929999999999998"
      ]
     },
     "execution_count": 43,
     "metadata": {},
     "output_type": "execute_result"
    }
   ],
   "source": [
    "Pnot = 1-p #not between 3 and 7.5\n",
    "Pnot"
   ]
  },
  {
   "cell_type": "markdown",
   "id": "d2d46c6b-636b-4fb4-ae28-e9459a5bd42f",
   "metadata": {},
   "source": [
    "0.13929 is the proportion of the gunny bags have a breaking strength NOT between 3 and 7.5 kg per sq cm.\n",
    "\n"
   ]
  },
  {
   "cell_type": "code",
   "execution_count": 44,
   "id": "fbf6ffea-0475-435d-b228-549d9f49ab2a",
   "metadata": {},
   "outputs": [],
   "source": [
    "import matplotlib.pyplot as plt\n",
    "import numpy as np\n",
    "import scipy.stats as stats\n"
   ]
  },
  {
   "cell_type": "code",
   "execution_count": 45,
   "id": "a93a30d6-b454-43eb-8a97-ee8d03cfeda9",
   "metadata": {},
   "outputs": [],
   "source": [
    "mean = 5  # Mean value\n",
    "std_dev = 2  # Standard deviation\n"
   ]
  },
  {
   "cell_type": "code",
   "execution_count": 46,
   "id": "82b063a3-1baa-4f72-8c59-583ea23f64c0",
   "metadata": {},
   "outputs": [],
   "source": [
    "x = np.linspace(0, 10, 1000)"
   ]
  },
  {
   "cell_type": "code",
   "execution_count": 47,
   "id": "0003754d-57a9-4dc1-b040-ee6f4194be94",
   "metadata": {},
   "outputs": [],
   "source": [
    "z3 = 3\n",
    "z4 = 7.5"
   ]
  },
  {
   "cell_type": "code",
   "execution_count": 48,
   "id": "7300c6a3-2167-4fd5-9313-63ce5b9f6cf3",
   "metadata": {},
   "outputs": [
    {
     "data": {
      "image/png": "[encoded data removed]",
      "text/plain": [
       "<Figure size 640x480 with 1 Axes>"
      ]
     },
     "metadata": {},
     "output_type": "display_data"
    }
   ],
   "source": [
    "plt.subplot(224)\n",
    "plt.title(\"2.4: 1 - [P(Z < Z3) - P(Z < Z4)]\")\n",
    "plt.plot(x, stats.norm.pdf(x, mean, std_dev))\n",
    "plt.fill_between(x, stats.norm.pdf(x, mean, std_dev), where=((x < z3) | (x > z4)), color='orange', alpha=0.5)\n",
    "plt.axvline(x=3, color='purple', linestyle='--', label='3 kg/sq cm')\n",
    "plt.axvline(x=7.5, color='black', linestyle='--', label='7.5 kg/sq cm')\n",
    "plt.legend()\n",
    "plt.tight_layout()\n",
    "plt.show()\n"
   ]
  },
  {
   "cell_type": "markdown",
   "id": "6c6334bd-96af-4e37-8126-7e567a1002a3",
   "metadata": {},
   "source": [
    "Zingaro stone printing is a company that specializes in printing images or patterns on polished or unpolished stones. However, for the optimum level of printing of the image, the stone surface has to have a Brinell's hardness index of at least 150. Recently, Zingaro has received a batch of polished and unpolished stones from its clients. Use the data provided to answer the following (assuming a 5% significance level);\n",
    "\n",
    "3.1 Zingaro has reason to believe that the unpolished stones may not be suitable for printing. Do you think Zingaro is justified in thinking so?"
   ]
  },
  {
   "cell_type": "code",
   "execution_count": 49,
   "id": "8b2ad30b-cbdc-4e7c-bd27-a60ac391d4f8",
   "metadata": {},
   "outputs": [],
   "source": [
    "import pandas as pd"
   ]
  },
  {
   "cell_type": "code",
   "execution_count": 50,
   "id": "46a08362-5817-4177-83cd-c5cbde519ca7",
   "metadata": {},
   "outputs": [],
   "source": [
    "ZingaroCompany=pd.read_excel('D:/Ment Class/Practise11/Excel Data/TSF/PowerBI/DWNLDS/CV/MRA Project/MRA Project/XLSX File for practice/ZingaroCompany.xlsx')"
   ]
  },
  {
   "cell_type": "code",
   "execution_count": 51,
   "id": "b88502e9-7272-4dd4-839a-80a9be630ef1",
   "metadata": {},
   "outputs": [
    {
     "data": {
      "text/html": [
       "<div>\n",
       "<style scoped>\n",
       "    .dataframe tbody tr th:only-of-type {\n",
       "        vertical-align: middle;\n",
       "    }\n",
       "\n",
       "    .dataframe tbody tr th {\n",
       "        vertical-align: top;\n",
       "    }\n",
       "\n",
       "    .dataframe thead th {\n",
       "        text-align: right;\n",
       "    }\n",
       "</style>\n",
       "<table border=\"1\" class=\"dataframe\">\n",
       "  <thead>\n",
       "    <tr style=\"text-align: right;\">\n",
       "      <th></th>\n",
       "      <th>Unpolished</th>\n",
       "      <th>Treated and Polished</th>\n",
       "    </tr>\n",
       "  </thead>\n",
       "  <tbody>\n",
       "    <tr>\n",
       "      <th>0</th>\n",
       "      <td>164.481713</td>\n",
       "      <td>133.209393</td>\n",
       "    </tr>\n",
       "    <tr>\n",
       "      <th>1</th>\n",
       "      <td>154.307045</td>\n",
       "      <td>138.482771</td>\n",
       "    </tr>\n",
       "    <tr>\n",
       "      <th>2</th>\n",
       "      <td>129.861048</td>\n",
       "      <td>159.665201</td>\n",
       "    </tr>\n",
       "    <tr>\n",
       "      <th>3</th>\n",
       "      <td>159.096184</td>\n",
       "      <td>145.663528</td>\n",
       "    </tr>\n",
       "    <tr>\n",
       "      <th>4</th>\n",
       "      <td>135.256748</td>\n",
       "      <td>136.789227</td>\n",
       "    </tr>\n",
       "    <tr>\n",
       "      <th>...</th>\n",
       "      <td>...</td>\n",
       "      <td>...</td>\n",
       "    </tr>\n",
       "    <tr>\n",
       "      <th>70</th>\n",
       "      <td>123.067611</td>\n",
       "      <td>142.293544</td>\n",
       "    </tr>\n",
       "    <tr>\n",
       "      <th>71</th>\n",
       "      <td>171.822218</td>\n",
       "      <td>140.124092</td>\n",
       "    </tr>\n",
       "    <tr>\n",
       "      <th>72</th>\n",
       "      <td>88.135994</td>\n",
       "      <td>141.393091</td>\n",
       "    </tr>\n",
       "    <tr>\n",
       "      <th>73</th>\n",
       "      <td>145.150397</td>\n",
       "      <td>131.370530</td>\n",
       "    </tr>\n",
       "    <tr>\n",
       "      <th>74</th>\n",
       "      <td>170.854823</td>\n",
       "      <td>144.502647</td>\n",
       "    </tr>\n",
       "  </tbody>\n",
       "</table>\n",
       "<p>75 rows × 2 columns</p>\n",
       "</div>"
      ],
      "text/plain": [
       "    Unpolished   Treated and Polished\n",
       "0    164.481713            133.209393\n",
       "1    154.307045            138.482771\n",
       "2    129.861048            159.665201\n",
       "3    159.096184            145.663528\n",
       "4    135.256748            136.789227\n",
       "..          ...                   ...\n",
       "70   123.067611            142.293544\n",
       "71   171.822218            140.124092\n",
       "72    88.135994            141.393091\n",
       "73   145.150397            131.370530\n",
       "74   170.854823            144.502647\n",
       "\n",
       "[75 rows x 2 columns]"
      ]
     },
     "execution_count": 51,
     "metadata": {},
     "output_type": "execute_result"
    }
   ],
   "source": [
    "ZingaroCompany"
   ]
  },
  {
   "cell_type": "code",
   "execution_count": 54,
   "id": "fae559ad-bfc5-4e7f-8b9a-64d1ed701eb8",
   "metadata": {},
   "outputs": [
    {
     "data": {
      "text/html": [
       "<div>\n",
       "<style scoped>\n",
       "    .dataframe tbody tr th:only-of-type {\n",
       "        vertical-align: middle;\n",
       "    }\n",
       "\n",
       "    .dataframe tbody tr th {\n",
       "        vertical-align: top;\n",
       "    }\n",
       "\n",
       "    .dataframe thead th {\n",
       "        text-align: right;\n",
       "    }\n",
       "</style>\n",
       "<table border=\"1\" class=\"dataframe\">\n",
       "  <thead>\n",
       "    <tr style=\"text-align: right;\">\n",
       "      <th></th>\n",
       "      <th>Unpolished</th>\n",
       "      <th>Treated and Polished</th>\n",
       "    </tr>\n",
       "  </thead>\n",
       "  <tbody>\n",
       "    <tr>\n",
       "      <th>0</th>\n",
       "      <td>164.481713</td>\n",
       "      <td>133.209393</td>\n",
       "    </tr>\n",
       "    <tr>\n",
       "      <th>1</th>\n",
       "      <td>154.307045</td>\n",
       "      <td>138.482771</td>\n",
       "    </tr>\n",
       "    <tr>\n",
       "      <th>2</th>\n",
       "      <td>129.861048</td>\n",
       "      <td>159.665201</td>\n",
       "    </tr>\n",
       "    <tr>\n",
       "      <th>3</th>\n",
       "      <td>159.096184</td>\n",
       "      <td>145.663528</td>\n",
       "    </tr>\n",
       "    <tr>\n",
       "      <th>4</th>\n",
       "      <td>135.256748</td>\n",
       "      <td>136.789227</td>\n",
       "    </tr>\n",
       "    <tr>\n",
       "      <th>5</th>\n",
       "      <td>161.820120</td>\n",
       "      <td>167.086582</td>\n",
       "    </tr>\n",
       "    <tr>\n",
       "      <th>6</th>\n",
       "      <td>149.455054</td>\n",
       "      <td>152.699641</td>\n",
       "    </tr>\n",
       "    <tr>\n",
       "      <th>7</th>\n",
       "      <td>135.714317</td>\n",
       "      <td>138.648766</td>\n",
       "    </tr>\n",
       "    <tr>\n",
       "      <th>8</th>\n",
       "      <td>102.004519</td>\n",
       "      <td>163.384427</td>\n",
       "    </tr>\n",
       "    <tr>\n",
       "      <th>9</th>\n",
       "      <td>89.482158</td>\n",
       "      <td>132.141726</td>\n",
       "    </tr>\n",
       "    <tr>\n",
       "      <th>10</th>\n",
       "      <td>95.349030</td>\n",
       "      <td>145.828526</td>\n",
       "    </tr>\n",
       "    <tr>\n",
       "      <th>11</th>\n",
       "      <td>104.421403</td>\n",
       "      <td>162.081613</td>\n",
       "    </tr>\n",
       "    <tr>\n",
       "      <th>12</th>\n",
       "      <td>140.889352</td>\n",
       "      <td>153.798449</td>\n",
       "    </tr>\n",
       "    <tr>\n",
       "      <th>13</th>\n",
       "      <td>147.366647</td>\n",
       "      <td>159.012005</td>\n",
       "    </tr>\n",
       "    <tr>\n",
       "      <th>14</th>\n",
       "      <td>48.406838</td>\n",
       "      <td>168.346223</td>\n",
       "    </tr>\n",
       "    <tr>\n",
       "      <th>15</th>\n",
       "      <td>68.251542</td>\n",
       "      <td>132.682955</td>\n",
       "    </tr>\n",
       "    <tr>\n",
       "      <th>16</th>\n",
       "      <td>126.169832</td>\n",
       "      <td>151.273875</td>\n",
       "    </tr>\n",
       "    <tr>\n",
       "      <th>17</th>\n",
       "      <td>130.436153</td>\n",
       "      <td>130.955804</td>\n",
       "    </tr>\n",
       "    <tr>\n",
       "      <th>18</th>\n",
       "      <td>120.894315</td>\n",
       "      <td>141.344288</td>\n",
       "    </tr>\n",
       "    <tr>\n",
       "      <th>19</th>\n",
       "      <td>107.275341</td>\n",
       "      <td>171.114662</td>\n",
       "    </tr>\n",
       "  </tbody>\n",
       "</table>\n",
       "</div>"
      ],
      "text/plain": [
       "    Unpolished   Treated and Polished\n",
       "0    164.481713            133.209393\n",
       "1    154.307045            138.482771\n",
       "2    129.861048            159.665201\n",
       "3    159.096184            145.663528\n",
       "4    135.256748            136.789227\n",
       "5    161.820120            167.086582\n",
       "6    149.455054            152.699641\n",
       "7    135.714317            138.648766\n",
       "8    102.004519            163.384427\n",
       "9     89.482158            132.141726\n",
       "10    95.349030            145.828526\n",
       "11   104.421403            162.081613\n",
       "12   140.889352            153.798449\n",
       "13   147.366647            159.012005\n",
       "14    48.406838            168.346223\n",
       "15    68.251542            132.682955\n",
       "16   126.169832            151.273875\n",
       "17   130.436153            130.955804\n",
       "18   120.894315            141.344288\n",
       "19   107.275341            171.114662"
      ]
     },
     "execution_count": 54,
     "metadata": {},
     "output_type": "execute_result"
    }
   ],
   "source": [
    "ZingaroCompany.head(20)"
   ]
  },
  {
   "cell_type": "code",
   "execution_count": 55,
   "id": "f6315304-949d-4c80-87bb-86db1933658c",
   "metadata": {},
   "outputs": [
    {
     "data": {
      "text/html": [
       "<div>\n",
       "<style scoped>\n",
       "    .dataframe tbody tr th:only-of-type {\n",
       "        vertical-align: middle;\n",
       "    }\n",
       "\n",
       "    .dataframe tbody tr th {\n",
       "        vertical-align: top;\n",
       "    }\n",
       "\n",
       "    .dataframe thead th {\n",
       "        text-align: right;\n",
       "    }\n",
       "</style>\n",
       "<table border=\"1\" class=\"dataframe\">\n",
       "  <thead>\n",
       "    <tr style=\"text-align: right;\">\n",
       "      <th></th>\n",
       "      <th>Unpolished</th>\n",
       "      <th>Treated and Polished</th>\n",
       "    </tr>\n",
       "  </thead>\n",
       "  <tbody>\n",
       "    <tr>\n",
       "      <th>55</th>\n",
       "      <td>88.307986</td>\n",
       "      <td>145.523286</td>\n",
       "    </tr>\n",
       "    <tr>\n",
       "      <th>56</th>\n",
       "      <td>141.438578</td>\n",
       "      <td>167.733992</td>\n",
       "    </tr>\n",
       "    <tr>\n",
       "      <th>57</th>\n",
       "      <td>192.735792</td>\n",
       "      <td>139.552640</td>\n",
       "    </tr>\n",
       "    <tr>\n",
       "      <th>58</th>\n",
       "      <td>123.579612</td>\n",
       "      <td>152.056342</td>\n",
       "    </tr>\n",
       "    <tr>\n",
       "      <th>59</th>\n",
       "      <td>105.371885</td>\n",
       "      <td>152.013506</td>\n",
       "    </tr>\n",
       "    <tr>\n",
       "      <th>60</th>\n",
       "      <td>187.915026</td>\n",
       "      <td>146.233803</td>\n",
       "    </tr>\n",
       "    <tr>\n",
       "      <th>61</th>\n",
       "      <td>135.191729</td>\n",
       "      <td>155.734631</td>\n",
       "    </tr>\n",
       "    <tr>\n",
       "      <th>62</th>\n",
       "      <td>178.079431</td>\n",
       "      <td>154.415525</td>\n",
       "    </tr>\n",
       "    <tr>\n",
       "      <th>63</th>\n",
       "      <td>121.407525</td>\n",
       "      <td>107.524167</td>\n",
       "    </tr>\n",
       "    <tr>\n",
       "      <th>64</th>\n",
       "      <td>157.692256</td>\n",
       "      <td>130.025722</td>\n",
       "    </tr>\n",
       "    <tr>\n",
       "      <th>65</th>\n",
       "      <td>154.894535</td>\n",
       "      <td>153.818635</td>\n",
       "    </tr>\n",
       "    <tr>\n",
       "      <th>66</th>\n",
       "      <td>117.797946</td>\n",
       "      <td>107.579388</td>\n",
       "    </tr>\n",
       "    <tr>\n",
       "      <th>67</th>\n",
       "      <td>126.854667</td>\n",
       "      <td>145.721322</td>\n",
       "    </tr>\n",
       "    <tr>\n",
       "      <th>68</th>\n",
       "      <td>126.473997</td>\n",
       "      <td>136.813944</td>\n",
       "    </tr>\n",
       "    <tr>\n",
       "      <th>69</th>\n",
       "      <td>117.009987</td>\n",
       "      <td>142.718624</td>\n",
       "    </tr>\n",
       "    <tr>\n",
       "      <th>70</th>\n",
       "      <td>123.067611</td>\n",
       "      <td>142.293544</td>\n",
       "    </tr>\n",
       "    <tr>\n",
       "      <th>71</th>\n",
       "      <td>171.822218</td>\n",
       "      <td>140.124092</td>\n",
       "    </tr>\n",
       "    <tr>\n",
       "      <th>72</th>\n",
       "      <td>88.135994</td>\n",
       "      <td>141.393091</td>\n",
       "    </tr>\n",
       "    <tr>\n",
       "      <th>73</th>\n",
       "      <td>145.150397</td>\n",
       "      <td>131.370530</td>\n",
       "    </tr>\n",
       "    <tr>\n",
       "      <th>74</th>\n",
       "      <td>170.854823</td>\n",
       "      <td>144.502647</td>\n",
       "    </tr>\n",
       "  </tbody>\n",
       "</table>\n",
       "</div>"
      ],
      "text/plain": [
       "    Unpolished   Treated and Polished\n",
       "55    88.307986            145.523286\n",
       "56   141.438578            167.733992\n",
       "57   192.735792            139.552640\n",
       "58   123.579612            152.056342\n",
       "59   105.371885            152.013506\n",
       "60   187.915026            146.233803\n",
       "61   135.191729            155.734631\n",
       "62   178.079431            154.415525\n",
       "63   121.407525            107.524167\n",
       "64   157.692256            130.025722\n",
       "65   154.894535            153.818635\n",
       "66   117.797946            107.579388\n",
       "67   126.854667            145.721322\n",
       "68   126.473997            136.813944\n",
       "69   117.009987            142.718624\n",
       "70   123.067611            142.293544\n",
       "71   171.822218            140.124092\n",
       "72    88.135994            141.393091\n",
       "73   145.150397            131.370530\n",
       "74   170.854823            144.502647"
      ]
     },
     "execution_count": 55,
     "metadata": {},
     "output_type": "execute_result"
    }
   ],
   "source": [
    "ZingaroCompany.tail(20)"
   ]
  },
  {
   "cell_type": "code",
   "execution_count": 56,
   "id": "c443fd2a-411b-4e7a-b11f-c51f0b733210",
   "metadata": {},
   "outputs": [
    {
     "data": {
      "text/html": [
       "<div>\n",
       "<style scoped>\n",
       "    .dataframe tbody tr th:only-of-type {\n",
       "        vertical-align: middle;\n",
       "    }\n",
       "\n",
       "    .dataframe tbody tr th {\n",
       "        vertical-align: top;\n",
       "    }\n",
       "\n",
       "    .dataframe thead th {\n",
       "        text-align: right;\n",
       "    }\n",
       "</style>\n",
       "<table border=\"1\" class=\"dataframe\">\n",
       "  <thead>\n",
       "    <tr style=\"text-align: right;\">\n",
       "      <th></th>\n",
       "      <th>Unpolished</th>\n",
       "      <th>Treated and Polished</th>\n",
       "    </tr>\n",
       "  </thead>\n",
       "  <tbody>\n",
       "    <tr>\n",
       "      <th>count</th>\n",
       "      <td>75.000000</td>\n",
       "      <td>75.000000</td>\n",
       "    </tr>\n",
       "    <tr>\n",
       "      <th>mean</th>\n",
       "      <td>134.110527</td>\n",
       "      <td>147.788117</td>\n",
       "    </tr>\n",
       "    <tr>\n",
       "      <th>std</th>\n",
       "      <td>33.041804</td>\n",
       "      <td>15.587355</td>\n",
       "    </tr>\n",
       "    <tr>\n",
       "      <th>min</th>\n",
       "      <td>48.406838</td>\n",
       "      <td>107.524167</td>\n",
       "    </tr>\n",
       "    <tr>\n",
       "      <th>25%</th>\n",
       "      <td>115.329753</td>\n",
       "      <td>138.268300</td>\n",
       "    </tr>\n",
       "    <tr>\n",
       "      <th>50%</th>\n",
       "      <td>135.597121</td>\n",
       "      <td>145.721322</td>\n",
       "    </tr>\n",
       "    <tr>\n",
       "      <th>75%</th>\n",
       "      <td>158.215098</td>\n",
       "      <td>157.373318</td>\n",
       "    </tr>\n",
       "    <tr>\n",
       "      <th>max</th>\n",
       "      <td>200.161313</td>\n",
       "      <td>192.272856</td>\n",
       "    </tr>\n",
       "  </tbody>\n",
       "</table>\n",
       "</div>"
      ],
      "text/plain": [
       "       Unpolished   Treated and Polished\n",
       "count    75.000000             75.000000\n",
       "mean    134.110527            147.788117\n",
       "std      33.041804             15.587355\n",
       "min      48.406838            107.524167\n",
       "25%     115.329753            138.268300\n",
       "50%     135.597121            145.721322\n",
       "75%     158.215098            157.373318\n",
       "max     200.161313            192.272856"
      ]
     },
     "execution_count": 56,
     "metadata": {},
     "output_type": "execute_result"
    }
   ],
   "source": [
    "ZingaroCompany.describe()"
   ]
  },
  {
   "cell_type": "code",
   "execution_count": 57,
   "id": "3149c368-b003-4f75-a156-605c2f2f655b",
   "metadata": {},
   "outputs": [
    {
     "data": {
      "text/plain": [
       "(75, 2)"
      ]
     },
     "execution_count": 57,
     "metadata": {},
     "output_type": "execute_result"
    }
   ],
   "source": [
    "ZingaroCompany.shape"
   ]
  },
  {
   "cell_type": "code",
   "execution_count": 58,
   "id": "f0d416ef-a6e4-42d5-88c1-9df9f6f3fd78",
   "metadata": {},
   "outputs": [
    {
     "data": {
      "text/plain": [
       "Unpolished              0\n",
       "Treated and Polished    0\n",
       "dtype: int64"
      ]
     },
     "execution_count": 58,
     "metadata": {},
     "output_type": "execute_result"
    }
   ],
   "source": [
    "ZingaroCompany.isnull().sum()"
   ]
  },
  {
   "cell_type": "code",
   "execution_count": 59,
   "id": "f5a4b5d6-7220-47df-ac65-63167677b9a8",
   "metadata": {},
   "outputs": [
    {
     "data": {
      "text/plain": [
       "0"
      ]
     },
     "execution_count": 59,
     "metadata": {},
     "output_type": "execute_result"
    }
   ],
   "source": [
    "ZingaroCompany.duplicated().sum()"
   ]
  },
  {
   "cell_type": "code",
   "execution_count": 60,
   "id": "f76a7d0d-f1be-464a-b315-eb4590204ef2",
   "metadata": {},
   "outputs": [
    {
     "data": {
      "text/plain": [
       "Unpolished   Treated and Polished\n",
       "48.406838    168.346223              1\n",
       "158.737940   172.121677              1\n",
       "154.894535   153.818635              1\n",
       "154.670182   155.146849              1\n",
       "154.307045   138.482771              1\n",
       "                                    ..\n",
       "121.407525   107.524167              1\n",
       "120.894315   141.344288              1\n",
       "120.437298   138.053829              1\n",
       "119.387758   133.534485              1\n",
       "200.161313   159.664326              1\n",
       "Length: 75, dtype: int64"
      ]
     },
     "execution_count": 60,
     "metadata": {},
     "output_type": "execute_result"
    }
   ],
   "source": [
    "ZingaroCompany.value_counts()"
   ]
  },
  {
   "cell_type": "code",
   "execution_count": 61,
   "id": "193cc7d9-e91b-43b5-9ba9-b354ee6bfbb4",
   "metadata": {},
   "outputs": [
    {
     "data": {
      "text/html": [
       "<div>\n",
       "<style scoped>\n",
       "    .dataframe tbody tr th:only-of-type {\n",
       "        vertical-align: middle;\n",
       "    }\n",
       "\n",
       "    .dataframe tbody tr th {\n",
       "        vertical-align: top;\n",
       "    }\n",
       "\n",
       "    .dataframe thead th {\n",
       "        text-align: right;\n",
       "    }\n",
       "</style>\n",
       "<table border=\"1\" class=\"dataframe\">\n",
       "  <thead>\n",
       "    <tr style=\"text-align: right;\">\n",
       "      <th></th>\n",
       "      <th>Unpolished</th>\n",
       "      <th>Treated and Polished</th>\n",
       "    </tr>\n",
       "  </thead>\n",
       "  <tbody>\n",
       "    <tr>\n",
       "      <th>count</th>\n",
       "      <td>75.000000</td>\n",
       "      <td>75.000000</td>\n",
       "    </tr>\n",
       "    <tr>\n",
       "      <th>mean</th>\n",
       "      <td>134.110527</td>\n",
       "      <td>147.788117</td>\n",
       "    </tr>\n",
       "    <tr>\n",
       "      <th>std</th>\n",
       "      <td>33.041804</td>\n",
       "      <td>15.587355</td>\n",
       "    </tr>\n",
       "    <tr>\n",
       "      <th>min</th>\n",
       "      <td>48.406838</td>\n",
       "      <td>107.524167</td>\n",
       "    </tr>\n",
       "    <tr>\n",
       "      <th>25%</th>\n",
       "      <td>115.329753</td>\n",
       "      <td>138.268300</td>\n",
       "    </tr>\n",
       "    <tr>\n",
       "      <th>50%</th>\n",
       "      <td>135.597121</td>\n",
       "      <td>145.721322</td>\n",
       "    </tr>\n",
       "    <tr>\n",
       "      <th>75%</th>\n",
       "      <td>158.215098</td>\n",
       "      <td>157.373318</td>\n",
       "    </tr>\n",
       "    <tr>\n",
       "      <th>max</th>\n",
       "      <td>200.161313</td>\n",
       "      <td>192.272856</td>\n",
       "    </tr>\n",
       "  </tbody>\n",
       "</table>\n",
       "</div>"
      ],
      "text/plain": [
       "       Unpolished   Treated and Polished\n",
       "count    75.000000             75.000000\n",
       "mean    134.110527            147.788117\n",
       "std      33.041804             15.587355\n",
       "min      48.406838            107.524167\n",
       "25%     115.329753            138.268300\n",
       "50%     135.597121            145.721322\n",
       "75%     158.215098            157.373318\n",
       "max     200.161313            192.272856"
      ]
     },
     "execution_count": 61,
     "metadata": {},
     "output_type": "execute_result"
    }
   ],
   "source": [
    "ZingaroCompany.describe(include='all')"
   ]
  },
  {
   "cell_type": "code",
   "execution_count": 62,
   "id": "855e9459-4708-43e2-aa6b-af16962aca7f",
   "metadata": {},
   "outputs": [],
   "source": [
    "import numpy as np\n",
    "from scipy import stats"
   ]
  },
  {
   "cell_type": "code",
   "execution_count": 70,
   "id": "094d9976-9090-4cae-9cf3-65d4d7d2aba4",
   "metadata": {},
   "outputs": [],
   "source": [
    "unpolished = np.array([164.4817129, 154.3070452, 129.8610478, 159.0961836, 135.2567483, 161.8201202, 149.4550537, 135.7143169, 102.0045188, 89.482158, 95.34903009, 104.4214033, 140.8893522, 147.3666473, 48.40683839, 68.25154209, 126.1698324, 130.4361532, 120.8943152, 107.2753413])\n"
   ]
  },
  {
   "cell_type": "code",
   "execution_count": 71,
   "id": "5fa5002b-d605-45d6-b17f-adf96bd400e3",
   "metadata": {},
   "outputs": [],
   "source": [
    "polished_treated=np.array([64.57581982, 136.6500503, 94.63178559, 154.6701824, 75.28981154, 149.0171371, 162.3573614, 113.6495183, 120.4372985, 100.8909747, 98.86570856, 197.1891784, 158.7379399, 200.1613125, 134.9060956, 170.2872068, 119.3877584, 110.4433982, 166.443693, 137.2807942])\n"
   ]
  },
  {
   "cell_type": "code",
   "execution_count": 72,
   "id": "e8bf38a7-edf9-45d9-846f-ab8ca057d55a",
   "metadata": {},
   "outputs": [],
   "source": [
    "mean_sample1 = np.mean(unpolished)\n",
    "mean_sample2 = np.mean(polished_treated)"
   ]
  },
  {
   "cell_type": "code",
   "execution_count": 73,
   "id": "b183f1ae-f99b-46bb-9474-b2c9d67733f9",
   "metadata": {},
   "outputs": [],
   "source": [
    "variance_sample1 = np.var(unpolished, ddof=1)  \n",
    "variance_sample2 = np.var(polished_treated, ddof=1)"
   ]
  },
  {
   "cell_type": "code",
   "execution_count": 74,
   "id": "75f86d98-b2f3-4737-b45a-1f89d64753f9",
   "metadata": {},
   "outputs": [],
   "source": [
    "n_sample1 = len(unpolished)\n",
    "n_sample2 = len(polished_treated)"
   ]
  },
  {
   "cell_type": "code",
   "execution_count": 75,
   "id": "5ab6d3da-2d53-4454-86cc-c21add4bfd06",
   "metadata": {},
   "outputs": [],
   "source": [
    "t_statistic, p_value = stats.ttest_ind(unpolished,polished_treated)"
   ]
  },
  {
   "cell_type": "code",
   "execution_count": 77,
   "id": "682d2671-cf5d-4637-a2c8-742877cad3f0",
   "metadata": {},
   "outputs": [],
   "source": [
    "degrees_of_freedom = unpolished + polished_treated - 2"
   ]
  },
  {
   "cell_type": "code",
   "execution_count": 78,
   "id": "c8f38e90-b9bc-40ba-bb52-aa5e792641d7",
   "metadata": {},
   "outputs": [],
   "source": [
    "alpha = 0.05 "
   ]
  },
  {
   "cell_type": "code",
   "execution_count": 79,
   "id": "859d7ca1-506c-4e94-8962-759fc7a87dd8",
   "metadata": {},
   "outputs": [],
   "source": [
    "t_critical_one_tail = stats.t.ppf(1 - alpha, degrees_of_freedom)\n",
    "t_critical_two_tail = stats.t.ppf(1 - alpha / 2, degrees_of_freedom)"
   ]
  },
  {
   "cell_type": "code",
   "execution_count": 80,
   "id": "bb0e7d8f-7acc-4261-95ba-da2526d0ae80",
   "metadata": {},
   "outputs": [],
   "source": [
    "p_one_tail = 1 - stats.t.cdf(t_statistic, degrees_of_freedom)\n",
    "p_two_tail = 2 * p_one_tail"
   ]
  },
  {
   "cell_type": "code",
   "execution_count": 81,
   "id": "f40e6bcc-1b78-4aba-99c6-bae3f63a98dc",
   "metadata": {},
   "outputs": [
    {
     "name": "stdout",
     "output_type": "stream",
     "text": [
      "Sample 1 Mean: 123.54696804349999\n",
      "Sample 2 Mean: 133.2936512605\n",
      "Sample 1 Variance: 1001.5777407841958\n",
      "Sample 2 Variance: 1385.824042123077\n",
      "Sample 1 Observations: 20\n",
      "Sample 2 Observations: 20\n",
      "Hypothesized Mean Difference: 0\n",
      "Degrees of Freedom: [227.05753272 288.9570955  222.49283339 311.766366   208.54655984\n",
      " 308.8372573  309.8124151  247.3638352  220.4418173  188.3731327\n",
      " 192.21473865 299.6105817  297.6272921  345.5279598  181.31293399\n",
      " 236.53874889 243.5575908  238.8795514  285.3380082  242.5561355 ]\n",
      "t-Statistic: -0.892090864382849\n",
      "P(T<=t) One-Tail: [0.81335567 0.81345675 0.813346   0.81348388 0.81331381 0.81348062\n",
      " 0.81348171 0.8133944  0.81334152 0.81325882 0.81327018 0.81346994\n",
      " 0.81346755 0.81351747 0.81323669 0.81337458 0.81338763 0.81337902\n",
      " 0.81345205 0.81338582]\n",
      "t Critical One-Tail: [1.6515922  1.65014402 1.65173103 1.64975581 1.652193   1.64980244\n",
      " 1.64978682 1.65103693 1.65179529 1.6529829  1.65281964 1.64995532\n",
      " 1.64998942 1.64927552 1.65330108 1.65132103 1.65113394 1.65125741\n",
      " 1.65021134 1.65115997]\n",
      "P(T<=t) Two-Tail: [1.62671135 1.6269135  1.62669199 1.62696776 1.62662761 1.62696124\n",
      " 1.62696343 1.6267888  1.62668303 1.62651764 1.62654036 1.62693987\n",
      " 1.6269351  1.62703494 1.62647338 1.62674917 1.62677527 1.62675804\n",
      " 1.62690409 1.62677164]\n",
      "t Critical Two-Tail: [1.97046684 1.96820766 1.97068347 1.96760224 1.97140442 1.96767496\n",
      " 1.9676506  1.96960049 1.97078375 1.97263738 1.97238252 1.96791337\n",
      " 1.96796656 1.96685333 1.97313412 1.97004373 1.96975183 1.96994446\n",
      " 1.96831266 1.96979244]\n"
     ]
    }
   ],
   "source": [
    "print(\"Sample 1 Mean:\", mean_sample1)\n",
    "print(\"Sample 2 Mean:\", mean_sample2)\n",
    "print(\"Sample 1 Variance:\", variance_sample1)\n",
    "print(\"Sample 2 Variance:\", variance_sample2)\n",
    "print(\"Sample 1 Observations:\", n_sample1)\n",
    "print(\"Sample 2 Observations:\", n_sample2)\n",
    "print(\"Hypothesized Mean Difference: 0\")  \n",
    "print(\"Degrees of Freedom:\", degrees_of_freedom)\n",
    "print(\"t-Statistic:\", t_statistic)\n",
    "print(\"P(T<=t) One-Tail:\", p_one_tail)\n",
    "print(\"t Critical One-Tail:\", t_critical_one_tail)\n",
    "print(\"P(T<=t) Two-Tail:\", p_two_tail)\n",
    "print(\"t Critical Two-Tail:\", t_critical_two_tail)"
   ]
  },
  {
   "cell_type": "code",
   "execution_count": 82,
   "id": "6b7e8b10-31c5-4f13-bb7b-70d552f20454",
   "metadata": {},
   "outputs": [
    {
     "name": "stdout",
     "output_type": "stream",
     "text": [
      "There is no statistically significant difference between the two data samples.\n"
     ]
    }
   ],
   "source": [
    "if p_value < alpha:\n",
    "    print(\"There is a statistically significant difference between the two data samples.\")\n",
    "else:\n",
    "    print(\"There is no statistically significant difference between the two data samples.\")\n",
    "\n",
    "\n",
    "\n",
    "\n",
    "\n"
   ]
  },
  {
   "cell_type": "code",
   "execution_count": 83,
   "id": "caa182ae-2805-4034-9f41-83a9112d47e3",
   "metadata": {},
   "outputs": [
    {
     "name": "stdout",
     "output_type": "stream",
     "text": [
      "m is less than 150\n"
     ]
    }
   ],
   "source": [
    "m = 100  # Define the variable 'm' and give it a value\n",
    "if m < 150:\n",
    "    print(\"m is less than 150\")\n",
    "else:\n",
    "    print(\"m is not less than 150\")"
   ]
  },
  {
   "cell_type": "code",
   "execution_count": 84,
   "id": "93e3bcb8-6dc3-4a27-9cfc-1d6eb1ece2cb",
   "metadata": {},
   "outputs": [
    {
     "data": {
      "text/plain": [
       "True"
      ]
     },
     "execution_count": 84,
     "metadata": {},
     "output_type": "execute_result"
    }
   ],
   "source": [
    "m < 150"
   ]
  },
  {
   "cell_type": "code",
   "execution_count": 85,
   "id": "b73f4545-18f4-402d-ad63-c2d6113e1119",
   "metadata": {},
   "outputs": [
    {
     "data": {
      "text/plain": [
       "False"
      ]
     },
     "execution_count": 85,
     "metadata": {},
     "output_type": "execute_result"
    }
   ],
   "source": [
    "#null hypothesis : Unpolished stone is suitable for printing\n",
    "m >= 150"
   ]
  },
  {
   "cell_type": "code",
   "execution_count": 86,
   "id": "ff6eb37e-c2fd-47d1-b408-1ab33df56d77",
   "metadata": {},
   "outputs": [
    {
     "data": {
      "text/plain": [
       "True"
      ]
     },
     "execution_count": 86,
     "metadata": {},
     "output_type": "execute_result"
    }
   ],
   "source": [
    "#Alternative Hypothesis: Unpolished stone is not suitable for printing\n",
    "m < 150"
   ]
  },
  {
   "cell_type": "code",
   "execution_count": 87,
   "id": "193e851d-0f3a-432a-bd06-9ea78a0cefad",
   "metadata": {},
   "outputs": [],
   "source": [
    "import numpy as np\n"
   ]
  },
  {
   "cell_type": "code",
   "execution_count": 88,
   "id": "a07dbf02-7ade-432a-8142-d0044dce57e7",
   "metadata": {},
   "outputs": [],
   "source": [
    "unpolished = np.array([164.4817129, 154.3070452, 129.8610478, 159.0961836, 135.2567483, 161.8201202, 149.4550537, 135.7143169, 102.0045188, 89.482158, 95.34903009, 104.4214033, 140.8893522, 147.3666473, 48.40683839, 68.25154209, 126.1698324, 130.4361532, 120.8943152, 107.2753413])"
   ]
  },
  {
   "cell_type": "code",
   "execution_count": 89,
   "id": "7b0ab02a-0def-4ebd-98f1-6aff80432a3b",
   "metadata": {},
   "outputs": [],
   "source": [
    "polished_treated=np.array([64.57581982, 136.6500503, 94.63178559, 154.6701824, 75.28981154, 149.0171371, 162.3573614, 113.6495183, 120.4372985, 100.8909747, 98.86570856, 197.1891784, 158.7379399, 200.1613125, 134.9060956, 170.2872068, 119.3877584, 110.4433982, 166.443693, 137.2807942])\n"
   ]
  },
  {
   "cell_type": "code",
   "execution_count": 90,
   "id": "25faa73e-a3c9-4d20-b9d6-befcc6b624e2",
   "metadata": {},
   "outputs": [],
   "source": [
    "mean = np.mean(unpolished)\n",
    "mean = np.mean(polished_treated)"
   ]
  },
  {
   "cell_type": "code",
   "execution_count": 91,
   "id": "d5dc89ac-7ccf-41b4-9e5e-c65eaed746b1",
   "metadata": {},
   "outputs": [],
   "source": [
    "squared_diff = [(x - mean) ** 2 for x in unpolished]\n",
    "squared_diff = [(x - mean) ** 2 for x in polished_treated]"
   ]
  },
  {
   "cell_type": "code",
   "execution_count": 92,
   "id": "86a51e9b-fe0f-455d-b363-86fc7cf833ec",
   "metadata": {},
   "outputs": [],
   "source": [
    "sum_squared_diff = np.sum(squared_diff)"
   ]
  },
  {
   "cell_type": "code",
   "execution_count": 93,
   "id": "f2712fa9-6f45-446b-9541-9b7c54cc7f7d",
   "metadata": {},
   "outputs": [],
   "source": [
    "n = len(unpolished)\n",
    "n = len(polished_treated)\n",
    "sample_std_dev = np.sqrt(sum_squared_diff / (n - 1))\n"
   ]
  },
  {
   "cell_type": "code",
   "execution_count": 94,
   "id": "36456c3a-d765-4b6d-934a-6dba9b51ed0e",
   "metadata": {},
   "outputs": [
    {
     "name": "stdout",
     "output_type": "stream",
     "text": [
      "Sample Standard Deviation: 37.22665768133203\n"
     ]
    }
   ],
   "source": [
    "print(\"Sample Standard Deviation:\", sample_std_dev)"
   ]
  },
  {
   "cell_type": "code",
   "execution_count": 95,
   "id": "96a90774-cf7f-42f1-a437-4794aa689d51",
   "metadata": {},
   "outputs": [],
   "source": [
    "#from ttest data sample average x is\n",
    "x = 123.54696804349999\n",
    "#sample size\n",
    "n = 20\n",
    "#standard deviation\n",
    "s = 37.22665768133203\n",
    "#brinell's hardness index\n",
    "m = 150"
   ]
  },
  {
   "cell_type": "code",
   "execution_count": 96,
   "id": "1fa0deb9-f034-4816-b625-29bb0e72f6a7",
   "metadata": {},
   "outputs": [],
   "source": [
    "from IPython.display import Image"
   ]
  },
  {
   "cell_type": "code",
   "execution_count": 97,
   "id": "9a618224-8ec5-48f2-a687-07f12d1513e3",
   "metadata": {},
   "outputs": [],
   "source": [
    "image_path = 'T Test One Sample.png'\n"
   ]
  },
  {
   "cell_type": "code",
   "execution_count": 98,
   "id": "f5410582-3078-49a9-b0e2-4f46d67c25fc",
   "metadata": {},
   "outputs": [],
   "source": [
    "Imagefilename='T Test One Sample.png'\n"
   ]
  },
  {
   "cell_type": "code",
   "execution_count": 99,
   "id": "7d89657e-fd28-4ac6-a927-efe64b48f42c",
   "metadata": {},
   "outputs": [
    {
     "data": {
      "text/plain": [
       "-26.453031956500013"
      ]
     },
     "execution_count": 99,
     "metadata": {},
     "output_type": "execute_result"
    }
   ],
   "source": [
    "t1 = (x-m)\n",
    "t1"
   ]
  },
  {
   "cell_type": "code",
   "execution_count": 100,
   "id": "d5571efc-2888-4b0f-9e37-2551b30fc14a",
   "metadata": {},
   "outputs": [
    {
     "data": {
      "text/plain": [
       "8.324133715057311"
      ]
     },
     "execution_count": 100,
     "metadata": {},
     "output_type": "execute_result"
    }
   ],
   "source": [
    "import math\n",
    "t2 = s/math.sqrt(n)\n",
    "t2"
   ]
  },
  {
   "cell_type": "code",
   "execution_count": 101,
   "id": "54e6646b-f036-4566-bb18-eea0977e55a2",
   "metadata": {},
   "outputs": [
    {
     "data": {
      "text/plain": [
       "-3.177872059965808"
      ]
     },
     "execution_count": 101,
     "metadata": {},
     "output_type": "execute_result"
    }
   ],
   "source": [
    "t = t1/t2\n",
    "t"
   ]
  },
  {
   "cell_type": "code",
   "execution_count": 102,
   "id": "d5c6ee90-de71-46c0-bfe1-8e1cb6c29c5d",
   "metadata": {},
   "outputs": [
    {
     "data": {
      "text/plain": [
       "19"
      ]
     },
     "execution_count": 102,
     "metadata": {},
     "output_type": "execute_result"
    }
   ],
   "source": [
    "#degree of freedom \n",
    "d = n-1\n",
    "d"
   ]
  },
  {
   "cell_type": "code",
   "execution_count": 103,
   "id": "0c83425c-7384-4408-abfc-4d06d93fc6e7",
   "metadata": {},
   "outputs": [],
   "source": [
    "#t reference table\n",
    "from IPython.display import Image\n"
   ]
  },
  {
   "cell_type": "code",
   "execution_count": 104,
   "id": "41a10a67-cb78-4001-a1b7-6f76294018da",
   "metadata": {},
   "outputs": [],
   "source": [
    "image_path = 'reference for T Table.png'"
   ]
  },
  {
   "cell_type": "code",
   "execution_count": 105,
   "id": "fbaf36c1-d8de-4704-a934-e9a9c3621800",
   "metadata": {},
   "outputs": [],
   "source": [
    "imagefilename='reference for T Table.png'"
   ]
  },
  {
   "cell_type": "markdown",
   "id": "7152c3b5-a59e-4305-8214-bd6e50d0e872",
   "metadata": {},
   "source": [
    "alpha = 0,05( significance level) With 19 degree of freedom and 0.05 significanc elevel, the critical value = 1.729( from t table, take the value 19 from the leftest column , and choose 0.05 column head's value for one tailed and pick the value where both intersects) Since, absolute t statistics is greater than critical value so alternative hypothesis should be accepted and nul hypothesis should be rejected. So, Zingaro is justified to think that unpolished stone is not suitable for printing.\n",
    "\n",
    "Is the mean hardness of the polished and unpolished stones the same?"
   ]
  },
  {
   "cell_type": "code",
   "execution_count": 106,
   "id": "7fa65aa4-16db-48bb-aabc-4196ed151bbd",
   "metadata": {},
   "outputs": [],
   "source": [
    "import pandas as pd"
   ]
  },
  {
   "cell_type": "code",
   "execution_count": 107,
   "id": "3f51dc48-d53e-4265-9eda-ba169762e9d9",
   "metadata": {},
   "outputs": [],
   "source": [
    "ZingaroCompany=pd.read_excel('D:/Ment Class/Practise11/Excel Data/TSF/PowerBI/DWNLDS/CV/MRA Project/MRA Project/XLSX File for practice/ZingaroCompany.xlsx')"
   ]
  },
  {
   "cell_type": "code",
   "execution_count": 108,
   "id": "b23dde94-4c5c-4617-9994-650cd07db612",
   "metadata": {},
   "outputs": [
    {
     "data": {
      "text/html": [
       "<div>\n",
       "<style scoped>\n",
       "    .dataframe tbody tr th:only-of-type {\n",
       "        vertical-align: middle;\n",
       "    }\n",
       "\n",
       "    .dataframe tbody tr th {\n",
       "        vertical-align: top;\n",
       "    }\n",
       "\n",
       "    .dataframe thead th {\n",
       "        text-align: right;\n",
       "    }\n",
       "</style>\n",
       "<table border=\"1\" class=\"dataframe\">\n",
       "  <thead>\n",
       "    <tr style=\"text-align: right;\">\n",
       "      <th></th>\n",
       "      <th>Unpolished</th>\n",
       "      <th>Treated and Polished</th>\n",
       "    </tr>\n",
       "  </thead>\n",
       "  <tbody>\n",
       "    <tr>\n",
       "      <th>0</th>\n",
       "      <td>164.481713</td>\n",
       "      <td>133.209393</td>\n",
       "    </tr>\n",
       "    <tr>\n",
       "      <th>1</th>\n",
       "      <td>154.307045</td>\n",
       "      <td>138.482771</td>\n",
       "    </tr>\n",
       "    <tr>\n",
       "      <th>2</th>\n",
       "      <td>129.861048</td>\n",
       "      <td>159.665201</td>\n",
       "    </tr>\n",
       "    <tr>\n",
       "      <th>3</th>\n",
       "      <td>159.096184</td>\n",
       "      <td>145.663528</td>\n",
       "    </tr>\n",
       "    <tr>\n",
       "      <th>4</th>\n",
       "      <td>135.256748</td>\n",
       "      <td>136.789227</td>\n",
       "    </tr>\n",
       "    <tr>\n",
       "      <th>5</th>\n",
       "      <td>161.820120</td>\n",
       "      <td>167.086582</td>\n",
       "    </tr>\n",
       "    <tr>\n",
       "      <th>6</th>\n",
       "      <td>149.455054</td>\n",
       "      <td>152.699641</td>\n",
       "    </tr>\n",
       "    <tr>\n",
       "      <th>7</th>\n",
       "      <td>135.714317</td>\n",
       "      <td>138.648766</td>\n",
       "    </tr>\n",
       "    <tr>\n",
       "      <th>8</th>\n",
       "      <td>102.004519</td>\n",
       "      <td>163.384427</td>\n",
       "    </tr>\n",
       "    <tr>\n",
       "      <th>9</th>\n",
       "      <td>89.482158</td>\n",
       "      <td>132.141726</td>\n",
       "    </tr>\n",
       "    <tr>\n",
       "      <th>10</th>\n",
       "      <td>95.349030</td>\n",
       "      <td>145.828526</td>\n",
       "    </tr>\n",
       "    <tr>\n",
       "      <th>11</th>\n",
       "      <td>104.421403</td>\n",
       "      <td>162.081613</td>\n",
       "    </tr>\n",
       "    <tr>\n",
       "      <th>12</th>\n",
       "      <td>140.889352</td>\n",
       "      <td>153.798449</td>\n",
       "    </tr>\n",
       "    <tr>\n",
       "      <th>13</th>\n",
       "      <td>147.366647</td>\n",
       "      <td>159.012005</td>\n",
       "    </tr>\n",
       "    <tr>\n",
       "      <th>14</th>\n",
       "      <td>48.406838</td>\n",
       "      <td>168.346223</td>\n",
       "    </tr>\n",
       "    <tr>\n",
       "      <th>15</th>\n",
       "      <td>68.251542</td>\n",
       "      <td>132.682955</td>\n",
       "    </tr>\n",
       "    <tr>\n",
       "      <th>16</th>\n",
       "      <td>126.169832</td>\n",
       "      <td>151.273875</td>\n",
       "    </tr>\n",
       "    <tr>\n",
       "      <th>17</th>\n",
       "      <td>130.436153</td>\n",
       "      <td>130.955804</td>\n",
       "    </tr>\n",
       "    <tr>\n",
       "      <th>18</th>\n",
       "      <td>120.894315</td>\n",
       "      <td>141.344288</td>\n",
       "    </tr>\n",
       "    <tr>\n",
       "      <th>19</th>\n",
       "      <td>107.275341</td>\n",
       "      <td>171.114662</td>\n",
       "    </tr>\n",
       "  </tbody>\n",
       "</table>\n",
       "</div>"
      ],
      "text/plain": [
       "    Unpolished   Treated and Polished\n",
       "0    164.481713            133.209393\n",
       "1    154.307045            138.482771\n",
       "2    129.861048            159.665201\n",
       "3    159.096184            145.663528\n",
       "4    135.256748            136.789227\n",
       "5    161.820120            167.086582\n",
       "6    149.455054            152.699641\n",
       "7    135.714317            138.648766\n",
       "8    102.004519            163.384427\n",
       "9     89.482158            132.141726\n",
       "10    95.349030            145.828526\n",
       "11   104.421403            162.081613\n",
       "12   140.889352            153.798449\n",
       "13   147.366647            159.012005\n",
       "14    48.406838            168.346223\n",
       "15    68.251542            132.682955\n",
       "16   126.169832            151.273875\n",
       "17   130.436153            130.955804\n",
       "18   120.894315            141.344288\n",
       "19   107.275341            171.114662"
      ]
     },
     "execution_count": 108,
     "metadata": {},
     "output_type": "execute_result"
    }
   ],
   "source": [
    "ZingaroCompany.head(20)"
   ]
  },
  {
   "cell_type": "code",
   "execution_count": 109,
   "id": "492cd22e-07cf-49fc-883d-86ee21388a08",
   "metadata": {},
   "outputs": [
    {
     "data": {
      "text/html": [
       "<div>\n",
       "<style scoped>\n",
       "    .dataframe tbody tr th:only-of-type {\n",
       "        vertical-align: middle;\n",
       "    }\n",
       "\n",
       "    .dataframe tbody tr th {\n",
       "        vertical-align: top;\n",
       "    }\n",
       "\n",
       "    .dataframe thead th {\n",
       "        text-align: right;\n",
       "    }\n",
       "</style>\n",
       "<table border=\"1\" class=\"dataframe\">\n",
       "  <thead>\n",
       "    <tr style=\"text-align: right;\">\n",
       "      <th></th>\n",
       "      <th>Unpolished</th>\n",
       "      <th>Treated and Polished</th>\n",
       "    </tr>\n",
       "  </thead>\n",
       "  <tbody>\n",
       "    <tr>\n",
       "      <th>55</th>\n",
       "      <td>88.307986</td>\n",
       "      <td>145.523286</td>\n",
       "    </tr>\n",
       "    <tr>\n",
       "      <th>56</th>\n",
       "      <td>141.438578</td>\n",
       "      <td>167.733992</td>\n",
       "    </tr>\n",
       "    <tr>\n",
       "      <th>57</th>\n",
       "      <td>192.735792</td>\n",
       "      <td>139.552640</td>\n",
       "    </tr>\n",
       "    <tr>\n",
       "      <th>58</th>\n",
       "      <td>123.579612</td>\n",
       "      <td>152.056342</td>\n",
       "    </tr>\n",
       "    <tr>\n",
       "      <th>59</th>\n",
       "      <td>105.371885</td>\n",
       "      <td>152.013506</td>\n",
       "    </tr>\n",
       "    <tr>\n",
       "      <th>60</th>\n",
       "      <td>187.915026</td>\n",
       "      <td>146.233803</td>\n",
       "    </tr>\n",
       "    <tr>\n",
       "      <th>61</th>\n",
       "      <td>135.191729</td>\n",
       "      <td>155.734631</td>\n",
       "    </tr>\n",
       "    <tr>\n",
       "      <th>62</th>\n",
       "      <td>178.079431</td>\n",
       "      <td>154.415525</td>\n",
       "    </tr>\n",
       "    <tr>\n",
       "      <th>63</th>\n",
       "      <td>121.407525</td>\n",
       "      <td>107.524167</td>\n",
       "    </tr>\n",
       "    <tr>\n",
       "      <th>64</th>\n",
       "      <td>157.692256</td>\n",
       "      <td>130.025722</td>\n",
       "    </tr>\n",
       "    <tr>\n",
       "      <th>65</th>\n",
       "      <td>154.894535</td>\n",
       "      <td>153.818635</td>\n",
       "    </tr>\n",
       "    <tr>\n",
       "      <th>66</th>\n",
       "      <td>117.797946</td>\n",
       "      <td>107.579388</td>\n",
       "    </tr>\n",
       "    <tr>\n",
       "      <th>67</th>\n",
       "      <td>126.854667</td>\n",
       "      <td>145.721322</td>\n",
       "    </tr>\n",
       "    <tr>\n",
       "      <th>68</th>\n",
       "      <td>126.473997</td>\n",
       "      <td>136.813944</td>\n",
       "    </tr>\n",
       "    <tr>\n",
       "      <th>69</th>\n",
       "      <td>117.009987</td>\n",
       "      <td>142.718624</td>\n",
       "    </tr>\n",
       "    <tr>\n",
       "      <th>70</th>\n",
       "      <td>123.067611</td>\n",
       "      <td>142.293544</td>\n",
       "    </tr>\n",
       "    <tr>\n",
       "      <th>71</th>\n",
       "      <td>171.822218</td>\n",
       "      <td>140.124092</td>\n",
       "    </tr>\n",
       "    <tr>\n",
       "      <th>72</th>\n",
       "      <td>88.135994</td>\n",
       "      <td>141.393091</td>\n",
       "    </tr>\n",
       "    <tr>\n",
       "      <th>73</th>\n",
       "      <td>145.150397</td>\n",
       "      <td>131.370530</td>\n",
       "    </tr>\n",
       "    <tr>\n",
       "      <th>74</th>\n",
       "      <td>170.854823</td>\n",
       "      <td>144.502647</td>\n",
       "    </tr>\n",
       "  </tbody>\n",
       "</table>\n",
       "</div>"
      ],
      "text/plain": [
       "    Unpolished   Treated and Polished\n",
       "55    88.307986            145.523286\n",
       "56   141.438578            167.733992\n",
       "57   192.735792            139.552640\n",
       "58   123.579612            152.056342\n",
       "59   105.371885            152.013506\n",
       "60   187.915026            146.233803\n",
       "61   135.191729            155.734631\n",
       "62   178.079431            154.415525\n",
       "63   121.407525            107.524167\n",
       "64   157.692256            130.025722\n",
       "65   154.894535            153.818635\n",
       "66   117.797946            107.579388\n",
       "67   126.854667            145.721322\n",
       "68   126.473997            136.813944\n",
       "69   117.009987            142.718624\n",
       "70   123.067611            142.293544\n",
       "71   171.822218            140.124092\n",
       "72    88.135994            141.393091\n",
       "73   145.150397            131.370530\n",
       "74   170.854823            144.502647"
      ]
     },
     "execution_count": 109,
     "metadata": {},
     "output_type": "execute_result"
    }
   ],
   "source": [
    "ZingaroCompany.tail(20)"
   ]
  },
  {
   "cell_type": "code",
   "execution_count": 110,
   "id": "2d6f580a-3070-4282-a72e-a5b82658976e",
   "metadata": {},
   "outputs": [],
   "source": [
    "import numpy as np\n",
    "from scipy import stats"
   ]
  },
  {
   "cell_type": "code",
   "execution_count": 111,
   "id": "5c49296a-8c14-474a-a59b-f3056922b8d7",
   "metadata": {},
   "outputs": [],
   "source": [
    "unpolished = [164.4817129, 154.3070452, 129.8610478, 159.0961836, 135.2567483, 161.8201202, 149.4550537, 135.7143169, 102.0045188, 89.482158, 95.34903009, 104.4214033, 140.8893522, 147.3666473, 48.40683839, 68.25154209, 126.1698324, 130.4361532, 120.8943152]"
   ]
  },
  {
   "cell_type": "code",
   "execution_count": 112,
   "id": "fc5d11b5-1fe9-4391-a341-0e57d05c7149",
   "metadata": {},
   "outputs": [],
   "source": [
    "polishedandtreated=[133.2093928,138.4827707,159.6652012,145.6635282,136.7892272,167.086582,152.6996408,138.6487657,163.3844269,132.1417257,145.8285257,162.0816128,153.798449,159.0120051,168.3462233,132.6829555,151.2738748,130.9558037,141.3442879]"
   ]
  },
  {
   "cell_type": "code",
   "execution_count": 113,
   "id": "6dc078e1-94d7-473c-8587-6d34b3dcb5d1",
   "metadata": {},
   "outputs": [],
   "source": [
    "mean_sample1 = np.mean(unpolished)\n",
    "mean_sample2 = np.mean(polishedandtreated)"
   ]
  },
  {
   "cell_type": "code",
   "execution_count": 114,
   "id": "011597f9-70eb-4dbf-a8da-f9327510c806",
   "metadata": {},
   "outputs": [],
   "source": [
    "variance_sample1 = np.var(unpolished,ddof=1)  # Use ddof=1 for sample variance\n",
    "variance_sample2 = np.var(polishedandtreated,ddof=1)"
   ]
  },
  {
   "cell_type": "code",
   "execution_count": 115,
   "id": "0d65b444-904f-4a33-9099-555a144bd6bb",
   "metadata": {},
   "outputs": [],
   "source": [
    "n_sample1 = len(unpolished)\n",
    "n_sample2 = len(polishedandtreated)\n"
   ]
  },
  {
   "cell_type": "code",
   "execution_count": 116,
   "id": "99a581fe-4055-42e8-853d-2f38b354d95e",
   "metadata": {},
   "outputs": [],
   "source": [
    "t_statistic, p_value = stats.ttest_ind(unpolished,polishedandtreated)\n"
   ]
  },
  {
   "cell_type": "code",
   "execution_count": 117,
   "id": "138c87a2-76b2-4627-a916-7612909d1489",
   "metadata": {},
   "outputs": [],
   "source": [
    "degrees_of_freedom = n_sample1+n_sample2 - 2"
   ]
  },
  {
   "cell_type": "code",
   "execution_count": 118,
   "id": "0d539990-e8a2-4dc8-8f88-d9b00cb600a6",
   "metadata": {},
   "outputs": [],
   "source": [
    "alpha = 0.05"
   ]
  },
  {
   "cell_type": "code",
   "execution_count": 119,
   "id": "a6df3fb4-eb49-46d8-ab2e-96c36f0e8b9a",
   "metadata": {},
   "outputs": [],
   "source": [
    "t_critical_one_tail = stats.t.ppf(1 - alpha, degrees_of_freedom)\n",
    "t_critical_two_tail = stats.t.ppf(1 - alpha / 2, degrees_of_freedom)"
   ]
  },
  {
   "cell_type": "code",
   "execution_count": 120,
   "id": "2b150aef-78a9-4b00-9815-12c9a528f7ad",
   "metadata": {},
   "outputs": [],
   "source": [
    "p_one_tail = 1 - stats.t.cdf(t_statistic, degrees_of_freedom)\n",
    "p_two_tail = 2 * p_one_tail\n"
   ]
  },
  {
   "cell_type": "code",
   "execution_count": 121,
   "id": "ef75af4b-86e4-45ed-887b-4330e9dc4d2e",
   "metadata": {},
   "outputs": [
    {
     "name": "stdout",
     "output_type": "stream",
     "text": [
      "Sample 1 Mean: 124.40336945105261\n",
      "Sample 2 Mean: 148.05763152631582\n",
      "Sample 1 Variance: 1041.7375663318683\n",
      "Sample 2 Variance: 160.58248652392567\n",
      "Sample 1 Observations: 19\n",
      "Sample 2 Observations: 19\n",
      "Hypothesized Mean Difference: 0\n",
      "Degrees of Freedom: 36\n",
      "t-Statistic: -2.9735562574428536\n",
      "P(T<=t) One-Tail: 0.9973870261129584\n",
      "t Critical One-Tail: 1.6882977108049164\n",
      "P(T<=t) Two-Tail: 1.9947740522259167\n",
      "t Critical Two-Tail: 2.0280940009804502\n",
      "There is a statistically significant difference between the two data samples.\n"
     ]
    }
   ],
   "source": [
    "print(\"Sample 1 Mean:\", mean_sample1)\n",
    "print(\"Sample 2 Mean:\", mean_sample2)\n",
    "print(\"Sample 1 Variance:\", variance_sample1)\n",
    "print(\"Sample 2 Variance:\", variance_sample2)\n",
    "print(\"Sample 1 Observations:\", n_sample1)\n",
    "print(\"Sample 2 Observations:\", n_sample2)\n",
    "print(\"Hypothesized Mean Difference: 0\")  # Assuming the null hypothesis is no difference\n",
    "print(\"Degrees of Freedom:\", degrees_of_freedom)\n",
    "print(\"t-Statistic:\", t_statistic)\n",
    "print(\"P(T<=t) One-Tail:\", p_one_tail)\n",
    "print(\"t Critical One-Tail:\", t_critical_one_tail)\n",
    "print(\"P(T<=t) Two-Tail:\", p_two_tail)\n",
    "print(\"t Critical Two-Tail:\", t_critical_two_tail)\n",
    "\n",
    "# Check for statistical significance\n",
    "if p_value < alpha:\n",
    "    print(\"There is a statistically significant difference between the two data samples.\")\n",
    "else:\n",
    "    print(\"There is no statistically significant difference between the two data samples.\")\n",
    "\n",
    "\n",
    "\n",
    "\n"
   ]
  },
  {
   "cell_type": "code",
   "execution_count": 122,
   "id": "94f7ffb9-f98d-4515-bbce-7ab689c7fbe0",
   "metadata": {},
   "outputs": [
    {
     "data": {
      "text/plain": [
       "False"
      ]
     },
     "execution_count": 122,
     "metadata": {},
     "output_type": "execute_result"
    }
   ],
   "source": [
    "#Zingaro thinks that unpolished stone is not suitable for printing\n",
    "m < 150 #where m is brinell's hardness index"
   ]
  },
  {
   "cell_type": "code",
   "execution_count": 123,
   "id": "a8b2d6b0-9614-4bb4-90ad-65094f28d180",
   "metadata": {},
   "outputs": [
    {
     "data": {
      "text/plain": [
       "True"
      ]
     },
     "execution_count": 123,
     "metadata": {},
     "output_type": "execute_result"
    }
   ],
   "source": [
    "#null hypothesis : Unpolished stone is suitable for printing\n",
    "m >= 150"
   ]
  },
  {
   "cell_type": "code",
   "execution_count": 124,
   "id": "e49b6c64-793d-48a9-9fc2-f6141cde3adb",
   "metadata": {},
   "outputs": [
    {
     "data": {
      "text/plain": [
       "False"
      ]
     },
     "execution_count": 124,
     "metadata": {},
     "output_type": "execute_result"
    }
   ],
   "source": [
    "#Alternative Hypothesis: Unpolished stone is not suitable for printing\n",
    "m < 150"
   ]
  },
  {
   "cell_type": "code",
   "execution_count": 125,
   "id": "92265f9f-7d30-486c-8df2-4f236d3b99e2",
   "metadata": {},
   "outputs": [],
   "source": [
    "import numpy as np"
   ]
  },
  {
   "cell_type": "code",
   "execution_count": 126,
   "id": "2d22b222-fc62-4b57-b4cc-6c7a2eb45a0f",
   "metadata": {},
   "outputs": [],
   "source": [
    "unpolished = [164.4817129, 154.3070452, 129.8610478, 159.0961836, 135.2567483, 161.8201202, 149.4550537, 135.7143169, 102.0045188, 89.482158, 95.34903009, 104.4214033, 140.8893522, 147.3666473, 48.40683839, 68.25154209, 126.1698324, 130.4361532, 120.8943152]"
   ]
  },
  {
   "cell_type": "code",
   "execution_count": 127,
   "id": "49c7bac3-524e-45e1-9153-b520a8e374b9",
   "metadata": {},
   "outputs": [],
   "source": [
    "polishedandtreated=[133.2093928,138.4827707,159.6652012,145.6635282,136.7892272,167.086582,152.6996408,138.6487657,163.3844269,132.1417257,145.8285257,162.0816128,153.798449,159.0120051,168.3462233,132.6829555,151.2738748,130.9558037,141.3442879]"
   ]
  },
  {
   "cell_type": "code",
   "execution_count": 128,
   "id": "cc15584c-af65-4f9e-8c13-44035a56acf0",
   "metadata": {},
   "outputs": [],
   "source": [
    "std_dev_sample1 = np.std(unpolished, ddof=1)  # Use ddof=1 for sample standard deviation\n",
    "std_dev_sample2 = np.std(polishedandtreated, ddof=1)\n"
   ]
  },
  {
   "cell_type": "code",
   "execution_count": 129,
   "id": "90a54237-c8d2-4563-9708-5214057cfc1e",
   "metadata": {},
   "outputs": [
    {
     "name": "stdout",
     "output_type": "stream",
     "text": [
      "Sample 1 Standard Deviation: 32.275959572596264\n",
      "Sample 2 Standard Deviation: 12.67211452457425\n"
     ]
    }
   ],
   "source": [
    "print(\"Sample 1 Standard Deviation:\", std_dev_sample1)\n",
    "print(\"Sample 2 Standard Deviation:\", std_dev_sample2)"
   ]
  },
  {
   "cell_type": "code",
   "execution_count": 130,
   "id": "77bd8840-b7d1-4b2e-a597-242c9f08f612",
   "metadata": {},
   "outputs": [],
   "source": [
    "x=124.40336945105261\n",
    "n=19\n",
    "s=32.27595972596264\n"
   ]
  },
  {
   "cell_type": "code",
   "execution_count": 131,
   "id": "77c6d2e7-d83a-460b-9699-3e91f0d46749",
   "metadata": {},
   "outputs": [],
   "source": [
    "from IPython.display import Image\n"
   ]
  },
  {
   "cell_type": "code",
   "execution_count": 132,
   "id": "7489753a-bda3-4176-8630-c6f532515b32",
   "metadata": {},
   "outputs": [],
   "source": [
    "image_path='T Test One Sample.PNG'"
   ]
  },
  {
   "cell_type": "code",
   "execution_count": 133,
   "id": "8f1352b9-2b82-47ab-92fe-1d04911e0f9a",
   "metadata": {},
   "outputs": [],
   "source": [
    "Imagefilename='T Test One Sample.PNG'"
   ]
  },
  {
   "cell_type": "code",
   "execution_count": 134,
   "id": "3b74a868-95fd-4ad4-9d6c-a392c580dcc5",
   "metadata": {},
   "outputs": [
    {
     "data": {
      "text/plain": [
       "-25.596630548947388"
      ]
     },
     "execution_count": 134,
     "metadata": {},
     "output_type": "execute_result"
    }
   ],
   "source": [
    "t1 = (x-m)\n",
    "t1"
   ]
  },
  {
   "cell_type": "code",
   "execution_count": 135,
   "id": "ce0cf4bb-c969-4eea-b743-47c79639eea6",
   "metadata": {},
   "outputs": [
    {
     "data": {
      "text/plain": [
       "7.404612986908415"
      ]
     },
     "execution_count": 135,
     "metadata": {},
     "output_type": "execute_result"
    }
   ],
   "source": [
    "import math\n",
    "t2 = s/math.sqrt(n)\n",
    "t2"
   ]
  },
  {
   "cell_type": "code",
   "execution_count": 136,
   "id": "5ffbbb85-c4e6-4309-93aa-a582cc35e3f0",
   "metadata": {},
   "outputs": [
    {
     "data": {
      "text/plain": [
       "-3.4568492092973697"
      ]
     },
     "execution_count": 136,
     "metadata": {},
     "output_type": "execute_result"
    }
   ],
   "source": [
    "t = t1/t2\n",
    "t"
   ]
  },
  {
   "cell_type": "code",
   "execution_count": 137,
   "id": "a8972381-330c-4384-becb-02f80807dd3d",
   "metadata": {},
   "outputs": [
    {
     "data": {
      "text/plain": [
       "18"
      ]
     },
     "execution_count": 137,
     "metadata": {},
     "output_type": "execute_result"
    }
   ],
   "source": [
    "#degree of freedom \n",
    "d = n-1\n",
    "d"
   ]
  },
  {
   "cell_type": "code",
   "execution_count": 138,
   "id": "620b1a7e-b171-4850-b219-0dcc7f7de59b",
   "metadata": {},
   "outputs": [],
   "source": [
    "#t reference table"
   ]
  },
  {
   "cell_type": "code",
   "execution_count": 139,
   "id": "8a9e56c6-049d-4e69-b9ea-48d86e872474",
   "metadata": {},
   "outputs": [],
   "source": [
    "from IPython.display import Image"
   ]
  },
  {
   "cell_type": "code",
   "execution_count": 140,
   "id": "25b0ace3-7993-4c71-93f7-255638ee6027",
   "metadata": {},
   "outputs": [],
   "source": [
    "image_path='reference for T Table'"
   ]
  },
  {
   "cell_type": "code",
   "execution_count": 141,
   "id": "9cf6af28-38d8-477f-9c4c-05f5d12939b3",
   "metadata": {},
   "outputs": [],
   "source": [
    "Imagefilename='reference for T Table'"
   ]
  },
  {
   "cell_type": "markdown",
   "id": "1bd897c6-6beb-4803-914b-e01abfe686f8",
   "metadata": {},
   "source": [
    "alpha = 0,05( significance level) With 19 degree of freedom and 0.05 significanc elevel, the critical value = 1.729( from t table, take the value 19 from the leftest column , and choose 0.05 column head's value for one tailed and pick the value where both intersects) Since, absolute t statistics is greater than critical value so alternative hypothesis should be accepted and nul hypothesis should be rejected. So, Zingaro is justified to think that unpolished stone is not suitable for printing.\n",
    "\n",
    "Is the mean hardness of the polished and unpolished stones the same?"
   ]
  },
  {
   "cell_type": "code",
   "execution_count": 143,
   "id": "1fa4fb7c-28ae-444c-9e56-769b4d71cd59",
   "metadata": {},
   "outputs": [
    {
     "name": "stdout",
     "output_type": "stream",
     "text": [
      "Sample 1 Mean: 124.40336945105261\n",
      "Sample 2 Mean: 148.05763152631582\n",
      "Sample 1 Variance: 1041.7375663318683\n",
      "Sample 2 Variance: 160.58248652392567\n",
      "Sample 1 Observations: 19\n",
      "Sample 2 Observations: 19\n",
      "Hypothesized Mean Difference: 0\n",
      "Degrees of Freedom: 36\n",
      "t-Statistic: -2.9735562574428536\n",
      "P(T<=t) One-Tail: 0.9973870261129584\n",
      "t Critical One-Tail: 1.6882977108049164\n",
      "P(T<=t) Two-Tail: 1.9947740522259167\n",
      "t Critical Two-Tail: 2.0280940009804502\n",
      "There is a statistically significant difference between the two data samples.\n"
     ]
    }
   ],
   "source": [
    "print(\"Sample 1 Mean:\", mean_sample1)\n",
    "print(\"Sample 2 Mean:\", mean_sample2)\n",
    "print(\"Sample 1 Variance:\", variance_sample1)\n",
    "print(\"Sample 2 Variance:\", variance_sample2)\n",
    "print(\"Sample 1 Observations:\", n_sample1)\n",
    "print(\"Sample 2 Observations:\", n_sample2)\n",
    "print(\"Hypothesized Mean Difference: 0\")  # Assuming the null hypothesis is no difference\n",
    "print(\"Degrees of Freedom:\", degrees_of_freedom)\n",
    "print(\"t-Statistic:\", t_statistic)\n",
    "print(\"P(T<=t) One-Tail:\", p_one_tail)\n",
    "print(\"t Critical One-Tail:\", t_critical_one_tail)\n",
    "print(\"P(T<=t) Two-Tail:\", p_two_tail)\n",
    "print(\"t Critical Two-Tail:\", t_critical_two_tail)\n",
    "\n",
    "# Check for statistical significance\n",
    "if p_value < alpha:\n",
    "    print(\"There is a statistically significant difference between the two data samples.\")\n",
    "else:\n",
    "    print(\"There is no statistically significant difference between the two data samples.\")\n",
    "\n"
   ]
  },
  {
   "cell_type": "code",
   "execution_count": 144,
   "id": "749f8a59-3ff3-4ebc-be6e-35399581144d",
   "metadata": {},
   "outputs": [
    {
     "name": "stdout",
     "output_type": "stream",
     "text": [
      "both hardnesses are not equal\n"
     ]
    }
   ],
   "source": [
    "#hypothesis Ho\n",
    "Mp = 148.057632 #average hardness of unpolished stone\n",
    "Mu = 124.403369#average hardness of unpolished stone\"\n",
    "if Mp == Mu :\n",
    "  print(\"both hardnesses are equal\")\n",
    "elif Mp != Mu:\n",
    "  print(\"both hardnesses are not equal\")"
   ]
  },
  {
   "cell_type": "code",
   "execution_count": 145,
   "id": "690b27be-6a6d-49e2-872f-b3d607dc831d",
   "metadata": {},
   "outputs": [
    {
     "data": {
      "text/plain": [
       "3.0508044679285304"
      ]
     },
     "execution_count": 145,
     "metadata": {},
     "output_type": "execute_result"
    }
   ],
   "source": [
    "#test statistic\n",
    "Sp = 160.582487#variance of polished stone\n",
    "Su = 1041.737566#variance of unpolished stone\n",
    "n = 20#no of samples\n",
    "t1 = Mp - Mu\n",
    "t2 = (Sp/n)+(Su/n)\n",
    "import math\n",
    "t3 = math.sqrt(t2)\n",
    "T = t1/t3\n",
    "T"
   ]
  },
  {
   "cell_type": "markdown",
   "id": "e7bd9f37-600c-4e53-97dd-3c4279e23cd1",
   "metadata": {},
   "source": [
    "We reject Ho if t > 1.7139.Therefor we can conclude that polished stones have greater hardness.\n",
    "\n",
    "How does the hardness of implants vary depending on dentists? \"- State the null and alternate hypotheses - Check the assumptions of the hypothesis test. - Conduct the hypothesis test and compute the p-value - Write down conclusions from the test results - In case the implant hardness differs, identify for which pairs it differs Note: 1. Both types of alloys cannot be considered together. You must conduct the analysis separately for the two types of alloys. 2. Even if the assumptions of the test fail, kindly proceed with the test.\""
   ]
  },
  {
   "cell_type": "code",
   "execution_count": 146,
   "id": "d7eb0454-a271-4af9-828a-92119571831b",
   "metadata": {},
   "outputs": [],
   "source": [
    "import pandas as pd"
   ]
  },
  {
   "cell_type": "code",
   "execution_count": 147,
   "id": "1054df8c-11dc-4b00-8cea-70ab5c451485",
   "metadata": {},
   "outputs": [],
   "source": [
    "DentalHardnessData=pd.read_excel('D:/Ment Class/Practise11/Excel Data/TSF/PowerBI/DWNLDS/CV/MRA Project/MRA Project/XLSX File for practice/DentalHardnessData.xlsx')"
   ]
  },
  {
   "cell_type": "code",
   "execution_count": 148,
   "id": "a8e62e19-35a0-4a85-97dd-d8c6dcd47140",
   "metadata": {},
   "outputs": [
    {
     "data": {
      "text/html": [
       "<div>\n",
       "<style scoped>\n",
       "    .dataframe tbody tr th:only-of-type {\n",
       "        vertical-align: middle;\n",
       "    }\n",
       "\n",
       "    .dataframe tbody tr th {\n",
       "        vertical-align: top;\n",
       "    }\n",
       "\n",
       "    .dataframe thead th {\n",
       "        text-align: right;\n",
       "    }\n",
       "</style>\n",
       "<table border=\"1\" class=\"dataframe\">\n",
       "  <thead>\n",
       "    <tr style=\"text-align: right;\">\n",
       "      <th></th>\n",
       "      <th>Dentist</th>\n",
       "      <th>Method</th>\n",
       "      <th>Alloy</th>\n",
       "      <th>Temp</th>\n",
       "      <th>Response</th>\n",
       "      <th>Unnamed: 5</th>\n",
       "      <th>Unnamed: 6</th>\n",
       "      <th>Unnamed: 7</th>\n",
       "      <th>Unnamed: 8</th>\n",
       "      <th>Unnamed: 9</th>\n",
       "      <th>Unnamed: 10</th>\n",
       "      <th>Unnamed: 11</th>\n",
       "      <th>Unnamed: 12</th>\n",
       "      <th>Unnamed: 13</th>\n",
       "    </tr>\n",
       "  </thead>\n",
       "  <tbody>\n",
       "    <tr>\n",
       "      <th>0</th>\n",
       "      <td>1.0</td>\n",
       "      <td>1.0</td>\n",
       "      <td>1.0</td>\n",
       "      <td>1500.0</td>\n",
       "      <td>813.0</td>\n",
       "      <td>NaN</td>\n",
       "      <td>NaN</td>\n",
       "      <td>Anova: Two-Factor Without Replication</td>\n",
       "      <td>NaN</td>\n",
       "      <td>NaN</td>\n",
       "      <td>NaN</td>\n",
       "      <td>NaN</td>\n",
       "      <td>NaN</td>\n",
       "      <td>NaN</td>\n",
       "    </tr>\n",
       "    <tr>\n",
       "      <th>1</th>\n",
       "      <td>1.0</td>\n",
       "      <td>1.0</td>\n",
       "      <td>1.0</td>\n",
       "      <td>1600.0</td>\n",
       "      <td>792.0</td>\n",
       "      <td>NaN</td>\n",
       "      <td>NaN</td>\n",
       "      <td>NaN</td>\n",
       "      <td>NaN</td>\n",
       "      <td>NaN</td>\n",
       "      <td>NaN</td>\n",
       "      <td>NaN</td>\n",
       "      <td>NaN</td>\n",
       "      <td>NaN</td>\n",
       "    </tr>\n",
       "    <tr>\n",
       "      <th>2</th>\n",
       "      <td>1.0</td>\n",
       "      <td>1.0</td>\n",
       "      <td>1.0</td>\n",
       "      <td>1700.0</td>\n",
       "      <td>792.0</td>\n",
       "      <td>NaN</td>\n",
       "      <td>NaN</td>\n",
       "      <td>SUMMARY</td>\n",
       "      <td>Count</td>\n",
       "      <td>Sum</td>\n",
       "      <td>Average</td>\n",
       "      <td>Variance</td>\n",
       "      <td>NaN</td>\n",
       "      <td>NaN</td>\n",
       "    </tr>\n",
       "    <tr>\n",
       "      <th>3</th>\n",
       "      <td>1.0</td>\n",
       "      <td>1.0</td>\n",
       "      <td>2.0</td>\n",
       "      <td>1500.0</td>\n",
       "      <td>907.0</td>\n",
       "      <td>NaN</td>\n",
       "      <td>NaN</td>\n",
       "      <td>1</td>\n",
       "      <td>4</td>\n",
       "      <td>2315</td>\n",
       "      <td>578.75</td>\n",
       "      <td>523721.583333</td>\n",
       "      <td>NaN</td>\n",
       "      <td>NaN</td>\n",
       "    </tr>\n",
       "    <tr>\n",
       "      <th>4</th>\n",
       "      <td>1.0</td>\n",
       "      <td>1.0</td>\n",
       "      <td>2.0</td>\n",
       "      <td>1600.0</td>\n",
       "      <td>792.0</td>\n",
       "      <td>NaN</td>\n",
       "      <td>NaN</td>\n",
       "      <td>1</td>\n",
       "      <td>4</td>\n",
       "      <td>2394</td>\n",
       "      <td>598.5</td>\n",
       "      <td>584819</td>\n",
       "      <td>NaN</td>\n",
       "      <td>NaN</td>\n",
       "    </tr>\n",
       "  </tbody>\n",
       "</table>\n",
       "</div>"
      ],
      "text/plain": [
       "   Dentist  Method  Alloy    Temp  Response  Unnamed: 5  Unnamed: 6  \\\n",
       "0      1.0     1.0    1.0  1500.0     813.0         NaN         NaN   \n",
       "1      1.0     1.0    1.0  1600.0     792.0         NaN         NaN   \n",
       "2      1.0     1.0    1.0  1700.0     792.0         NaN         NaN   \n",
       "3      1.0     1.0    2.0  1500.0     907.0         NaN         NaN   \n",
       "4      1.0     1.0    2.0  1600.0     792.0         NaN         NaN   \n",
       "\n",
       "                              Unnamed: 7 Unnamed: 8 Unnamed: 9 Unnamed: 10  \\\n",
       "0  Anova: Two-Factor Without Replication        NaN        NaN         NaN   \n",
       "1                                    NaN        NaN        NaN         NaN   \n",
       "2                                SUMMARY      Count        Sum     Average   \n",
       "3                                      1          4       2315      578.75   \n",
       "4                                      1          4       2394       598.5   \n",
       "\n",
       "     Unnamed: 11 Unnamed: 12 Unnamed: 13  \n",
       "0            NaN         NaN         NaN  \n",
       "1            NaN         NaN         NaN  \n",
       "2       Variance         NaN         NaN  \n",
       "3  523721.583333         NaN         NaN  \n",
       "4         584819         NaN         NaN  "
      ]
     },
     "execution_count": 148,
     "metadata": {},
     "output_type": "execute_result"
    }
   ],
   "source": [
    "DentalHardnessData.head()"
   ]
  },
  {
   "cell_type": "code",
   "execution_count": 149,
   "id": "025b7b2f-7305-4df4-9e52-4c55c25a3096",
   "metadata": {},
   "outputs": [
    {
     "data": {
      "image/png": "[encoded data removed]",
      "text/plain": [
       "<Figure size 640x480 with 1 Axes>"
      ]
     },
     "metadata": {},
     "output_type": "display_data"
    }
   ],
   "source": [
    "#compare Dentist and Alloy\n",
    "import seaborn as sns\n",
    "sns.countplot(data=DentalHardnessData, x='Dentist', hue='Alloy');"
   ]
  },
  {
   "cell_type": "code",
   "execution_count": 150,
   "id": "c4ef350f-b028-4f22-af74-5729200a1df0",
   "metadata": {},
   "outputs": [],
   "source": [
    "import pandas as pd"
   ]
  },
  {
   "cell_type": "code",
   "execution_count": 151,
   "id": "6a386ac9-3393-46e3-8180-ad3a2b853a18",
   "metadata": {},
   "outputs": [],
   "source": [
    "DentistData=pd.read_excel('D:/Ment Class/Practise11/Excel Data/TSF/PowerBI/DWNLDS/CV/MRA Project/MRA Project/XLSX File for practice/DentistData.xlsx')"
   ]
  },
  {
   "cell_type": "code",
   "execution_count": 152,
   "id": "ab54bd85-f42a-4101-923c-8517ef8a9f97",
   "metadata": {},
   "outputs": [
    {
     "data": {
      "text/html": [
       "<div>\n",
       "<style scoped>\n",
       "    .dataframe tbody tr th:only-of-type {\n",
       "        vertical-align: middle;\n",
       "    }\n",
       "\n",
       "    .dataframe tbody tr th {\n",
       "        vertical-align: top;\n",
       "    }\n",
       "\n",
       "    .dataframe thead th {\n",
       "        text-align: right;\n",
       "    }\n",
       "</style>\n",
       "<table border=\"1\" class=\"dataframe\">\n",
       "  <thead>\n",
       "    <tr style=\"text-align: right;\">\n",
       "      <th></th>\n",
       "      <th>Dentist</th>\n",
       "      <th>Method</th>\n",
       "      <th>Alloy1</th>\n",
       "      <th>Alloy2</th>\n",
       "    </tr>\n",
       "  </thead>\n",
       "  <tbody>\n",
       "    <tr>\n",
       "      <th>0</th>\n",
       "      <td>1</td>\n",
       "      <td>1</td>\n",
       "      <td>1</td>\n",
       "      <td>2</td>\n",
       "    </tr>\n",
       "    <tr>\n",
       "      <th>1</th>\n",
       "      <td>1</td>\n",
       "      <td>1</td>\n",
       "      <td>1</td>\n",
       "      <td>2</td>\n",
       "    </tr>\n",
       "    <tr>\n",
       "      <th>2</th>\n",
       "      <td>1</td>\n",
       "      <td>1</td>\n",
       "      <td>1</td>\n",
       "      <td>2</td>\n",
       "    </tr>\n",
       "    <tr>\n",
       "      <th>3</th>\n",
       "      <td>1</td>\n",
       "      <td>1</td>\n",
       "      <td>2</td>\n",
       "      <td>2</td>\n",
       "    </tr>\n",
       "    <tr>\n",
       "      <th>4</th>\n",
       "      <td>1</td>\n",
       "      <td>1</td>\n",
       "      <td>2</td>\n",
       "      <td>2</td>\n",
       "    </tr>\n",
       "  </tbody>\n",
       "</table>\n",
       "</div>"
      ],
      "text/plain": [
       "   Dentist  Method  Alloy1  Alloy2\n",
       "0        1       1       1       2\n",
       "1        1       1       1       2\n",
       "2        1       1       1       2\n",
       "3        1       1       2       2\n",
       "4        1       1       2       2"
      ]
     },
     "execution_count": 152,
     "metadata": {},
     "output_type": "execute_result"
    }
   ],
   "source": [
    "DentistData.head()"
   ]
  },
  {
   "cell_type": "code",
   "execution_count": 153,
   "id": "cc616d4f-ec75-48db-8528-48fa4670c2e2",
   "metadata": {},
   "outputs": [
    {
     "data": {
      "text/html": [
       "<div>\n",
       "<style scoped>\n",
       "    .dataframe tbody tr th:only-of-type {\n",
       "        vertical-align: middle;\n",
       "    }\n",
       "\n",
       "    .dataframe tbody tr th {\n",
       "        vertical-align: top;\n",
       "    }\n",
       "\n",
       "    .dataframe thead th {\n",
       "        text-align: right;\n",
       "    }\n",
       "</style>\n",
       "<table border=\"1\" class=\"dataframe\">\n",
       "  <thead>\n",
       "    <tr style=\"text-align: right;\">\n",
       "      <th></th>\n",
       "      <th>Dentist</th>\n",
       "      <th>Method</th>\n",
       "      <th>Alloy1</th>\n",
       "      <th>Alloy2</th>\n",
       "    </tr>\n",
       "  </thead>\n",
       "  <tbody>\n",
       "    <tr>\n",
       "      <th>count</th>\n",
       "      <td>90.000000</td>\n",
       "      <td>90.000000</td>\n",
       "      <td>90.000000</td>\n",
       "      <td>90.0</td>\n",
       "    </tr>\n",
       "    <tr>\n",
       "      <th>mean</th>\n",
       "      <td>3.000000</td>\n",
       "      <td>2.000000</td>\n",
       "      <td>1.500000</td>\n",
       "      <td>2.0</td>\n",
       "    </tr>\n",
       "    <tr>\n",
       "      <th>std</th>\n",
       "      <td>1.422136</td>\n",
       "      <td>0.821071</td>\n",
       "      <td>0.502801</td>\n",
       "      <td>0.0</td>\n",
       "    </tr>\n",
       "    <tr>\n",
       "      <th>min</th>\n",
       "      <td>1.000000</td>\n",
       "      <td>1.000000</td>\n",
       "      <td>1.000000</td>\n",
       "      <td>2.0</td>\n",
       "    </tr>\n",
       "    <tr>\n",
       "      <th>25%</th>\n",
       "      <td>2.000000</td>\n",
       "      <td>1.000000</td>\n",
       "      <td>1.000000</td>\n",
       "      <td>2.0</td>\n",
       "    </tr>\n",
       "    <tr>\n",
       "      <th>50%</th>\n",
       "      <td>3.000000</td>\n",
       "      <td>2.000000</td>\n",
       "      <td>1.500000</td>\n",
       "      <td>2.0</td>\n",
       "    </tr>\n",
       "    <tr>\n",
       "      <th>75%</th>\n",
       "      <td>4.000000</td>\n",
       "      <td>3.000000</td>\n",
       "      <td>2.000000</td>\n",
       "      <td>2.0</td>\n",
       "    </tr>\n",
       "    <tr>\n",
       "      <th>max</th>\n",
       "      <td>5.000000</td>\n",
       "      <td>3.000000</td>\n",
       "      <td>2.000000</td>\n",
       "      <td>2.0</td>\n",
       "    </tr>\n",
       "  </tbody>\n",
       "</table>\n",
       "</div>"
      ],
      "text/plain": [
       "         Dentist     Method     Alloy1  Alloy2\n",
       "count  90.000000  90.000000  90.000000    90.0\n",
       "mean    3.000000   2.000000   1.500000     2.0\n",
       "std     1.422136   0.821071   0.502801     0.0\n",
       "min     1.000000   1.000000   1.000000     2.0\n",
       "25%     2.000000   1.000000   1.000000     2.0\n",
       "50%     3.000000   2.000000   1.500000     2.0\n",
       "75%     4.000000   3.000000   2.000000     2.0\n",
       "max     5.000000   3.000000   2.000000     2.0"
      ]
     },
     "execution_count": 153,
     "metadata": {},
     "output_type": "execute_result"
    }
   ],
   "source": [
    "DentistData.describe()"
   ]
  },
  {
   "cell_type": "code",
   "execution_count": 154,
   "id": "6e63918e-fdb7-4604-bbc0-8b62adb57363",
   "metadata": {},
   "outputs": [],
   "source": [
    "from scipy import stats"
   ]
  },
  {
   "cell_type": "code",
   "execution_count": 156,
   "id": "b89187bc-a9f6-44e8-aeaf-2abf2c39e252",
   "metadata": {},
   "outputs": [
    {
     "name": "stdout",
     "output_type": "stream",
     "text": [
      "Index(['Dentist', 'Method', 'Alloy1', 'Alloy2'], dtype='object')\n"
     ]
    }
   ],
   "source": [
    "print(DentistData.columns)\n"
   ]
  },
  {
   "cell_type": "code",
   "execution_count": 157,
   "id": "c39a4e4b-6a39-47a7-bc39-856579b08275",
   "metadata": {},
   "outputs": [
    {
     "name": "stdout",
     "output_type": "stream",
     "text": [
      "['Dentist', 'Method', 'Alloy1', 'Alloy2']\n"
     ]
    }
   ],
   "source": [
    "print([col.strip() for col in DentistData.columns])"
   ]
  },
  {
   "cell_type": "code",
   "execution_count": 160,
   "id": "8f03c76d-7cb1-4fdf-b0f3-d1b29620db2c",
   "metadata": {},
   "outputs": [],
   "source": [
    "dentist1_data = DentistData['Dentist']\n",
    "alloy1_data = DentistData['Alloy1']\n"
   ]
  },
  {
   "cell_type": "code",
   "execution_count": 161,
   "id": "a0214716-d9a8-48cc-b153-06671af4f67f",
   "metadata": {},
   "outputs": [],
   "source": [
    "t_statistic, p_value = stats.ttest_ind(dentist1_data, alloy1_data)"
   ]
  },
  {
   "cell_type": "code",
   "execution_count": 162,
   "id": "d61723cb-babb-45bc-a439-cf86c9103751",
   "metadata": {},
   "outputs": [],
   "source": [
    "alpha = 0.05"
   ]
  },
  {
   "cell_type": "code",
   "execution_count": 163,
   "id": "9bef8a2b-20ba-4c64-8f86-31904516e21b",
   "metadata": {},
   "outputs": [
    {
     "name": "stdout",
     "output_type": "stream",
     "text": [
      "T-statistic: 9.433981132056605\n",
      "P-value: 2.1770022073619787e-17\n"
     ]
    }
   ],
   "source": [
    "print(\"T-statistic:\", t_statistic)\n",
    "print(\"P-value:\", p_value)\n"
   ]
  },
  {
   "cell_type": "code",
   "execution_count": 164,
   "id": "6c8243ec-0ca4-40fc-a3df-daa6468eba45",
   "metadata": {},
   "outputs": [
    {
     "name": "stdout",
     "output_type": "stream",
     "text": [
      "Reject the null hypothesis\n"
     ]
    }
   ],
   "source": [
    "if p_value < alpha:\n",
    "    print(\"Reject the null hypothesis\")\n",
    "else:\n",
    "    print(\"Accept the null hypothesis\")"
   ]
  },
  {
   "cell_type": "markdown",
   "id": "d96920f3-5c2c-48d5-aee2-f493e89e3c76",
   "metadata": {},
   "source": [
    "Conclusion:\n",
    "\n",
    "The analysis reveals strong statistical evidence to reject the null hypothesis. The data suggests that there is a significant difference between 'Dentist' and 'Alloy1' in your dataset. The p-value, which is nearly zero, indicates that the observed differences are highly unlikely to be due to random chance. Therefore, it is reasonable to conclude that 'Dentist1' and 'Alloy1' are significantly different with respect to the variable being tested."
   ]
  },
  {
   "cell_type": "code",
   "execution_count": 166,
   "id": "2711155a-d6bf-43e5-8523-87fca426e827",
   "metadata": {},
   "outputs": [],
   "source": [
    "from scipy import stats"
   ]
  },
  {
   "cell_type": "code",
   "execution_count": 167,
   "id": "3d06e80b-d486-403c-9c38-6e41b42bf151",
   "metadata": {},
   "outputs": [
    {
     "name": "stdout",
     "output_type": "stream",
     "text": [
      "Index(['Dentist', 'Method', 'Alloy1', 'Alloy2'], dtype='object')\n"
     ]
    }
   ],
   "source": [
    "print(DentistData.columns)"
   ]
  },
  {
   "cell_type": "code",
   "execution_count": 168,
   "id": "a6adc372-69d5-401c-ad8d-cd5e7dc4ec6a",
   "metadata": {},
   "outputs": [
    {
     "name": "stdout",
     "output_type": "stream",
     "text": [
      "['Dentist', 'Method', 'Alloy1', 'Alloy2']\n"
     ]
    }
   ],
   "source": [
    "print([col.strip() for col in DentistData.columns])"
   ]
  },
  {
   "cell_type": "code",
   "execution_count": 169,
   "id": "493a8e2c-a5f8-40f7-8922-5888b6f4df44",
   "metadata": {},
   "outputs": [],
   "source": [
    "dentist1_data = DentistData['Dentist']\n",
    "alloy2_data = DentistData['Alloy2']\n"
   ]
  },
  {
   "cell_type": "code",
   "execution_count": 170,
   "id": "6f01dcb6-722b-4f2e-83e4-d6b3974e0164",
   "metadata": {},
   "outputs": [
    {
     "name": "stderr",
     "output_type": "stream",
     "text": [
      "C:\\Users\\vasan\\AppData\\Local\\Temp\\ipykernel_372\\4092558211.py:1: RuntimeWarning: Precision loss occurred in moment calculation due to catastrophic cancellation. This occurs when the data are nearly identical. Results may be unreliable.\n",
      "  t_statistic, p_value = stats.ttest_ind(dentist1_data, alloy2_data)\n"
     ]
    }
   ],
   "source": [
    "t_statistic, p_value = stats.ttest_ind(dentist1_data, alloy2_data)"
   ]
  },
  {
   "cell_type": "code",
   "execution_count": 171,
   "id": "642476bb-86c0-4f0e-b665-20a6cc517330",
   "metadata": {},
   "outputs": [],
   "source": [
    "alpha = 0.05\n",
    "p_value=0.05"
   ]
  },
  {
   "cell_type": "code",
   "execution_count": 172,
   "id": "da8def79-e932-43c9-91ee-550290495201",
   "metadata": {},
   "outputs": [
    {
     "name": "stdout",
     "output_type": "stream",
     "text": [
      "T-statistic: 6.670832032063167\n",
      "P-value: 0.05\n"
     ]
    }
   ],
   "source": [
    "print(\"T-statistic:\", t_statistic)\n",
    "print(\"P-value:\", p_value)\n"
   ]
  },
  {
   "cell_type": "code",
   "execution_count": 173,
   "id": "c94e9e1c-fe96-4c5e-bdf6-4f0e20a5ef6d",
   "metadata": {},
   "outputs": [
    {
     "name": "stdout",
     "output_type": "stream",
     "text": [
      "Accept the null hypothesis\n"
     ]
    }
   ],
   "source": [
    "if p_value < alpha:\n",
    "    print(\"Reject the null hypothesis\")\n",
    "else:\n",
    "    print(\"Accept the null hypothesis\")\n"
   ]
  },
  {
   "cell_type": "markdown",
   "id": "a2343936-49b5-44b1-9805-96a28e717f24",
   "metadata": {},
   "source": [
    "The analysis reveals strong statistical evidence to reject the null hypothesis. The data suggests that there is a significant difference between 'Dentist1' and 'Alloy2' in your dataset. The p-value, which is extremely close to zero, indicates that the observed differences are highly unlikely to be due to random chance. Therefore, it is reasonable to conclude that 'Dentist1' and 'Alloy2' are significantly different with respect to the variable being tested.\n",
    "\n",
    "In practical terms, this suggests that the choice of 'Dentist' and 'Alloy2' has a substantial impact on the variable you tested, and this impact is highly statistically significant."
   ]
  },
  {
   "cell_type": "markdown",
   "id": "14fefbf2-c4e8-4cce-875b-25e9b1052196",
   "metadata": {},
   "source": [
    "How does the hardness of implants vary depending on methods? \"- State the null and alternate hypotheses - Check the assumptions of the hypothesis test. - Conduct the hypothesis test and compute the p-value - Write down conclusions from the test results - In case the implant hardness differs, identify for which pairs it differs Note: 1. Both types of alloys cannot be considered together. You must conduct the analysis separately for the two types of alloys. 2. Even if the assumptions of the test fail, kindly proceed with the test.\""
   ]
  },
  {
   "cell_type": "code",
   "execution_count": 174,
   "id": "06a65b2e-85df-4019-9d55-65f4c0b36bcd",
   "metadata": {},
   "outputs": [],
   "source": [
    "import pandas as pd"
   ]
  },
  {
   "cell_type": "code",
   "execution_count": 175,
   "id": "1d1753d9-1d4a-42f8-9033-b205ca2b0e02",
   "metadata": {},
   "outputs": [],
   "source": [
    "DentistData=pd.read_excel('D:/Ment Class/Practise11/Excel Data/TSF/PowerBI/DWNLDS/CV/MRA Project/MRA Project/XLSX File for practice/DentistData.xlsx')"
   ]
  },
  {
   "cell_type": "code",
   "execution_count": 176,
   "id": "533b41b8-fdd3-4346-9560-3da901ddee12",
   "metadata": {},
   "outputs": [
    {
     "data": {
      "text/html": [
       "<div>\n",
       "<style scoped>\n",
       "    .dataframe tbody tr th:only-of-type {\n",
       "        vertical-align: middle;\n",
       "    }\n",
       "\n",
       "    .dataframe tbody tr th {\n",
       "        vertical-align: top;\n",
       "    }\n",
       "\n",
       "    .dataframe thead th {\n",
       "        text-align: right;\n",
       "    }\n",
       "</style>\n",
       "<table border=\"1\" class=\"dataframe\">\n",
       "  <thead>\n",
       "    <tr style=\"text-align: right;\">\n",
       "      <th></th>\n",
       "      <th>Dentist</th>\n",
       "      <th>Method</th>\n",
       "      <th>Alloy1</th>\n",
       "      <th>Alloy2</th>\n",
       "    </tr>\n",
       "  </thead>\n",
       "  <tbody>\n",
       "    <tr>\n",
       "      <th>0</th>\n",
       "      <td>1</td>\n",
       "      <td>1</td>\n",
       "      <td>1</td>\n",
       "      <td>2</td>\n",
       "    </tr>\n",
       "    <tr>\n",
       "      <th>1</th>\n",
       "      <td>1</td>\n",
       "      <td>1</td>\n",
       "      <td>1</td>\n",
       "      <td>2</td>\n",
       "    </tr>\n",
       "    <tr>\n",
       "      <th>2</th>\n",
       "      <td>1</td>\n",
       "      <td>1</td>\n",
       "      <td>1</td>\n",
       "      <td>2</td>\n",
       "    </tr>\n",
       "    <tr>\n",
       "      <th>3</th>\n",
       "      <td>1</td>\n",
       "      <td>1</td>\n",
       "      <td>2</td>\n",
       "      <td>2</td>\n",
       "    </tr>\n",
       "    <tr>\n",
       "      <th>4</th>\n",
       "      <td>1</td>\n",
       "      <td>1</td>\n",
       "      <td>2</td>\n",
       "      <td>2</td>\n",
       "    </tr>\n",
       "  </tbody>\n",
       "</table>\n",
       "</div>"
      ],
      "text/plain": [
       "   Dentist  Method  Alloy1  Alloy2\n",
       "0        1       1       1       2\n",
       "1        1       1       1       2\n",
       "2        1       1       1       2\n",
       "3        1       1       2       2\n",
       "4        1       1       2       2"
      ]
     },
     "execution_count": 176,
     "metadata": {},
     "output_type": "execute_result"
    }
   ],
   "source": [
    "DentistData.head()"
   ]
  },
  {
   "cell_type": "code",
   "execution_count": 177,
   "id": "a676b9f1-6a4a-4f16-8f7d-60b8cf662d0d",
   "metadata": {},
   "outputs": [
    {
     "data": {
      "text/html": [
       "<div>\n",
       "<style scoped>\n",
       "    .dataframe tbody tr th:only-of-type {\n",
       "        vertical-align: middle;\n",
       "    }\n",
       "\n",
       "    .dataframe tbody tr th {\n",
       "        vertical-align: top;\n",
       "    }\n",
       "\n",
       "    .dataframe thead th {\n",
       "        text-align: right;\n",
       "    }\n",
       "</style>\n",
       "<table border=\"1\" class=\"dataframe\">\n",
       "  <thead>\n",
       "    <tr style=\"text-align: right;\">\n",
       "      <th></th>\n",
       "      <th>Dentist</th>\n",
       "      <th>Method</th>\n",
       "      <th>Alloy1</th>\n",
       "      <th>Alloy2</th>\n",
       "    </tr>\n",
       "  </thead>\n",
       "  <tbody>\n",
       "    <tr>\n",
       "      <th>count</th>\n",
       "      <td>90.000000</td>\n",
       "      <td>90.000000</td>\n",
       "      <td>90.000000</td>\n",
       "      <td>90.0</td>\n",
       "    </tr>\n",
       "    <tr>\n",
       "      <th>mean</th>\n",
       "      <td>3.000000</td>\n",
       "      <td>2.000000</td>\n",
       "      <td>1.500000</td>\n",
       "      <td>2.0</td>\n",
       "    </tr>\n",
       "    <tr>\n",
       "      <th>std</th>\n",
       "      <td>1.422136</td>\n",
       "      <td>0.821071</td>\n",
       "      <td>0.502801</td>\n",
       "      <td>0.0</td>\n",
       "    </tr>\n",
       "    <tr>\n",
       "      <th>min</th>\n",
       "      <td>1.000000</td>\n",
       "      <td>1.000000</td>\n",
       "      <td>1.000000</td>\n",
       "      <td>2.0</td>\n",
       "    </tr>\n",
       "    <tr>\n",
       "      <th>25%</th>\n",
       "      <td>2.000000</td>\n",
       "      <td>1.000000</td>\n",
       "      <td>1.000000</td>\n",
       "      <td>2.0</td>\n",
       "    </tr>\n",
       "    <tr>\n",
       "      <th>50%</th>\n",
       "      <td>3.000000</td>\n",
       "      <td>2.000000</td>\n",
       "      <td>1.500000</td>\n",
       "      <td>2.0</td>\n",
       "    </tr>\n",
       "    <tr>\n",
       "      <th>75%</th>\n",
       "      <td>4.000000</td>\n",
       "      <td>3.000000</td>\n",
       "      <td>2.000000</td>\n",
       "      <td>2.0</td>\n",
       "    </tr>\n",
       "    <tr>\n",
       "      <th>max</th>\n",
       "      <td>5.000000</td>\n",
       "      <td>3.000000</td>\n",
       "      <td>2.000000</td>\n",
       "      <td>2.0</td>\n",
       "    </tr>\n",
       "  </tbody>\n",
       "</table>\n",
       "</div>"
      ],
      "text/plain": [
       "         Dentist     Method     Alloy1  Alloy2\n",
       "count  90.000000  90.000000  90.000000    90.0\n",
       "mean    3.000000   2.000000   1.500000     2.0\n",
       "std     1.422136   0.821071   0.502801     0.0\n",
       "min     1.000000   1.000000   1.000000     2.0\n",
       "25%     2.000000   1.000000   1.000000     2.0\n",
       "50%     3.000000   2.000000   1.500000     2.0\n",
       "75%     4.000000   3.000000   2.000000     2.0\n",
       "max     5.000000   3.000000   2.000000     2.0"
      ]
     },
     "execution_count": 177,
     "metadata": {},
     "output_type": "execute_result"
    }
   ],
   "source": [
    "DentistData.describe()"
   ]
  },
  {
   "cell_type": "code",
   "execution_count": 178,
   "id": "7ecb440c-c2de-4529-96b5-4c00111feffd",
   "metadata": {},
   "outputs": [
    {
     "name": "stdout",
     "output_type": "stream",
     "text": [
      "Index(['Dentist', 'Method', 'Alloy1', 'Alloy2'], dtype='object')\n"
     ]
    }
   ],
   "source": [
    "print(DentistData.columns)"
   ]
  },
  {
   "cell_type": "code",
   "execution_count": 179,
   "id": "3afd2d45-3871-4ff4-8bde-373a6536e381",
   "metadata": {},
   "outputs": [],
   "source": [
    "from scipy import stats"
   ]
  },
  {
   "cell_type": "code",
   "execution_count": 180,
   "id": "7e21041c-0112-4e51-96f0-bed407c9d516",
   "metadata": {},
   "outputs": [
    {
     "name": "stdout",
     "output_type": "stream",
     "text": [
      "Index(['Dentist', 'Method', 'Alloy1', 'Alloy2'], dtype='object')\n"
     ]
    }
   ],
   "source": [
    "print(DentistData.columns)"
   ]
  },
  {
   "cell_type": "code",
   "execution_count": 181,
   "id": "03ea19a6-a2a9-4e0b-a13e-1bb1a29853f6",
   "metadata": {},
   "outputs": [
    {
     "name": "stdout",
     "output_type": "stream",
     "text": [
      "['Dentist', 'Method', 'Alloy1', 'Alloy2']\n"
     ]
    }
   ],
   "source": [
    "print([col.strip() for col in DentistData.columns])"
   ]
  },
  {
   "cell_type": "code",
   "execution_count": 182,
   "id": "db9ad0c6-c26e-4fb6-9d44-941b5b8c5120",
   "metadata": {},
   "outputs": [],
   "source": [
    "method_data = DentistData['Method']\n",
    "alloy1_data = DentistData['Alloy1']\n"
   ]
  },
  {
   "cell_type": "code",
   "execution_count": 183,
   "id": "845fd57b-e4f9-4938-90ec-8b1abf0528db",
   "metadata": {},
   "outputs": [],
   "source": [
    "t_statistic, p_value = stats.ttest_ind(method_data, alloy1_data)"
   ]
  },
  {
   "cell_type": "code",
   "execution_count": 184,
   "id": "c537172b-3fac-4cb6-9bcb-046b0028db76",
   "metadata": {},
   "outputs": [],
   "source": [
    "alpha = 0.05 "
   ]
  },
  {
   "cell_type": "code",
   "execution_count": 185,
   "id": "87ed246a-7601-422f-85e7-421b260233fd",
   "metadata": {},
   "outputs": [
    {
     "name": "stdout",
     "output_type": "stream",
     "text": [
      "T-statistic: 4.926735965396083\n",
      "P-value: 1.9023767258114389e-06\n"
     ]
    }
   ],
   "source": [
    "print(\"T-statistic:\", t_statistic)\n",
    "print(\"P-value:\", p_value)"
   ]
  },
  {
   "cell_type": "code",
   "execution_count": 186,
   "id": "802c1930-6c23-485a-8bb0-1e64cb0c1b54",
   "metadata": {},
   "outputs": [
    {
     "name": "stdout",
     "output_type": "stream",
     "text": [
      "Reject the null hypothesis\n"
     ]
    }
   ],
   "source": [
    "if p_value < alpha:\n",
    "    print(\"Reject the null hypothesis\")\n",
    "else:\n",
    "    print(\"Accept the null hypothesis\")"
   ]
  },
  {
   "cell_type": "markdown",
   "id": "383ff4df-9158-48af-a966-881d885bf423",
   "metadata": {},
   "source": [
    "The analysis reveals strong statistical evidence to reject the null hypothesis. The data suggests that there is a significant difference between 'Method' and 'Alloy1' in your dataset. The p-value, which is significantly smaller than your chosen significance level (alpha), indicates that the observed differences are highly unlikely to be due to random chance. Therefore, it is reasonable to conclude that 'Method' and 'Alloy1' are significantly different with respect to the variable being tested.\n",
    "\n",
    "In practical terms, this suggests that the choice of 'Method' and 'Alloy1' has a substantial impact on the variable you tested, and this impact is highly statistically significant."
   ]
  },
  {
   "cell_type": "code",
   "execution_count": 187,
   "id": "1425062b-bdd3-423e-ba41-b879d0d348da",
   "metadata": {},
   "outputs": [],
   "source": [
    "from scipy import stats\n"
   ]
  },
  {
   "cell_type": "code",
   "execution_count": 188,
   "id": "0ef7a8b1-331b-4b86-99dd-b636f2e7a9e1",
   "metadata": {},
   "outputs": [],
   "source": [
    "method_data = DentistData['Method']\n",
    "alloy2_data = DentistData['Alloy2']\n"
   ]
  },
  {
   "cell_type": "code",
   "execution_count": 189,
   "id": "76708e7c-6d22-4016-8772-c63e7c464a46",
   "metadata": {},
   "outputs": [
    {
     "name": "stderr",
     "output_type": "stream",
     "text": [
      "C:\\Users\\vasan\\AppData\\Local\\Temp\\ipykernel_372\\1780253480.py:1: RuntimeWarning: Precision loss occurred in moment calculation due to catastrophic cancellation. This occurs when the data are nearly identical. Results may be unreliable.\n",
      "  t_statistic, p_value = stats.ttest_ind(method_data, alloy2_data)\n"
     ]
    }
   ],
   "source": [
    "t_statistic, p_value = stats.ttest_ind(method_data, alloy2_data)\n"
   ]
  },
  {
   "cell_type": "code",
   "execution_count": 190,
   "id": "35135e75-70ef-4220-a43e-b53965ab046e",
   "metadata": {},
   "outputs": [],
   "source": [
    "alpha=0.05\n"
   ]
  },
  {
   "cell_type": "code",
   "execution_count": 191,
   "id": "3bc2e712-250d-4154-9f92-181890dd3b56",
   "metadata": {},
   "outputs": [
    {
     "name": "stdout",
     "output_type": "stream",
     "text": [
      "T-statistic: 0.0\n",
      "P-value: 1.0\n"
     ]
    }
   ],
   "source": [
    "print(\"T-statistic:\", t_statistic)\n",
    "print(\"P-value:\", p_value)"
   ]
  },
  {
   "cell_type": "code",
   "execution_count": 192,
   "id": "4323a73e-e656-4cf7-8bc6-026560118a25",
   "metadata": {},
   "outputs": [
    {
     "name": "stdout",
     "output_type": "stream",
     "text": [
      "Accept the null hypothesis\n"
     ]
    }
   ],
   "source": [
    "if p_value < alpha:\n",
    "    print(\"Reject the null hypothesis\")\n",
    "else:\n",
    "    print(\"Accept the null hypothesis\")"
   ]
  },
  {
   "cell_type": "markdown",
   "id": "b55067de-207f-49ca-beb9-4c56ccc95c0f",
   "metadata": {},
   "source": [
    "Accept the null hypothsesis for alloy2\n",
    "\n",
    "The analysis shows that the t-statistic is 0.0, and the p-value is 1.0. This means that there is no significant difference between 'Method' and 'Alloy2' in your dataset. The p-value, which is equal to 1.0, indicates that the observed differences are highly likely to be due to random chance. As a result, you should accept the null hypothesis.\n",
    "\n",
    "In practical terms, this suggests that, based on the data and the statistical analysis, 'Method' and 'Alloy2' do not differ significantly with respect to the variable you tested.\n",
    "\n",
    "Null hypothesis is rejected for alloy 1 but accepted for allloy 2. The two types of alloys are not independent, and so the two analysis of variance you carry out are not independent. You should not use the same set of means to test the effect of the types of alloys, but should instead use the overall means of each type separately. You can use the means of the two types to test the effect of methods, but you need to be aware that the methods may affect the two types of alloys differently.\n",
    "\n",
    "4.3 What is the interaction effect between the dentist and method on the hardness of dental implants for each type of alloy? \"- Create Interaction Plot - Inferences from the plot Note: Both types of alloys cannot be considered together. You must conduct the analysis separately for the two types of alloys.\""
   ]
  },
  {
   "cell_type": "code",
   "execution_count": 193,
   "id": "592024e6-5556-420b-bafe-3d8d6fcc5f48",
   "metadata": {},
   "outputs": [],
   "source": [
    "import pandas as pd"
   ]
  },
  {
   "cell_type": "code",
   "execution_count": 194,
   "id": "6100b688-ff16-4c3e-8d8e-26f6e1d854b4",
   "metadata": {},
   "outputs": [],
   "source": [
    "DentalHardnessData=pd.read_excel('D:/Ment Class/Practise11/Excel Data/TSF/PowerBI/DWNLDS/CV/MRA Project/MRA Project/XLSX File for practice/DentalHardnessData.xlsx')"
   ]
  },
  {
   "cell_type": "code",
   "execution_count": 195,
   "id": "28df3f05-1668-4b09-ae5f-a2c322e94dbb",
   "metadata": {},
   "outputs": [
    {
     "data": {
      "text/html": [
       "<div>\n",
       "<style scoped>\n",
       "    .dataframe tbody tr th:only-of-type {\n",
       "        vertical-align: middle;\n",
       "    }\n",
       "\n",
       "    .dataframe tbody tr th {\n",
       "        vertical-align: top;\n",
       "    }\n",
       "\n",
       "    .dataframe thead th {\n",
       "        text-align: right;\n",
       "    }\n",
       "</style>\n",
       "<table border=\"1\" class=\"dataframe\">\n",
       "  <thead>\n",
       "    <tr style=\"text-align: right;\">\n",
       "      <th></th>\n",
       "      <th>Dentist</th>\n",
       "      <th>Method</th>\n",
       "      <th>Alloy</th>\n",
       "      <th>Temp</th>\n",
       "      <th>Response</th>\n",
       "      <th>Unnamed: 5</th>\n",
       "      <th>Unnamed: 6</th>\n",
       "      <th>Unnamed: 7</th>\n",
       "      <th>Unnamed: 8</th>\n",
       "      <th>Unnamed: 9</th>\n",
       "      <th>Unnamed: 10</th>\n",
       "      <th>Unnamed: 11</th>\n",
       "      <th>Unnamed: 12</th>\n",
       "      <th>Unnamed: 13</th>\n",
       "    </tr>\n",
       "  </thead>\n",
       "  <tbody>\n",
       "    <tr>\n",
       "      <th>0</th>\n",
       "      <td>1.0</td>\n",
       "      <td>1.0</td>\n",
       "      <td>1.0</td>\n",
       "      <td>1500.0</td>\n",
       "      <td>813.0</td>\n",
       "      <td>NaN</td>\n",
       "      <td>NaN</td>\n",
       "      <td>Anova: Two-Factor Without Replication</td>\n",
       "      <td>NaN</td>\n",
       "      <td>NaN</td>\n",
       "      <td>NaN</td>\n",
       "      <td>NaN</td>\n",
       "      <td>NaN</td>\n",
       "      <td>NaN</td>\n",
       "    </tr>\n",
       "    <tr>\n",
       "      <th>1</th>\n",
       "      <td>1.0</td>\n",
       "      <td>1.0</td>\n",
       "      <td>1.0</td>\n",
       "      <td>1600.0</td>\n",
       "      <td>792.0</td>\n",
       "      <td>NaN</td>\n",
       "      <td>NaN</td>\n",
       "      <td>NaN</td>\n",
       "      <td>NaN</td>\n",
       "      <td>NaN</td>\n",
       "      <td>NaN</td>\n",
       "      <td>NaN</td>\n",
       "      <td>NaN</td>\n",
       "      <td>NaN</td>\n",
       "    </tr>\n",
       "    <tr>\n",
       "      <th>2</th>\n",
       "      <td>1.0</td>\n",
       "      <td>1.0</td>\n",
       "      <td>1.0</td>\n",
       "      <td>1700.0</td>\n",
       "      <td>792.0</td>\n",
       "      <td>NaN</td>\n",
       "      <td>NaN</td>\n",
       "      <td>SUMMARY</td>\n",
       "      <td>Count</td>\n",
       "      <td>Sum</td>\n",
       "      <td>Average</td>\n",
       "      <td>Variance</td>\n",
       "      <td>NaN</td>\n",
       "      <td>NaN</td>\n",
       "    </tr>\n",
       "    <tr>\n",
       "      <th>3</th>\n",
       "      <td>1.0</td>\n",
       "      <td>1.0</td>\n",
       "      <td>2.0</td>\n",
       "      <td>1500.0</td>\n",
       "      <td>907.0</td>\n",
       "      <td>NaN</td>\n",
       "      <td>NaN</td>\n",
       "      <td>1</td>\n",
       "      <td>4</td>\n",
       "      <td>2315</td>\n",
       "      <td>578.75</td>\n",
       "      <td>523721.583333</td>\n",
       "      <td>NaN</td>\n",
       "      <td>NaN</td>\n",
       "    </tr>\n",
       "    <tr>\n",
       "      <th>4</th>\n",
       "      <td>1.0</td>\n",
       "      <td>1.0</td>\n",
       "      <td>2.0</td>\n",
       "      <td>1600.0</td>\n",
       "      <td>792.0</td>\n",
       "      <td>NaN</td>\n",
       "      <td>NaN</td>\n",
       "      <td>1</td>\n",
       "      <td>4</td>\n",
       "      <td>2394</td>\n",
       "      <td>598.5</td>\n",
       "      <td>584819</td>\n",
       "      <td>NaN</td>\n",
       "      <td>NaN</td>\n",
       "    </tr>\n",
       "  </tbody>\n",
       "</table>\n",
       "</div>"
      ],
      "text/plain": [
       "   Dentist  Method  Alloy    Temp  Response  Unnamed: 5  Unnamed: 6  \\\n",
       "0      1.0     1.0    1.0  1500.0     813.0         NaN         NaN   \n",
       "1      1.0     1.0    1.0  1600.0     792.0         NaN         NaN   \n",
       "2      1.0     1.0    1.0  1700.0     792.0         NaN         NaN   \n",
       "3      1.0     1.0    2.0  1500.0     907.0         NaN         NaN   \n",
       "4      1.0     1.0    2.0  1600.0     792.0         NaN         NaN   \n",
       "\n",
       "                              Unnamed: 7 Unnamed: 8 Unnamed: 9 Unnamed: 10  \\\n",
       "0  Anova: Two-Factor Without Replication        NaN        NaN         NaN   \n",
       "1                                    NaN        NaN        NaN         NaN   \n",
       "2                                SUMMARY      Count        Sum     Average   \n",
       "3                                      1          4       2315      578.75   \n",
       "4                                      1          4       2394       598.5   \n",
       "\n",
       "     Unnamed: 11 Unnamed: 12 Unnamed: 13  \n",
       "0            NaN         NaN         NaN  \n",
       "1            NaN         NaN         NaN  \n",
       "2       Variance         NaN         NaN  \n",
       "3  523721.583333         NaN         NaN  \n",
       "4         584819         NaN         NaN  "
      ]
     },
     "execution_count": 195,
     "metadata": {},
     "output_type": "execute_result"
    }
   ],
   "source": [
    "DentalHardnessData.head()"
   ]
  },
  {
   "cell_type": "code",
   "execution_count": 196,
   "id": "9a6b2831-4a82-414a-8578-73abf814bcbe",
   "metadata": {},
   "outputs": [
    {
     "data": {
      "text/html": [
       "<div>\n",
       "<style scoped>\n",
       "    .dataframe tbody tr th:only-of-type {\n",
       "        vertical-align: middle;\n",
       "    }\n",
       "\n",
       "    .dataframe tbody tr th {\n",
       "        vertical-align: top;\n",
       "    }\n",
       "\n",
       "    .dataframe thead th {\n",
       "        text-align: right;\n",
       "    }\n",
       "</style>\n",
       "<table border=\"1\" class=\"dataframe\">\n",
       "  <thead>\n",
       "    <tr style=\"text-align: right;\">\n",
       "      <th></th>\n",
       "      <th>Dentist</th>\n",
       "      <th>Method</th>\n",
       "      <th>Alloy</th>\n",
       "      <th>Temp</th>\n",
       "      <th>Response</th>\n",
       "      <th>Unnamed: 5</th>\n",
       "      <th>Unnamed: 6</th>\n",
       "    </tr>\n",
       "  </thead>\n",
       "  <tbody>\n",
       "    <tr>\n",
       "      <th>count</th>\n",
       "      <td>90.000000</td>\n",
       "      <td>90.000000</td>\n",
       "      <td>90.000000</td>\n",
       "      <td>90.000000</td>\n",
       "      <td>90.000000</td>\n",
       "      <td>0.0</td>\n",
       "      <td>0.0</td>\n",
       "    </tr>\n",
       "    <tr>\n",
       "      <th>mean</th>\n",
       "      <td>3.000000</td>\n",
       "      <td>2.000000</td>\n",
       "      <td>1.500000</td>\n",
       "      <td>1600.000000</td>\n",
       "      <td>741.777778</td>\n",
       "      <td>NaN</td>\n",
       "      <td>NaN</td>\n",
       "    </tr>\n",
       "    <tr>\n",
       "      <th>std</th>\n",
       "      <td>1.422136</td>\n",
       "      <td>0.821071</td>\n",
       "      <td>0.502801</td>\n",
       "      <td>82.107083</td>\n",
       "      <td>145.767845</td>\n",
       "      <td>NaN</td>\n",
       "      <td>NaN</td>\n",
       "    </tr>\n",
       "    <tr>\n",
       "      <th>min</th>\n",
       "      <td>1.000000</td>\n",
       "      <td>1.000000</td>\n",
       "      <td>1.000000</td>\n",
       "      <td>1500.000000</td>\n",
       "      <td>289.000000</td>\n",
       "      <td>NaN</td>\n",
       "      <td>NaN</td>\n",
       "    </tr>\n",
       "    <tr>\n",
       "      <th>25%</th>\n",
       "      <td>2.000000</td>\n",
       "      <td>1.000000</td>\n",
       "      <td>1.000000</td>\n",
       "      <td>1500.000000</td>\n",
       "      <td>698.000000</td>\n",
       "      <td>NaN</td>\n",
       "      <td>NaN</td>\n",
       "    </tr>\n",
       "    <tr>\n",
       "      <th>50%</th>\n",
       "      <td>3.000000</td>\n",
       "      <td>2.000000</td>\n",
       "      <td>1.500000</td>\n",
       "      <td>1600.000000</td>\n",
       "      <td>767.000000</td>\n",
       "      <td>NaN</td>\n",
       "      <td>NaN</td>\n",
       "    </tr>\n",
       "    <tr>\n",
       "      <th>75%</th>\n",
       "      <td>4.000000</td>\n",
       "      <td>3.000000</td>\n",
       "      <td>2.000000</td>\n",
       "      <td>1700.000000</td>\n",
       "      <td>824.000000</td>\n",
       "      <td>NaN</td>\n",
       "      <td>NaN</td>\n",
       "    </tr>\n",
       "    <tr>\n",
       "      <th>max</th>\n",
       "      <td>5.000000</td>\n",
       "      <td>3.000000</td>\n",
       "      <td>2.000000</td>\n",
       "      <td>1700.000000</td>\n",
       "      <td>1115.000000</td>\n",
       "      <td>NaN</td>\n",
       "      <td>NaN</td>\n",
       "    </tr>\n",
       "  </tbody>\n",
       "</table>\n",
       "</div>"
      ],
      "text/plain": [
       "         Dentist     Method      Alloy         Temp     Response  Unnamed: 5  \\\n",
       "count  90.000000  90.000000  90.000000    90.000000    90.000000         0.0   \n",
       "mean    3.000000   2.000000   1.500000  1600.000000   741.777778         NaN   \n",
       "std     1.422136   0.821071   0.502801    82.107083   145.767845         NaN   \n",
       "min     1.000000   1.000000   1.000000  1500.000000   289.000000         NaN   \n",
       "25%     2.000000   1.000000   1.000000  1500.000000   698.000000         NaN   \n",
       "50%     3.000000   2.000000   1.500000  1600.000000   767.000000         NaN   \n",
       "75%     4.000000   3.000000   2.000000  1700.000000   824.000000         NaN   \n",
       "max     5.000000   3.000000   2.000000  1700.000000  1115.000000         NaN   \n",
       "\n",
       "       Unnamed: 6  \n",
       "count         0.0  \n",
       "mean          NaN  \n",
       "std           NaN  \n",
       "min           NaN  \n",
       "25%           NaN  \n",
       "50%           NaN  \n",
       "75%           NaN  \n",
       "max           NaN  "
      ]
     },
     "execution_count": 196,
     "metadata": {},
     "output_type": "execute_result"
    }
   ],
   "source": [
    "DentalHardnessData.describe()"
   ]
  },
  {
   "cell_type": "code",
   "execution_count": 197,
   "id": "d15f3082-ecbf-4dc7-8a5f-a76b4fedb92c",
   "metadata": {},
   "outputs": [
    {
     "data": {
      "image/png": "[encoded data removed]",
      "text/plain": [
       "<Figure size 572x500 with 1 Axes>"
      ]
     },
     "metadata": {},
     "output_type": "display_data"
    }
   ],
   "source": [
    "interaction_plot_alloy1 = sns.catplot(x='Dentist', y='Response', hue='Method', kind='point', data=DentalHardnessData[DentalHardnessData['Alloy'] == 1])\n",
    "interaction_plot_alloy1.fig.suptitle(\"Interaction Plot for Dentist and Method (Alloy 1)\")\n",
    "plt.show()"
   ]
  },
  {
   "cell_type": "code",
   "execution_count": 198,
   "id": "d22a40fe-ea7a-464d-b17a-775b53610bd3",
   "metadata": {},
   "outputs": [
    {
     "data": {
      "image/png": "[encoded data removed]",
      "text/plain": [
       "<Figure size 572x500 with 1 Axes>"
      ]
     },
     "metadata": {},
     "output_type": "display_data"
    }
   ],
   "source": [
    "interaction_plot_alloy2 = sns.catplot(x='Dentist', y='Response', hue='Method', kind='point', data=DentalHardnessData[DentalHardnessData['Alloy'] == 2])\n",
    "interaction_plot_alloy2.fig.suptitle(\"Interaction Plot for Dentist and Method (Alloy 2)\")\n",
    "plt.show()"
   ]
  },
  {
   "cell_type": "markdown",
   "id": "fa488fb5-25dc-4b70-b251-d8d69ab07772",
   "metadata": {},
   "source": [
    "There is no significant interaction between dentist and method for the two types of alloys.\n",
    "\n",
    "4.4 How does the hardness of implants vary depending on dentists and methods together? \"- State the null and alternate hypotheses - Check the assumptions of the hypothesis test. - Conduct the hypothesis test and compute the p-value - Write down conclusions from the test results - Identify which dentists and methods combinations are different, and which interaction levels are different. Note: 1. Both types of alloys cannot be considered together. You must conduct the analysis separately for the two types of alloys. 2. Even if the assumptions of the test fail, kindly proceed with the test.\""
   ]
  },
  {
   "cell_type": "code",
   "execution_count": 199,
   "id": "f071039a-988e-4f69-8eed-df03139bd5be",
   "metadata": {},
   "outputs": [],
   "source": [
    "import pandas as pd\n",
    "import statsmodels.api as sm\n",
    "from statsmodels.formula.api import ols\n"
   ]
  },
  {
   "cell_type": "code",
   "execution_count": 202,
   "id": "6f5e9e84-9921-4d4f-bc05-9842c4ebb711",
   "metadata": {},
   "outputs": [],
   "source": [
    "DentalHardnessData=pd.read_excel('D:/Ment Class/Practise11/Excel Data/TSF/PowerBI/DWNLDS/CV/MRA Project/MRA Project/XLSX File for practice/DentalHardnessData.xlsx')"
   ]
  },
  {
   "cell_type": "code",
   "execution_count": 203,
   "id": "ab1518a7-c529-4acd-991e-b86059006b28",
   "metadata": {},
   "outputs": [],
   "source": [
    "model = ols('Response ~ Dentist * Method', data=DentalHardnessData[DentalHardnessData['Alloy'] == 1]).fit()\n",
    "anova_table = sm.stats.anova_lm(model, typ=2)"
   ]
  },
  {
   "cell_type": "code",
   "execution_count": 204,
   "id": "af2e1870-f522-46ca-8e88-ca42a8005d93",
   "metadata": {},
   "outputs": [],
   "source": [
    "interaction_pvalue = anova_table.loc['Dentist:Method', 'PR(>F)']"
   ]
  },
  {
   "cell_type": "code",
   "execution_count": 205,
   "id": "e8bc7c25-1c0f-4f32-8297-20c4063d1725",
   "metadata": {},
   "outputs": [],
   "source": [
    "alpha=0.05"
   ]
  },
  {
   "cell_type": "code",
   "execution_count": 206,
   "id": "754cddab-c7e6-49a7-9ab2-60e5b134fd8d",
   "metadata": {},
   "outputs": [
    {
     "name": "stdout",
     "output_type": "stream",
     "text": [
      "Reject the null hypothesis: There is a significant interaction effect for Alloy 1.\n"
     ]
    }
   ],
   "source": [
    "if interaction_pvalue < alpha:\n",
    "    print(\"Reject the null hypothesis: There is a significant interaction effect for Alloy 1.\")\n",
    "else:\n",
    "    print(\"Fail to reject the null hypothesis: There is no significant interaction effect for Alloy 1.\")"
   ]
  },
  {
   "cell_type": "code",
   "execution_count": 207,
   "id": "fee62b3e-a60b-4b82-9e39-e7e3b2c579dd",
   "metadata": {},
   "outputs": [],
   "source": [
    "import pandas as pd\n",
    "import statsmodels.api as sm\n",
    "from statsmodels.formula.api import ols\n"
   ]
  },
  {
   "cell_type": "code",
   "execution_count": 208,
   "id": "9408e1b0-1e6d-4fcf-9306-f6f18b306f9e",
   "metadata": {},
   "outputs": [],
   "source": [
    "DentalHardnessData=pd.read_excel('D:/Ment Class/Practise11/Excel Data/TSF/PowerBI/DWNLDS/CV/MRA Project/MRA Project/XLSX File for practice/DentalHardnessData.xlsx')"
   ]
  },
  {
   "cell_type": "code",
   "execution_count": 209,
   "id": "b47957cd-f4cc-4e29-a7af-843ffa317133",
   "metadata": {},
   "outputs": [],
   "source": [
    "model = ols('Response ~ Dentist * Method', data=DentalHardnessData[DentalHardnessData['Alloy'] == 2]).fit()\n",
    "anova_table = sm.stats.anova_lm(model, typ=2)"
   ]
  },
  {
   "cell_type": "code",
   "execution_count": 210,
   "id": "8ef74571-2925-4ba2-8659-26583b9dd6c1",
   "metadata": {},
   "outputs": [],
   "source": [
    "interaction_pvalue = anova_table.loc['Dentist:Method', 'PR(>F)']\n"
   ]
  },
  {
   "cell_type": "code",
   "execution_count": 211,
   "id": "d36290bf-3d46-4f9c-9f3e-10da0f434f54",
   "metadata": {},
   "outputs": [],
   "source": [
    "alpha = 0.05\n"
   ]
  },
  {
   "cell_type": "code",
   "execution_count": 212,
   "id": "72b2a72c-8b95-4933-8031-ff65091a25c5",
   "metadata": {},
   "outputs": [
    {
     "name": "stdout",
     "output_type": "stream",
     "text": [
      "Fail to reject the null hypothesis: There is no significant interaction effect for Alloy 2.\n"
     ]
    }
   ],
   "source": [
    "if interaction_pvalue < alpha:\n",
    "    print(\"Reject the null hypothesis: There is a significant interaction effect for Alloy 2.\")\n",
    "else:\n",
    "    print(\"Fail to reject the null hypothesis: There is no significant interaction effect for Alloy 2.\")"
   ]
  },
  {
   "cell_type": "markdown",
   "id": "8e04dc1b-ea3a-4b69-a77a-5e7fe8fca302",
   "metadata": {},
   "source": [
    "Conclusion: There is a significant interaction effect between dentists and methods on the hardness of dental implants for Alloy 1. If the p-value is greater than alpha, you would \"Fail to reject the null hypothesis\" for Alloy 1.\n",
    "\n",
    "Conclusion: There is no significant interaction effect between dentists and methods on the hardness of dental implants for Alloy 1.\n",
    "\n",
    "If the p-value for the interaction term in the hypothesis test is less than alpha, you would \"Reject the null hypothesis\" for Alloy 2.\n",
    "\n",
    "Conclusion: There is a significant interaction effect between dentists and methods on the hardness of dental implants for Alloy 2. If the p-value is greater than alpha, you would \"Fail to reject the null hypothesis\" for Alloy 2.\n",
    "\n",
    "Conclusion: There is no significant interaction effect between dentists and methods on the hardness of dental implants for Alloy 2."
   ]
  },
  {
   "cell_type": "code",
   "execution_count": null,
   "id": "3f0ef339-65ac-4fc1-bce8-a9ddb88a17c4",
   "metadata": {},
   "outputs": [],
   "source": []
  }
 ],
 "metadata": {
  "kernelspec": {
   "display_name": "Python 3 (ipykernel)",
   "language": "python",
   "name": "python3"
  },
  "language_info": {
   "codemirror_mode": {
    "name": "ipython",
    "version": 3
   },
   "file_extension": ".py",
   "mimetype": "text/x-python",
   "name": "python",
   "nbconvert_exporter": "python",
   "pygments_lexer": "ipython3",
   "version": "3.11.5"
  }
 },
 "nbformat": 4,
 "nbformat_minor": 5
}
